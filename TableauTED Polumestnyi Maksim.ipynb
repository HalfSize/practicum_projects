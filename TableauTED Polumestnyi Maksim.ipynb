{
 "cells": [
  {
   "cell_type": "markdown",
   "id": "e83d0af1",
   "metadata": {},
   "source": [
    "## Исследование конференций TED"
   ]
  },
  {
   "cell_type": "markdown",
   "id": "b2c2f9a0",
   "metadata": {},
   "source": [
    "[TableauTED](https://public.tableau.com/shared/ZCQKZX4G5?:display_count=n&:origin=viz_share_link)"
   ]
  }
 ],
 "metadata": {
  "kernelspec": {
   "display_name": "Python 3 (ipykernel)",
   "language": "python",
   "name": "python3"
  },
  "language_info": {
   "codemirror_mode": {
    "name": "ipython",
    "version": 3
   },
   "file_extension": ".py",
   "mimetype": "text/x-python",
   "name": "python",
   "nbconvert_exporter": "python",
   "pygments_lexer": "ipython3",
   "version": "3.9.13"
  }
 },
 "nbformat": 4,
 "nbformat_minor": 5
}
