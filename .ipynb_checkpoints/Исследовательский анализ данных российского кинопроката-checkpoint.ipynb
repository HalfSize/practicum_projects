{
 "cells": [
  {
   "cell_type": "markdown",
   "metadata": {},
   "source": [
    "# *Исследовательский анализ данных российского рынка кинопроката*"
   ]
  },
  {
   "cell_type": "markdown",
   "metadata": {},
   "source": [
    "## *Введение:*\n",
    "\n",
    "**Анализ данных для: Министерства культуры Российской Федерации**\n",
    "**От начинающего аналитика данных Полуместного М.Е.**\n",
    "\n",
    "*Необходимо изучить данные по кинопрокату в РФ и провести анализ*\n",
    "\n",
    "**Что мы сделаем?**\n",
    "- Изучим рынок российского кинопроката и выявим текущие тренды.\n",
    "- Уделим особое внимание фильмам, которые получили государственную поддержку. \n",
    "- Посмотрим как окупаются и какие рейтинги у фильмов с гос поддержкой\n",
    "- Попробуем ответить на вопрос, насколько такие фильмы интересны зрителю. \n",
    "\n",
    "**Как мы это сделаем?**\n",
    "- Проведем предобработку данных\n",
    "- Выполним исследовательский аннализ, каждый этап можно посмотреть в контекстном меню слева.\n",
    "- И сделаем отчет о проделанной работе с выводами."
   ]
  },
  {
   "cell_type": "code",
   "execution_count": 1,
   "metadata": {
    "id": "dw87FlzMgFyM"
   },
   "outputs": [],
   "source": [
    "import pandas as pd\n",
    "import re\n",
    "import numpy as np\n",
    "import seaborn as sb\n",
    "import matplotlib.pyplot as plt"
   ]
  },
  {
   "cell_type": "markdown",
   "metadata": {
    "id": "3bSlkCsbgFyL"
   },
   "source": [
    "## Открытие файлов с данными и объединение их в один датафрейм. "
   ]
  },
  {
   "cell_type": "code",
   "execution_count": 2,
   "metadata": {},
   "outputs": [],
   "source": [
    "try:\n",
    "    movies_data = pd.read_csv('/datasets/mkrf_movies.csv')\n",
    "except:\n",
    "    movies_data = pd.read_csv(r'C:\\Users\\DELL\\Desktop\\Полезный python\\Аналитик данных +\\mkrf_movies.csv')"
   ]
  },
  {
   "cell_type": "code",
   "execution_count": 3,
   "metadata": {},
   "outputs": [],
   "source": [
    "try:\n",
    "    shows_data = pd.read_csv('/datasets/mkrf_shows.csv')\n",
    "except:\n",
    "    shows_data = pd.read_csv(r'C:\\Users\\DELL\\Desktop\\Полезный python\\Аналитик данных +\\mkrf_shows.csv')"
   ]
  },
  {
   "cell_type": "code",
   "execution_count": 4,
   "metadata": {
    "scrolled": true
   },
   "outputs": [
    {
     "data": {
      "text/html": [
       "<div>\n",
       "<style scoped>\n",
       "    .dataframe tbody tr th:only-of-type {\n",
       "        vertical-align: middle;\n",
       "    }\n",
       "\n",
       "    .dataframe tbody tr th {\n",
       "        vertical-align: top;\n",
       "    }\n",
       "\n",
       "    .dataframe thead th {\n",
       "        text-align: right;\n",
       "    }\n",
       "</style>\n",
       "<table border=\"1\" class=\"dataframe\">\n",
       "  <thead>\n",
       "    <tr style=\"text-align: right;\">\n",
       "      <th></th>\n",
       "      <th>title</th>\n",
       "      <th>puNumber</th>\n",
       "      <th>show_start_date</th>\n",
       "      <th>type</th>\n",
       "      <th>film_studio</th>\n",
       "      <th>production_country</th>\n",
       "      <th>director</th>\n",
       "      <th>producer</th>\n",
       "      <th>age_restriction</th>\n",
       "      <th>refundable_support</th>\n",
       "      <th>nonrefundable_support</th>\n",
       "      <th>budget</th>\n",
       "      <th>financing_source</th>\n",
       "      <th>ratings</th>\n",
       "      <th>genres</th>\n",
       "    </tr>\n",
       "  </thead>\n",
       "  <tbody>\n",
       "    <tr>\n",
       "      <th>0</th>\n",
       "      <td>Открытый простор</td>\n",
       "      <td>221048915</td>\n",
       "      <td>2015-11-27T12:00:00.000Z</td>\n",
       "      <td>Художественный</td>\n",
       "      <td>Тачстоун Пикчерз, Кобальт Пикчерз, Бикон Пикче...</td>\n",
       "      <td>США</td>\n",
       "      <td>Кевин Костнер</td>\n",
       "      <td>Дэвид Валдес, Кевин Костнер, Джейк Эбертс</td>\n",
       "      <td>«18+» - запрещено для детей</td>\n",
       "      <td>NaN</td>\n",
       "      <td>NaN</td>\n",
       "      <td>NaN</td>\n",
       "      <td>NaN</td>\n",
       "      <td>7.2</td>\n",
       "      <td>боевик,драма,мелодрама</td>\n",
       "    </tr>\n",
       "    <tr>\n",
       "      <th>1</th>\n",
       "      <td>Особо важное задание</td>\n",
       "      <td>111013716</td>\n",
       "      <td>2016-09-13T12:00:00.000Z</td>\n",
       "      <td>Художественный</td>\n",
       "      <td>Киностудия \"Мосфильм\"</td>\n",
       "      <td>СССР</td>\n",
       "      <td>Е.Матвеев</td>\n",
       "      <td>NaN</td>\n",
       "      <td>«6+» - для детей старше 6 лет</td>\n",
       "      <td>NaN</td>\n",
       "      <td>NaN</td>\n",
       "      <td>NaN</td>\n",
       "      <td>NaN</td>\n",
       "      <td>6.6</td>\n",
       "      <td>драма,военный</td>\n",
       "    </tr>\n",
       "    <tr>\n",
       "      <th>2</th>\n",
       "      <td>Особо опасен</td>\n",
       "      <td>221038416</td>\n",
       "      <td>2016-10-10T12:00:00.000Z</td>\n",
       "      <td>Художественный</td>\n",
       "      <td>Юниверсал Пикчерз, Кикстарт Продакшнз, Марк Пл...</td>\n",
       "      <td>США</td>\n",
       "      <td>Тимур Бекмамбетов</td>\n",
       "      <td>Джим Лемли, Джейсон Нетер, Марк Е.Платт, Яйн Смит</td>\n",
       "      <td>«18+» - запрещено для детей</td>\n",
       "      <td>NaN</td>\n",
       "      <td>NaN</td>\n",
       "      <td>NaN</td>\n",
       "      <td>NaN</td>\n",
       "      <td>6.8</td>\n",
       "      <td>фантастика,боевик,триллер</td>\n",
       "    </tr>\n",
       "    <tr>\n",
       "      <th>3</th>\n",
       "      <td>Особо опасен</td>\n",
       "      <td>221026916</td>\n",
       "      <td>2016-06-10T12:00:00.000Z</td>\n",
       "      <td>Художественный</td>\n",
       "      <td>Юниверсал Пикчерз, Кикстарт Продакшнз, Марк Пл...</td>\n",
       "      <td>США</td>\n",
       "      <td>Тимур Бекмамбетов</td>\n",
       "      <td>Джим Лемли, Джейсон Нетер, Марк Е.Платт, Яйн Смит</td>\n",
       "      <td>«18+» - запрещено для детей</td>\n",
       "      <td>NaN</td>\n",
       "      <td>NaN</td>\n",
       "      <td>NaN</td>\n",
       "      <td>NaN</td>\n",
       "      <td>6.8</td>\n",
       "      <td>фантастика,боевик,триллер</td>\n",
       "    </tr>\n",
       "    <tr>\n",
       "      <th>4</th>\n",
       "      <td>Особо опасен</td>\n",
       "      <td>221030815</td>\n",
       "      <td>2015-07-29T12:00:00.000Z</td>\n",
       "      <td>Художественный</td>\n",
       "      <td>Юниверсал Пикчерз, Кикстарт Продакшнз, Марк Пл...</td>\n",
       "      <td>США</td>\n",
       "      <td>Тимур Бекмамбетов</td>\n",
       "      <td>Джим Лемли, Джейсон Нетер, Марк Е.Платт, Яйн Смит</td>\n",
       "      <td>«18+» - запрещено для детей</td>\n",
       "      <td>NaN</td>\n",
       "      <td>NaN</td>\n",
       "      <td>NaN</td>\n",
       "      <td>NaN</td>\n",
       "      <td>6.8</td>\n",
       "      <td>фантастика,боевик,триллер</td>\n",
       "    </tr>\n",
       "  </tbody>\n",
       "</table>\n",
       "</div>"
      ],
      "text/plain": [
       "                  title   puNumber           show_start_date            type  \\\n",
       "0      Открытый простор  221048915  2015-11-27T12:00:00.000Z  Художественный   \n",
       "1  Особо важное задание  111013716  2016-09-13T12:00:00.000Z  Художественный   \n",
       "2          Особо опасен  221038416  2016-10-10T12:00:00.000Z  Художественный   \n",
       "3          Особо опасен  221026916  2016-06-10T12:00:00.000Z  Художественный   \n",
       "4          Особо опасен  221030815  2015-07-29T12:00:00.000Z  Художественный   \n",
       "\n",
       "                                         film_studio production_country  \\\n",
       "0  Тачстоун Пикчерз, Кобальт Пикчерз, Бикон Пикче...                США   \n",
       "1                              Киностудия \"Мосфильм\"               СССР   \n",
       "2  Юниверсал Пикчерз, Кикстарт Продакшнз, Марк Пл...                США   \n",
       "3  Юниверсал Пикчерз, Кикстарт Продакшнз, Марк Пл...                США   \n",
       "4  Юниверсал Пикчерз, Кикстарт Продакшнз, Марк Пл...                США   \n",
       "\n",
       "            director                                           producer  \\\n",
       "0      Кевин Костнер          Дэвид Валдес, Кевин Костнер, Джейк Эбертс   \n",
       "1          Е.Матвеев                                                NaN   \n",
       "2  Тимур Бекмамбетов  Джим Лемли, Джейсон Нетер, Марк Е.Платт, Яйн Смит   \n",
       "3  Тимур Бекмамбетов  Джим Лемли, Джейсон Нетер, Марк Е.Платт, Яйн Смит   \n",
       "4  Тимур Бекмамбетов  Джим Лемли, Джейсон Нетер, Марк Е.Платт, Яйн Смит   \n",
       "\n",
       "                 age_restriction  refundable_support  nonrefundable_support  \\\n",
       "0    «18+» - запрещено для детей                 NaN                    NaN   \n",
       "1  «6+» - для детей старше 6 лет                 NaN                    NaN   \n",
       "2    «18+» - запрещено для детей                 NaN                    NaN   \n",
       "3    «18+» - запрещено для детей                 NaN                    NaN   \n",
       "4    «18+» - запрещено для детей                 NaN                    NaN   \n",
       "\n",
       "   budget financing_source ratings                     genres  \n",
       "0     NaN              NaN     7.2     боевик,драма,мелодрама  \n",
       "1     NaN              NaN     6.6              драма,военный  \n",
       "2     NaN              NaN     6.8  фантастика,боевик,триллер  \n",
       "3     NaN              NaN     6.8  фантастика,боевик,триллер  \n",
       "4     NaN              NaN     6.8  фантастика,боевик,триллер  "
      ]
     },
     "execution_count": 4,
     "metadata": {},
     "output_type": "execute_result"
    }
   ],
   "source": [
    "movies_data.head()"
   ]
  },
  {
   "cell_type": "code",
   "execution_count": 5,
   "metadata": {},
   "outputs": [
    {
     "data": {
      "text/html": [
       "<div>\n",
       "<style scoped>\n",
       "    .dataframe tbody tr th:only-of-type {\n",
       "        vertical-align: middle;\n",
       "    }\n",
       "\n",
       "    .dataframe tbody tr th {\n",
       "        vertical-align: top;\n",
       "    }\n",
       "\n",
       "    .dataframe thead th {\n",
       "        text-align: right;\n",
       "    }\n",
       "</style>\n",
       "<table border=\"1\" class=\"dataframe\">\n",
       "  <thead>\n",
       "    <tr style=\"text-align: right;\">\n",
       "      <th></th>\n",
       "      <th>puNumber</th>\n",
       "      <th>box_office</th>\n",
       "    </tr>\n",
       "  </thead>\n",
       "  <tbody>\n",
       "    <tr>\n",
       "      <th>0</th>\n",
       "      <td>111000113</td>\n",
       "      <td>2.450000e+03</td>\n",
       "    </tr>\n",
       "    <tr>\n",
       "      <th>1</th>\n",
       "      <td>111000115</td>\n",
       "      <td>6.104000e+04</td>\n",
       "    </tr>\n",
       "    <tr>\n",
       "      <th>2</th>\n",
       "      <td>111000116</td>\n",
       "      <td>1.530300e+08</td>\n",
       "    </tr>\n",
       "    <tr>\n",
       "      <th>3</th>\n",
       "      <td>111000117</td>\n",
       "      <td>1.226096e+07</td>\n",
       "    </tr>\n",
       "    <tr>\n",
       "      <th>4</th>\n",
       "      <td>111000118</td>\n",
       "      <td>1.636841e+08</td>\n",
       "    </tr>\n",
       "  </tbody>\n",
       "</table>\n",
       "</div>"
      ],
      "text/plain": [
       "    puNumber    box_office\n",
       "0  111000113  2.450000e+03\n",
       "1  111000115  6.104000e+04\n",
       "2  111000116  1.530300e+08\n",
       "3  111000117  1.226096e+07\n",
       "4  111000118  1.636841e+08"
      ]
     },
     "execution_count": 5,
     "metadata": {},
     "output_type": "execute_result"
    }
   ],
   "source": [
    "shows_data.head()"
   ]
  },
  {
   "cell_type": "markdown",
   "metadata": {},
   "source": [
    "<a id='first_merge'></a>"
   ]
  },
  {
   "cell_type": "code",
   "execution_count": 6,
   "metadata": {},
   "outputs": [
    {
     "name": "stdout",
     "output_type": "stream",
     "text": [
      "<class 'pandas.core.frame.DataFrame'>\n",
      "Int64Index: 7486 entries, 0 to 7485\n",
      "Data columns (total 16 columns):\n",
      " #   Column                 Non-Null Count  Dtype  \n",
      "---  ------                 --------------  -----  \n",
      " 0   title                  7486 non-null   object \n",
      " 1   puNumber               7486 non-null   object \n",
      " 2   show_start_date        7486 non-null   object \n",
      " 3   type                   7486 non-null   object \n",
      " 4   film_studio            7468 non-null   object \n",
      " 5   production_country     7484 non-null   object \n",
      " 6   director               7477 non-null   object \n",
      " 7   producer               6918 non-null   object \n",
      " 8   age_restriction        7486 non-null   object \n",
      " 9   refundable_support     332 non-null    float64\n",
      " 10  nonrefundable_support  332 non-null    float64\n",
      " 11  budget                 332 non-null    float64\n",
      " 12  financing_source       332 non-null    object \n",
      " 13  ratings                6519 non-null   object \n",
      " 14  genres                 6510 non-null   object \n",
      " 15  box_office             3158 non-null   float64\n",
      "dtypes: float64(4), object(12)\n",
      "memory usage: 994.2+ KB\n",
      "<class 'pandas.core.frame.DataFrame'>\n",
      "RangeIndex: 7486 entries, 0 to 7485\n",
      "Data columns (total 15 columns):\n",
      " #   Column                 Non-Null Count  Dtype  \n",
      "---  ------                 --------------  -----  \n",
      " 0   title                  7486 non-null   object \n",
      " 1   puNumber               7486 non-null   object \n",
      " 2   show_start_date        7486 non-null   object \n",
      " 3   type                   7486 non-null   object \n",
      " 4   film_studio            7468 non-null   object \n",
      " 5   production_country     7484 non-null   object \n",
      " 6   director               7477 non-null   object \n",
      " 7   producer               6918 non-null   object \n",
      " 8   age_restriction        7486 non-null   object \n",
      " 9   refundable_support     332 non-null    float64\n",
      " 10  nonrefundable_support  332 non-null    float64\n",
      " 11  budget                 332 non-null    float64\n",
      " 12  financing_source       332 non-null    object \n",
      " 13  ratings                6519 non-null   object \n",
      " 14  genres                 6510 non-null   object \n",
      "dtypes: float64(3), object(12)\n",
      "memory usage: 877.4+ KB\n"
     ]
    },
    {
     "data": {
      "text/plain": [
       "(None, None)"
      ]
     },
     "execution_count": 6,
     "metadata": {},
     "output_type": "execute_result"
    }
   ],
   "source": [
    "shows_data['puNumber'] = shows_data['puNumber'].astype('str') \n",
    "df = movies_data.merge(shows_data, on='puNumber', how='left' )\n",
    "\n",
    "# Проверка длинны\n",
    "len(movies_data) == len(df)\n",
    "\n",
    "# После слияния результатом этого кода должна быть единица, т.к. при обьединении мы добавиили 1 столбец\n",
    "len(df.columns) - len(movies_data.columns)\n",
    "\n",
    "df.info(), movies_data.info()"
   ]
  },
  {
   "cell_type": "markdown",
   "metadata": {},
   "source": [
    "**Что мы сделали:**\n",
    "- Импортировали библиотеки\n",
    "- Открыли и сохранили csv даты в переменные\n",
    "- Проверили типы данных по которым проводили слияние\n",
    "- Привели к обещему типу данных (без этого мы не смогли бы соеденить 2 датафрейма)\n",
    "- Соединили 2 даты \n",
    "- Проверили проделанное обьединение на потери"
   ]
  },
  {
   "cell_type": "markdown",
   "metadata": {
    "id": "KLDGpPG0gFyM"
   },
   "source": [
    "## **Предобработка данных**"
   ]
  },
  {
   "cell_type": "markdown",
   "metadata": {
    "id": "ssWwKXsxgFyO"
   },
   "source": [
    "### Проверка типов данных"
   ]
  },
  {
   "cell_type": "code",
   "execution_count": 7,
   "metadata": {},
   "outputs": [],
   "source": [
    "df['show_start_date'] = pd.to_datetime(df['show_start_date'], format='%Y-%m-%d %H:%M')\n",
    "df['ratings'] = pd.to_numeric(df['ratings'], errors='coerce')"
   ]
  },
  {
   "cell_type": "code",
   "execution_count": 8,
   "metadata": {},
   "outputs": [
    {
     "name": "stdout",
     "output_type": "stream",
     "text": [
      "<class 'pandas.core.frame.DataFrame'>\n",
      "Int64Index: 7486 entries, 0 to 7485\n",
      "Data columns (total 16 columns):\n",
      " #   Column                 Non-Null Count  Dtype              \n",
      "---  ------                 --------------  -----              \n",
      " 0   title                  7486 non-null   object             \n",
      " 1   puNumber               7486 non-null   object             \n",
      " 2   show_start_date        7486 non-null   datetime64[ns, UTC]\n",
      " 3   type                   7486 non-null   object             \n",
      " 4   film_studio            7468 non-null   object             \n",
      " 5   production_country     7484 non-null   object             \n",
      " 6   director               7477 non-null   object             \n",
      " 7   producer               6918 non-null   object             \n",
      " 8   age_restriction        7486 non-null   object             \n",
      " 9   refundable_support     332 non-null    float64            \n",
      " 10  nonrefundable_support  332 non-null    float64            \n",
      " 11  budget                 332 non-null    float64            \n",
      " 12  financing_source       332 non-null    object             \n",
      " 13  ratings                6490 non-null   float64            \n",
      " 14  genres                 6510 non-null   object             \n",
      " 15  box_office             3158 non-null   float64            \n",
      "dtypes: datetime64[ns, UTC](1), float64(5), object(10)\n",
      "memory usage: 994.2+ KB\n"
     ]
    }
   ],
   "source": [
    "df.info()"
   ]
  },
  {
   "cell_type": "markdown",
   "metadata": {},
   "source": [
    "**Что мы сделали:**\n",
    "- Проверили типы данных в столбцах\n",
    "- Заменили тип данных и форматировали строковую дату(тяжелую для восприятия) в новый формат даты и времени\n",
    "- Так же можно было заменить тип данных столбца puNumber на int,\n",
    "но данные в этом столбце как ID и не требуют арифметических операций. Пример перевода типа данных\n",
    "с обходом ошибок, оставил здесь [Преобразование типа данных и обьединение датафреймов](#first_merge)"
   ]
  },
  {
   "cell_type": "markdown",
   "metadata": {
    "id": "i0MOLbF-gFyP"
   },
   "source": [
    "### Пропуски в датафрейме\n"
   ]
  },
  {
   "cell_type": "code",
   "execution_count": 9,
   "metadata": {
    "id": "8MJD_lkngFyP",
    "scrolled": true
   },
   "outputs": [
    {
     "data": {
      "text/plain": [
       "title                       0\n",
       "puNumber                    0\n",
       "show_start_date             0\n",
       "type                        0\n",
       "film_studio                18\n",
       "production_country          2\n",
       "director                    9\n",
       "producer                  568\n",
       "age_restriction             0\n",
       "refundable_support       7154\n",
       "nonrefundable_support    7154\n",
       "budget                   7154\n",
       "financing_source         7154\n",
       "ratings                   996\n",
       "genres                    976\n",
       "box_office               4328\n",
       "dtype: int64"
      ]
     },
     "execution_count": 9,
     "metadata": {},
     "output_type": "execute_result"
    }
   ],
   "source": [
    "df.isna().sum()"
   ]
  },
  {
   "cell_type": "code",
   "execution_count": 10,
   "metadata": {},
   "outputs": [
    {
     "data": {
      "text/plain": [
       "title                     0.000000\n",
       "puNumber                  0.000000\n",
       "show_start_date           0.000000\n",
       "type                      0.000000\n",
       "film_studio               0.240449\n",
       "production_country        0.026717\n",
       "director                  0.120224\n",
       "producer                  7.587497\n",
       "age_restriction           0.000000\n",
       "refundable_support       95.565055\n",
       "nonrefundable_support    95.565055\n",
       "budget                   95.565055\n",
       "financing_source         95.565055\n",
       "ratings                  13.304836\n",
       "genres                   13.037670\n",
       "box_office               57.814587\n",
       "dtype: float64"
      ]
     },
     "execution_count": 10,
     "metadata": {},
     "output_type": "execute_result"
    }
   ],
   "source": [
    "df.isna().sum()*100/len(df)"
   ]
  },
  {
   "cell_type": "code",
   "execution_count": 11,
   "metadata": {},
   "outputs": [],
   "source": [
    "df[['production_country', 'film_studio', 'producer', 'director', 'genres']] = df[['production_country', 'film_studio', 'producer', 'director', 'genres']].fillna('Неизвестно')"
   ]
  },
  {
   "cell_type": "code",
   "execution_count": 12,
   "metadata": {
    "scrolled": false
   },
   "outputs": [],
   "source": [
    "df['box_office'] = df['box_office'].fillna(0)"
   ]
  },
  {
   "cell_type": "code",
   "execution_count": 13,
   "metadata": {},
   "outputs": [
    {
     "data": {
      "text/plain": [
       "День святого Валентина_                               5\n",
       "Кошки против собак: Месть Китти Галор                 4\n",
       "Знакомство с Факерами 2.                              4\n",
       "Рапунцель: Запутанная история                         4\n",
       "Секс в большом городе 2                               4\n",
       "                                                     ..\n",
       "МУЛЬТ в кино. Выпуск № 14                             1\n",
       "Стажёр                                                1\n",
       "Мэхэббэт - ул йорэк эше (Любовь - это дело сердца)    1\n",
       "Иван Грозный - 2 серия (восстановленная версия)       1\n",
       "Машины песенки. Серия \"Когда цветут кактусы\"          1\n",
       "Name: title, Length: 6772, dtype: int64"
      ]
     },
     "execution_count": 13,
     "metadata": {},
     "output_type": "execute_result"
    }
   ],
   "source": [
    "df['title'].value_counts()"
   ]
  },
  {
   "cell_type": "code",
   "execution_count": 14,
   "metadata": {},
   "outputs": [
    {
     "data": {
      "text/html": [
       "<div>\n",
       "<style scoped>\n",
       "    .dataframe tbody tr th:only-of-type {\n",
       "        vertical-align: middle;\n",
       "    }\n",
       "\n",
       "    .dataframe tbody tr th {\n",
       "        vertical-align: top;\n",
       "    }\n",
       "\n",
       "    .dataframe thead th {\n",
       "        text-align: right;\n",
       "    }\n",
       "</style>\n",
       "<table border=\"1\" class=\"dataframe\">\n",
       "  <thead>\n",
       "    <tr style=\"text-align: right;\">\n",
       "      <th></th>\n",
       "      <th>title</th>\n",
       "      <th>puNumber</th>\n",
       "      <th>show_start_date</th>\n",
       "      <th>type</th>\n",
       "      <th>film_studio</th>\n",
       "      <th>production_country</th>\n",
       "      <th>director</th>\n",
       "      <th>producer</th>\n",
       "      <th>age_restriction</th>\n",
       "      <th>refundable_support</th>\n",
       "      <th>nonrefundable_support</th>\n",
       "      <th>budget</th>\n",
       "      <th>financing_source</th>\n",
       "      <th>ratings</th>\n",
       "      <th>genres</th>\n",
       "      <th>box_office</th>\n",
       "    </tr>\n",
       "  </thead>\n",
       "  <tbody>\n",
       "    <tr>\n",
       "      <th>1281</th>\n",
       "      <td>Пока еще жива</td>\n",
       "      <td>111005313</td>\n",
       "      <td>2013-10-11 12:00:00+00:00</td>\n",
       "      <td>Художественный</td>\n",
       "      <td>АНО содействия развитию кинематографии \"Ангел-...</td>\n",
       "      <td>Россия</td>\n",
       "      <td>А.Атанесян</td>\n",
       "      <td>А.Атанесян, М.Бабаханов, Р.Бутко</td>\n",
       "      <td>«16+» - для детей старше 16 лет</td>\n",
       "      <td>0.0</td>\n",
       "      <td>26500000.0</td>\n",
       "      <td>79411900.0</td>\n",
       "      <td>Министерство культуры</td>\n",
       "      <td>8.1</td>\n",
       "      <td>драма,мелодрама</td>\n",
       "      <td>3.653536e+05</td>\n",
       "    </tr>\n",
       "    <tr>\n",
       "      <th>1448</th>\n",
       "      <td>Бесславные придурки</td>\n",
       "      <td>111003314</td>\n",
       "      <td>2014-03-28 12:00:00+00:00</td>\n",
       "      <td>Художественный</td>\n",
       "      <td>ООО \"Компания \"АТК-Студио\"</td>\n",
       "      <td>Россия</td>\n",
       "      <td>А.Якимчук</td>\n",
       "      <td>А.Тютрюмов</td>\n",
       "      <td>«12+» - для детей старше 12 лет</td>\n",
       "      <td>0.0</td>\n",
       "      <td>26000000.0</td>\n",
       "      <td>37142857.0</td>\n",
       "      <td>Министерство культуры</td>\n",
       "      <td>NaN</td>\n",
       "      <td>Неизвестно</td>\n",
       "      <td>2.814000e+04</td>\n",
       "    </tr>\n",
       "    <tr>\n",
       "      <th>1498</th>\n",
       "      <td>Невидимки</td>\n",
       "      <td>111004213</td>\n",
       "      <td>2013-09-10 12:00:00+00:00</td>\n",
       "      <td>Художественный</td>\n",
       "      <td>ООО \"Компания \"РЕАЛ-ДАКОТА\"</td>\n",
       "      <td>Россия</td>\n",
       "      <td>Р.Давлетьяров, С.Комаров</td>\n",
       "      <td>Р.Давлетьяров, А.Котелевский, А.Олейников</td>\n",
       "      <td>«12+» - для детей старше 12 лет</td>\n",
       "      <td>0.0</td>\n",
       "      <td>107847945.0</td>\n",
       "      <td>176023490.0</td>\n",
       "      <td>Фонд кино</td>\n",
       "      <td>5.3</td>\n",
       "      <td>комедия,фантастика</td>\n",
       "      <td>1.995703e+07</td>\n",
       "    </tr>\n",
       "    <tr>\n",
       "      <th>1524</th>\n",
       "      <td>БЕРЦЫ</td>\n",
       "      <td>111004314</td>\n",
       "      <td>2014-05-05 12:00:00+00:00</td>\n",
       "      <td>Художественный</td>\n",
       "      <td>ООО \"Студия \"Пассажир\"</td>\n",
       "      <td>Россия</td>\n",
       "      <td>Е.Миндадзе (псевдоним Катя Шагалова)</td>\n",
       "      <td>Л.Антонова</td>\n",
       "      <td>«16+» - для детей старше 16 лет</td>\n",
       "      <td>0.0</td>\n",
       "      <td>28000000.0</td>\n",
       "      <td>40574140.0</td>\n",
       "      <td>Министерство культуры</td>\n",
       "      <td>4.2</td>\n",
       "      <td>драма</td>\n",
       "      <td>5.591750e+04</td>\n",
       "    </tr>\n",
       "    <tr>\n",
       "      <th>1792</th>\n",
       "      <td>Братья Ч</td>\n",
       "      <td>111004414</td>\n",
       "      <td>2014-04-23 12:00:00+00:00</td>\n",
       "      <td>Художественный</td>\n",
       "      <td>ООО \"Студия \"Пассажир\"</td>\n",
       "      <td>Россия</td>\n",
       "      <td>М.Угаров</td>\n",
       "      <td>А.Миндадзе, Л.Антонова</td>\n",
       "      <td>«16+» - для детей старше 16 лет</td>\n",
       "      <td>0.0</td>\n",
       "      <td>25000000.0</td>\n",
       "      <td>40015122.0</td>\n",
       "      <td>Министерство культуры</td>\n",
       "      <td>6.4</td>\n",
       "      <td>драма</td>\n",
       "      <td>2.321000e+05</td>\n",
       "    </tr>\n",
       "    <tr>\n",
       "      <th>...</th>\n",
       "      <td>...</td>\n",
       "      <td>...</td>\n",
       "      <td>...</td>\n",
       "      <td>...</td>\n",
       "      <td>...</td>\n",
       "      <td>...</td>\n",
       "      <td>...</td>\n",
       "      <td>...</td>\n",
       "      <td>...</td>\n",
       "      <td>...</td>\n",
       "      <td>...</td>\n",
       "      <td>...</td>\n",
       "      <td>...</td>\n",
       "      <td>...</td>\n",
       "      <td>...</td>\n",
       "      <td>...</td>\n",
       "    </tr>\n",
       "    <tr>\n",
       "      <th>7290</th>\n",
       "      <td>Урфин Джюс возвращается</td>\n",
       "      <td>114004019</td>\n",
       "      <td>2019-10-14 12:00:00+00:00</td>\n",
       "      <td>Анимационный</td>\n",
       "      <td>ООО \"Студия анимационного кино \"Мельница\"</td>\n",
       "      <td>Россия</td>\n",
       "      <td>Ф.Дмитриев</td>\n",
       "      <td>С.Сельянов, А.Боярский</td>\n",
       "      <td>«6+» - для детей старше 6 лет</td>\n",
       "      <td>0.0</td>\n",
       "      <td>200000000.0</td>\n",
       "      <td>300000000.0</td>\n",
       "      <td>Фонд кино</td>\n",
       "      <td>6.2</td>\n",
       "      <td>мультфильм,детский</td>\n",
       "      <td>6.854952e+07</td>\n",
       "    </tr>\n",
       "    <tr>\n",
       "      <th>7320</th>\n",
       "      <td>Новогодний ремонт</td>\n",
       "      <td>111018219</td>\n",
       "      <td>2019-11-07 12:00:00+00:00</td>\n",
       "      <td>Художественный</td>\n",
       "      <td>ООО \"ВитЭл\"</td>\n",
       "      <td>Россия</td>\n",
       "      <td>А.Пинхасов</td>\n",
       "      <td>Е.Михайлова, В.Галыгин, В.Колесник, А.Седых, Г...</td>\n",
       "      <td>«12+» - для детей старше 12 лет</td>\n",
       "      <td>0.0</td>\n",
       "      <td>20000000.0</td>\n",
       "      <td>30448911.0</td>\n",
       "      <td>Министерство культуры</td>\n",
       "      <td>5.6</td>\n",
       "      <td>комедия,мелодрама</td>\n",
       "      <td>3.591456e+06</td>\n",
       "    </tr>\n",
       "    <tr>\n",
       "      <th>7330</th>\n",
       "      <td>Лев Яшин. Вратарь моей мечты</td>\n",
       "      <td>111018719</td>\n",
       "      <td>2019-11-21 12:00:00+00:00</td>\n",
       "      <td>Художественный</td>\n",
       "      <td>ООО \"Кремлин Филмз\"</td>\n",
       "      <td>Россия</td>\n",
       "      <td>В.Чигинский</td>\n",
       "      <td>О.Капанец</td>\n",
       "      <td>«6+» - для детей старше 6 лет</td>\n",
       "      <td>0.0</td>\n",
       "      <td>60000000.0</td>\n",
       "      <td>360054850.0</td>\n",
       "      <td>Министерство культуры</td>\n",
       "      <td>6.9</td>\n",
       "      <td>биография,спорт,драма</td>\n",
       "      <td>1.140902e+08</td>\n",
       "    </tr>\n",
       "    <tr>\n",
       "      <th>7344</th>\n",
       "      <td>Кроличья лапа</td>\n",
       "      <td>111018919</td>\n",
       "      <td>2019-11-20 12:00:00+00:00</td>\n",
       "      <td>Художественный</td>\n",
       "      <td>ООО \"Зебра\", \"Артемис\", \"Гринлит\"</td>\n",
       "      <td>Россия, Бельгия, Финляндия</td>\n",
       "      <td>Н.Джорджадзе</td>\n",
       "      <td>Ю.Соболевская</td>\n",
       "      <td>«16+» - для детей старше 16 лет</td>\n",
       "      <td>0.0</td>\n",
       "      <td>30000000.0</td>\n",
       "      <td>47734050.0</td>\n",
       "      <td>Министерство культуры</td>\n",
       "      <td>NaN</td>\n",
       "      <td>Неизвестно</td>\n",
       "      <td>0.000000e+00</td>\n",
       "    </tr>\n",
       "    <tr>\n",
       "      <th>7476</th>\n",
       "      <td>Я свободен</td>\n",
       "      <td>111023019</td>\n",
       "      <td>2019-12-26 12:00:00+00:00</td>\n",
       "      <td>Художественный</td>\n",
       "      <td>АО \"ТПО \"Киностудия им. М.Горького\"</td>\n",
       "      <td>Россия</td>\n",
       "      <td>И.Северов</td>\n",
       "      <td>С.Зернов</td>\n",
       "      <td>«12+» - для детей старше 12 лет</td>\n",
       "      <td>0.0</td>\n",
       "      <td>30000000.0</td>\n",
       "      <td>46154000.0</td>\n",
       "      <td>Министерство культуры</td>\n",
       "      <td>5.9</td>\n",
       "      <td>драма</td>\n",
       "      <td>0.000000e+00</td>\n",
       "    </tr>\n",
       "  </tbody>\n",
       "</table>\n",
       "<p>221 rows × 16 columns</p>\n",
       "</div>"
      ],
      "text/plain": [
       "                             title   puNumber           show_start_date  \\\n",
       "1281                 Пока еще жива  111005313 2013-10-11 12:00:00+00:00   \n",
       "1448           Бесславные придурки  111003314 2014-03-28 12:00:00+00:00   \n",
       "1498                     Невидимки  111004213 2013-09-10 12:00:00+00:00   \n",
       "1524                         БЕРЦЫ  111004314 2014-05-05 12:00:00+00:00   \n",
       "1792                      Братья Ч  111004414 2014-04-23 12:00:00+00:00   \n",
       "...                            ...        ...                       ...   \n",
       "7290       Урфин Джюс возвращается  114004019 2019-10-14 12:00:00+00:00   \n",
       "7320             Новогодний ремонт  111018219 2019-11-07 12:00:00+00:00   \n",
       "7330  Лев Яшин. Вратарь моей мечты  111018719 2019-11-21 12:00:00+00:00   \n",
       "7344                 Кроличья лапа  111018919 2019-11-20 12:00:00+00:00   \n",
       "7476                    Я свободен  111023019 2019-12-26 12:00:00+00:00   \n",
       "\n",
       "                 type                                        film_studio  \\\n",
       "1281   Художественный  АНО содействия развитию кинематографии \"Ангел-...   \n",
       "1448   Художественный                         ООО \"Компания \"АТК-Студио\"   \n",
       "1498   Художественный                        ООО \"Компания \"РЕАЛ-ДАКОТА\"   \n",
       "1524   Художественный                             ООО \"Студия \"Пассажир\"   \n",
       "1792   Художественный                             ООО \"Студия \"Пассажир\"   \n",
       "...               ...                                                ...   \n",
       "7290     Анимационный          ООО \"Студия анимационного кино \"Мельница\"   \n",
       "7320   Художественный                                        ООО \"ВитЭл\"   \n",
       "7330   Художественный                                ООО \"Кремлин Филмз\"   \n",
       "7344   Художественный                  ООО \"Зебра\", \"Артемис\", \"Гринлит\"   \n",
       "7476   Художественный                АО \"ТПО \"Киностудия им. М.Горького\"   \n",
       "\n",
       "              production_country                              director  \\\n",
       "1281                      Россия                            А.Атанесян   \n",
       "1448                      Россия                             А.Якимчук   \n",
       "1498                      Россия              Р.Давлетьяров, С.Комаров   \n",
       "1524                      Россия  Е.Миндадзе (псевдоним Катя Шагалова)   \n",
       "1792                      Россия                              М.Угаров   \n",
       "...                          ...                                   ...   \n",
       "7290                      Россия                            Ф.Дмитриев   \n",
       "7320                      Россия                            А.Пинхасов   \n",
       "7330                      Россия                           В.Чигинский   \n",
       "7344  Россия, Бельгия, Финляндия                          Н.Джорджадзе   \n",
       "7476                      Россия                             И.Северов   \n",
       "\n",
       "                                               producer  \\\n",
       "1281                   А.Атанесян, М.Бабаханов, Р.Бутко   \n",
       "1448                                         А.Тютрюмов   \n",
       "1498          Р.Давлетьяров, А.Котелевский, А.Олейников   \n",
       "1524                                         Л.Антонова   \n",
       "1792                             А.Миндадзе, Л.Антонова   \n",
       "...                                                 ...   \n",
       "7290                             С.Сельянов, А.Боярский   \n",
       "7320  Е.Михайлова, В.Галыгин, В.Колесник, А.Седых, Г...   \n",
       "7330                                          О.Капанец   \n",
       "7344                                      Ю.Соболевская   \n",
       "7476                                           С.Зернов   \n",
       "\n",
       "                      age_restriction  refundable_support  \\\n",
       "1281  «16+» - для детей старше 16 лет                 0.0   \n",
       "1448  «12+» - для детей старше 12 лет                 0.0   \n",
       "1498  «12+» - для детей старше 12 лет                 0.0   \n",
       "1524  «16+» - для детей старше 16 лет                 0.0   \n",
       "1792  «16+» - для детей старше 16 лет                 0.0   \n",
       "...                               ...                 ...   \n",
       "7290    «6+» - для детей старше 6 лет                 0.0   \n",
       "7320  «12+» - для детей старше 12 лет                 0.0   \n",
       "7330    «6+» - для детей старше 6 лет                 0.0   \n",
       "7344  «16+» - для детей старше 16 лет                 0.0   \n",
       "7476  «12+» - для детей старше 12 лет                 0.0   \n",
       "\n",
       "      nonrefundable_support       budget       financing_source  ratings  \\\n",
       "1281             26500000.0   79411900.0  Министерство культуры      8.1   \n",
       "1448             26000000.0   37142857.0  Министерство культуры      NaN   \n",
       "1498            107847945.0  176023490.0              Фонд кино      5.3   \n",
       "1524             28000000.0   40574140.0  Министерство культуры      4.2   \n",
       "1792             25000000.0   40015122.0  Министерство культуры      6.4   \n",
       "...                     ...          ...                    ...      ...   \n",
       "7290            200000000.0  300000000.0              Фонд кино      6.2   \n",
       "7320             20000000.0   30448911.0  Министерство культуры      5.6   \n",
       "7330             60000000.0  360054850.0  Министерство культуры      6.9   \n",
       "7344             30000000.0   47734050.0  Министерство культуры      NaN   \n",
       "7476             30000000.0   46154000.0  Министерство культуры      5.9   \n",
       "\n",
       "                     genres    box_office  \n",
       "1281        драма,мелодрама  3.653536e+05  \n",
       "1448             Неизвестно  2.814000e+04  \n",
       "1498     комедия,фантастика  1.995703e+07  \n",
       "1524                  драма  5.591750e+04  \n",
       "1792                  драма  2.321000e+05  \n",
       "...                     ...           ...  \n",
       "7290     мультфильм,детский  6.854952e+07  \n",
       "7320      комедия,мелодрама  3.591456e+06  \n",
       "7330  биография,спорт,драма  1.140902e+08  \n",
       "7344             Неизвестно  0.000000e+00  \n",
       "7476                  драма  0.000000e+00  \n",
       "\n",
       "[221 rows x 16 columns]"
      ]
     },
     "execution_count": 14,
     "metadata": {},
     "output_type": "execute_result"
    }
   ],
   "source": [
    "df.query('refundable_support == 0')"
   ]
  },
  {
   "cell_type": "code",
   "execution_count": 15,
   "metadata": {},
   "outputs": [
    {
     "data": {
      "text/plain": [
       "Неизвестно                      976\n",
       "драма                           476\n",
       "комедия                         352\n",
       "мелодрама,комедия               222\n",
       "драма,мелодрама,комедия         189\n",
       "                               ... \n",
       "мюзикл,фэнтези,семейный           1\n",
       "мюзикл,мелодрама,фэнтези          1\n",
       "документальный,новости,драма      1\n",
       "семейный,детектив,детский         1\n",
       "мелодрама,история,драма           1\n",
       "Name: genres, Length: 743, dtype: int64"
      ]
     },
     "execution_count": 15,
     "metadata": {},
     "output_type": "execute_result"
    }
   ],
   "source": [
    "df['genres'].value_counts()"
   ]
  },
  {
   "cell_type": "markdown",
   "metadata": {},
   "source": [
    "**Вывод по пропускам**\n",
    "\n",
    "В процессе изучения пропущенных значений, нашлись неявные дубликаты как полностью по строкам(дубликаты нескольких столбцов),\n",
    "так и по уникальным значениям в категориальных столбцах, их мы обработаем позже.\n",
    "\n",
    "В категорильных столбцах мы заменили пропуски на \"Неизвестные\" значения, для того чтобы в дальнейшем их сгруппировать для анализа.\n",
    "И только в одном числовом столбце, мы заменили пропущенные значения т.к. замена в других столбцах могла бы привести к неправильному анализу в дальнейшем.\n",
    "\n",
    "Пропуски заполнять средними значениями было бы неправильно из-за большого кол-ва пропусков. Это могло бы сильно исказить данные и результат анализа. Поэтому они остались нетронутыми"
   ]
  },
  {
   "cell_type": "markdown",
   "metadata": {
    "id": "4c6k1t9ygFyQ"
   },
   "source": [
    "**Изучение дубликатов в датафрейме**"
   ]
  },
  {
   "cell_type": "code",
   "execution_count": 16,
   "metadata": {
    "id": "aKck8RIdgFyQ",
    "scrolled": true
   },
   "outputs": [
    {
     "data": {
      "text/plain": [
       "Художественный                4520\n",
       " Художественный               1389\n",
       "Анимационный                   828\n",
       "Прочие                         406\n",
       "Документальный                 288\n",
       "Научно-популярный               53\n",
       " Анимационный                    1\n",
       "Музыкально-развлекательный       1\n",
       "Name: type, dtype: int64"
      ]
     },
     "execution_count": 16,
     "metadata": {},
     "output_type": "execute_result"
    }
   ],
   "source": [
    "len(df['production_country'].unique())\n",
    "df['type'].value_counts()"
   ]
  },
  {
   "cell_type": "code",
   "execution_count": 17,
   "metadata": {
    "scrolled": true
   },
   "outputs": [
    {
     "data": {
      "text/plain": [
       "Киностудия \"Мосфильм\"                                                                                                      341\n",
       "ООО \"Мульт в кино\"                                                                                                          57\n",
       "Анимаккорд Лтд                                                                                                              23\n",
       "ООО \"Мульт в кино\"                                                                                                          18\n",
       "Неизвестно                                                                                                                  18\n",
       "                                                                                                                          ... \n",
       "МортуСкрин, Игл Рок Интертейнмент                                                                                            1\n",
       "Эден Рок Медиа, Филм Нэйшн Интертейнмент, Флинн Пикчерз Компани, Нью Лайн Синема, Силвер Рил, Суперсенсори, Вентюр Ворт      1\n",
       "Мажестик Филмпродуцион, Айрис Продакшнз, Рат Пак Филмпродуцион, Фред Фильм                                                   1\n",
       "Арт Франс, Артлайн Филмз, Коэн Медиа Групп                                                                                   1\n",
       "Долфин Интертэйнмент, Инжениус Медиа, Мэттель Интертэйнмент, Опэн Роуд Филмз, Плэйграунд Продакшнз                           1\n",
       "Name: film_studio, Length: 5491, dtype: int64"
      ]
     },
     "execution_count": 17,
     "metadata": {},
     "output_type": "execute_result"
    }
   ],
   "source": [
    "df['film_studio'].value_counts()"
   ]
  },
  {
   "cell_type": "code",
   "execution_count": 18,
   "metadata": {
    "scrolled": false
   },
   "outputs": [
    {
     "data": {
      "text/plain": [
       "951"
      ]
     },
     "execution_count": 18,
     "metadata": {},
     "output_type": "execute_result"
    }
   ],
   "source": [
    "len(df['production_country'].unique())"
   ]
  },
  {
   "cell_type": "code",
   "execution_count": 19,
   "metadata": {},
   "outputs": [],
   "source": [
    "def cleaning_spaces(name):\n",
    "    new_name = []\n",
    "    words_list = name.split(' ')\n",
    "    try:\n",
    "        for word in words_list:\n",
    "            new_name.append(word)\n",
    "        return ''.join(new_name)\n",
    "    except:\n",
    "        pass"
   ]
  },
  {
   "cell_type": "code",
   "execution_count": 20,
   "metadata": {},
   "outputs": [],
   "source": [
    "def cleaning_dashs(name):\n",
    "    new_name = []\n",
    "    words_list = name.split('-')\n",
    "    try:\n",
    "        for word in words_list:\n",
    "            new_name.append(word)\n",
    "        return ','.join(new_name)\n",
    "    except:\n",
    "        pass"
   ]
  },
  {
   "cell_type": "code",
   "execution_count": 21,
   "metadata": {
    "scrolled": false
   },
   "outputs": [
    {
     "data": {
      "text/plain": [
       "США                                                                    2172\n",
       "Россия                                                                 1821\n",
       "СССР                                                                    347\n",
       "Франция                                                                 301\n",
       "Великобритания                                                          257\n",
       "                                                                       ... \n",
       "Франция-Китай                                                             1\n",
       "Россия, Германия, Великобритания                                          1\n",
       "Великобритания - Италия - Испания                                         1\n",
       "Россия-Ирландия                                                           1\n",
       "Дания - Канада - Швеция - Франция - Германия - Великобритания - США       1\n",
       "Name: production_country, Length: 951, dtype: int64"
      ]
     },
     "execution_count": 21,
     "metadata": {},
     "output_type": "execute_result"
    }
   ],
   "source": [
    "df['production_country'].value_counts()"
   ]
  },
  {
   "cell_type": "code",
   "execution_count": 22,
   "metadata": {},
   "outputs": [
    {
     "name": "stdout",
     "output_type": "stream",
     "text": [
      "8\n",
      "951\n",
      "5491\n",
      "4812\n",
      "5350\n"
     ]
    }
   ],
   "source": [
    "list_with_category = ['type', 'production_country', 'film_studio', 'director', 'producer']\n",
    "for info in list_with_category:\n",
    "    print(len(df[info].unique()))"
   ]
  },
  {
   "cell_type": "markdown",
   "metadata": {},
   "source": [
    "<a id='normalize_data'></a>"
   ]
  },
  {
   "cell_type": "code",
   "execution_count": 23,
   "metadata": {},
   "outputs": [],
   "source": [
    "# Выше мы можем наблюдать функции которые чистили пробелы с пропусками, но этот цикл отработал лучше\n",
    "for category in list_with_category:\n",
    "    df[category] = df[category].str.strip('!?, -')\n",
    "df['production_country'] = df['production_country'].str.replace(' -',',') "
   ]
  },
  {
   "cell_type": "code",
   "execution_count": 24,
   "metadata": {},
   "outputs": [
    {
     "name": "stdout",
     "output_type": "stream",
     "text": [
      "6\n",
      "894\n",
      "5463\n",
      "4802\n",
      "5335\n"
     ]
    }
   ],
   "source": [
    "for info in list_with_category:\n",
    "    print(len(df[info].unique()))"
   ]
  },
  {
   "cell_type": "markdown",
   "metadata": {},
   "source": [
    "<a id='production_country_clean'></a>"
   ]
  },
  {
   "cell_type": "code",
   "execution_count": 25,
   "metadata": {},
   "outputs": [
    {
     "data": {
      "text/plain": [
       "894"
      ]
     },
     "execution_count": 25,
     "metadata": {},
     "output_type": "execute_result"
    }
   ],
   "source": [
    "len(df['production_country'].unique())"
   ]
  },
  {
   "cell_type": "code",
   "execution_count": 26,
   "metadata": {
    "scrolled": true
   },
   "outputs": [
    {
     "data": {
      "text/plain": [
       "Художественный                5909\n",
       "Анимационный                   829\n",
       "Прочие                         406\n",
       "Документальный                 288\n",
       "Научно-популярный               53\n",
       "Музыкально-развлекательный       1\n",
       "Name: type, dtype: int64"
      ]
     },
     "execution_count": 26,
     "metadata": {},
     "output_type": "execute_result"
    }
   ],
   "source": [
    "df['type'].value_counts()"
   ]
  },
  {
   "cell_type": "code",
   "execution_count": 27,
   "metadata": {},
   "outputs": [],
   "source": [
    "df = (df\n",
    "    .drop_duplicates(subset=['title', 'type', \n",
    "                             'production_country', \n",
    "                             'director', 'age_restriction'], \n",
    "                     keep='last')\n",
    "    .reset_index(drop=True)\n",
    ")"
   ]
  },
  {
   "cell_type": "code",
   "execution_count": 28,
   "metadata": {},
   "outputs": [
    {
     "name": "stdout",
     "output_type": "stream",
     "text": [
      "<class 'pandas.core.frame.DataFrame'>\n",
      "RangeIndex: 6816 entries, 0 to 6815\n",
      "Data columns (total 16 columns):\n",
      " #   Column                 Non-Null Count  Dtype              \n",
      "---  ------                 --------------  -----              \n",
      " 0   title                  6816 non-null   object             \n",
      " 1   puNumber               6816 non-null   object             \n",
      " 2   show_start_date        6816 non-null   datetime64[ns, UTC]\n",
      " 3   type                   6816 non-null   object             \n",
      " 4   film_studio            6816 non-null   object             \n",
      " 5   production_country     6816 non-null   object             \n",
      " 6   director               6816 non-null   object             \n",
      " 7   producer               6816 non-null   object             \n",
      " 8   age_restriction        6816 non-null   object             \n",
      " 9   refundable_support     332 non-null    float64            \n",
      " 10  nonrefundable_support  332 non-null    float64            \n",
      " 11  budget                 332 non-null    float64            \n",
      " 12  financing_source       332 non-null    object             \n",
      " 13  ratings                5828 non-null   float64            \n",
      " 14  genres                 6816 non-null   object             \n",
      " 15  box_office             6816 non-null   float64            \n",
      "dtypes: datetime64[ns, UTC](1), float64(5), object(10)\n",
      "memory usage: 852.1+ KB\n"
     ]
    }
   ],
   "source": [
    "df.info()"
   ]
  },
  {
   "cell_type": "markdown",
   "metadata": {},
   "source": [
    "**Проделанная работа с неявными дубликатами:**\n",
    "- было удалено 670 строк с дубликатами\n",
    "- 1389 Художественных фильмов восстановили связь со своими собратьями и 1 анимационный\n",
    "- Так же из 951 уникальных значений столбца 'production_country' осталось 894 значения(что означает что мы избавились от 57 неявных дубликатов) так же можно сократить до 812 если использовать [этот метод](#production_country_clean)\n",
    "- Категоризация данных столбцов заметно улучшилась, и теперь можно спокойно группировать данные по этим данным и проводить исследование. \n",
    "- Из минусов, это немного пострадало восприятие для глаз."
   ]
  },
  {
   "cell_type": "markdown",
   "metadata": {},
   "source": [
    "**Возможные причины появления дублей:**\n",
    "- Перезапись данных с внесением небольших поправок и добавления \"новых фильмов в базу\"\n",
    "- Основная причина - человеческий фактор. ТК небольшая ошибка в синтаксисе приводит к образованию дубля."
   ]
  },
  {
   "cell_type": "markdown",
   "metadata": {
    "id": "52fOPrEBgFyQ"
   },
   "source": [
    "**Изучение категориальных значений**\n"
   ]
  },
  {
   "cell_type": "code",
   "execution_count": 29,
   "metadata": {
    "scrolled": true
   },
   "outputs": [
    {
     "data": {
      "text/plain": [
       "Художественный                5313\n",
       "Анимационный                   773\n",
       "Прочие                         394\n",
       "Документальный                 283\n",
       "Научно-популярный               52\n",
       "Музыкально-развлекательный       1\n",
       "Name: type, dtype: int64"
      ]
     },
     "execution_count": 29,
     "metadata": {},
     "output_type": "execute_result"
    }
   ],
   "source": [
    "df['type'].value_counts()"
   ]
  },
  {
   "cell_type": "markdown",
   "metadata": {},
   "source": [
    "Категориальные столбцы, отлично служат для обьединения данных на категории и дальнейшего анализа.\n",
    "Но когда появляются неявные дубликаты в категориальных столбцах, при обьединении данных в категории по этим столбцам, мы можем столкнуться с неприятностью. У нас будет несколько одинаковых категорий с разницей лишь в написании этой категории\n",
    "В нашем случае у нас был дубликат \" Художественный\" и \"Художественный\"\n",
    "Мы их обработали еще на моменете работы с дубликатами.\n",
    "Основные причины появления таких дублей, это человеческий фактор."
   ]
  },
  {
   "cell_type": "markdown",
   "metadata": {
    "id": "XFSN5lrEgFyR"
   },
   "source": [
    "**Проверка количественных значений**\n"
   ]
  },
  {
   "cell_type": "code",
   "execution_count": 30,
   "metadata": {},
   "outputs": [
    {
     "data": {
      "text/html": [
       "<div>\n",
       "<style scoped>\n",
       "    .dataframe tbody tr th:only-of-type {\n",
       "        vertical-align: middle;\n",
       "    }\n",
       "\n",
       "    .dataframe tbody tr th {\n",
       "        vertical-align: top;\n",
       "    }\n",
       "\n",
       "    .dataframe thead th {\n",
       "        text-align: right;\n",
       "    }\n",
       "</style>\n",
       "<table border=\"1\" class=\"dataframe\">\n",
       "  <thead>\n",
       "    <tr style=\"text-align: right;\">\n",
       "      <th></th>\n",
       "      <th>title</th>\n",
       "      <th>puNumber</th>\n",
       "      <th>show_start_date</th>\n",
       "      <th>type</th>\n",
       "      <th>film_studio</th>\n",
       "      <th>production_country</th>\n",
       "      <th>director</th>\n",
       "      <th>producer</th>\n",
       "      <th>age_restriction</th>\n",
       "      <th>refundable_support</th>\n",
       "      <th>nonrefundable_support</th>\n",
       "      <th>budget</th>\n",
       "      <th>financing_source</th>\n",
       "      <th>ratings</th>\n",
       "      <th>genres</th>\n",
       "      <th>box_office</th>\n",
       "    </tr>\n",
       "  </thead>\n",
       "  <tbody>\n",
       "  </tbody>\n",
       "</table>\n",
       "</div>"
      ],
      "text/plain": [
       "Empty DataFrame\n",
       "Columns: [title, puNumber, show_start_date, type, film_studio, production_country, director, producer, age_restriction, refundable_support, nonrefundable_support, budget, financing_source, ratings, genres, box_office]\n",
       "Index: []"
      ]
     },
     "execution_count": 30,
     "metadata": {},
     "output_type": "execute_result"
    }
   ],
   "source": [
    "df.drop(df.query('budget < refundable_support + nonrefundable_support').index, axis=0, inplace=True)\n",
    "df.query('budget < refundable_support + nonrefundable_support')"
   ]
  },
  {
   "cell_type": "code",
   "execution_count": 31,
   "metadata": {},
   "outputs": [
    {
     "data": {
      "text/plain": [
       "6444    2305.07\n",
       "4777    1032.91\n",
       "6794     980.00\n",
       "6804     944.00\n",
       "6501     779.94\n",
       "2963     684.20\n",
       "2565     635.28\n",
       "4993     590.19\n",
       "5880     563.78\n",
       "2869     528.44\n",
       "Name: budget, dtype: float64"
      ]
     },
     "execution_count": 31,
     "metadata": {},
     "output_type": "execute_result"
    }
   ],
   "source": [
    "round(df['budget'].sort_values(ascending=False).head(10).astype('int64')/1000000, 2)"
   ]
  },
  {
   "cell_type": "code",
   "execution_count": 32,
   "metadata": {},
   "outputs": [
    {
     "data": {
      "text/plain": [
       "title                                                 Тайна Печати Дракона\n",
       "puNumber                                                         111012819\n",
       "show_start_date                                  2019-09-12 12:00:00+00:00\n",
       "type                                                        Художественный\n",
       "film_studio              ООО \"Кинокомпания \"СТВ\"; ООО \"РФГ Корп\"; ООО \"...\n",
       "production_country                                            Россия-Китай\n",
       "director                                                       О.Степченко\n",
       "producer                                            С.Сельянов, А.Петрухин\n",
       "age_restriction                              «6+» - для детей старше 6 лет\n",
       "refundable_support                                             180000000.0\n",
       "nonrefundable_support                                           90000000.0\n",
       "budget                                                        2305074303.0\n",
       "financing_source                                                 Фонд кино\n",
       "ratings                                                                5.8\n",
       "genres                                                 приключения,фэнтези\n",
       "box_office                                                    333597059.59\n",
       "Name: 6444, dtype: object"
      ]
     },
     "execution_count": 32,
     "metadata": {},
     "output_type": "execute_result"
    }
   ],
   "source": [
    "df.loc[6444]"
   ]
  },
  {
   "cell_type": "code",
   "execution_count": 33,
   "metadata": {},
   "outputs": [
    {
     "data": {
      "text/plain": [
       "2760    14.46\n",
       "6372    15.01\n",
       "4916    18.17\n",
       "3320    18.71\n",
       "2323    27.00\n",
       "2193    28.12\n",
       "2273    28.57\n",
       "3391    30.00\n",
       "6650    30.45\n",
       "5259    30.80\n",
       "Name: budget, dtype: float64"
      ]
     },
     "execution_count": 33,
     "metadata": {},
     "output_type": "execute_result"
    }
   ],
   "source": [
    "round(df['budget'].sort_values().head(10).astype('int64')/1000000, 2)"
   ]
  },
  {
   "cell_type": "code",
   "execution_count": 34,
   "metadata": {},
   "outputs": [
    {
     "data": {
      "text/html": [
       "<div>\n",
       "<style scoped>\n",
       "    .dataframe tbody tr th:only-of-type {\n",
       "        vertical-align: middle;\n",
       "    }\n",
       "\n",
       "    .dataframe tbody tr th {\n",
       "        vertical-align: top;\n",
       "    }\n",
       "\n",
       "    .dataframe thead th {\n",
       "        text-align: right;\n",
       "    }\n",
       "</style>\n",
       "<table border=\"1\" class=\"dataframe\">\n",
       "  <thead>\n",
       "    <tr style=\"text-align: right;\">\n",
       "      <th></th>\n",
       "      <th>title</th>\n",
       "      <th>puNumber</th>\n",
       "      <th>show_start_date</th>\n",
       "      <th>type</th>\n",
       "      <th>film_studio</th>\n",
       "      <th>production_country</th>\n",
       "      <th>director</th>\n",
       "      <th>producer</th>\n",
       "      <th>age_restriction</th>\n",
       "      <th>refundable_support</th>\n",
       "      <th>nonrefundable_support</th>\n",
       "      <th>budget</th>\n",
       "      <th>financing_source</th>\n",
       "      <th>ratings</th>\n",
       "      <th>genres</th>\n",
       "      <th>box_office</th>\n",
       "    </tr>\n",
       "  </thead>\n",
       "  <tbody>\n",
       "  </tbody>\n",
       "</table>\n",
       "</div>"
      ],
      "text/plain": [
       "Empty DataFrame\n",
       "Columns: [title, puNumber, show_start_date, type, film_studio, production_country, director, producer, age_restriction, refundable_support, nonrefundable_support, budget, financing_source, ratings, genres, box_office]\n",
       "Index: []"
      ]
     },
     "execution_count": 34,
     "metadata": {},
     "output_type": "execute_result"
    }
   ],
   "source": [
    "df.query('budget == 0')"
   ]
  },
  {
   "cell_type": "markdown",
   "metadata": {},
   "source": [
    "**Отношение бюджета к возвратным и безвозвратным средствам гос поддержки:**\n",
    "- Общий бюджет как и оказалось больше сумм государственной поддержки, за исключением аномалий, где сумма бюджета по нулям их было всего 17, их мы удалили, для того чтобы они не искажали данные.\n",
    "- Соотношение общего бюджета к средствам гос поддержки нормальное без выбивающих анамальных значений, хоть и суммы бывают действительно огромные для нашего кинемотографа"
   ]
  },
  {
   "cell_type": "markdown",
   "metadata": {
    "id": "Eu6oWp2CgFyS"
   },
   "source": [
    "**Добавление новых столбцов**"
   ]
  },
  {
   "cell_type": "code",
   "execution_count": 35,
   "metadata": {
    "id": "I-yd1DkWgFyT"
   },
   "outputs": [],
   "source": [
    "df['year'] = df['show_start_date'].dt.year"
   ]
  },
  {
   "cell_type": "code",
   "execution_count": 36,
   "metadata": {
    "id": "LSbRZKbMgFyU"
   },
   "outputs": [],
   "source": [
    "def first_name(names):\n",
    "    name = []\n",
    "    names_list = re.split(',', names)\n",
    "    return names_list[0]"
   ]
  },
  {
   "cell_type": "code",
   "execution_count": 37,
   "metadata": {},
   "outputs": [],
   "source": [
    "df['main_director'] = df['director'].apply(first_name)\n",
    "df['main_genre'] = df['genres'].apply(first_name)"
   ]
  },
  {
   "cell_type": "code",
   "execution_count": 38,
   "metadata": {},
   "outputs": [
    {
     "data": {
      "text/html": [
       "<div>\n",
       "<style scoped>\n",
       "    .dataframe tbody tr th:only-of-type {\n",
       "        vertical-align: middle;\n",
       "    }\n",
       "\n",
       "    .dataframe tbody tr th {\n",
       "        vertical-align: top;\n",
       "    }\n",
       "\n",
       "    .dataframe thead th {\n",
       "        text-align: right;\n",
       "    }\n",
       "</style>\n",
       "<table border=\"1\" class=\"dataframe\">\n",
       "  <thead>\n",
       "    <tr style=\"text-align: right;\">\n",
       "      <th></th>\n",
       "      <th>title</th>\n",
       "      <th>puNumber</th>\n",
       "      <th>show_start_date</th>\n",
       "      <th>type</th>\n",
       "      <th>film_studio</th>\n",
       "      <th>production_country</th>\n",
       "      <th>director</th>\n",
       "      <th>producer</th>\n",
       "      <th>age_restriction</th>\n",
       "      <th>refundable_support</th>\n",
       "      <th>nonrefundable_support</th>\n",
       "      <th>budget</th>\n",
       "      <th>financing_source</th>\n",
       "      <th>ratings</th>\n",
       "      <th>genres</th>\n",
       "      <th>box_office</th>\n",
       "      <th>year</th>\n",
       "      <th>main_director</th>\n",
       "      <th>main_genre</th>\n",
       "      <th>percent_share_support</th>\n",
       "    </tr>\n",
       "  </thead>\n",
       "  <tbody>\n",
       "    <tr>\n",
       "      <th>1061</th>\n",
       "      <td>Пока еще жива</td>\n",
       "      <td>111005313</td>\n",
       "      <td>2013-10-11 12:00:00+00:00</td>\n",
       "      <td>Художественный</td>\n",
       "      <td>АНО содействия развитию кинематографии \"Ангел-...</td>\n",
       "      <td>Россия</td>\n",
       "      <td>А.Атанесян</td>\n",
       "      <td>А.Атанесян, М.Бабаханов, Р.Бутко</td>\n",
       "      <td>«16+» - для детей старше 16 лет</td>\n",
       "      <td>0.0</td>\n",
       "      <td>26500000.0</td>\n",
       "      <td>79411900.0</td>\n",
       "      <td>Министерство культуры</td>\n",
       "      <td>8.1</td>\n",
       "      <td>драма,мелодрама</td>\n",
       "      <td>365353.6</td>\n",
       "      <td>2013</td>\n",
       "      <td>А.Атанесян</td>\n",
       "      <td>драма</td>\n",
       "      <td>33.4</td>\n",
       "    </tr>\n",
       "    <tr>\n",
       "      <th>1212</th>\n",
       "      <td>Бесславные придурки</td>\n",
       "      <td>111003314</td>\n",
       "      <td>2014-03-28 12:00:00+00:00</td>\n",
       "      <td>Художественный</td>\n",
       "      <td>ООО \"Компания \"АТК-Студио\"</td>\n",
       "      <td>Россия</td>\n",
       "      <td>А.Якимчук</td>\n",
       "      <td>А.Тютрюмов</td>\n",
       "      <td>«12+» - для детей старше 12 лет</td>\n",
       "      <td>0.0</td>\n",
       "      <td>26000000.0</td>\n",
       "      <td>37142857.0</td>\n",
       "      <td>Министерство культуры</td>\n",
       "      <td>NaN</td>\n",
       "      <td>Неизвестно</td>\n",
       "      <td>28140.0</td>\n",
       "      <td>2014</td>\n",
       "      <td>А.Якимчук</td>\n",
       "      <td>Неизвестно</td>\n",
       "      <td>70.0</td>\n",
       "    </tr>\n",
       "    <tr>\n",
       "      <th>1257</th>\n",
       "      <td>Невидимки</td>\n",
       "      <td>111004213</td>\n",
       "      <td>2013-09-10 12:00:00+00:00</td>\n",
       "      <td>Художественный</td>\n",
       "      <td>ООО \"Компания \"РЕАЛ-ДАКОТА\"</td>\n",
       "      <td>Россия</td>\n",
       "      <td>Р.Давлетьяров, С.Комаров</td>\n",
       "      <td>Р.Давлетьяров, А.Котелевский, А.Олейников</td>\n",
       "      <td>«12+» - для детей старше 12 лет</td>\n",
       "      <td>0.0</td>\n",
       "      <td>107847945.0</td>\n",
       "      <td>176023490.0</td>\n",
       "      <td>Фонд кино</td>\n",
       "      <td>5.3</td>\n",
       "      <td>комедия,фантастика</td>\n",
       "      <td>19957031.5</td>\n",
       "      <td>2013</td>\n",
       "      <td>Р.Давлетьяров</td>\n",
       "      <td>комедия</td>\n",
       "      <td>61.3</td>\n",
       "    </tr>\n",
       "    <tr>\n",
       "      <th>1280</th>\n",
       "      <td>БЕРЦЫ</td>\n",
       "      <td>111004314</td>\n",
       "      <td>2014-05-05 12:00:00+00:00</td>\n",
       "      <td>Художественный</td>\n",
       "      <td>ООО \"Студия \"Пассажир\"</td>\n",
       "      <td>Россия</td>\n",
       "      <td>Е.Миндадзе (псевдоним Катя Шагалова)</td>\n",
       "      <td>Л.Антонова</td>\n",
       "      <td>«16+» - для детей старше 16 лет</td>\n",
       "      <td>0.0</td>\n",
       "      <td>28000000.0</td>\n",
       "      <td>40574140.0</td>\n",
       "      <td>Министерство культуры</td>\n",
       "      <td>4.2</td>\n",
       "      <td>драма</td>\n",
       "      <td>55917.5</td>\n",
       "      <td>2014</td>\n",
       "      <td>Е.Миндадзе (псевдоним Катя Шагалова)</td>\n",
       "      <td>драма</td>\n",
       "      <td>69.0</td>\n",
       "    </tr>\n",
       "    <tr>\n",
       "      <th>1525</th>\n",
       "      <td>Братья Ч</td>\n",
       "      <td>111004414</td>\n",
       "      <td>2014-04-23 12:00:00+00:00</td>\n",
       "      <td>Художественный</td>\n",
       "      <td>ООО \"Студия \"Пассажир\"</td>\n",
       "      <td>Россия</td>\n",
       "      <td>М.Угаров</td>\n",
       "      <td>А.Миндадзе, Л.Антонова</td>\n",
       "      <td>«16+» - для детей старше 16 лет</td>\n",
       "      <td>0.0</td>\n",
       "      <td>25000000.0</td>\n",
       "      <td>40015122.0</td>\n",
       "      <td>Министерство культуры</td>\n",
       "      <td>6.4</td>\n",
       "      <td>драма</td>\n",
       "      <td>232100.0</td>\n",
       "      <td>2014</td>\n",
       "      <td>М.Угаров</td>\n",
       "      <td>драма</td>\n",
       "      <td>62.5</td>\n",
       "    </tr>\n",
       "  </tbody>\n",
       "</table>\n",
       "</div>"
      ],
      "text/plain": [
       "                    title   puNumber           show_start_date  \\\n",
       "1061        Пока еще жива  111005313 2013-10-11 12:00:00+00:00   \n",
       "1212  Бесславные придурки  111003314 2014-03-28 12:00:00+00:00   \n",
       "1257            Невидимки  111004213 2013-09-10 12:00:00+00:00   \n",
       "1280                БЕРЦЫ  111004314 2014-05-05 12:00:00+00:00   \n",
       "1525             Братья Ч  111004414 2014-04-23 12:00:00+00:00   \n",
       "\n",
       "                type                                        film_studio  \\\n",
       "1061  Художественный  АНО содействия развитию кинематографии \"Ангел-...   \n",
       "1212  Художественный                         ООО \"Компания \"АТК-Студио\"   \n",
       "1257  Художественный                        ООО \"Компания \"РЕАЛ-ДАКОТА\"   \n",
       "1280  Художественный                             ООО \"Студия \"Пассажир\"   \n",
       "1525  Художественный                             ООО \"Студия \"Пассажир\"   \n",
       "\n",
       "     production_country                              director  \\\n",
       "1061             Россия                            А.Атанесян   \n",
       "1212             Россия                             А.Якимчук   \n",
       "1257             Россия              Р.Давлетьяров, С.Комаров   \n",
       "1280             Россия  Е.Миндадзе (псевдоним Катя Шагалова)   \n",
       "1525             Россия                              М.Угаров   \n",
       "\n",
       "                                       producer  \\\n",
       "1061           А.Атанесян, М.Бабаханов, Р.Бутко   \n",
       "1212                                 А.Тютрюмов   \n",
       "1257  Р.Давлетьяров, А.Котелевский, А.Олейников   \n",
       "1280                                 Л.Антонова   \n",
       "1525                     А.Миндадзе, Л.Антонова   \n",
       "\n",
       "                      age_restriction  refundable_support  \\\n",
       "1061  «16+» - для детей старше 16 лет                 0.0   \n",
       "1212  «12+» - для детей старше 12 лет                 0.0   \n",
       "1257  «12+» - для детей старше 12 лет                 0.0   \n",
       "1280  «16+» - для детей старше 16 лет                 0.0   \n",
       "1525  «16+» - для детей старше 16 лет                 0.0   \n",
       "\n",
       "      nonrefundable_support       budget       financing_source  ratings  \\\n",
       "1061             26500000.0   79411900.0  Министерство культуры      8.1   \n",
       "1212             26000000.0   37142857.0  Министерство культуры      NaN   \n",
       "1257            107847945.0  176023490.0              Фонд кино      5.3   \n",
       "1280             28000000.0   40574140.0  Министерство культуры      4.2   \n",
       "1525             25000000.0   40015122.0  Министерство культуры      6.4   \n",
       "\n",
       "                  genres  box_office  year  \\\n",
       "1061     драма,мелодрама    365353.6  2013   \n",
       "1212          Неизвестно     28140.0  2014   \n",
       "1257  комедия,фантастика  19957031.5  2013   \n",
       "1280               драма     55917.5  2014   \n",
       "1525               драма    232100.0  2014   \n",
       "\n",
       "                             main_director  main_genre  percent_share_support  \n",
       "1061                            А.Атанесян       драма                   33.4  \n",
       "1212                             А.Якимчук  Неизвестно                   70.0  \n",
       "1257                         Р.Давлетьяров     комедия                   61.3  \n",
       "1280  Е.Миндадзе (псевдоним Катя Шагалова)       драма                   69.0  \n",
       "1525                              М.Угаров       драма                   62.5  "
      ]
     },
     "execution_count": 38,
     "metadata": {},
     "output_type": "execute_result"
    }
   ],
   "source": [
    "df['percent_share_support'] = round((df['nonrefundable_support'] + df['refundable_support']) / df['budget'] * 100, 1)\n",
    "df.query('percent_share_support > 0').head()"
   ]
  },
  {
   "cell_type": "markdown",
   "metadata": {},
   "source": [
    "##  **Исследовательский анализ данных**"
   ]
  },
  {
   "cell_type": "code",
   "execution_count": 39,
   "metadata": {
    "scrolled": false
   },
   "outputs": [
    {
     "data": {
      "image/png": "[encoded data removed]",
      "text/plain": [
       "<Figure size 1000x1000 with 2 Axes>"
      ]
     },
     "metadata": {},
     "output_type": "display_data"
    }
   ],
   "source": [
    "list_with_genre = []\n",
    "for genre in df['main_genre'].unique():\n",
    "    list_with_genre.append(genre)\n",
    "year_list = []\n",
    "for year in df['year'].sort_values().unique():\n",
    "    year_list.append(year)\n",
    "df_genre = pd.DataFrame(index=list_with_genre, columns=year_list)\n",
    "for column in df['year'].sort_values().unique():\n",
    "    df_genre[column] = df.query('box_office > 0 and year == @column')['main_genre'].value_counts()\n",
    "df_genre = df_genre.fillna(0)\n",
    "fig, ax = plt.subplots(figsize=(10, 10))\n",
    "sb.heatmap(df_genre, linewidths=.5);"
   ]
  },
  {
   "cell_type": "markdown",
   "metadata": {},
   "source": [
    "**Текущие тренды**"
   ]
  },
  {
   "cell_type": "markdown",
   "metadata": {},
   "source": [
    "- Рынок российского кинопроката говорит нам о том что сейчас самый популярный жанр в кинемотографе - драма, так же по этому жанру мы видим восходящий тренд по кол-ву выпущенных фильмов в прокат.\n",
    "- Следующий тренд который мы можем наблюдать, это жанр - комедия, так же видим явный восходящий тренд по этому жанру.\n"
   ]
  },
  {
   "cell_type": "markdown",
   "metadata": {},
   "source": [
    "### Доля гос поддержки\n",
    "\n",
    "Доля невозвратных средств гос. поддержки 36%"
   ]
  },
  {
   "cell_type": "code",
   "execution_count": 40,
   "metadata": {},
   "outputs": [
    {
     "data": {
      "text/plain": [
       "0.36"
      ]
     },
     "execution_count": 40,
     "metadata": {},
     "output_type": "execute_result"
    }
   ],
   "source": [
    "round(df['nonrefundable_support'].sum() / df['budget'].sum(), 2)"
   ]
  },
  {
   "cell_type": "markdown",
   "metadata": {},
   "source": [
    "Доля возвратных средств 9%"
   ]
  },
  {
   "cell_type": "code",
   "execution_count": 41,
   "metadata": {},
   "outputs": [
    {
     "data": {
      "text/plain": [
       "0.09"
      ]
     },
     "execution_count": 41,
     "metadata": {},
     "output_type": "execute_result"
    }
   ],
   "source": [
    "round(df['refundable_support'].sum() / df['budget'].sum(), 2)"
   ]
  },
  {
   "cell_type": "markdown",
   "metadata": {},
   "source": [
    "Общая доля гос поддержки 45%"
   ]
  },
  {
   "cell_type": "code",
   "execution_count": 42,
   "metadata": {},
   "outputs": [
    {
     "data": {
      "text/plain": [
       "0.45"
      ]
     },
     "execution_count": 42,
     "metadata": {},
     "output_type": "execute_result"
    }
   ],
   "source": [
    "round((df['nonrefundable_support'].sum() + df['refundable_support'].sum()) / df['budget'].sum(),2)"
   ]
  },
  {
   "cell_type": "code",
   "execution_count": 43,
   "metadata": {
    "scrolled": true
   },
   "outputs": [
    {
     "data": {
      "text/plain": [
       "3905   2010-01-11 12:00:00+00:00\n",
       "3801   2010-01-13 12:00:00+00:00\n",
       "3915   2010-01-13 12:00:00+00:00\n",
       "3862   2010-01-14 12:00:00+00:00\n",
       "3804   2010-01-14 12:00:00+00:00\n",
       "                  ...           \n",
       "6809   2019-12-26 12:00:00+00:00\n",
       "6797   2019-12-27 12:00:00+00:00\n",
       "6813   2019-12-28 12:00:00+00:00\n",
       "6814   2019-12-30 12:00:00+00:00\n",
       "6815   2019-12-30 12:00:00+00:00\n",
       "Name: show_start_date, Length: 6799, dtype: datetime64[ns, UTC]"
      ]
     },
     "execution_count": 43,
     "metadata": {},
     "output_type": "execute_result"
    }
   ],
   "source": [
    "df['show_start_date'].sort_values() # Проверка на первые и последние даты"
   ]
  },
  {
   "cell_type": "code",
   "execution_count": 44,
   "metadata": {
    "scrolled": true
   },
   "outputs": [
    {
     "data": {
      "text/html": [
       "<div>\n",
       "<style scoped>\n",
       "    .dataframe tbody tr th:only-of-type {\n",
       "        vertical-align: middle;\n",
       "    }\n",
       "\n",
       "    .dataframe tbody tr th {\n",
       "        vertical-align: top;\n",
       "    }\n",
       "\n",
       "    .dataframe thead th {\n",
       "        text-align: right;\n",
       "    }\n",
       "</style>\n",
       "<table border=\"1\" class=\"dataframe\">\n",
       "  <thead>\n",
       "    <tr style=\"text-align: right;\">\n",
       "      <th></th>\n",
       "      <th>title</th>\n",
       "      <th>puNumber</th>\n",
       "      <th>show_start_date</th>\n",
       "      <th>type</th>\n",
       "      <th>film_studio</th>\n",
       "      <th>production_country</th>\n",
       "      <th>director</th>\n",
       "      <th>producer</th>\n",
       "      <th>age_restriction</th>\n",
       "      <th>refundable_support</th>\n",
       "      <th>nonrefundable_support</th>\n",
       "      <th>budget</th>\n",
       "      <th>financing_source</th>\n",
       "      <th>ratings</th>\n",
       "      <th>genres</th>\n",
       "      <th>box_office</th>\n",
       "      <th>year</th>\n",
       "      <th>main_director</th>\n",
       "      <th>main_genre</th>\n",
       "      <th>percent_share_support</th>\n",
       "    </tr>\n",
       "  </thead>\n",
       "  <tbody>\n",
       "    <tr>\n",
       "      <th>125</th>\n",
       "      <td>Жестокий романс</td>\n",
       "      <td>111006013</td>\n",
       "      <td>2013-10-18 12:00:00+00:00</td>\n",
       "      <td>Художественный</td>\n",
       "      <td>Киностудия \"Мосфильм\"</td>\n",
       "      <td>СССР</td>\n",
       "      <td>Э.Рязанов</td>\n",
       "      <td>Неизвестно</td>\n",
       "      <td>«12+» - для детей старше 12 лет</td>\n",
       "      <td>NaN</td>\n",
       "      <td>NaN</td>\n",
       "      <td>NaN</td>\n",
       "      <td>NaN</td>\n",
       "      <td>8.1</td>\n",
       "      <td>драма,мелодрама,история</td>\n",
       "      <td>4.000000e+01</td>\n",
       "      <td>2013</td>\n",
       "      <td>Э.Рязанов</td>\n",
       "      <td>драма</td>\n",
       "      <td>NaN</td>\n",
       "    </tr>\n",
       "    <tr>\n",
       "      <th>1965</th>\n",
       "      <td>Каменный цветок.</td>\n",
       "      <td>111016714</td>\n",
       "      <td>2014-12-01 12:00:00+00:00</td>\n",
       "      <td>Художественный</td>\n",
       "      <td>Киностудия \"Мосфильм\"</td>\n",
       "      <td>СССР</td>\n",
       "      <td>А.Птушко</td>\n",
       "      <td>Неизвестно</td>\n",
       "      <td>«0+» - для любой зрительской аудитории</td>\n",
       "      <td>NaN</td>\n",
       "      <td>NaN</td>\n",
       "      <td>NaN</td>\n",
       "      <td>NaN</td>\n",
       "      <td>7.1</td>\n",
       "      <td>фэнтези,драма,мелодрама</td>\n",
       "      <td>5.000000e+01</td>\n",
       "      <td>2014</td>\n",
       "      <td>А.Птушко</td>\n",
       "      <td>фэнтези</td>\n",
       "      <td>NaN</td>\n",
       "    </tr>\n",
       "    <tr>\n",
       "      <th>3479</th>\n",
       "      <td>22 пули: Бессмертный</td>\n",
       "      <td>121006410</td>\n",
       "      <td>2010-04-01 12:00:00+00:00</td>\n",
       "      <td>Художественный</td>\n",
       "      <td>Еуроп Корпорейшн</td>\n",
       "      <td>Франция</td>\n",
       "      <td>Ришар Бери</td>\n",
       "      <td>Люк Бессон, Дидье Хорау, Пьер-Анж Ле Погам</td>\n",
       "      <td>«16+» - для детей старше 16 лет</td>\n",
       "      <td>NaN</td>\n",
       "      <td>NaN</td>\n",
       "      <td>NaN</td>\n",
       "      <td>NaN</td>\n",
       "      <td>7.1</td>\n",
       "      <td>боевик,драма,криминал</td>\n",
       "      <td>7.500000e+01</td>\n",
       "      <td>2010</td>\n",
       "      <td>Ришар Бери</td>\n",
       "      <td>боевик</td>\n",
       "      <td>NaN</td>\n",
       "    </tr>\n",
       "    <tr>\n",
       "      <th>967</th>\n",
       "      <td>Астерикс и Обеликс в Британии 3D</td>\n",
       "      <td>121025012</td>\n",
       "      <td>2012-10-05 12:00:00+00:00</td>\n",
       "      <td>Художественный</td>\n",
       "      <td>Уайлд Банч, Фиделите Фильм, Филм Кайрос, Синет...</td>\n",
       "      <td>Франция-Италия-Испания-Венгрия</td>\n",
       "      <td>Лоран Тирар</td>\n",
       "      <td>Оливье Делбоск, Марк Миссонье</td>\n",
       "      <td>«6+» - для детей старше 6 лет</td>\n",
       "      <td>NaN</td>\n",
       "      <td>NaN</td>\n",
       "      <td>NaN</td>\n",
       "      <td>NaN</td>\n",
       "      <td>5.6</td>\n",
       "      <td>комедия,приключения,семейный</td>\n",
       "      <td>8.000000e+01</td>\n",
       "      <td>2012</td>\n",
       "      <td>Лоран Тирар</td>\n",
       "      <td>комедия</td>\n",
       "      <td>NaN</td>\n",
       "    </tr>\n",
       "    <tr>\n",
       "      <th>1258</th>\n",
       "      <td>Лучшие дни впереди</td>\n",
       "      <td>121023413</td>\n",
       "      <td>2013-09-03 12:00:00+00:00</td>\n",
       "      <td>Художественный</td>\n",
       "      <td>Ле Фильм дю Киоск, 27.11 Продюксьон, Директ си...</td>\n",
       "      <td>Франция</td>\n",
       "      <td>Марион Верну</td>\n",
       "      <td>Франсуа Краус, Дени Пино-Валенсьенн</td>\n",
       "      <td>«16+» - для детей старше 16 лет</td>\n",
       "      <td>NaN</td>\n",
       "      <td>NaN</td>\n",
       "      <td>NaN</td>\n",
       "      <td>NaN</td>\n",
       "      <td>6.6</td>\n",
       "      <td>драма,комедия</td>\n",
       "      <td>1.000000e+02</td>\n",
       "      <td>2013</td>\n",
       "      <td>Марион Верну</td>\n",
       "      <td>драма</td>\n",
       "      <td>NaN</td>\n",
       "    </tr>\n",
       "    <tr>\n",
       "      <th>...</th>\n",
       "      <td>...</td>\n",
       "      <td>...</td>\n",
       "      <td>...</td>\n",
       "      <td>...</td>\n",
       "      <td>...</td>\n",
       "      <td>...</td>\n",
       "      <td>...</td>\n",
       "      <td>...</td>\n",
       "      <td>...</td>\n",
       "      <td>...</td>\n",
       "      <td>...</td>\n",
       "      <td>...</td>\n",
       "      <td>...</td>\n",
       "      <td>...</td>\n",
       "      <td>...</td>\n",
       "      <td>...</td>\n",
       "      <td>...</td>\n",
       "      <td>...</td>\n",
       "      <td>...</td>\n",
       "      <td>...</td>\n",
       "    </tr>\n",
       "    <tr>\n",
       "      <th>3098</th>\n",
       "      <td>Пираты Карибского моря: Мертвецы не рассказыва...</td>\n",
       "      <td>121009217</td>\n",
       "      <td>2017-05-17 12:00:00+00:00</td>\n",
       "      <td>Художественный</td>\n",
       "      <td>Джерри Брукхаймер Филмз, Уолт Дисней Пикчерз, ...</td>\n",
       "      <td>США</td>\n",
       "      <td>Йоаким Реннинг, Эспен Сандберг</td>\n",
       "      <td>Джерри Брукхаймер</td>\n",
       "      <td>«16+» - для детей старше 16 лет</td>\n",
       "      <td>NaN</td>\n",
       "      <td>NaN</td>\n",
       "      <td>NaN</td>\n",
       "      <td>NaN</td>\n",
       "      <td>6.6</td>\n",
       "      <td>фэнтези,боевик,комедия</td>\n",
       "      <td>2.118396e+09</td>\n",
       "      <td>2017</td>\n",
       "      <td>Йоаким Реннинг</td>\n",
       "      <td>фэнтези</td>\n",
       "      <td>NaN</td>\n",
       "    </tr>\n",
       "    <tr>\n",
       "      <th>5880</th>\n",
       "      <td>Т-34</td>\n",
       "      <td>111024918</td>\n",
       "      <td>2018-12-21 12:00:00+00:00</td>\n",
       "      <td>Художественный</td>\n",
       "      <td>ООО \"Кинокомпания МАРС-фильм\" по заказу ООО \"М...</td>\n",
       "      <td>Россия</td>\n",
       "      <td>А.Сидоров</td>\n",
       "      <td>А.Златопольский, Р.Дишдишян, Л.Блаватник, Н.Яр...</td>\n",
       "      <td>«12+» - для детей старше 12 лет</td>\n",
       "      <td>60000000.0</td>\n",
       "      <td>120000000.0</td>\n",
       "      <td>563784717.0</td>\n",
       "      <td>Фонд кино</td>\n",
       "      <td>6.5</td>\n",
       "      <td>драма,военный,боевик</td>\n",
       "      <td>2.271754e+09</td>\n",
       "      <td>2018</td>\n",
       "      <td>А.Сидоров</td>\n",
       "      <td>драма</td>\n",
       "      <td>31.9</td>\n",
       "    </tr>\n",
       "    <tr>\n",
       "      <th>6151</th>\n",
       "      <td>Мстители: Финал</td>\n",
       "      <td>121005519</td>\n",
       "      <td>2019-04-29 12:00:00+00:00</td>\n",
       "      <td>Художественный</td>\n",
       "      <td>Марвел Студиос</td>\n",
       "      <td>США</td>\n",
       "      <td>Джо Руссо, Энтони Руссо</td>\n",
       "      <td>Кевин Фейги</td>\n",
       "      <td>«16+» - для детей старше 16 лет</td>\n",
       "      <td>NaN</td>\n",
       "      <td>NaN</td>\n",
       "      <td>NaN</td>\n",
       "      <td>NaN</td>\n",
       "      <td>7.6</td>\n",
       "      <td>фантастика,боевик,драма</td>\n",
       "      <td>2.576614e+09</td>\n",
       "      <td>2019</td>\n",
       "      <td>Джо Руссо</td>\n",
       "      <td>фантастика</td>\n",
       "      <td>NaN</td>\n",
       "    </tr>\n",
       "    <tr>\n",
       "      <th>4993</th>\n",
       "      <td>Движение вверх</td>\n",
       "      <td>111011817</td>\n",
       "      <td>2017-12-21 12:00:00+00:00</td>\n",
       "      <td>Художественный</td>\n",
       "      <td>ООО \"Студия \"ТРИТЭ\" Никиты Михалкова\"</td>\n",
       "      <td>Россия</td>\n",
       "      <td>А.Мегердичев</td>\n",
       "      <td>Л.Верещагин, А.Златопольский, Н.Михалков, ООО ...</td>\n",
       "      <td>«6+» - для детей старше 6 лет</td>\n",
       "      <td>0.0</td>\n",
       "      <td>400000000.0</td>\n",
       "      <td>590192191.0</td>\n",
       "      <td>Фонд кино</td>\n",
       "      <td>7.5</td>\n",
       "      <td>спорт,драма</td>\n",
       "      <td>2.779686e+09</td>\n",
       "      <td>2017</td>\n",
       "      <td>А.Мегердичев</td>\n",
       "      <td>спорт</td>\n",
       "      <td>67.8</td>\n",
       "    </tr>\n",
       "    <tr>\n",
       "      <th>6786</th>\n",
       "      <td>Холоп</td>\n",
       "      <td>111021719</td>\n",
       "      <td>2019-12-19 12:00:00+00:00</td>\n",
       "      <td>Художественный</td>\n",
       "      <td>ООО \"МЕМ-МЕДИА\" по заказу АО \"ВБД Груп\"</td>\n",
       "      <td>Россия</td>\n",
       "      <td>К.Шипенко</td>\n",
       "      <td>Э.Илоян, Д.Жалинский, В.Дусмухаметов, Т.Бадзие...</td>\n",
       "      <td>«12+» - для детей старше 12 лет</td>\n",
       "      <td>25000000.0</td>\n",
       "      <td>35000000.0</td>\n",
       "      <td>160000000.0</td>\n",
       "      <td>Фонд кино</td>\n",
       "      <td>6.8</td>\n",
       "      <td>комедия</td>\n",
       "      <td>3.073569e+09</td>\n",
       "      <td>2019</td>\n",
       "      <td>К.Шипенко</td>\n",
       "      <td>комедия</td>\n",
       "      <td>37.5</td>\n",
       "    </tr>\n",
       "  </tbody>\n",
       "</table>\n",
       "<p>3027 rows × 20 columns</p>\n",
       "</div>"
      ],
      "text/plain": [
       "                                                  title   puNumber  \\\n",
       "125                                     Жестокий романс  111006013   \n",
       "1965                                   Каменный цветок.  111016714   \n",
       "3479                               22 пули: Бессмертный  121006410   \n",
       "967                    Астерикс и Обеликс в Британии 3D  121025012   \n",
       "1258                                 Лучшие дни впереди  121023413   \n",
       "...                                                 ...        ...   \n",
       "3098  Пираты Карибского моря: Мертвецы не рассказыва...  121009217   \n",
       "5880                                               Т-34  111024918   \n",
       "6151                                    Мстители: Финал  121005519   \n",
       "4993                                     Движение вверх  111011817   \n",
       "6786                                              Холоп  111021719   \n",
       "\n",
       "               show_start_date            type  \\\n",
       "125  2013-10-18 12:00:00+00:00  Художественный   \n",
       "1965 2014-12-01 12:00:00+00:00  Художественный   \n",
       "3479 2010-04-01 12:00:00+00:00  Художественный   \n",
       "967  2012-10-05 12:00:00+00:00  Художественный   \n",
       "1258 2013-09-03 12:00:00+00:00  Художественный   \n",
       "...                        ...             ...   \n",
       "3098 2017-05-17 12:00:00+00:00  Художественный   \n",
       "5880 2018-12-21 12:00:00+00:00  Художественный   \n",
       "6151 2019-04-29 12:00:00+00:00  Художественный   \n",
       "4993 2017-12-21 12:00:00+00:00  Художественный   \n",
       "6786 2019-12-19 12:00:00+00:00  Художественный   \n",
       "\n",
       "                                            film_studio  \\\n",
       "125                               Киностудия \"Мосфильм\"   \n",
       "1965                              Киностудия \"Мосфильм\"   \n",
       "3479                                   Еуроп Корпорейшн   \n",
       "967   Уайлд Банч, Фиделите Фильм, Филм Кайрос, Синет...   \n",
       "1258  Ле Фильм дю Киоск, 27.11 Продюксьон, Директ си...   \n",
       "...                                                 ...   \n",
       "3098  Джерри Брукхаймер Филмз, Уолт Дисней Пикчерз, ...   \n",
       "5880  ООО \"Кинокомпания МАРС-фильм\" по заказу ООО \"М...   \n",
       "6151                                     Марвел Студиос   \n",
       "4993              ООО \"Студия \"ТРИТЭ\" Никиты Михалкова\"   \n",
       "6786            ООО \"МЕМ-МЕДИА\" по заказу АО \"ВБД Груп\"   \n",
       "\n",
       "                  production_country                        director  \\\n",
       "125                             СССР                       Э.Рязанов   \n",
       "1965                            СССР                        А.Птушко   \n",
       "3479                         Франция                      Ришар Бери   \n",
       "967   Франция-Италия-Испания-Венгрия                     Лоран Тирар   \n",
       "1258                         Франция                    Марион Верну   \n",
       "...                              ...                             ...   \n",
       "3098                             США  Йоаким Реннинг, Эспен Сандберг   \n",
       "5880                          Россия                       А.Сидоров   \n",
       "6151                             США         Джо Руссо, Энтони Руссо   \n",
       "4993                          Россия                    А.Мегердичев   \n",
       "6786                          Россия                       К.Шипенко   \n",
       "\n",
       "                                               producer  \\\n",
       "125                                          Неизвестно   \n",
       "1965                                         Неизвестно   \n",
       "3479         Люк Бессон, Дидье Хорау, Пьер-Анж Ле Погам   \n",
       "967                       Оливье Делбоск, Марк Миссонье   \n",
       "1258                Франсуа Краус, Дени Пино-Валенсьенн   \n",
       "...                                                 ...   \n",
       "3098                                  Джерри Брукхаймер   \n",
       "5880  А.Златопольский, Р.Дишдишян, Л.Блаватник, Н.Яр...   \n",
       "6151                                        Кевин Фейги   \n",
       "4993  Л.Верещагин, А.Златопольский, Н.Михалков, ООО ...   \n",
       "6786  Э.Илоян, Д.Жалинский, В.Дусмухаметов, Т.Бадзие...   \n",
       "\n",
       "                             age_restriction  refundable_support  \\\n",
       "125          «12+» - для детей старше 12 лет                 NaN   \n",
       "1965  «0+» - для любой зрительской аудитории                 NaN   \n",
       "3479         «16+» - для детей старше 16 лет                 NaN   \n",
       "967            «6+» - для детей старше 6 лет                 NaN   \n",
       "1258         «16+» - для детей старше 16 лет                 NaN   \n",
       "...                                      ...                 ...   \n",
       "3098         «16+» - для детей старше 16 лет                 NaN   \n",
       "5880         «12+» - для детей старше 12 лет          60000000.0   \n",
       "6151         «16+» - для детей старше 16 лет                 NaN   \n",
       "4993           «6+» - для детей старше 6 лет                 0.0   \n",
       "6786         «12+» - для детей старше 12 лет          25000000.0   \n",
       "\n",
       "      nonrefundable_support       budget financing_source  ratings  \\\n",
       "125                     NaN          NaN              NaN      8.1   \n",
       "1965                    NaN          NaN              NaN      7.1   \n",
       "3479                    NaN          NaN              NaN      7.1   \n",
       "967                     NaN          NaN              NaN      5.6   \n",
       "1258                    NaN          NaN              NaN      6.6   \n",
       "...                     ...          ...              ...      ...   \n",
       "3098                    NaN          NaN              NaN      6.6   \n",
       "5880            120000000.0  563784717.0        Фонд кино      6.5   \n",
       "6151                    NaN          NaN              NaN      7.6   \n",
       "4993            400000000.0  590192191.0        Фонд кино      7.5   \n",
       "6786             35000000.0  160000000.0        Фонд кино      6.8   \n",
       "\n",
       "                            genres    box_office  year   main_director  \\\n",
       "125        драма,мелодрама,история  4.000000e+01  2013       Э.Рязанов   \n",
       "1965       фэнтези,драма,мелодрама  5.000000e+01  2014        А.Птушко   \n",
       "3479         боевик,драма,криминал  7.500000e+01  2010      Ришар Бери   \n",
       "967   комедия,приключения,семейный  8.000000e+01  2012     Лоран Тирар   \n",
       "1258                 драма,комедия  1.000000e+02  2013    Марион Верну   \n",
       "...                            ...           ...   ...             ...   \n",
       "3098        фэнтези,боевик,комедия  2.118396e+09  2017  Йоаким Реннинг   \n",
       "5880          драма,военный,боевик  2.271754e+09  2018       А.Сидоров   \n",
       "6151       фантастика,боевик,драма  2.576614e+09  2019       Джо Руссо   \n",
       "4993                   спорт,драма  2.779686e+09  2017    А.Мегердичев   \n",
       "6786                       комедия  3.073569e+09  2019       К.Шипенко   \n",
       "\n",
       "      main_genre  percent_share_support  \n",
       "125        драма                    NaN  \n",
       "1965     фэнтези                    NaN  \n",
       "3479      боевик                    NaN  \n",
       "967      комедия                    NaN  \n",
       "1258       драма                    NaN  \n",
       "...          ...                    ...  \n",
       "3098     фэнтези                    NaN  \n",
       "5880       драма                   31.9  \n",
       "6151  фантастика                    NaN  \n",
       "4993       спорт                   67.8  \n",
       "6786     комедия                   37.5  \n",
       "\n",
       "[3027 rows x 20 columns]"
      ]
     },
     "execution_count": 44,
     "metadata": {},
     "output_type": "execute_result"
    }
   ],
   "source": [
    "df.query('box_office > 0').sort_values(by='box_office')"
   ]
  },
  {
   "cell_type": "code",
   "execution_count": 45,
   "metadata": {
    "scrolled": true
   },
   "outputs": [
    {
     "data": {
      "text/html": [
       "<div>\n",
       "<style scoped>\n",
       "    .dataframe tbody tr th:only-of-type {\n",
       "        vertical-align: middle;\n",
       "    }\n",
       "\n",
       "    .dataframe tbody tr th {\n",
       "        vertical-align: top;\n",
       "    }\n",
       "\n",
       "    .dataframe thead th {\n",
       "        text-align: right;\n",
       "    }\n",
       "</style>\n",
       "<table border=\"1\" class=\"dataframe\">\n",
       "  <thead>\n",
       "    <tr style=\"text-align: right;\">\n",
       "      <th></th>\n",
       "      <th>rental</th>\n",
       "      <th>nonrental</th>\n",
       "      <th>all</th>\n",
       "      <th>percent_share</th>\n",
       "    </tr>\n",
       "    <tr>\n",
       "      <th>year</th>\n",
       "      <th></th>\n",
       "      <th></th>\n",
       "      <th></th>\n",
       "      <th></th>\n",
       "    </tr>\n",
       "  </thead>\n",
       "  <tbody>\n",
       "    <tr>\n",
       "      <th>2010</th>\n",
       "      <td>76</td>\n",
       "      <td>713</td>\n",
       "      <td>789</td>\n",
       "      <td>9.6</td>\n",
       "    </tr>\n",
       "    <tr>\n",
       "      <th>2011</th>\n",
       "      <td>100</td>\n",
       "      <td>452</td>\n",
       "      <td>552</td>\n",
       "      <td>18.1</td>\n",
       "    </tr>\n",
       "    <tr>\n",
       "      <th>2012</th>\n",
       "      <td>114</td>\n",
       "      <td>414</td>\n",
       "      <td>528</td>\n",
       "      <td>21.6</td>\n",
       "    </tr>\n",
       "    <tr>\n",
       "      <th>2013</th>\n",
       "      <td>175</td>\n",
       "      <td>416</td>\n",
       "      <td>591</td>\n",
       "      <td>29.6</td>\n",
       "    </tr>\n",
       "    <tr>\n",
       "      <th>2014</th>\n",
       "      <td>264</td>\n",
       "      <td>482</td>\n",
       "      <td>746</td>\n",
       "      <td>35.4</td>\n",
       "    </tr>\n",
       "    <tr>\n",
       "      <th>2015</th>\n",
       "      <td>450</td>\n",
       "      <td>191</td>\n",
       "      <td>641</td>\n",
       "      <td>70.2</td>\n",
       "    </tr>\n",
       "    <tr>\n",
       "      <th>2016</th>\n",
       "      <td>495</td>\n",
       "      <td>154</td>\n",
       "      <td>649</td>\n",
       "      <td>76.3</td>\n",
       "    </tr>\n",
       "    <tr>\n",
       "      <th>2017</th>\n",
       "      <td>354</td>\n",
       "      <td>143</td>\n",
       "      <td>497</td>\n",
       "      <td>71.2</td>\n",
       "    </tr>\n",
       "    <tr>\n",
       "      <th>2018</th>\n",
       "      <td>470</td>\n",
       "      <td>409</td>\n",
       "      <td>879</td>\n",
       "      <td>53.5</td>\n",
       "    </tr>\n",
       "    <tr>\n",
       "      <th>2019</th>\n",
       "      <td>529</td>\n",
       "      <td>398</td>\n",
       "      <td>927</td>\n",
       "      <td>57.1</td>\n",
       "    </tr>\n",
       "  </tbody>\n",
       "</table>\n",
       "</div>"
      ],
      "text/plain": [
       "      rental  nonrental  all  percent_share\n",
       "year                                       \n",
       "2010      76        713  789            9.6\n",
       "2011     100        452  552           18.1\n",
       "2012     114        414  528           21.6\n",
       "2013     175        416  591           29.6\n",
       "2014     264        482  746           35.4\n",
       "2015     450        191  641           70.2\n",
       "2016     495        154  649           76.3\n",
       "2017     354        143  497           71.2\n",
       "2018     470        409  879           53.5\n",
       "2019     529        398  927           57.1"
      ]
     },
     "execution_count": 45,
     "metadata": {},
     "output_type": "execute_result"
    }
   ],
   "source": [
    "in_kino = df.query('box_office > 0').groupby('year')['puNumber'].agg('count')\n",
    "not_in_kino = df.query('box_office == 0').groupby('year')['puNumber'].agg('count')\n",
    "all_movies = pd.concat([in_kino, not_in_kino], axis=1)\n",
    "all_movies.columns = ['rental', 'nonrental']\n",
    "all_movies['all'] = all_movies['rental'] + all_movies['nonrental']\n",
    "all_movies['percent_share'] = round((all_movies['rental'] / all_movies['all']) * 100,1)\n",
    "\n",
    "all_movies"
   ]
  },
  {
   "cell_type": "markdown",
   "metadata": {},
   "source": [
    "**Динамика процентной доли прокатных фильмов по годам**\n",
    "\n",
    "с 2010 по 2014 был небольшой постоянный рост, после чего произошел резкий скачек в 2015 году.\n",
    "с 2015 по 2017 года, процентная доля была за отметкой в 70% после чего спустилась до 50+%\n",
    "Наиболее полные данные в период с 2015 по 2019 год, немного дальше мы постараемся еще раз в этом убедиться."
   ]
  },
  {
   "cell_type": "code",
   "execution_count": 46,
   "metadata": {
    "scrolled": false
   },
   "outputs": [
    {
     "data": {
      "image/png": "[encoded data removed]",
      "text/plain": [
       "<Figure size 1200x600 with 1 Axes>"
      ]
     },
     "metadata": {},
     "output_type": "display_data"
    }
   ],
   "source": [
    "all_movies['percent_share'].plot(kind = 'bar', figsize=(12,6), grid=True)\n",
    "plt.title('Динамика процентной доли прокатных фильмов по годам')\n",
    "plt.xlabel('Год')\n",
    "plt.ylabel('Процентная доля %');"
   ]
  },
  {
   "cell_type": "markdown",
   "metadata": {},
   "source": [
    "В 2015 году произошел резкий скачок проката фильмов и на протяжении 3х лет с 2015 по 2017 процентное соотношение прокатных фильмов держалось на отметке в 70+% после чего последние 2 года стабильно держится в диапазоне 50-60%"
   ]
  },
  {
   "cell_type": "code",
   "execution_count": 47,
   "metadata": {},
   "outputs": [
    {
     "data": {
      "image/png": "[encoded data removed]",
      "text/plain": [
       "<Figure size 1000x500 with 1 Axes>"
      ]
     },
     "metadata": {},
     "output_type": "display_data"
    }
   ],
   "source": [
    "f, ax1 = plt.subplots(1, figsize=(10, 5))\n",
    "bar_width = 0.75\n",
    "bar_l = [i+1 for i in range(len(all_movies['all']))]\n",
    "tick_pos = [i+(bar_width/2) for i in bar_l]\n",
    "\n",
    "ax1.bar(bar_l,\n",
    "       all_movies['rental'],\n",
    "       width=bar_width,\n",
    "       label='rental',\n",
    "       alpha=0.5,\n",
    "       color='#eaff0a')\n",
    "\n",
    "ax1.bar(bar_l,\n",
    "       all_movies['nonrental'],\n",
    "       width=bar_width,\n",
    "       label='nonrental',\n",
    "       alpha=0.5,\n",
    "       color='#939393')\n",
    "\n",
    "plt.xticks(tick_pos, np.unique(all_movies['all']))\n",
    "ax1.set_title('BROKEN BAR')\n",
    "ax1.set_ylabel('Кол-во фильмов')\n",
    "ax1.set_xlabel('Год')\n",
    "plt.legend(loc='upper right')\n",
    "plt.xlim([min(tick_pos)-bar_width, max(tick_pos)+bar_width])\n",
    "plt.show()"
   ]
  },
  {
   "cell_type": "markdown",
   "metadata": {},
   "source": [
    "Этот график не доехал до корректных значений, движемся дальше"
   ]
  },
  {
   "cell_type": "code",
   "execution_count": 48,
   "metadata": {
    "scrolled": true
   },
   "outputs": [
    {
     "name": "stderr",
     "output_type": "stream",
     "text": [
      "C:\\Users\\DELL\\AppData\\Local\\Temp\\ipykernel_78300\\406127705.py:9: MatplotlibDeprecationWarning: The 'b' parameter of grid() has been renamed 'visible' since Matplotlib 3.5; support for the old name will be dropped two minor releases later.\n",
      "  plt.grid(b=True)\n"
     ]
    },
    {
     "data": {
      "image/png": "[encoded data removed]",
      "text/plain": [
       "<Figure size 1200x600 with 1 Axes>"
      ]
     },
     "metadata": {},
     "output_type": "display_data"
    }
   ],
   "source": [
    "plt.figure(figsize=(12,6))\n",
    "x_ax = all_movies.index\n",
    "plt.bar(x_ax - 0.2, all_movies['rental'], 0.4, label='Прокатные', color=\"#FF00FF\")\n",
    "plt.bar(x_ax + 0.2, all_movies['nonrental'], 0.4, label='Без прокатные', color='#DDA0DD')\n",
    "plt.xticks(all_movies.index.unique())\n",
    "plt.title('Кол-во фильмов')\n",
    "plt.xlabel('Год')\n",
    "plt.ylabel('Кол-во фильмов')\n",
    "plt.grid(b=True)\n",
    "plt.legend(loc='upper right');"
   ]
  },
  {
   "cell_type": "markdown",
   "metadata": {},
   "source": [
    "Этот график схож с предыдущим, он так же показывает разницу, но уже с корректными данными по X и Y координатам.\n",
    "\n",
    "В 2015 году произошел рост кол-ва фильмов вышедших в прокат, после чего держался в диапазоне 350- 500 и по итогам 2019 года пробил отметку в 500+ фильмов."
   ]
  },
  {
   "cell_type": "code",
   "execution_count": 49,
   "metadata": {
    "id": "ABeV47y7gFyW",
    "scrolled": true
   },
   "outputs": [
    {
     "data": {
      "text/html": [
       "<div>\n",
       "<style scoped>\n",
       "    .dataframe tbody tr th:only-of-type {\n",
       "        vertical-align: middle;\n",
       "    }\n",
       "\n",
       "    .dataframe tbody tr th {\n",
       "        vertical-align: top;\n",
       "    }\n",
       "\n",
       "    .dataframe thead th {\n",
       "        text-align: right;\n",
       "    }\n",
       "</style>\n",
       "<table border=\"1\" class=\"dataframe\">\n",
       "  <thead>\n",
       "    <tr style=\"text-align: right;\">\n",
       "      <th></th>\n",
       "      <th>count</th>\n",
       "      <th>sum</th>\n",
       "      <th>mean</th>\n",
       "      <th>median</th>\n",
       "    </tr>\n",
       "    <tr>\n",
       "      <th>year</th>\n",
       "      <th></th>\n",
       "      <th></th>\n",
       "      <th></th>\n",
       "      <th></th>\n",
       "    </tr>\n",
       "  </thead>\n",
       "  <tbody>\n",
       "    <tr>\n",
       "      <th>2010</th>\n",
       "      <td>76</td>\n",
       "      <td>549460</td>\n",
       "      <td>7229</td>\n",
       "      <td>1587.50</td>\n",
       "    </tr>\n",
       "    <tr>\n",
       "      <th>2011</th>\n",
       "      <td>100</td>\n",
       "      <td>13977200</td>\n",
       "      <td>139772</td>\n",
       "      <td>3364.00</td>\n",
       "    </tr>\n",
       "    <tr>\n",
       "      <th>2012</th>\n",
       "      <td>114</td>\n",
       "      <td>6337118</td>\n",
       "      <td>55588</td>\n",
       "      <td>5880.00</td>\n",
       "    </tr>\n",
       "    <tr>\n",
       "      <th>2013</th>\n",
       "      <td>175</td>\n",
       "      <td>29619485</td>\n",
       "      <td>169254</td>\n",
       "      <td>3550.00</td>\n",
       "    </tr>\n",
       "    <tr>\n",
       "      <th>2014</th>\n",
       "      <td>264</td>\n",
       "      <td>7433023327</td>\n",
       "      <td>28155391</td>\n",
       "      <td>21445.00</td>\n",
       "    </tr>\n",
       "    <tr>\n",
       "      <th>2015</th>\n",
       "      <td>450</td>\n",
       "      <td>37748228012</td>\n",
       "      <td>83884951</td>\n",
       "      <td>4864744.05</td>\n",
       "    </tr>\n",
       "    <tr>\n",
       "      <th>2016</th>\n",
       "      <td>495</td>\n",
       "      <td>42516602487</td>\n",
       "      <td>85892126</td>\n",
       "      <td>4475530.00</td>\n",
       "    </tr>\n",
       "    <tr>\n",
       "      <th>2017</th>\n",
       "      <td>354</td>\n",
       "      <td>48455625079</td>\n",
       "      <td>136880296</td>\n",
       "      <td>9943877.50</td>\n",
       "    </tr>\n",
       "    <tr>\n",
       "      <th>2018</th>\n",
       "      <td>470</td>\n",
       "      <td>49247664872</td>\n",
       "      <td>104782265</td>\n",
       "      <td>8821498.98</td>\n",
       "    </tr>\n",
       "    <tr>\n",
       "      <th>2019</th>\n",
       "      <td>529</td>\n",
       "      <td>48278101953</td>\n",
       "      <td>91262952</td>\n",
       "      <td>4601033.60</td>\n",
       "    </tr>\n",
       "  </tbody>\n",
       "</table>\n",
       "</div>"
      ],
      "text/plain": [
       "      count          sum       mean      median\n",
       "year                                           \n",
       "2010     76       549460       7229     1587.50\n",
       "2011    100     13977200     139772     3364.00\n",
       "2012    114      6337118      55588     5880.00\n",
       "2013    175     29619485     169254     3550.00\n",
       "2014    264   7433023327   28155391    21445.00\n",
       "2015    450  37748228012   83884951  4864744.05\n",
       "2016    495  42516602487   85892126  4475530.00\n",
       "2017    354  48455625079  136880296  9943877.50\n",
       "2018    470  49247664872  104782265  8821498.98\n",
       "2019    529  48278101953   91262952  4601033.60"
      ]
     },
     "execution_count": 49,
     "metadata": {},
     "output_type": "execute_result"
    }
   ],
   "source": [
    "df_by_year = df.query('box_office > 0').groupby('year')['box_office'].agg(['count', 'sum', 'mean', 'median'])\n",
    "df_by_year[['sum', 'mean']] = df_by_year[['sum', 'mean']].astype('int64')\n",
    "df_by_year = df_by_year.sort_values(by='year')\n",
    "df_by_year"
   ]
  },
  {
   "cell_type": "code",
   "execution_count": 50,
   "metadata": {
    "scrolled": false
   },
   "outputs": [
    {
     "data": {
      "image/png": "[encoded data removed]",
      "text/plain": [
       "<Figure size 1200x600 with 1 Axes>"
      ]
     },
     "metadata": {},
     "output_type": "display_data"
    }
   ],
   "source": [
    "df_by_year.sort_values(by='year').plot(kind='bar', y='sum', figsize=(12, 6), grid=True)\n",
    "plt.title('Динамика суммы сборов по годам')\n",
    "plt.xlabel('Год')\n",
    "plt.ylabel('Сумма сборов х10млрд.р.');"
   ]
  },
  {
   "cell_type": "code",
   "execution_count": 51,
   "metadata": {},
   "outputs": [
    {
     "name": "stdout",
     "output_type": "stream",
     "text": [
      "2011 25.438066465256796\n",
      "2012 0.45338966316572704\n",
      "2013 4.673967724760688\n",
      "2014 250.9504580177542\n",
      "2015 5.078448748422716\n",
      "2016 1.1263204851227495\n",
      "2017 1.1396871397194999\n",
      "2018 1.0163456728028726\n",
      "2019 0.9803125098109728\n"
     ]
    }
   ],
   "source": [
    "for i in range(len(df_by_year['sum']) - 1):\n",
    "    print(\"201\" + str(i + 1), df_by_year.iloc[i + 1]['sum'] / df_by_year.iloc[i]['sum'])"
   ]
  },
  {
   "cell_type": "markdown",
   "metadata": {},
   "source": [
    "Сверху показанно, во сколько раз сумма сборов отличается от предыдущего года."
   ]
  },
  {
   "cell_type": "markdown",
   "metadata": {},
   "source": [
    "**Динамика суммы сборово прокатных фильмов по годам:**\n",
    "\n",
    "Максимальная сумма сборов была в 2018, а минимальная в 2010.\n",
    "С 2010 по 2015 год динаминка общей суммы сборов, была из крайности в крайность.\n",
    "Сумма сборов 2011 года превысила множитель в 25 раз по сравнению с предыдущим 2010.\n",
    "А сума сборов 2014 года превысила показатели 2013 года в 250 раз.\n",
    "И начиная с 2015 года, сумма сборов и кол-во фильмов нормализовались и ежегодно стали показывать более стабильную статистику.\n",
    "Период с наиболее полными данными подтвержден и это: 2015-2019."
   ]
  },
  {
   "cell_type": "code",
   "execution_count": 52,
   "metadata": {
    "id": "tfEhofYvgFyX"
   },
   "outputs": [
    {
     "data": {
      "text/html": [
       "<div>\n",
       "<style scoped>\n",
       "    .dataframe tbody tr th:only-of-type {\n",
       "        vertical-align: middle;\n",
       "    }\n",
       "\n",
       "    .dataframe tbody tr th {\n",
       "        vertical-align: top;\n",
       "    }\n",
       "\n",
       "    .dataframe thead tr th {\n",
       "        text-align: left;\n",
       "    }\n",
       "\n",
       "    .dataframe thead tr:last-of-type th {\n",
       "        text-align: right;\n",
       "    }\n",
       "</style>\n",
       "<table border=\"1\" class=\"dataframe\">\n",
       "  <thead>\n",
       "    <tr>\n",
       "      <th></th>\n",
       "      <th>mean</th>\n",
       "      <th>median</th>\n",
       "      <th>len</th>\n",
       "    </tr>\n",
       "    <tr>\n",
       "      <th></th>\n",
       "      <th>box_office</th>\n",
       "      <th>box_office</th>\n",
       "      <th>box_office</th>\n",
       "    </tr>\n",
       "    <tr>\n",
       "      <th>year</th>\n",
       "      <th></th>\n",
       "      <th></th>\n",
       "      <th></th>\n",
       "    </tr>\n",
       "  </thead>\n",
       "  <tbody>\n",
       "    <tr>\n",
       "      <th>2015</th>\n",
       "      <td>83884951</td>\n",
       "      <td>4864744.05</td>\n",
       "      <td>450</td>\n",
       "    </tr>\n",
       "    <tr>\n",
       "      <th>2016</th>\n",
       "      <td>85892126</td>\n",
       "      <td>4475530.00</td>\n",
       "      <td>495</td>\n",
       "    </tr>\n",
       "    <tr>\n",
       "      <th>2017</th>\n",
       "      <td>136880296</td>\n",
       "      <td>9943877.50</td>\n",
       "      <td>354</td>\n",
       "    </tr>\n",
       "    <tr>\n",
       "      <th>2018</th>\n",
       "      <td>104782265</td>\n",
       "      <td>8821498.98</td>\n",
       "      <td>470</td>\n",
       "    </tr>\n",
       "    <tr>\n",
       "      <th>2019</th>\n",
       "      <td>91262952</td>\n",
       "      <td>4601033.60</td>\n",
       "      <td>529</td>\n",
       "    </tr>\n",
       "  </tbody>\n",
       "</table>\n",
       "</div>"
      ],
      "text/plain": [
       "           mean      median        len\n",
       "     box_office  box_office box_office\n",
       "year                                  \n",
       "2015   83884951  4864744.05        450\n",
       "2016   85892126  4475530.00        495\n",
       "2017  136880296  9943877.50        354\n",
       "2018  104782265  8821498.98        470\n",
       "2019   91262952  4601033.60        529"
      ]
     },
     "execution_count": 52,
     "metadata": {},
     "output_type": "execute_result"
    }
   ],
   "source": [
    "pt_year_office = pd.pivot_table(df.query('box_office > 0 and year > 2014'), index='year', values='box_office', aggfunc=[np.mean,np.median, len])\n",
    "pt_year_office['mean'] = pt_year_office['mean'].astype('int64')\n",
    "pt_year_office"
   ]
  },
  {
   "cell_type": "markdown",
   "metadata": {},
   "source": [
    "Среднее и медианное значения сильно отличаются что говорит о выбросах или явных доменантов по кассовым сборам.\n",
    "\n",
    "\n",
    "Кол-во прокатных фильмов с 2015 по 2019 год остается в диапазоне 450-550 с просадкой в 2017 году до 354 прокатных фильмов. Но не смотря на просадку, в этом году среднее и медианное значение суммы сбора показывают максимальные цифры по соотношению с другими годами.\n"
   ]
  },
  {
   "cell_type": "code",
   "execution_count": 53,
   "metadata": {
    "scrolled": false
   },
   "outputs": [
    {
     "data": {
      "text/plain": [
       "250.9504580177542"
      ]
     },
     "execution_count": 53,
     "metadata": {},
     "output_type": "execute_result"
    }
   ],
   "source": [
    "7433023327 / 29619485 #2013-2014"
   ]
  },
  {
   "cell_type": "code",
   "execution_count": 54,
   "metadata": {
    "id": "jmp-rgg9gFyY",
    "scrolled": true
   },
   "outputs": [
    {
     "data": {
      "text/html": [
       "<div>\n",
       "<style scoped>\n",
       "    .dataframe tbody tr th:only-of-type {\n",
       "        vertical-align: middle;\n",
       "    }\n",
       "\n",
       "    .dataframe tbody tr th {\n",
       "        vertical-align: top;\n",
       "    }\n",
       "\n",
       "    .dataframe thead tr th {\n",
       "        text-align: left;\n",
       "    }\n",
       "\n",
       "    .dataframe thead tr:last-of-type th {\n",
       "        text-align: right;\n",
       "    }\n",
       "</style>\n",
       "<table border=\"1\" class=\"dataframe\">\n",
       "  <thead>\n",
       "    <tr>\n",
       "      <th></th>\n",
       "      <th></th>\n",
       "      <th>sum</th>\n",
       "      <th>median</th>\n",
       "      <th>mean</th>\n",
       "      <th>len</th>\n",
       "    </tr>\n",
       "    <tr>\n",
       "      <th></th>\n",
       "      <th></th>\n",
       "      <th>box_office</th>\n",
       "      <th>box_office</th>\n",
       "      <th>box_office</th>\n",
       "      <th>box_office</th>\n",
       "    </tr>\n",
       "    <tr>\n",
       "      <th>year</th>\n",
       "      <th>age_restriction</th>\n",
       "      <th></th>\n",
       "      <th></th>\n",
       "      <th></th>\n",
       "      <th></th>\n",
       "    </tr>\n",
       "  </thead>\n",
       "  <tbody>\n",
       "    <tr>\n",
       "      <th>2015</th>\n",
       "      <th>«0+» - для любой зрительской аудитории</th>\n",
       "      <td>379053218</td>\n",
       "      <td>2956298.40</td>\n",
       "      <td>10244681</td>\n",
       "      <td>37</td>\n",
       "    </tr>\n",
       "    <tr>\n",
       "      <th>2016</th>\n",
       "      <th>«0+» - для любой зрительской аудитории</th>\n",
       "      <td>150228598</td>\n",
       "      <td>2687778.55</td>\n",
       "      <td>3755714</td>\n",
       "      <td>40</td>\n",
       "    </tr>\n",
       "    <tr>\n",
       "      <th>2017</th>\n",
       "      <th>«0+» - для любой зрительской аудитории</th>\n",
       "      <td>229598930</td>\n",
       "      <td>22178956.00</td>\n",
       "      <td>76532976</td>\n",
       "      <td>3</td>\n",
       "    </tr>\n",
       "    <tr>\n",
       "      <th>2018</th>\n",
       "      <th>«0+» - для любой зрительской аудитории</th>\n",
       "      <td>32449002</td>\n",
       "      <td>3616937.28</td>\n",
       "      <td>6489800</td>\n",
       "      <td>5</td>\n",
       "    </tr>\n",
       "    <tr>\n",
       "      <th>2019</th>\n",
       "      <th>«0+» - для любой зрительской аудитории</th>\n",
       "      <td>17746066</td>\n",
       "      <td>3885434.50</td>\n",
       "      <td>5915355</td>\n",
       "      <td>3</td>\n",
       "    </tr>\n",
       "  </tbody>\n",
       "</table>\n",
       "</div>"
      ],
      "text/plain": [
       "                                                   sum       median  \\\n",
       "                                            box_office   box_office   \n",
       "year age_restriction                                                  \n",
       "2015 «0+» - для любой зрительской аудитории  379053218   2956298.40   \n",
       "2016 «0+» - для любой зрительской аудитории  150228598   2687778.55   \n",
       "2017 «0+» - для любой зрительской аудитории  229598930  22178956.00   \n",
       "2018 «0+» - для любой зрительской аудитории   32449002   3616937.28   \n",
       "2019 «0+» - для любой зрительской аудитории   17746066   3885434.50   \n",
       "\n",
       "                                                  mean        len  \n",
       "                                            box_office box_office  \n",
       "year age_restriction                                               \n",
       "2015 «0+» - для любой зрительской аудитории   10244681         37  \n",
       "2016 «0+» - для любой зрительской аудитории    3755714         40  \n",
       "2017 «0+» - для любой зрительской аудитории   76532976          3  \n",
       "2018 «0+» - для любой зрительской аудитории    6489800          5  \n",
       "2019 «0+» - для любой зрительской аудитории    5915355          3  "
      ]
     },
     "execution_count": 54,
     "metadata": {},
     "output_type": "execute_result"
    }
   ],
   "source": [
    "df['age_restriction'] = df['age_restriction'].astype('category') \n",
    "df['age_restriction'].cat.set_categories(['«0+» - для любой зрительской аудитории', '«6+» - для детей старше 6 лет',\n",
    "                                          '«12+» - для детей старше 12 лет', '«16+» - для детей старше 16 лет',\n",
    "                                          '«18+» - запрещено для детей'])\n",
    "\n",
    "pt_age = pd.pivot_table(df.query('box_office > 0 and year > 2014'), \n",
    "                        index=['year','age_restriction'], \n",
    "                        values='box_office', aggfunc=[np.sum, np.median, np.mean, len],\n",
    "                       margins=True)\n",
    "\n",
    "pt_age[['sum', 'mean']] = pt_age[['sum', 'mean']].astype('int64')\n",
    "\n",
    "pt_age.query('age_restriction == \"«0+» - для любой зрительской аудитории\"')\n",
    "#sb.heatmap(pt_age.query('age_restriction == \"«0+» - для любой зрительской аудитории\"'),cmap=sb.cubehelix_palette(as_cmap=True))\n",
    "#plt.show()"
   ]
  },
  {
   "cell_type": "markdown",
   "metadata": {},
   "source": [
    "### Возрастные ограничения"
   ]
  },
  {
   "cell_type": "markdown",
   "metadata": {},
   "source": [
    "#### Категория 0+\n",
    "\n",
    "- С 2015 по 2019 год общая сумма сборов в данной категории уменьшается. \n",
    "- В 2017 году был хороший рост (~79млн.р.) по сравнению с предыдщуим годом, но в 2018 году этот рост канул в лету.\n",
    "- Минимальная сумма сбора 2019\n",
    "- Максимальная сумма сбора 2015\n"
   ]
  },
  {
   "cell_type": "code",
   "execution_count": 55,
   "metadata": {
    "scrolled": false
   },
   "outputs": [
    {
     "data": {
      "text/html": [
       "<div>\n",
       "<style scoped>\n",
       "    .dataframe tbody tr th:only-of-type {\n",
       "        vertical-align: middle;\n",
       "    }\n",
       "\n",
       "    .dataframe tbody tr th {\n",
       "        vertical-align: top;\n",
       "    }\n",
       "\n",
       "    .dataframe thead tr th {\n",
       "        text-align: left;\n",
       "    }\n",
       "\n",
       "    .dataframe thead tr:last-of-type th {\n",
       "        text-align: right;\n",
       "    }\n",
       "</style>\n",
       "<table border=\"1\" class=\"dataframe\">\n",
       "  <thead>\n",
       "    <tr>\n",
       "      <th></th>\n",
       "      <th></th>\n",
       "      <th>sum</th>\n",
       "      <th>median</th>\n",
       "      <th>mean</th>\n",
       "      <th>len</th>\n",
       "    </tr>\n",
       "    <tr>\n",
       "      <th></th>\n",
       "      <th></th>\n",
       "      <th>box_office</th>\n",
       "      <th>box_office</th>\n",
       "      <th>box_office</th>\n",
       "      <th>box_office</th>\n",
       "    </tr>\n",
       "    <tr>\n",
       "      <th>year</th>\n",
       "      <th>age_restriction</th>\n",
       "      <th></th>\n",
       "      <th></th>\n",
       "      <th></th>\n",
       "      <th></th>\n",
       "    </tr>\n",
       "  </thead>\n",
       "  <tbody>\n",
       "    <tr>\n",
       "      <th>2015</th>\n",
       "      <th>«6+» - для детей старше 6 лет</th>\n",
       "      <td>8517311820</td>\n",
       "      <td>19513253.93</td>\n",
       "      <td>163794458</td>\n",
       "      <td>52</td>\n",
       "    </tr>\n",
       "    <tr>\n",
       "      <th>2016</th>\n",
       "      <th>«6+» - для детей старше 6 лет</th>\n",
       "      <td>9174617374</td>\n",
       "      <td>2660830.11</td>\n",
       "      <td>141147959</td>\n",
       "      <td>65</td>\n",
       "    </tr>\n",
       "    <tr>\n",
       "      <th>2017</th>\n",
       "      <th>«6+» - для детей старше 6 лет</th>\n",
       "      <td>12031034131</td>\n",
       "      <td>50274982.00</td>\n",
       "      <td>273432593</td>\n",
       "      <td>44</td>\n",
       "    </tr>\n",
       "    <tr>\n",
       "      <th>2018</th>\n",
       "      <th>«6+» - для детей старше 6 лет</th>\n",
       "      <td>9909432761</td>\n",
       "      <td>14688850.32</td>\n",
       "      <td>154834886</td>\n",
       "      <td>64</td>\n",
       "    </tr>\n",
       "    <tr>\n",
       "      <th>2019</th>\n",
       "      <th>«6+» - для детей старше 6 лет</th>\n",
       "      <td>12704941824</td>\n",
       "      <td>12525531.67</td>\n",
       "      <td>158811772</td>\n",
       "      <td>80</td>\n",
       "    </tr>\n",
       "  </tbody>\n",
       "</table>\n",
       "</div>"
      ],
      "text/plain": [
       "                                            sum       median       mean  \\\n",
       "                                     box_office   box_office box_office   \n",
       "year age_restriction                                                      \n",
       "2015 «6+» - для детей старше 6 лет   8517311820  19513253.93  163794458   \n",
       "2016 «6+» - для детей старше 6 лет   9174617374   2660830.11  141147959   \n",
       "2017 «6+» - для детей старше 6 лет  12031034131  50274982.00  273432593   \n",
       "2018 «6+» - для детей старше 6 лет   9909432761  14688850.32  154834886   \n",
       "2019 «6+» - для детей старше 6 лет  12704941824  12525531.67  158811772   \n",
       "\n",
       "                                          len  \n",
       "                                   box_office  \n",
       "year age_restriction                           \n",
       "2015 «6+» - для детей старше 6 лет         52  \n",
       "2016 «6+» - для детей старше 6 лет         65  \n",
       "2017 «6+» - для детей старше 6 лет         44  \n",
       "2018 «6+» - для детей старше 6 лет         64  \n",
       "2019 «6+» - для детей старше 6 лет         80  "
      ]
     },
     "execution_count": 55,
     "metadata": {},
     "output_type": "execute_result"
    }
   ],
   "source": [
    "pt_age.query('age_restriction == \"«6+» - для детей старше 6 лет\"')"
   ]
  },
  {
   "cell_type": "markdown",
   "metadata": {},
   "source": [
    "#### Категория 6+\n",
    "\n",
    "- С 2015 по 2019 год наблюдается рост с просадкой в 2018 году.\n",
    "- Мимнимальная сумма сбора 2015\n",
    "- Максимальная сумма сбора 2019\n",
    "- в 2017 году было практически в 2(1.8) раза меньше фильмов(2017/44, 2019/80), но сборы были практически как в 2019 году (разница составила 700 млн. или 6%)"
   ]
  },
  {
   "cell_type": "code",
   "execution_count": 56,
   "metadata": {
    "scrolled": true
   },
   "outputs": [
    {
     "data": {
      "text/html": [
       "<div>\n",
       "<style scoped>\n",
       "    .dataframe tbody tr th:only-of-type {\n",
       "        vertical-align: middle;\n",
       "    }\n",
       "\n",
       "    .dataframe tbody tr th {\n",
       "        vertical-align: top;\n",
       "    }\n",
       "\n",
       "    .dataframe thead tr th {\n",
       "        text-align: left;\n",
       "    }\n",
       "\n",
       "    .dataframe thead tr:last-of-type th {\n",
       "        text-align: right;\n",
       "    }\n",
       "</style>\n",
       "<table border=\"1\" class=\"dataframe\">\n",
       "  <thead>\n",
       "    <tr>\n",
       "      <th></th>\n",
       "      <th></th>\n",
       "      <th>sum</th>\n",
       "      <th>median</th>\n",
       "      <th>mean</th>\n",
       "      <th>len</th>\n",
       "    </tr>\n",
       "    <tr>\n",
       "      <th></th>\n",
       "      <th></th>\n",
       "      <th>box_office</th>\n",
       "      <th>box_office</th>\n",
       "      <th>box_office</th>\n",
       "      <th>box_office</th>\n",
       "    </tr>\n",
       "    <tr>\n",
       "      <th>year</th>\n",
       "      <th>age_restriction</th>\n",
       "      <th></th>\n",
       "      <th></th>\n",
       "      <th></th>\n",
       "      <th></th>\n",
       "    </tr>\n",
       "  </thead>\n",
       "  <tbody>\n",
       "    <tr>\n",
       "      <th>2015</th>\n",
       "      <th>«12+» - для детей старше 12 лет</th>\n",
       "      <td>13419509570</td>\n",
       "      <td>15351562.50</td>\n",
       "      <td>189007177</td>\n",
       "      <td>71</td>\n",
       "    </tr>\n",
       "    <tr>\n",
       "      <th>2016</th>\n",
       "      <th>«12+» - для детей старше 12 лет</th>\n",
       "      <td>9928904678</td>\n",
       "      <td>4899931.50</td>\n",
       "      <td>134174387</td>\n",
       "      <td>74</td>\n",
       "    </tr>\n",
       "    <tr>\n",
       "      <th>2017</th>\n",
       "      <th>«12+» - для детей старше 12 лет</th>\n",
       "      <td>7851427660</td>\n",
       "      <td>9010548.00</td>\n",
       "      <td>191498235</td>\n",
       "      <td>41</td>\n",
       "    </tr>\n",
       "    <tr>\n",
       "      <th>2018</th>\n",
       "      <th>«12+» - для детей старше 12 лет</th>\n",
       "      <td>14267291660</td>\n",
       "      <td>8931965.66</td>\n",
       "      <td>212944651</td>\n",
       "      <td>67</td>\n",
       "    </tr>\n",
       "    <tr>\n",
       "      <th>2019</th>\n",
       "      <th>«12+» - для детей старше 12 лет</th>\n",
       "      <td>12680198773</td>\n",
       "      <td>3405545.76</td>\n",
       "      <td>149178809</td>\n",
       "      <td>85</td>\n",
       "    </tr>\n",
       "  </tbody>\n",
       "</table>\n",
       "</div>"
      ],
      "text/plain": [
       "                                              sum       median       mean  \\\n",
       "                                       box_office   box_office box_office   \n",
       "year age_restriction                                                        \n",
       "2015 «12+» - для детей старше 12 лет  13419509570  15351562.50  189007177   \n",
       "2016 «12+» - для детей старше 12 лет   9928904678   4899931.50  134174387   \n",
       "2017 «12+» - для детей старше 12 лет   7851427660   9010548.00  191498235   \n",
       "2018 «12+» - для детей старше 12 лет  14267291660   8931965.66  212944651   \n",
       "2019 «12+» - для детей старше 12 лет  12680198773   3405545.76  149178809   \n",
       "\n",
       "                                            len  \n",
       "                                     box_office  \n",
       "year age_restriction                             \n",
       "2015 «12+» - для детей старше 12 лет         71  \n",
       "2016 «12+» - для детей старше 12 лет         74  \n",
       "2017 «12+» - для детей старше 12 лет         41  \n",
       "2018 «12+» - для детей старше 12 лет         67  \n",
       "2019 «12+» - для детей старше 12 лет         85  "
      ]
     },
     "execution_count": 56,
     "metadata": {},
     "output_type": "execute_result"
    }
   ],
   "source": [
    "pt_age.query('age_restriction == \"«12+» - для детей старше 12 лет\"')"
   ]
  },
  {
   "cell_type": "markdown",
   "metadata": {},
   "source": [
    "#### Категория 12+\n",
    "- C 2015 по 2017 наблюдается уменьшение сборов, после чего резкий рост в 2018 году и дальнейшее снижение.\n",
    "- Минимальная сумма сбора 2017\n",
    "- Максимальная сумма сбора 2018\n"
   ]
  },
  {
   "cell_type": "code",
   "execution_count": 57,
   "metadata": {},
   "outputs": [
    {
     "data": {
      "text/html": [
       "<div>\n",
       "<style scoped>\n",
       "    .dataframe tbody tr th:only-of-type {\n",
       "        vertical-align: middle;\n",
       "    }\n",
       "\n",
       "    .dataframe tbody tr th {\n",
       "        vertical-align: top;\n",
       "    }\n",
       "\n",
       "    .dataframe thead tr th {\n",
       "        text-align: left;\n",
       "    }\n",
       "\n",
       "    .dataframe thead tr:last-of-type th {\n",
       "        text-align: right;\n",
       "    }\n",
       "</style>\n",
       "<table border=\"1\" class=\"dataframe\">\n",
       "  <thead>\n",
       "    <tr>\n",
       "      <th></th>\n",
       "      <th></th>\n",
       "      <th>sum</th>\n",
       "      <th>median</th>\n",
       "      <th>mean</th>\n",
       "      <th>len</th>\n",
       "    </tr>\n",
       "    <tr>\n",
       "      <th></th>\n",
       "      <th></th>\n",
       "      <th>box_office</th>\n",
       "      <th>box_office</th>\n",
       "      <th>box_office</th>\n",
       "      <th>box_office</th>\n",
       "    </tr>\n",
       "    <tr>\n",
       "      <th>year</th>\n",
       "      <th>age_restriction</th>\n",
       "      <th></th>\n",
       "      <th></th>\n",
       "      <th></th>\n",
       "      <th></th>\n",
       "    </tr>\n",
       "  </thead>\n",
       "  <tbody>\n",
       "    <tr>\n",
       "      <th>2015</th>\n",
       "      <th>«16+» - для детей старше 16 лет</th>\n",
       "      <td>10212109870</td>\n",
       "      <td>4445025.95</td>\n",
       "      <td>63037715</td>\n",
       "      <td>162</td>\n",
       "    </tr>\n",
       "    <tr>\n",
       "      <th>2016</th>\n",
       "      <th>«16+» - для детей старше 16 лет</th>\n",
       "      <td>16556830858</td>\n",
       "      <td>6131431.30</td>\n",
       "      <td>97969413</td>\n",
       "      <td>169</td>\n",
       "    </tr>\n",
       "    <tr>\n",
       "      <th>2017</th>\n",
       "      <th>«16+» - для детей старше 16 лет</th>\n",
       "      <td>18692068777</td>\n",
       "      <td>9702077.00</td>\n",
       "      <td>157076208</td>\n",
       "      <td>119</td>\n",
       "    </tr>\n",
       "    <tr>\n",
       "      <th>2018</th>\n",
       "      <th>«16+» - для детей старше 16 лет</th>\n",
       "      <td>16278405946</td>\n",
       "      <td>8751895.75</td>\n",
       "      <td>105021973</td>\n",
       "      <td>155</td>\n",
       "    </tr>\n",
       "    <tr>\n",
       "      <th>2019</th>\n",
       "      <th>«16+» - для детей старше 16 лет</th>\n",
       "      <td>12753418984</td>\n",
       "      <td>3210717.81</td>\n",
       "      <td>71648421</td>\n",
       "      <td>178</td>\n",
       "    </tr>\n",
       "  </tbody>\n",
       "</table>\n",
       "</div>"
      ],
      "text/plain": [
       "                                              sum      median       mean  \\\n",
       "                                       box_office  box_office box_office   \n",
       "year age_restriction                                                       \n",
       "2015 «16+» - для детей старше 16 лет  10212109870  4445025.95   63037715   \n",
       "2016 «16+» - для детей старше 16 лет  16556830858  6131431.30   97969413   \n",
       "2017 «16+» - для детей старше 16 лет  18692068777  9702077.00  157076208   \n",
       "2018 «16+» - для детей старше 16 лет  16278405946  8751895.75  105021973   \n",
       "2019 «16+» - для детей старше 16 лет  12753418984  3210717.81   71648421   \n",
       "\n",
       "                                            len  \n",
       "                                     box_office  \n",
       "year age_restriction                             \n",
       "2015 «16+» - для детей старше 16 лет        162  \n",
       "2016 «16+» - для детей старше 16 лет        169  \n",
       "2017 «16+» - для детей старше 16 лет        119  \n",
       "2018 «16+» - для детей старше 16 лет        155  \n",
       "2019 «16+» - для детей старше 16 лет        178  "
      ]
     },
     "execution_count": 57,
     "metadata": {},
     "output_type": "execute_result"
    }
   ],
   "source": [
    "pt_age.query('age_restriction == \"«16+» - для детей старше 16 лет\"')\n"
   ]
  },
  {
   "cell_type": "markdown",
   "metadata": {},
   "source": [
    "#### Категория 16+\n",
    "- С 2015 пр 2017 Непрерывный рост сборов\n",
    "- С 2017 по 2019 Неперыврное снижение сборов\n",
    "- Минимальная сумма сборов 2015\n",
    "- Максимальная сумма сборов 2017 с минимальным кол-вом фильмов выпущенных за год"
   ]
  },
  {
   "cell_type": "code",
   "execution_count": 58,
   "metadata": {},
   "outputs": [
    {
     "data": {
      "text/html": [
       "<div>\n",
       "<style scoped>\n",
       "    .dataframe tbody tr th:only-of-type {\n",
       "        vertical-align: middle;\n",
       "    }\n",
       "\n",
       "    .dataframe tbody tr th {\n",
       "        vertical-align: top;\n",
       "    }\n",
       "\n",
       "    .dataframe thead tr th {\n",
       "        text-align: left;\n",
       "    }\n",
       "\n",
       "    .dataframe thead tr:last-of-type th {\n",
       "        text-align: right;\n",
       "    }\n",
       "</style>\n",
       "<table border=\"1\" class=\"dataframe\">\n",
       "  <thead>\n",
       "    <tr>\n",
       "      <th></th>\n",
       "      <th></th>\n",
       "      <th>sum</th>\n",
       "      <th>median</th>\n",
       "      <th>mean</th>\n",
       "      <th>len</th>\n",
       "    </tr>\n",
       "    <tr>\n",
       "      <th></th>\n",
       "      <th></th>\n",
       "      <th>box_office</th>\n",
       "      <th>box_office</th>\n",
       "      <th>box_office</th>\n",
       "      <th>box_office</th>\n",
       "    </tr>\n",
       "    <tr>\n",
       "      <th>year</th>\n",
       "      <th>age_restriction</th>\n",
       "      <th></th>\n",
       "      <th></th>\n",
       "      <th></th>\n",
       "      <th></th>\n",
       "    </tr>\n",
       "  </thead>\n",
       "  <tbody>\n",
       "    <tr>\n",
       "      <th>2015</th>\n",
       "      <th>«18+» - запрещено для детей</th>\n",
       "      <td>5220243533</td>\n",
       "      <td>4616614.70</td>\n",
       "      <td>40783152</td>\n",
       "      <td>128</td>\n",
       "    </tr>\n",
       "    <tr>\n",
       "      <th>2016</th>\n",
       "      <th>«18+» - запрещено для детей</th>\n",
       "      <td>6706020977</td>\n",
       "      <td>6375092.00</td>\n",
       "      <td>45619190</td>\n",
       "      <td>147</td>\n",
       "    </tr>\n",
       "    <tr>\n",
       "      <th>2017</th>\n",
       "      <th>«18+» - запрещено для детей</th>\n",
       "      <td>9651495581</td>\n",
       "      <td>8212677.00</td>\n",
       "      <td>65656432</td>\n",
       "      <td>147</td>\n",
       "    </tr>\n",
       "    <tr>\n",
       "      <th>2018</th>\n",
       "      <th>«18+» - запрещено для детей</th>\n",
       "      <td>8760085501</td>\n",
       "      <td>7179466.00</td>\n",
       "      <td>48939025</td>\n",
       "      <td>179</td>\n",
       "    </tr>\n",
       "    <tr>\n",
       "      <th>2019</th>\n",
       "      <th>«18+» - запрещено для детей</th>\n",
       "      <td>10121796303</td>\n",
       "      <td>5603216.55</td>\n",
       "      <td>55310362</td>\n",
       "      <td>183</td>\n",
       "    </tr>\n",
       "  </tbody>\n",
       "</table>\n",
       "</div>"
      ],
      "text/plain": [
       "                                          sum      median       mean  \\\n",
       "                                   box_office  box_office box_office   \n",
       "year age_restriction                                                   \n",
       "2015 «18+» - запрещено для детей   5220243533  4616614.70   40783152   \n",
       "2016 «18+» - запрещено для детей   6706020977  6375092.00   45619190   \n",
       "2017 «18+» - запрещено для детей   9651495581  8212677.00   65656432   \n",
       "2018 «18+» - запрещено для детей   8760085501  7179466.00   48939025   \n",
       "2019 «18+» - запрещено для детей  10121796303  5603216.55   55310362   \n",
       "\n",
       "                                        len  \n",
       "                                 box_office  \n",
       "year age_restriction                         \n",
       "2015 «18+» - запрещено для детей        128  \n",
       "2016 «18+» - запрещено для детей        147  \n",
       "2017 «18+» - запрещено для детей        147  \n",
       "2018 «18+» - запрещено для детей        179  \n",
       "2019 «18+» - запрещено для детей        183  "
      ]
     },
     "execution_count": 58,
     "metadata": {},
     "output_type": "execute_result"
    }
   ],
   "source": [
    "pt_age.query('age_restriction == \"«18+» - запрещено для детей\"')"
   ]
  },
  {
   "cell_type": "markdown",
   "metadata": {},
   "source": [
    "#### Категория 18+\n",
    "- с 2015 наблюдается рост с просадкой в 2018\n",
    "- Минимальная сумма сборов 2015\n",
    "- Максимальная сумма сборов 2019"
   ]
  },
  {
   "cell_type": "code",
   "execution_count": 59,
   "metadata": {},
   "outputs": [
    {
     "data": {
      "text/html": [
       "<div>\n",
       "<style scoped>\n",
       "    .dataframe tbody tr th:only-of-type {\n",
       "        vertical-align: middle;\n",
       "    }\n",
       "\n",
       "    .dataframe tbody tr th {\n",
       "        vertical-align: top;\n",
       "    }\n",
       "\n",
       "    .dataframe thead th {\n",
       "        text-align: right;\n",
       "    }\n",
       "</style>\n",
       "<table border=\"1\" class=\"dataframe\">\n",
       "  <thead>\n",
       "    <tr style=\"text-align: right;\">\n",
       "      <th></th>\n",
       "      <th>сумма_сборов</th>\n",
       "      <th>медиана</th>\n",
       "      <th>среднее</th>\n",
       "      <th>кол-во_фильмов</th>\n",
       "    </tr>\n",
       "    <tr>\n",
       "      <th>age_restriction</th>\n",
       "      <th></th>\n",
       "      <th></th>\n",
       "      <th></th>\n",
       "      <th></th>\n",
       "    </tr>\n",
       "  </thead>\n",
       "  <tbody>\n",
       "    <tr>\n",
       "      <th></th>\n",
       "      <td>226246222406</td>\n",
       "      <td>5961145</td>\n",
       "      <td>98453534</td>\n",
       "      <td>2298</td>\n",
       "    </tr>\n",
       "    <tr>\n",
       "      <th>«0+» - для любой зрительской аудитории</th>\n",
       "      <td>809075814</td>\n",
       "      <td>35325404</td>\n",
       "      <td>102938526</td>\n",
       "      <td>88</td>\n",
       "    </tr>\n",
       "    <tr>\n",
       "      <th>«12+» - для детей старше 12 лет</th>\n",
       "      <td>58147332341</td>\n",
       "      <td>41599553</td>\n",
       "      <td>876803259</td>\n",
       "      <td>338</td>\n",
       "    </tr>\n",
       "    <tr>\n",
       "      <th>«16+» - для детей старше 16 лет</th>\n",
       "      <td>74492834435</td>\n",
       "      <td>32241147</td>\n",
       "      <td>494753730</td>\n",
       "      <td>783</td>\n",
       "    </tr>\n",
       "    <tr>\n",
       "      <th>«18+» - запрещено для детей</th>\n",
       "      <td>40459641895</td>\n",
       "      <td>31987066</td>\n",
       "      <td>256308161</td>\n",
       "      <td>784</td>\n",
       "    </tr>\n",
       "    <tr>\n",
       "      <th>«6+» - для детей старше 6 лет</th>\n",
       "      <td>52337337910</td>\n",
       "      <td>99663448</td>\n",
       "      <td>892021668</td>\n",
       "      <td>305</td>\n",
       "    </tr>\n",
       "  </tbody>\n",
       "</table>\n",
       "</div>"
      ],
      "text/plain": [
       "                                        сумма_сборов   медиана    среднее  \\\n",
       "age_restriction                                                             \n",
       "                                        226246222406   5961145   98453534   \n",
       "«0+» - для любой зрительской аудитории     809075814  35325404  102938526   \n",
       "«12+» - для детей старше 12 лет          58147332341  41599553  876803259   \n",
       "«16+» - для детей старше 16 лет          74492834435  32241147  494753730   \n",
       "«18+» - запрещено для детей              40459641895  31987066  256308161   \n",
       "«6+» - для детей старше 6 лет            52337337910  99663448  892021668   \n",
       "\n",
       "                                        кол-во_фильмов  \n",
       "age_restriction                                         \n",
       "                                                  2298  \n",
       "«0+» - для любой зрительской аудитории              88  \n",
       "«12+» - для детей старше 12 лет                    338  \n",
       "«16+» - для детей старше 16 лет                    783  \n",
       "«18+» - запрещено для детей                        784  \n",
       "«6+» - для детей старше 6 лет                      305  "
      ]
     },
     "execution_count": 59,
     "metadata": {},
     "output_type": "execute_result"
    }
   ],
   "source": [
    "age_restriction_grouped = pt_age.groupby('age_restriction').agg('sum')\n",
    "age_restriction_grouped.columns = ['сумма_сборов', 'медиана', 'среднее', 'кол-во_фильмов']\n",
    "age_restriction_grouped['медиана'] = age_restriction_grouped['медиана'].astype('int64')\n",
    "age_restriction_grouped"
   ]
  },
  {
   "cell_type": "code",
   "execution_count": 60,
   "metadata": {},
   "outputs": [
    {
     "data": {
      "image/png": "[encoded data removed]",
      "text/plain": [
       "<Figure size 640x480 with 2 Axes>"
      ]
     },
     "metadata": {},
     "output_type": "display_data"
    }
   ],
   "source": [
    "table_age_year = pd.pivot_table(df.query('box_office > 0 and year > 2014').sort_values(by='year',ascending=False), \n",
    "                        index=['year'], columns='age_restriction', \n",
    "                        values='box_office', aggfunc=np.sum)\n",
    "                       \n",
    "table_age_year[['«0+» - для любой зрительской аудитории', '«6+» - для детей старше 6 лет',\n",
    "                                          '«12+» - для детей старше 12 лет', '«16+» - для детей старше 16 лет',\n",
    "                                          '«18+» - запрещено для детей']] = table_age_year[['«0+» - для любой зрительской аудитории', '«6+» - для детей старше 6 лет',\n",
    "                                          '«12+» - для детей старше 12 лет', '«16+» - для детей старше 16 лет',\n",
    "                                          '«18+» - запрещено для детей']].astype('int64')\n",
    "\n",
    "sb.heatmap(table_age_year, cmap=sb.cubehelix_palette(as_cmap=True))\n",
    "plt.show()"
   ]
  },
  {
   "cell_type": "markdown",
   "metadata": {},
   "source": [
    "#### **Влияние возрастного ограничения на сборы фильмов**\n",
    "\n",
    "*Возрастное ограничение влияет на сумму сборов. Например:*\n",
    "- Фильмы с возрастным ограничением 16+ имеют самые высокие кассовые сборы, 74.5 млрд.р. при 783 фильмах.\n",
    "- Категория 18+ имеет самое большое кол-во фильмов выпущенных в прокат, но по сборам она отсает на 84% или 3.4млрд.р. от категории 16+\n",
    "- Категории 6+ и 12+ имеют более стабильные а так же схожие данные по кол-ву и по суммам сборов\n",
    "- Фильмы категории 0+ начиная с 2017 года практически перестали выходить (11 фильмов за 3 года) из-за этого сумма сборов значительно ниже других категорий.\n",
    "\n",
    "*Возрастное ограничение может влиять на жанр фильма, а сам жанр может больше влиять на кассовые сборы чем возрастное ограничение. Так же хочется проверить как влияют, гланвый режиссер, студия и гос. поддержка на кассовые сборы.* "
   ]
  },
  {
   "cell_type": "code",
   "execution_count": 61,
   "metadata": {},
   "outputs": [
    {
     "data": {
      "text/plain": [
       "1.281104935272752"
      ]
     },
     "execution_count": 61,
     "metadata": {},
     "output_type": "execute_result"
    }
   ],
   "source": [
    "74492834435 / 58147332341"
   ]
  },
  {
   "cell_type": "code",
   "execution_count": 62,
   "metadata": {},
   "outputs": [
    {
     "data": {
      "text/plain": [
       "1.841163958601567"
      ]
     },
     "execution_count": 62,
     "metadata": {},
     "output_type": "execute_result"
    }
   ],
   "source": [
    "74492834435 /40459641895"
   ]
  },
  {
   "cell_type": "markdown",
   "metadata": {
    "id": "l_Kg6Ku4gFya"
   },
   "source": [
    "### **Исследование фильмов, которые получили государственную поддержку**\n",
    "\n",
    "На этом этапе нет конкретных инструкций и заданий — поищите интересные закономерности в данных. Посмотрите, сколько выделяют средств на поддержку кино. Проверьте, хорошо ли окупаются такие фильмы, какой у них рейтинг."
   ]
  },
  {
   "cell_type": "code",
   "execution_count": 63,
   "metadata": {
    "scrolled": false
   },
   "outputs": [
    {
     "name": "stdout",
     "output_type": "stream",
     "text": [
      "<class 'pandas.core.frame.DataFrame'>\n",
      "Int64Index: 315 entries, 1061 to 6808\n",
      "Data columns (total 20 columns):\n",
      " #   Column                 Non-Null Count  Dtype              \n",
      "---  ------                 --------------  -----              \n",
      " 0   title                  315 non-null    object             \n",
      " 1   puNumber               315 non-null    object             \n",
      " 2   show_start_date        315 non-null    datetime64[ns, UTC]\n",
      " 3   type                   315 non-null    object             \n",
      " 4   film_studio            315 non-null    object             \n",
      " 5   production_country     315 non-null    object             \n",
      " 6   director               315 non-null    object             \n",
      " 7   producer               315 non-null    object             \n",
      " 8   age_restriction        315 non-null    category           \n",
      " 9   refundable_support     315 non-null    float64            \n",
      " 10  nonrefundable_support  315 non-null    float64            \n",
      " 11  budget                 315 non-null    float64            \n",
      " 12  financing_source       315 non-null    object             \n",
      " 13  ratings                298 non-null    float64            \n",
      " 14  genres                 315 non-null    object             \n",
      " 15  box_office             315 non-null    float64            \n",
      " 16  year                   315 non-null    int64              \n",
      " 17  main_director          315 non-null    object             \n",
      " 18  main_genre             315 non-null    object             \n",
      " 19  percent_share_support  315 non-null    float64            \n",
      "dtypes: category(1), datetime64[ns, UTC](1), float64(6), int64(1), object(11)\n",
      "memory usage: 49.7+ KB\n"
     ]
    }
   ],
   "source": [
    "mv_with_sup = df.query('budget > 0')\n",
    "mv_with_sup.head()\n",
    "mv_with_sup.info()"
   ]
  },
  {
   "cell_type": "code",
   "execution_count": 64,
   "metadata": {
    "scrolled": true
   },
   "outputs": [
    {
     "name": "stdout",
     "output_type": "stream",
     "text": [
      "<class 'pandas.core.frame.DataFrame'>\n",
      "Int64Index: 6799 entries, 0 to 6815\n",
      "Data columns (total 20 columns):\n",
      " #   Column                 Non-Null Count  Dtype              \n",
      "---  ------                 --------------  -----              \n",
      " 0   title                  6799 non-null   object             \n",
      " 1   puNumber               6799 non-null   object             \n",
      " 2   show_start_date        6799 non-null   datetime64[ns, UTC]\n",
      " 3   type                   6799 non-null   object             \n",
      " 4   film_studio            6799 non-null   object             \n",
      " 5   production_country     6799 non-null   object             \n",
      " 6   director               6799 non-null   object             \n",
      " 7   producer               6799 non-null   object             \n",
      " 8   age_restriction        6799 non-null   category           \n",
      " 9   refundable_support     315 non-null    float64            \n",
      " 10  nonrefundable_support  315 non-null    float64            \n",
      " 11  budget                 315 non-null    float64            \n",
      " 12  financing_source       315 non-null    object             \n",
      " 13  ratings                5812 non-null   float64            \n",
      " 14  genres                 6799 non-null   object             \n",
      " 15  box_office             6799 non-null   float64            \n",
      " 16  year                   6799 non-null   int64              \n",
      " 17  main_director          6799 non-null   object             \n",
      " 18  main_genre             6799 non-null   object             \n",
      " 19  percent_share_support  315 non-null    float64            \n",
      "dtypes: category(1), datetime64[ns, UTC](1), float64(6), int64(1), object(11)\n",
      "memory usage: 1.3+ MB\n"
     ]
    }
   ],
   "source": [
    "#КОДРЕВЬЮЕРА\n",
    "df.info()"
   ]
  },
  {
   "cell_type": "code",
   "execution_count": 65,
   "metadata": {
    "scrolled": false
   },
   "outputs": [
    {
     "data": {
      "image/png": "[encoded data removed]",
      "text/plain": [
       "<Figure size 1200x600 with 1 Axes>"
      ]
     },
     "metadata": {},
     "output_type": "display_data"
    }
   ],
   "source": [
    "mvg_box = mv_with_sup.groupby('year')['box_office'].agg('sum')\n",
    "mvg_box.plot(kind='bar', grid=True, figsize=(12,6))\n",
    "plt.title('Сумма сборов')\n",
    "plt.xlabel('Год')\n",
    "plt.ylabel('x10 млрд.р.');"
   ]
  },
  {
   "cell_type": "code",
   "execution_count": 66,
   "metadata": {
    "scrolled": true
   },
   "outputs": [
    {
     "data": {
      "image/png": "[encoded data removed]",
      "text/plain": [
       "<Figure size 1200x600 with 1 Axes>"
      ]
     },
     "metadata": {},
     "output_type": "display_data"
    }
   ],
   "source": [
    "mvg_budget = mv_with_sup.groupby('year')['budget'].agg('sum')\n",
    "mvg_budget.plot(kind='bar', grid=True, figsize=(12,6))\n",
    "plt.title('Сумма бюджета')\n",
    "plt.xlabel('Год')\n",
    "plt.ylabel('x10 млрд.р.');"
   ]
  },
  {
   "cell_type": "code",
   "execution_count": 67,
   "metadata": {
    "scrolled": true
   },
   "outputs": [
    {
     "data": {
      "text/html": [
       "<div>\n",
       "<style scoped>\n",
       "    .dataframe tbody tr th:only-of-type {\n",
       "        vertical-align: middle;\n",
       "    }\n",
       "\n",
       "    .dataframe tbody tr th {\n",
       "        vertical-align: top;\n",
       "    }\n",
       "\n",
       "    .dataframe thead th {\n",
       "        text-align: right;\n",
       "    }\n",
       "</style>\n",
       "<table border=\"1\" class=\"dataframe\">\n",
       "  <thead>\n",
       "    <tr style=\"text-align: right;\">\n",
       "      <th></th>\n",
       "      <th>median</th>\n",
       "      <th>mean</th>\n",
       "      <th>count</th>\n",
       "    </tr>\n",
       "    <tr>\n",
       "      <th>year</th>\n",
       "      <th></th>\n",
       "      <th></th>\n",
       "      <th></th>\n",
       "    </tr>\n",
       "  </thead>\n",
       "  <tbody>\n",
       "    <tr>\n",
       "      <th>2013</th>\n",
       "      <td>6.70</td>\n",
       "      <td>6.700000</td>\n",
       "      <td>2</td>\n",
       "    </tr>\n",
       "    <tr>\n",
       "      <th>2014</th>\n",
       "      <td>6.35</td>\n",
       "      <td>5.964286</td>\n",
       "      <td>14</td>\n",
       "    </tr>\n",
       "    <tr>\n",
       "      <th>2015</th>\n",
       "      <td>6.20</td>\n",
       "      <td>6.061333</td>\n",
       "      <td>75</td>\n",
       "    </tr>\n",
       "    <tr>\n",
       "      <th>2016</th>\n",
       "      <td>5.90</td>\n",
       "      <td>5.692593</td>\n",
       "      <td>54</td>\n",
       "    </tr>\n",
       "    <tr>\n",
       "      <th>2017</th>\n",
       "      <td>6.20</td>\n",
       "      <td>6.054054</td>\n",
       "      <td>37</td>\n",
       "    </tr>\n",
       "    <tr>\n",
       "      <th>2018</th>\n",
       "      <td>6.30</td>\n",
       "      <td>6.042000</td>\n",
       "      <td>50</td>\n",
       "    </tr>\n",
       "    <tr>\n",
       "      <th>2019</th>\n",
       "      <td>6.15</td>\n",
       "      <td>6.175758</td>\n",
       "      <td>66</td>\n",
       "    </tr>\n",
       "  </tbody>\n",
       "</table>\n",
       "</div>"
      ],
      "text/plain": [
       "      median      mean  count\n",
       "year                         \n",
       "2013    6.70  6.700000      2\n",
       "2014    6.35  5.964286     14\n",
       "2015    6.20  6.061333     75\n",
       "2016    5.90  5.692593     54\n",
       "2017    6.20  6.054054     37\n",
       "2018    6.30  6.042000     50\n",
       "2019    6.15  6.175758     66"
      ]
     },
     "execution_count": 67,
     "metadata": {},
     "output_type": "execute_result"
    }
   ],
   "source": [
    "mvg_ratings = mv_with_sup.groupby('year')['ratings'].agg(['median', 'mean', 'count'])\n",
    "mvg_ratings"
   ]
  },
  {
   "cell_type": "code",
   "execution_count": 68,
   "metadata": {},
   "outputs": [
    {
     "data": {
      "image/png": "[encoded data removed]",
      "text/plain": [
       "<Figure size 1200x600 with 1 Axes>"
      ]
     },
     "metadata": {},
     "output_type": "display_data"
    }
   ],
   "source": [
    "mvg_nonref = mv_with_sup.groupby('year')['nonrefundable_support'].agg('sum')\n",
    "mvg_nonref.plot(kind='bar', grid=True, figsize=(12,6))\n",
    "plt.title('Сумма безвовзратной поддержки')\n",
    "plt.xlabel('Год')\n",
    "plt.ylabel('1 млрд.р.');"
   ]
  },
  {
   "cell_type": "code",
   "execution_count": 69,
   "metadata": {},
   "outputs": [
    {
     "data": {
      "image/png": "[encoded data removed]",
      "text/plain": [
       "<Figure size 1200x600 with 1 Axes>"
      ]
     },
     "metadata": {},
     "output_type": "display_data"
    }
   ],
   "source": [
    "mvg_ref = mv_with_sup.groupby('year')['refundable_support'].agg('sum')\n",
    "mvg_ref.plot(kind='bar', grid=True, figsize=(12,6))\n",
    "plt.title('Сумма возвратной гос. поддержки')\n",
    "plt.xlabel('Год')\n",
    "plt.ylabel('x100 млн.р.');"
   ]
  },
  {
   "cell_type": "code",
   "execution_count": 70,
   "metadata": {},
   "outputs": [
    {
     "data": {
      "text/plain": [
       "20322385.1"
      ]
     },
     "execution_count": 70,
     "metadata": {},
     "output_type": "execute_result"
    }
   ],
   "source": [
    "df.query('budget > 0 and year == 2013')['box_office'].sum()"
   ]
  },
  {
   "cell_type": "markdown",
   "metadata": {},
   "source": [
    "проверка суммы сборов у фильмов которые полуичли гос. поддержку"
   ]
  },
  {
   "cell_type": "code",
   "execution_count": 71,
   "metadata": {
    "scrolled": false
   },
   "outputs": [
    {
     "data": {
      "text/html": [
       "<div>\n",
       "<style scoped>\n",
       "    .dataframe tbody tr th:only-of-type {\n",
       "        vertical-align: middle;\n",
       "    }\n",
       "\n",
       "    .dataframe tbody tr th {\n",
       "        vertical-align: top;\n",
       "    }\n",
       "\n",
       "    .dataframe thead th {\n",
       "        text-align: right;\n",
       "    }\n",
       "</style>\n",
       "<table border=\"1\" class=\"dataframe\">\n",
       "  <thead>\n",
       "    <tr style=\"text-align: right;\">\n",
       "      <th></th>\n",
       "      <th>box_office</th>\n",
       "      <th>budget</th>\n",
       "      <th>median</th>\n",
       "      <th>mean</th>\n",
       "      <th>count</th>\n",
       "      <th>profit</th>\n",
       "    </tr>\n",
       "    <tr>\n",
       "      <th>year</th>\n",
       "      <th></th>\n",
       "      <th></th>\n",
       "      <th></th>\n",
       "      <th></th>\n",
       "      <th></th>\n",
       "      <th></th>\n",
       "    </tr>\n",
       "  </thead>\n",
       "  <tbody>\n",
       "    <tr>\n",
       "      <th>2013</th>\n",
       "      <td>20322385</td>\n",
       "      <td>255435390</td>\n",
       "      <td>6.70</td>\n",
       "      <td>6.700000</td>\n",
       "      <td>2</td>\n",
       "      <td>-235113005</td>\n",
       "    </tr>\n",
       "    <tr>\n",
       "      <th>2014</th>\n",
       "      <td>1007188150</td>\n",
       "      <td>1279484783</td>\n",
       "      <td>6.35</td>\n",
       "      <td>5.964286</td>\n",
       "      <td>14</td>\n",
       "      <td>-272296633</td>\n",
       "    </tr>\n",
       "    <tr>\n",
       "      <th>2015</th>\n",
       "      <td>4815747420</td>\n",
       "      <td>7309669207</td>\n",
       "      <td>6.20</td>\n",
       "      <td>6.061333</td>\n",
       "      <td>75</td>\n",
       "      <td>-2493921787</td>\n",
       "    </tr>\n",
       "    <tr>\n",
       "      <th>2016</th>\n",
       "      <td>4957724366</td>\n",
       "      <td>7228942748</td>\n",
       "      <td>5.90</td>\n",
       "      <td>5.692593</td>\n",
       "      <td>54</td>\n",
       "      <td>-2271218382</td>\n",
       "    </tr>\n",
       "    <tr>\n",
       "      <th>2017</th>\n",
       "      <td>10759515337</td>\n",
       "      <td>6972172568</td>\n",
       "      <td>6.20</td>\n",
       "      <td>6.054054</td>\n",
       "      <td>37</td>\n",
       "      <td>3787342769</td>\n",
       "    </tr>\n",
       "    <tr>\n",
       "      <th>2018</th>\n",
       "      <td>9517657281</td>\n",
       "      <td>6651694634</td>\n",
       "      <td>6.30</td>\n",
       "      <td>6.042000</td>\n",
       "      <td>50</td>\n",
       "      <td>2865962647</td>\n",
       "    </tr>\n",
       "    <tr>\n",
       "      <th>2019</th>\n",
       "      <td>8262020628</td>\n",
       "      <td>12542866609</td>\n",
       "      <td>6.15</td>\n",
       "      <td>6.175758</td>\n",
       "      <td>66</td>\n",
       "      <td>-4280845981</td>\n",
       "    </tr>\n",
       "  </tbody>\n",
       "</table>\n",
       "</div>"
      ],
      "text/plain": [
       "       box_office       budget  median      mean  count      profit\n",
       "year                                                               \n",
       "2013     20322385    255435390    6.70  6.700000      2  -235113005\n",
       "2014   1007188150   1279484783    6.35  5.964286     14  -272296633\n",
       "2015   4815747420   7309669207    6.20  6.061333     75 -2493921787\n",
       "2016   4957724366   7228942748    5.90  5.692593     54 -2271218382\n",
       "2017  10759515337   6972172568    6.20  6.054054     37  3787342769\n",
       "2018   9517657281   6651694634    6.30  6.042000     50  2865962647\n",
       "2019   8262020628  12542866609    6.15  6.175758     66 -4280845981"
      ]
     },
     "execution_count": 71,
     "metadata": {},
     "output_type": "execute_result"
    }
   ],
   "source": [
    "test_df = pd.concat([mvg_box, mvg_budget, mvg_ratings], axis=1)\n",
    "test_df[['box_office', 'budget']] = test_df[['box_office', 'budget']].astype('int64')\n",
    "test_df['profit'] = test_df['box_office'] - test_df['budget']\n",
    "test_df"
   ]
  },
  {
   "cell_type": "markdown",
   "metadata": {},
   "source": [
    "Таблица с сгруппированными значениями фильмов которые полуили гос поддержку"
   ]
  },
  {
   "cell_type": "code",
   "execution_count": 72,
   "metadata": {
    "scrolled": true
   },
   "outputs": [
    {
     "data": {
      "text/plain": [
       "-2900090372"
      ]
     },
     "execution_count": 72,
     "metadata": {},
     "output_type": "execute_result"
    }
   ],
   "source": [
    "test_df['profit'].sum()"
   ]
  },
  {
   "cell_type": "markdown",
   "metadata": {},
   "source": [
    "Общая сумма профита(в данном случае минуса)"
   ]
  },
  {
   "cell_type": "code",
   "execution_count": 73,
   "metadata": {
    "scrolled": false
   },
   "outputs": [
    {
     "data": {
      "text/plain": [
       "3655000000.0"
      ]
     },
     "execution_count": 73,
     "metadata": {},
     "output_type": "execute_result"
    }
   ],
   "source": [
    "df['refundable_support'].sum()"
   ]
  },
  {
   "cell_type": "markdown",
   "metadata": {},
   "source": [
    "Общая сумма возвратной поддержки"
   ]
  },
  {
   "cell_type": "code",
   "execution_count": 74,
   "metadata": {
    "scrolled": true
   },
   "outputs": [
    {
     "data": {
      "text/html": [
       "<div>\n",
       "<style scoped>\n",
       "    .dataframe tbody tr th:only-of-type {\n",
       "        vertical-align: middle;\n",
       "    }\n",
       "\n",
       "    .dataframe tbody tr th {\n",
       "        vertical-align: top;\n",
       "    }\n",
       "\n",
       "    .dataframe thead th {\n",
       "        text-align: right;\n",
       "    }\n",
       "</style>\n",
       "<table border=\"1\" class=\"dataframe\">\n",
       "  <thead>\n",
       "    <tr style=\"text-align: right;\">\n",
       "      <th></th>\n",
       "      <th>title</th>\n",
       "      <th>puNumber</th>\n",
       "      <th>show_start_date</th>\n",
       "      <th>type</th>\n",
       "      <th>film_studio</th>\n",
       "      <th>production_country</th>\n",
       "      <th>director</th>\n",
       "      <th>producer</th>\n",
       "      <th>age_restriction</th>\n",
       "      <th>refundable_support</th>\n",
       "      <th>nonrefundable_support</th>\n",
       "      <th>budget</th>\n",
       "      <th>financing_source</th>\n",
       "      <th>ratings</th>\n",
       "      <th>genres</th>\n",
       "      <th>box_office</th>\n",
       "      <th>year</th>\n",
       "      <th>main_director</th>\n",
       "      <th>main_genre</th>\n",
       "      <th>percent_share_support</th>\n",
       "    </tr>\n",
       "  </thead>\n",
       "  <tbody>\n",
       "  </tbody>\n",
       "</table>\n",
       "</div>"
      ],
      "text/plain": [
       "Empty DataFrame\n",
       "Columns: [title, puNumber, show_start_date, type, film_studio, production_country, director, producer, age_restriction, refundable_support, nonrefundable_support, budget, financing_source, ratings, genres, box_office, year, main_director, main_genre, percent_share_support]\n",
       "Index: []"
      ]
     },
     "execution_count": 74,
     "metadata": {},
     "output_type": "execute_result"
    }
   ],
   "source": [
    "df.query('budget > 0 and nonrefundable_support == 0 and refundable_support == 0')"
   ]
  },
  {
   "cell_type": "markdown",
   "metadata": {},
   "source": [
    "Проверка на наличие нулевых значений в обоих столбцах поддержки"
   ]
  },
  {
   "cell_type": "markdown",
   "metadata": {},
   "source": [
    "#### Окупаемость, рейтинг и кол-во фильмов c участием гос. поддержки. Данные с 2013 по 2019\n",
    "- 315 фильмов получили гос. поддержку.\n",
    "- 66 фильмов собрали больше кассовых сборов чем общий бюджет, что составляет ~22% от суммы фильмов с  гос.поддержкой\n",
    "- Кассовые сборы суммарно на 2.9 млрд.р. меньше общего выделенного бюджета.\n",
    "- в 2015 году кол-во фильмов которое получило гос поддержку, составило 75 что является максимальным значением за год.\n",
    "- За этот период только в 2017 и 2018 году кассовые сборы превысили общий бюджет фильмов. Во все остальные года, кассовые сборы меньше общего бюджета.\n",
    "- Средний рейтинг фильмов с гос поддержкой ~ 6.2\n",
    "\n",
    "**Что можно добавить(провести доп анализ):**\n",
    "- Проверить какой жанр чаще всего получает гос. поддержку\n",
    "- Какие жанры имеют наивысший рейтинг среди фильмов с гос. подержкой\n"
   ]
  },
  {
   "cell_type": "code",
   "execution_count": 75,
   "metadata": {
    "scrolled": true
   },
   "outputs": [
    {
     "data": {
      "text/html": [
       "<div>\n",
       "<style scoped>\n",
       "    .dataframe tbody tr th:only-of-type {\n",
       "        vertical-align: middle;\n",
       "    }\n",
       "\n",
       "    .dataframe tbody tr th {\n",
       "        vertical-align: top;\n",
       "    }\n",
       "\n",
       "    .dataframe thead th {\n",
       "        text-align: right;\n",
       "    }\n",
       "</style>\n",
       "<table border=\"1\" class=\"dataframe\">\n",
       "  <thead>\n",
       "    <tr style=\"text-align: right;\">\n",
       "      <th></th>\n",
       "      <th>refundable_support</th>\n",
       "      <th>nonrefundable_support</th>\n",
       "      <th>box_office</th>\n",
       "      <th>budget</th>\n",
       "      <th>profit</th>\n",
       "      <th>support_sum</th>\n",
       "    </tr>\n",
       "    <tr>\n",
       "      <th>year</th>\n",
       "      <th></th>\n",
       "      <th></th>\n",
       "      <th></th>\n",
       "      <th></th>\n",
       "      <th></th>\n",
       "      <th></th>\n",
       "    </tr>\n",
       "  </thead>\n",
       "  <tbody>\n",
       "    <tr>\n",
       "      <th>2013</th>\n",
       "      <td>0.0</td>\n",
       "      <td>134347945</td>\n",
       "      <td>20322385</td>\n",
       "      <td>255435390</td>\n",
       "      <td>-235113005</td>\n",
       "      <td>134347945</td>\n",
       "    </tr>\n",
       "    <tr>\n",
       "      <th>2014</th>\n",
       "      <td>71000000.0</td>\n",
       "      <td>478002299</td>\n",
       "      <td>1007188150</td>\n",
       "      <td>1279484783</td>\n",
       "      <td>-272296633</td>\n",
       "      <td>549002299</td>\n",
       "    </tr>\n",
       "    <tr>\n",
       "      <th>2015</th>\n",
       "      <td>547153119.0</td>\n",
       "      <td>2680088340</td>\n",
       "      <td>4815747420</td>\n",
       "      <td>7309669207</td>\n",
       "      <td>-2493921787</td>\n",
       "      <td>3227241459</td>\n",
       "    </tr>\n",
       "    <tr>\n",
       "      <th>2016</th>\n",
       "      <td>902500000.0</td>\n",
       "      <td>3074655482</td>\n",
       "      <td>4957724366</td>\n",
       "      <td>7228942748</td>\n",
       "      <td>-2271218382</td>\n",
       "      <td>3977155482</td>\n",
       "    </tr>\n",
       "    <tr>\n",
       "      <th>2017</th>\n",
       "      <td>674346881.0</td>\n",
       "      <td>2424624781</td>\n",
       "      <td>10759515337</td>\n",
       "      <td>6972172568</td>\n",
       "      <td>3787342769</td>\n",
       "      <td>3098971662</td>\n",
       "    </tr>\n",
       "    <tr>\n",
       "      <th>2018</th>\n",
       "      <td>592000000.0</td>\n",
       "      <td>2506000000</td>\n",
       "      <td>9517657281</td>\n",
       "      <td>6651694634</td>\n",
       "      <td>2865962647</td>\n",
       "      <td>3098000000</td>\n",
       "    </tr>\n",
       "    <tr>\n",
       "      <th>2019</th>\n",
       "      <td>868000000.0</td>\n",
       "      <td>3856000000</td>\n",
       "      <td>8262020628</td>\n",
       "      <td>12542866609</td>\n",
       "      <td>-4280845981</td>\n",
       "      <td>4724000000</td>\n",
       "    </tr>\n",
       "  </tbody>\n",
       "</table>\n",
       "</div>"
      ],
      "text/plain": [
       "      refundable_support  nonrefundable_support   box_office       budget  \\\n",
       "year                                                                        \n",
       "2013                 0.0              134347945     20322385    255435390   \n",
       "2014          71000000.0              478002299   1007188150   1279484783   \n",
       "2015         547153119.0             2680088340   4815747420   7309669207   \n",
       "2016         902500000.0             3074655482   4957724366   7228942748   \n",
       "2017         674346881.0             2424624781  10759515337   6972172568   \n",
       "2018         592000000.0             2506000000   9517657281   6651694634   \n",
       "2019         868000000.0             3856000000   8262020628  12542866609   \n",
       "\n",
       "          profit  support_sum  \n",
       "year                           \n",
       "2013  -235113005    134347945  \n",
       "2014  -272296633    549002299  \n",
       "2015 -2493921787   3227241459  \n",
       "2016 -2271218382   3977155482  \n",
       "2017  3787342769   3098971662  \n",
       "2018  2865962647   3098000000  \n",
       "2019 -4280845981   4724000000  "
      ]
     },
     "execution_count": 75,
     "metadata": {},
     "output_type": "execute_result"
    }
   ],
   "source": [
    "sup_df = pd.concat([mvg_ref, mvg_nonref, mvg_box, mvg_budget], axis=1)\n",
    "sup_df[['box_office', 'budget', 'nonrefundable_support']] = sup_df[['box_office', 'budget', 'nonrefundable_support']].astype('int64')\n",
    "sup_df['profit'] = sup_df['box_office'] - sup_df['budget']\n",
    "sup_df['support_sum'] = (sup_df['nonrefundable_support'] + sup_df['refundable_support']).astype('int64')\n",
    "sup_df"
   ]
  },
  {
   "cell_type": "code",
   "execution_count": 76,
   "metadata": {
    "scrolled": true
   },
   "outputs": [
    {
     "data": {
      "text/plain": [
       "18808718847.0"
      ]
     },
     "execution_count": 76,
     "metadata": {},
     "output_type": "execute_result"
    }
   ],
   "source": [
    "sup_df['refundable_support'].sum() + sup_df['nonrefundable_support'].sum()"
   ]
  },
  {
   "cell_type": "markdown",
   "metadata": {},
   "source": [
    "Общая сумма гос. поддержки"
   ]
  },
  {
   "cell_type": "markdown",
   "metadata": {},
   "source": [
    "#### Возвратные и безвозвратные средства за период 2013-2019г.\n",
    "\n",
    "- суммарно более 15.15 млрд.р. было безвозвратно выделенно в поддержку кинематографа\n",
    "- суммарно чуть более 3.65 млрд.р.было выделенно возвратной помощи.\n",
    "- так как сумма возвратных + безвозвратных средств меньше общего бюджета, и пропусков одновренменно в этих 2 колонках не наблюдается, можно предположить что сумма этих столбоц и есть сумма полной гос.поддержки за эти года. ~ 18.8 млрд.р."
   ]
  },
  {
   "cell_type": "code",
   "execution_count": 77,
   "metadata": {
    "scrolled": true
   },
   "outputs": [
    {
     "data": {
      "text/html": [
       "<div>\n",
       "<style scoped>\n",
       "    .dataframe tbody tr th:only-of-type {\n",
       "        vertical-align: middle;\n",
       "    }\n",
       "\n",
       "    .dataframe tbody tr th {\n",
       "        vertical-align: top;\n",
       "    }\n",
       "\n",
       "    .dataframe thead th {\n",
       "        text-align: right;\n",
       "    }\n",
       "</style>\n",
       "<table border=\"1\" class=\"dataframe\">\n",
       "  <thead>\n",
       "    <tr style=\"text-align: right;\">\n",
       "      <th></th>\n",
       "      <th>count_films</th>\n",
       "      <th>sum_box</th>\n",
       "      <th>sum_budget</th>\n",
       "      <th>mean_rating</th>\n",
       "      <th>profit</th>\n",
       "    </tr>\n",
       "    <tr>\n",
       "      <th>main_director</th>\n",
       "      <th></th>\n",
       "      <th></th>\n",
       "      <th></th>\n",
       "      <th></th>\n",
       "      <th></th>\n",
       "    </tr>\n",
       "  </thead>\n",
       "  <tbody>\n",
       "    <tr>\n",
       "      <th>О.Степченко</th>\n",
       "      <td>1</td>\n",
       "      <td>333597059</td>\n",
       "      <td>2305074303</td>\n",
       "      <td>5.8</td>\n",
       "      <td>-1971477244</td>\n",
       "    </tr>\n",
       "    <tr>\n",
       "      <th>Ф.Бондарчук</th>\n",
       "      <td>1</td>\n",
       "      <td>0</td>\n",
       "      <td>944000000</td>\n",
       "      <td>5.7</td>\n",
       "      <td>-944000000</td>\n",
       "    </tr>\n",
       "    <tr>\n",
       "      <th>А.Михалков (псевдоним А.Кончаловский)</th>\n",
       "      <td>1</td>\n",
       "      <td>54243202</td>\n",
       "      <td>779941965</td>\n",
       "      <td>6.9</td>\n",
       "      <td>-725698763</td>\n",
       "    </tr>\n",
       "    <tr>\n",
       "      <th>А.Учитель</th>\n",
       "      <td>1</td>\n",
       "      <td>511775548</td>\n",
       "      <td>1032905957</td>\n",
       "      <td>7.7</td>\n",
       "      <td>-521130409</td>\n",
       "    </tr>\n",
       "    <tr>\n",
       "      <th>Н.Хомерики</th>\n",
       "      <td>2</td>\n",
       "      <td>392946550</td>\n",
       "      <td>883704666</td>\n",
       "      <td>6.2</td>\n",
       "      <td>-490758116</td>\n",
       "    </tr>\n",
       "    <tr>\n",
       "      <th>...</th>\n",
       "      <td>...</td>\n",
       "      <td>...</td>\n",
       "      <td>...</td>\n",
       "      <td>...</td>\n",
       "      <td>...</td>\n",
       "    </tr>\n",
       "    <tr>\n",
       "      <th>О.Трофим</th>\n",
       "      <td>1</td>\n",
       "      <td>1445731797</td>\n",
       "      <td>148585222</td>\n",
       "      <td>NaN</td>\n",
       "      <td>1297146575</td>\n",
       "    </tr>\n",
       "    <tr>\n",
       "      <th>Д.Дьяченко</th>\n",
       "      <td>4</td>\n",
       "      <td>2404898634</td>\n",
       "      <td>780695312</td>\n",
       "      <td>5.6</td>\n",
       "      <td>1624203322</td>\n",
       "    </tr>\n",
       "    <tr>\n",
       "      <th>А.Сидоров</th>\n",
       "      <td>1</td>\n",
       "      <td>2271754004</td>\n",
       "      <td>563784717</td>\n",
       "      <td>6.5</td>\n",
       "      <td>1707969287</td>\n",
       "    </tr>\n",
       "    <tr>\n",
       "      <th>А.Мегердичев</th>\n",
       "      <td>1</td>\n",
       "      <td>2779686144</td>\n",
       "      <td>590192191</td>\n",
       "      <td>7.5</td>\n",
       "      <td>2189493953</td>\n",
       "    </tr>\n",
       "    <tr>\n",
       "      <th>К.Шипенко</th>\n",
       "      <td>3</td>\n",
       "      <td>3827772217</td>\n",
       "      <td>704930668</td>\n",
       "      <td>6.8</td>\n",
       "      <td>3122841549</td>\n",
       "    </tr>\n",
       "  </tbody>\n",
       "</table>\n",
       "<p>258 rows × 5 columns</p>\n",
       "</div>"
      ],
      "text/plain": [
       "                                       count_films     sum_box  sum_budget  \\\n",
       "main_director                                                                \n",
       "О.Степченко                                      1   333597059  2305074303   \n",
       "Ф.Бондарчук                                      1           0   944000000   \n",
       "А.Михалков (псевдоним А.Кончаловский)            1    54243202   779941965   \n",
       "А.Учитель                                        1   511775548  1032905957   \n",
       "Н.Хомерики                                       2   392946550   883704666   \n",
       "...                                            ...         ...         ...   \n",
       "О.Трофим                                         1  1445731797   148585222   \n",
       "Д.Дьяченко                                       4  2404898634   780695312   \n",
       "А.Сидоров                                        1  2271754004   563784717   \n",
       "А.Мегердичев                                     1  2779686144   590192191   \n",
       "К.Шипенко                                        3  3827772217   704930668   \n",
       "\n",
       "                                       mean_rating      profit  \n",
       "main_director                                                   \n",
       "О.Степченко                                    5.8 -1971477244  \n",
       "Ф.Бондарчук                                    5.7  -944000000  \n",
       "А.Михалков (псевдоним А.Кончаловский)          6.9  -725698763  \n",
       "А.Учитель                                      7.7  -521130409  \n",
       "Н.Хомерики                                     6.2  -490758116  \n",
       "...                                            ...         ...  \n",
       "О.Трофим                                       NaN  1297146575  \n",
       "Д.Дьяченко                                     5.6  1624203322  \n",
       "А.Сидоров                                      6.5  1707969287  \n",
       "А.Мегердичев                                   7.5  2189493953  \n",
       "К.Шипенко                                      6.8  3122841549  \n",
       "\n",
       "[258 rows x 5 columns]"
      ]
     },
     "execution_count": 77,
     "metadata": {},
     "output_type": "execute_result"
    }
   ],
   "source": [
    "table_boys = pd.pivot_table(mv_with_sup, index='main_director', values=['budget', 'box_office', 'ratings'], \n",
    "                            aggfunc={'budget':np.sum,\n",
    "                                    'box_office':[np.sum, len],\n",
    "                                     'ratings':np.mean\n",
    "                                    })\n",
    "table_boys.columns = ['count_films', 'sum_box', 'sum_budget', 'mean_rating']\n",
    "table_boys['mean_rating'] = round(table_boys['mean_rating'],1)\n",
    "table_boys['sum_box'] = table_boys['sum_box'].astype('int64')\n",
    "table_boys['profit'] = table_boys['sum_box'] - table_boys['sum_budget']\n",
    "table_boys[['count_films', 'sum_box', 'sum_budget', 'profit']] = table_boys[['count_films', 'sum_box', 'sum_budget', 'profit']].astype('int64')\n",
    "table_boys.sort_values('profit')\n",
    "#mv_with_sup.query('budget < box_office')['main_director']"
   ]
  },
  {
   "cell_type": "code",
   "execution_count": 78,
   "metadata": {
    "scrolled": true
   },
   "outputs": [
    {
     "data": {
      "text/plain": [
       "Д.Дьяченко        4\n",
       "Д.Шмидт           2\n",
       "Т.Бекмамбетов     2\n",
       "С.Подгаевский     2\n",
       "Д.Киселев         2\n",
       "Р.Гигинеишвили    2\n",
       "Л.Марголин        2\n",
       "С.Мокрицкий       2\n",
       "К.Шипенко         2\n",
       "А.Мегердичев      1\n",
       "Name: main_director, dtype: int64"
      ]
     },
     "execution_count": 78,
     "metadata": {},
     "output_type": "execute_result"
    }
   ],
   "source": [
    "good_boys  = mv_with_sup.query('budget < box_office')['main_director'].value_counts()\n",
    "good_boys.head(10)"
   ]
  },
  {
   "cell_type": "markdown",
   "metadata": {},
   "source": [
    "Режисеры с кол-вом окупившихся фильмов"
   ]
  },
  {
   "cell_type": "code",
   "execution_count": 79,
   "metadata": {
    "scrolled": false
   },
   "outputs": [
    {
     "data": {
      "text/plain": [
       "Р.Давлетьяров     4\n",
       "А.Котт            3\n",
       "С.Андреасян       3\n",
       "В.Тодоровский     2\n",
       "А.Карпиловский    2\n",
       "И.Северов         2\n",
       "А.Богуславский    2\n",
       "Ф.Дмитриев        2\n",
       "Н.Джорджадзе      2\n",
       "М.Волков          2\n",
       "Name: main_director, dtype: int64"
      ]
     },
     "execution_count": 79,
     "metadata": {},
     "output_type": "execute_result"
    }
   ],
   "source": [
    "bad_boys = mv_with_sup.query('budget > box_office')['main_director'].value_counts()\n",
    "bad_boys.head(10)"
   ]
  },
  {
   "cell_type": "markdown",
   "metadata": {},
   "source": [
    "Режисер и кол-во фильмов которые не окупились"
   ]
  },
  {
   "cell_type": "code",
   "execution_count": 80,
   "metadata": {
    "scrolled": false
   },
   "outputs": [
    {
     "data": {
      "text/plain": [
       "Р.Давлетьяров                         5\n",
       "Д.Дьяченко                            4\n",
       "С.Андреасян                           4\n",
       "А.Цицилин                             3\n",
       "Д.Шмидт                               3\n",
       "                                     ..\n",
       "Н.Бондарчук                           1\n",
       "А.Майовер                             1\n",
       "А.Соколов                             1\n",
       "М.Михайлова                           1\n",
       "М.Бальчюнас (псевдоним М.Вайсберг)    1\n",
       "Name: main_director, Length: 258, dtype: int64"
      ]
     },
     "execution_count": 80,
     "metadata": {},
     "output_type": "execute_result"
    }
   ],
   "source": [
    "boys_count = mv_with_sup['main_director'].value_counts()\n",
    "boys_count"
   ]
  },
  {
   "cell_type": "markdown",
   "metadata": {},
   "source": [
    "Кол-во отснятых фильмов рызными режисерами"
   ]
  },
  {
   "cell_type": "code",
   "execution_count": 81,
   "metadata": {
    "scrolled": true
   },
   "outputs": [
    {
     "data": {
      "text/html": [
       "<div>\n",
       "<style scoped>\n",
       "    .dataframe tbody tr th:only-of-type {\n",
       "        vertical-align: middle;\n",
       "    }\n",
       "\n",
       "    .dataframe tbody tr th {\n",
       "        vertical-align: top;\n",
       "    }\n",
       "\n",
       "    .dataframe thead th {\n",
       "        text-align: right;\n",
       "    }\n",
       "</style>\n",
       "<table border=\"1\" class=\"dataframe\">\n",
       "  <thead>\n",
       "    <tr style=\"text-align: right;\">\n",
       "      <th></th>\n",
       "      <th>all</th>\n",
       "      <th>good</th>\n",
       "      <th>bad</th>\n",
       "    </tr>\n",
       "  </thead>\n",
       "  <tbody>\n",
       "    <tr>\n",
       "      <th>Р.Давлетьяров</th>\n",
       "      <td>5</td>\n",
       "      <td>1.0</td>\n",
       "      <td>4.0</td>\n",
       "    </tr>\n",
       "    <tr>\n",
       "      <th>Д.Дьяченко</th>\n",
       "      <td>4</td>\n",
       "      <td>4.0</td>\n",
       "      <td>NaN</td>\n",
       "    </tr>\n",
       "    <tr>\n",
       "      <th>С.Андреасян</th>\n",
       "      <td>4</td>\n",
       "      <td>1.0</td>\n",
       "      <td>3.0</td>\n",
       "    </tr>\n",
       "    <tr>\n",
       "      <th>А.Цицилин</th>\n",
       "      <td>3</td>\n",
       "      <td>1.0</td>\n",
       "      <td>2.0</td>\n",
       "    </tr>\n",
       "    <tr>\n",
       "      <th>Д.Шмидт</th>\n",
       "      <td>3</td>\n",
       "      <td>2.0</td>\n",
       "      <td>1.0</td>\n",
       "    </tr>\n",
       "    <tr>\n",
       "      <th>А.Аксененко</th>\n",
       "      <td>3</td>\n",
       "      <td>1.0</td>\n",
       "      <td>2.0</td>\n",
       "    </tr>\n",
       "    <tr>\n",
       "      <th>С.Мокрицкий</th>\n",
       "      <td>3</td>\n",
       "      <td>2.0</td>\n",
       "      <td>1.0</td>\n",
       "    </tr>\n",
       "    <tr>\n",
       "      <th>К.Шипенко</th>\n",
       "      <td>3</td>\n",
       "      <td>2.0</td>\n",
       "      <td>1.0</td>\n",
       "    </tr>\n",
       "    <tr>\n",
       "      <th>А.Котт</th>\n",
       "      <td>3</td>\n",
       "      <td>NaN</td>\n",
       "      <td>3.0</td>\n",
       "    </tr>\n",
       "    <tr>\n",
       "      <th>И.Северов</th>\n",
       "      <td>2</td>\n",
       "      <td>NaN</td>\n",
       "      <td>2.0</td>\n",
       "    </tr>\n",
       "  </tbody>\n",
       "</table>\n",
       "</div>"
      ],
      "text/plain": [
       "               all  good  bad\n",
       "Р.Давлетьяров    5   1.0  4.0\n",
       "Д.Дьяченко       4   4.0  NaN\n",
       "С.Андреасян      4   1.0  3.0\n",
       "А.Цицилин        3   1.0  2.0\n",
       "Д.Шмидт          3   2.0  1.0\n",
       "А.Аксененко      3   1.0  2.0\n",
       "С.Мокрицкий      3   2.0  1.0\n",
       "К.Шипенко        3   2.0  1.0\n",
       "А.Котт           3   NaN  3.0\n",
       "И.Северов        2   NaN  2.0"
      ]
     },
     "execution_count": 81,
     "metadata": {},
     "output_type": "execute_result"
    }
   ],
   "source": [
    "main_dir_counter = pd.concat([boys_count, good_boys, bad_boys], axis=1) \n",
    "main_dir_counter.head(10)\n",
    "main_dir_counter.columns = ['all', 'good', 'bad']\n",
    "main_dir_counter.head(10)"
   ]
  },
  {
   "cell_type": "markdown",
   "metadata": {},
   "source": [
    "Таблица с режисерами, с общим кол-вом отснятых фильмов, окупившихся фильмов(good) и неокупившихся фильмов(bad)"
   ]
  },
  {
   "cell_type": "markdown",
   "metadata": {},
   "source": [
    "#### Режисеры которые сняли от 3х фильмов с гос поддержкой\n",
    "\n",
    "- Среди данных режисеров, можно сразу выделить Дьяченко у которого все фильмы имеют кассовые сборы больше чем бюджет заложенный на эти фильмы.\n",
    "- Так же можно выделить Давлетьярова, но тут все уже не так оптимистично. У данного режисера из 5 фильмов, 4 собрали кассовых сбоов меньше чем заложенный в них бюджет.\n",
    "\n",
    "**Что Можно добавить к сравнению главных режисеров:**\n",
    "\n",
    "- Добавить столбец с логической индексацией которая покажет \"profit\" бюджета(кассовые сборы - бюджет) по каждому режиссеру. Что может показать что режисер который снял к примеру один фильм, собрал кассовые сборы больше чем режиссеры с несколькими кинематографическими картинами.\n",
    "- Добавить рейтинг фильмов что отразит качество проделанной работы режисеров.\n"
   ]
  },
  {
   "cell_type": "code",
   "execution_count": 82,
   "metadata": {},
   "outputs": [
    {
     "data": {
      "text/plain": [
       "8"
      ]
     },
     "execution_count": 82,
     "metadata": {},
     "output_type": "execute_result"
    }
   ],
   "source": [
    "len(df.query('main_director == \"Д.Дьяченко\"'))"
   ]
  },
  {
   "cell_type": "markdown",
   "metadata": {},
   "source": [
    "Кол-во фильмов который снял Д.Дьяченко"
   ]
  },
  {
   "cell_type": "code",
   "execution_count": 83,
   "metadata": {
    "scrolled": false
   },
   "outputs": [
    {
     "data": {
      "text/plain": [
       "0.20952380952380953"
      ]
     },
     "execution_count": 83,
     "metadata": {},
     "output_type": "execute_result"
    }
   ],
   "source": [
    "len(df.query('box_office > budget')) / len(df.query('budget > 0'))"
   ]
  },
  {
   "cell_type": "markdown",
   "metadata": {},
   "source": [
    "Процент окупившихся фильмов."
   ]
  },
  {
   "cell_type": "code",
   "execution_count": 84,
   "metadata": {},
   "outputs": [
    {
     "data": {
      "text/html": [
       "<div>\n",
       "<style scoped>\n",
       "    .dataframe tbody tr th:only-of-type {\n",
       "        vertical-align: middle;\n",
       "    }\n",
       "\n",
       "    .dataframe tbody tr th {\n",
       "        vertical-align: top;\n",
       "    }\n",
       "\n",
       "    .dataframe thead th {\n",
       "        text-align: right;\n",
       "    }\n",
       "</style>\n",
       "<table border=\"1\" class=\"dataframe\">\n",
       "  <thead>\n",
       "    <tr style=\"text-align: right;\">\n",
       "      <th></th>\n",
       "      <th>title</th>\n",
       "      <th>puNumber</th>\n",
       "      <th>show_start_date</th>\n",
       "      <th>type</th>\n",
       "      <th>film_studio</th>\n",
       "      <th>production_country</th>\n",
       "      <th>director</th>\n",
       "      <th>producer</th>\n",
       "      <th>age_restriction</th>\n",
       "      <th>refundable_support</th>\n",
       "      <th>nonrefundable_support</th>\n",
       "      <th>budget</th>\n",
       "      <th>financing_source</th>\n",
       "      <th>ratings</th>\n",
       "      <th>genres</th>\n",
       "      <th>box_office</th>\n",
       "      <th>year</th>\n",
       "      <th>main_director</th>\n",
       "      <th>main_genre</th>\n",
       "      <th>percent_share_support</th>\n",
       "    </tr>\n",
       "  </thead>\n",
       "  <tbody>\n",
       "    <tr>\n",
       "      <th>1598</th>\n",
       "      <td>А зори здесь тихие..._</td>\n",
       "      <td>111002915</td>\n",
       "      <td>2015-03-16 12:00:00+00:00</td>\n",
       "      <td>Художественный</td>\n",
       "      <td>ООО \"Компания \"Реал-Дакота\"</td>\n",
       "      <td>Россия</td>\n",
       "      <td>Р.Давлетьяров</td>\n",
       "      <td>Неизвестно</td>\n",
       "      <td>«12+» - для детей старше 12 лет</td>\n",
       "      <td>50000000.0</td>\n",
       "      <td>100000000.0</td>\n",
       "      <td>220588394.0</td>\n",
       "      <td>Фонд кино</td>\n",
       "      <td>8.5</td>\n",
       "      <td>драма,военный,история</td>\n",
       "      <td>2.491668e+08</td>\n",
       "      <td>2015</td>\n",
       "      <td>Р.Давлетьяров</td>\n",
       "      <td>драма</td>\n",
       "      <td>68.0</td>\n",
       "    </tr>\n",
       "    <tr>\n",
       "      <th>1629</th>\n",
       "      <td>Призрак_.</td>\n",
       "      <td>111001815</td>\n",
       "      <td>2015-03-02 12:00:00+00:00</td>\n",
       "      <td>Художественный</td>\n",
       "      <td>ООО \"Водород 2011\"</td>\n",
       "      <td>Россия</td>\n",
       "      <td>А.Войтинский</td>\n",
       "      <td>С.Сельянов</td>\n",
       "      <td>«6+» - для детей старше 6 лет</td>\n",
       "      <td>0.0</td>\n",
       "      <td>75000000.0</td>\n",
       "      <td>139551503.0</td>\n",
       "      <td>Фонд кино</td>\n",
       "      <td>7.0</td>\n",
       "      <td>триллер,боевик,приключения</td>\n",
       "      <td>3.528043e+08</td>\n",
       "      <td>2015</td>\n",
       "      <td>А.Войтинский</td>\n",
       "      <td>триллер</td>\n",
       "      <td>53.7</td>\n",
       "    </tr>\n",
       "    <tr>\n",
       "      <th>1708</th>\n",
       "      <td>Елки Лохматые</td>\n",
       "      <td>111023114</td>\n",
       "      <td>2014-12-10 12:00:00+00:00</td>\n",
       "      <td>Художественный</td>\n",
       "      <td>ООО \"ТаББаК\"</td>\n",
       "      <td>Россия</td>\n",
       "      <td>Максим Свешников</td>\n",
       "      <td>Тимур Бекмамбетов, Евгения Аронова</td>\n",
       "      <td>«6+» - для детей старше 6 лет</td>\n",
       "      <td>26000000.0</td>\n",
       "      <td>30000000.0</td>\n",
       "      <td>80000000.0</td>\n",
       "      <td>Фонд кино</td>\n",
       "      <td>5.0</td>\n",
       "      <td>семейный,комедия</td>\n",
       "      <td>1.212256e+08</td>\n",
       "      <td>2014</td>\n",
       "      <td>Максим Свешников</td>\n",
       "      <td>семейный</td>\n",
       "      <td>70.0</td>\n",
       "    </tr>\n",
       "    <tr>\n",
       "      <th>1725</th>\n",
       "      <td>Снежная Королева 2: Перезаморозка</td>\n",
       "      <td>114000214</td>\n",
       "      <td>2014-11-13 12:00:00+00:00</td>\n",
       "      <td>Анимационный</td>\n",
       "      <td>ООО \"ВИЗАРТ ФИЛЬМ\"</td>\n",
       "      <td>Россия</td>\n",
       "      <td>А.Цицилин</td>\n",
       "      <td>ООО \"ВИЗАРТ ФИЛЬМ\", ООО \"ТаББаК\"</td>\n",
       "      <td>«0+» - для любой зрительской аудитории</td>\n",
       "      <td>30000000.0</td>\n",
       "      <td>40000000.0</td>\n",
       "      <td>252489571.0</td>\n",
       "      <td>Фонд кино</td>\n",
       "      <td>6.5</td>\n",
       "      <td>мультфильм,фэнтези,приключения</td>\n",
       "      <td>3.134898e+08</td>\n",
       "      <td>2014</td>\n",
       "      <td>А.Цицилин</td>\n",
       "      <td>мультфильм</td>\n",
       "      <td>27.7</td>\n",
       "    </tr>\n",
       "    <tr>\n",
       "      <th>1804</th>\n",
       "      <td>Батальонъ</td>\n",
       "      <td>111000715</td>\n",
       "      <td>2015-01-29 12:00:00+00:00</td>\n",
       "      <td>Художественный</td>\n",
       "      <td>ООО \"Корнер Ворк\", ООО \"Арт Пикчерс Студия\"</td>\n",
       "      <td>Россия</td>\n",
       "      <td>Д.Месхиев</td>\n",
       "      <td>И.Угольников</td>\n",
       "      <td>«12+» - для детей старше 12 лет</td>\n",
       "      <td>0.0</td>\n",
       "      <td>56579055.0</td>\n",
       "      <td>436437176.0</td>\n",
       "      <td>Министерство культуры, Фонд кино</td>\n",
       "      <td>7.1</td>\n",
       "      <td>драма,военный,история</td>\n",
       "      <td>4.518122e+08</td>\n",
       "      <td>2015</td>\n",
       "      <td>Д.Месхиев</td>\n",
       "      <td>драма</td>\n",
       "      <td>13.0</td>\n",
       "    </tr>\n",
       "    <tr>\n",
       "      <th>...</th>\n",
       "      <td>...</td>\n",
       "      <td>...</td>\n",
       "      <td>...</td>\n",
       "      <td>...</td>\n",
       "      <td>...</td>\n",
       "      <td>...</td>\n",
       "      <td>...</td>\n",
       "      <td>...</td>\n",
       "      <td>...</td>\n",
       "      <td>...</td>\n",
       "      <td>...</td>\n",
       "      <td>...</td>\n",
       "      <td>...</td>\n",
       "      <td>...</td>\n",
       "      <td>...</td>\n",
       "      <td>...</td>\n",
       "      <td>...</td>\n",
       "      <td>...</td>\n",
       "      <td>...</td>\n",
       "      <td>...</td>\n",
       "    </tr>\n",
       "    <tr>\n",
       "      <th>6302</th>\n",
       "      <td>Верность</td>\n",
       "      <td>111009119</td>\n",
       "      <td>2019-06-13 12:00:00+00:00</td>\n",
       "      <td>Художественный</td>\n",
       "      <td>ООО \"Друг Друга\", ООО \"1-2-3 Продакшн\"</td>\n",
       "      <td>Россия</td>\n",
       "      <td>Н.Сайфуллаева</td>\n",
       "      <td>С.Корнихин, В.Федорович, Е.Никишов, П.Лилиенфе...</td>\n",
       "      <td>«18+» - запрещено для детей</td>\n",
       "      <td>0.0</td>\n",
       "      <td>30000000.0</td>\n",
       "      <td>46300000.0</td>\n",
       "      <td>Министерство культуры</td>\n",
       "      <td>6.2</td>\n",
       "      <td>драма</td>\n",
       "      <td>9.763735e+07</td>\n",
       "      <td>2019</td>\n",
       "      <td>Н.Сайфуллаева</td>\n",
       "      <td>драма</td>\n",
       "      <td>64.8</td>\n",
       "    </tr>\n",
       "    <tr>\n",
       "      <th>6321</th>\n",
       "      <td>Давай разведемся!</td>\n",
       "      <td>111009519</td>\n",
       "      <td>2019-06-12 12:00:00+00:00</td>\n",
       "      <td>Художественный</td>\n",
       "      <td>ООО Кинокомпания \"Глобус-фильм\"</td>\n",
       "      <td>Россия</td>\n",
       "      <td>А.Пармас</td>\n",
       "      <td>С.Сельянов, К.Эрнст, Н.Дрозд-Макан</td>\n",
       "      <td>«12+» - для детей старше 12 лет</td>\n",
       "      <td>0.0</td>\n",
       "      <td>25000000.0</td>\n",
       "      <td>38000000.0</td>\n",
       "      <td>Министерство культуры</td>\n",
       "      <td>5.9</td>\n",
       "      <td>комедия</td>\n",
       "      <td>1.030983e+08</td>\n",
       "      <td>2019</td>\n",
       "      <td>А.Пармас</td>\n",
       "      <td>комедия</td>\n",
       "      <td>65.8</td>\n",
       "    </tr>\n",
       "    <tr>\n",
       "      <th>6783</th>\n",
       "      <td>Фиксики против кработов</td>\n",
       "      <td>114004819</td>\n",
       "      <td>2019-12-21 12:00:00+00:00</td>\n",
       "      <td>Анимационный</td>\n",
       "      <td>АО \"Аэроплан\"</td>\n",
       "      <td>Россия</td>\n",
       "      <td>В.Бедошвили, О.Ужинов, И.Пшонкин, Д.Цыбулькин</td>\n",
       "      <td>Г.Васильев, С.Саркисов, И.Попов</td>\n",
       "      <td>«6+» - для детей старше 6 лет</td>\n",
       "      <td>80000000.0</td>\n",
       "      <td>40000000.0</td>\n",
       "      <td>270000000.0</td>\n",
       "      <td>Фонд кино</td>\n",
       "      <td>7.5</td>\n",
       "      <td>мультфильм,детский,приключения</td>\n",
       "      <td>3.875905e+08</td>\n",
       "      <td>2019</td>\n",
       "      <td>В.Бедошвили</td>\n",
       "      <td>мультфильм</td>\n",
       "      <td>44.4</td>\n",
       "    </tr>\n",
       "    <tr>\n",
       "      <th>6786</th>\n",
       "      <td>Холоп</td>\n",
       "      <td>111021719</td>\n",
       "      <td>2019-12-19 12:00:00+00:00</td>\n",
       "      <td>Художественный</td>\n",
       "      <td>ООО \"МЕМ-МЕДИА\" по заказу АО \"ВБД Груп\"</td>\n",
       "      <td>Россия</td>\n",
       "      <td>К.Шипенко</td>\n",
       "      <td>Э.Илоян, Д.Жалинский, В.Дусмухаметов, Т.Бадзие...</td>\n",
       "      <td>«12+» - для детей старше 12 лет</td>\n",
       "      <td>25000000.0</td>\n",
       "      <td>35000000.0</td>\n",
       "      <td>160000000.0</td>\n",
       "      <td>Фонд кино</td>\n",
       "      <td>6.8</td>\n",
       "      <td>комедия</td>\n",
       "      <td>3.073569e+09</td>\n",
       "      <td>2019</td>\n",
       "      <td>К.Шипенко</td>\n",
       "      <td>комедия</td>\n",
       "      <td>37.5</td>\n",
       "    </tr>\n",
       "    <tr>\n",
       "      <th>6796</th>\n",
       "      <td>Иван Царевич и Серый Волк 4</td>\n",
       "      <td>114005019</td>\n",
       "      <td>2019-12-20 12:00:00+00:00</td>\n",
       "      <td>Анимационный</td>\n",
       "      <td>ООО \"Студия анимационного кино \"Мельница\"</td>\n",
       "      <td>Россия</td>\n",
       "      <td>Д.Шмидт, К.Феоктистов</td>\n",
       "      <td>С.Сельянов, А.Боярский</td>\n",
       "      <td>«6+» - для детей старше 6 лет</td>\n",
       "      <td>100000000.0</td>\n",
       "      <td>0.0</td>\n",
       "      <td>190000000.0</td>\n",
       "      <td>Фонд кино</td>\n",
       "      <td>6.7</td>\n",
       "      <td>мультфильм,приключения,семейный</td>\n",
       "      <td>5.010692e+08</td>\n",
       "      <td>2019</td>\n",
       "      <td>Д.Шмидт</td>\n",
       "      <td>мультфильм</td>\n",
       "      <td>52.6</td>\n",
       "    </tr>\n",
       "  </tbody>\n",
       "</table>\n",
       "<p>66 rows × 20 columns</p>\n",
       "</div>"
      ],
      "text/plain": [
       "                                  title   puNumber           show_start_date  \\\n",
       "1598             А зори здесь тихие..._  111002915 2015-03-16 12:00:00+00:00   \n",
       "1629                          Призрак_.  111001815 2015-03-02 12:00:00+00:00   \n",
       "1708                      Елки Лохматые  111023114 2014-12-10 12:00:00+00:00   \n",
       "1725  Снежная Королева 2: Перезаморозка  114000214 2014-11-13 12:00:00+00:00   \n",
       "1804                          Батальонъ  111000715 2015-01-29 12:00:00+00:00   \n",
       "...                                 ...        ...                       ...   \n",
       "6302                           Верность  111009119 2019-06-13 12:00:00+00:00   \n",
       "6321                  Давай разведемся!  111009519 2019-06-12 12:00:00+00:00   \n",
       "6783            Фиксики против кработов  114004819 2019-12-21 12:00:00+00:00   \n",
       "6786                              Холоп  111021719 2019-12-19 12:00:00+00:00   \n",
       "6796        Иван Царевич и Серый Волк 4  114005019 2019-12-20 12:00:00+00:00   \n",
       "\n",
       "                type                                  film_studio  \\\n",
       "1598  Художественный                  ООО \"Компания \"Реал-Дакота\"   \n",
       "1629  Художественный                           ООО \"Водород 2011\"   \n",
       "1708  Художественный                                 ООО \"ТаББаК\"   \n",
       "1725    Анимационный                           ООО \"ВИЗАРТ ФИЛЬМ\"   \n",
       "1804  Художественный  ООО \"Корнер Ворк\", ООО \"Арт Пикчерс Студия\"   \n",
       "...              ...                                          ...   \n",
       "6302  Художественный       ООО \"Друг Друга\", ООО \"1-2-3 Продакшн\"   \n",
       "6321  Художественный              ООО Кинокомпания \"Глобус-фильм\"   \n",
       "6783    Анимационный                                АО \"Аэроплан\"   \n",
       "6786  Художественный      ООО \"МЕМ-МЕДИА\" по заказу АО \"ВБД Груп\"   \n",
       "6796    Анимационный    ООО \"Студия анимационного кино \"Мельница\"   \n",
       "\n",
       "     production_country                                       director  \\\n",
       "1598             Россия                                  Р.Давлетьяров   \n",
       "1629             Россия                                   А.Войтинский   \n",
       "1708             Россия                               Максим Свешников   \n",
       "1725             Россия                                      А.Цицилин   \n",
       "1804             Россия                                      Д.Месхиев   \n",
       "...                 ...                                            ...   \n",
       "6302             Россия                                  Н.Сайфуллаева   \n",
       "6321             Россия                                       А.Пармас   \n",
       "6783             Россия  В.Бедошвили, О.Ужинов, И.Пшонкин, Д.Цыбулькин   \n",
       "6786             Россия                                      К.Шипенко   \n",
       "6796             Россия                          Д.Шмидт, К.Феоктистов   \n",
       "\n",
       "                                               producer  \\\n",
       "1598                                         Неизвестно   \n",
       "1629                                         С.Сельянов   \n",
       "1708                 Тимур Бекмамбетов, Евгения Аронова   \n",
       "1725                   ООО \"ВИЗАРТ ФИЛЬМ\", ООО \"ТаББаК\"   \n",
       "1804                                       И.Угольников   \n",
       "...                                                 ...   \n",
       "6302  С.Корнихин, В.Федорович, Е.Никишов, П.Лилиенфе...   \n",
       "6321                 С.Сельянов, К.Эрнст, Н.Дрозд-Макан   \n",
       "6783                    Г.Васильев, С.Саркисов, И.Попов   \n",
       "6786  Э.Илоян, Д.Жалинский, В.Дусмухаметов, Т.Бадзие...   \n",
       "6796                             С.Сельянов, А.Боярский   \n",
       "\n",
       "                             age_restriction  refundable_support  \\\n",
       "1598         «12+» - для детей старше 12 лет          50000000.0   \n",
       "1629           «6+» - для детей старше 6 лет                 0.0   \n",
       "1708           «6+» - для детей старше 6 лет          26000000.0   \n",
       "1725  «0+» - для любой зрительской аудитории          30000000.0   \n",
       "1804         «12+» - для детей старше 12 лет                 0.0   \n",
       "...                                      ...                 ...   \n",
       "6302             «18+» - запрещено для детей                 0.0   \n",
       "6321         «12+» - для детей старше 12 лет                 0.0   \n",
       "6783           «6+» - для детей старше 6 лет          80000000.0   \n",
       "6786         «12+» - для детей старше 12 лет          25000000.0   \n",
       "6796           «6+» - для детей старше 6 лет         100000000.0   \n",
       "\n",
       "      nonrefundable_support       budget                  financing_source  \\\n",
       "1598            100000000.0  220588394.0                         Фонд кино   \n",
       "1629             75000000.0  139551503.0                         Фонд кино   \n",
       "1708             30000000.0   80000000.0                         Фонд кино   \n",
       "1725             40000000.0  252489571.0                         Фонд кино   \n",
       "1804             56579055.0  436437176.0  Министерство культуры, Фонд кино   \n",
       "...                     ...          ...                               ...   \n",
       "6302             30000000.0   46300000.0             Министерство культуры   \n",
       "6321             25000000.0   38000000.0             Министерство культуры   \n",
       "6783             40000000.0  270000000.0                         Фонд кино   \n",
       "6786             35000000.0  160000000.0                         Фонд кино   \n",
       "6796                    0.0  190000000.0                         Фонд кино   \n",
       "\n",
       "      ratings                           genres    box_office  year  \\\n",
       "1598      8.5            драма,военный,история  2.491668e+08  2015   \n",
       "1629      7.0       триллер,боевик,приключения  3.528043e+08  2015   \n",
       "1708      5.0                 семейный,комедия  1.212256e+08  2014   \n",
       "1725      6.5   мультфильм,фэнтези,приключения  3.134898e+08  2014   \n",
       "1804      7.1            драма,военный,история  4.518122e+08  2015   \n",
       "...       ...                              ...           ...   ...   \n",
       "6302      6.2                            драма  9.763735e+07  2019   \n",
       "6321      5.9                          комедия  1.030983e+08  2019   \n",
       "6783      7.5   мультфильм,детский,приключения  3.875905e+08  2019   \n",
       "6786      6.8                          комедия  3.073569e+09  2019   \n",
       "6796      6.7  мультфильм,приключения,семейный  5.010692e+08  2019   \n",
       "\n",
       "         main_director  main_genre  percent_share_support  \n",
       "1598     Р.Давлетьяров       драма                   68.0  \n",
       "1629      А.Войтинский     триллер                   53.7  \n",
       "1708  Максим Свешников    семейный                   70.0  \n",
       "1725         А.Цицилин  мультфильм                   27.7  \n",
       "1804         Д.Месхиев       драма                   13.0  \n",
       "...                ...         ...                    ...  \n",
       "6302     Н.Сайфуллаева       драма                   64.8  \n",
       "6321          А.Пармас     комедия                   65.8  \n",
       "6783       В.Бедошвили  мультфильм                   44.4  \n",
       "6786         К.Шипенко     комедия                   37.5  \n",
       "6796           Д.Шмидт  мультфильм                   52.6  \n",
       "\n",
       "[66 rows x 20 columns]"
      ]
     },
     "execution_count": 84,
     "metadata": {},
     "output_type": "execute_result"
    }
   ],
   "source": [
    "mv_with_sup.query('budget < box_office')"
   ]
  },
  {
   "cell_type": "code",
   "execution_count": 85,
   "metadata": {
    "id": "W9QKpjUdgFyb"
   },
   "outputs": [
    {
     "data": {
      "text/plain": [
       "315"
      ]
     },
     "execution_count": 85,
     "metadata": {},
     "output_type": "execute_result"
    }
   ],
   "source": [
    "len(mv_with_sup)"
   ]
  },
  {
   "cell_type": "code",
   "execution_count": 86,
   "metadata": {
    "scrolled": true
   },
   "outputs": [
    {
     "data": {
      "text/plain": [
       "count    298.000000\n",
       "mean       6.015436\n",
       "std        1.133406\n",
       "min        1.000000\n",
       "25%        5.400000\n",
       "50%        6.200000\n",
       "75%        6.700000\n",
       "max        8.500000\n",
       "Name: ratings, dtype: float64"
      ]
     },
     "execution_count": 86,
     "metadata": {},
     "output_type": "execute_result"
    }
   ],
   "source": [
    "mv_with_sup['ratings'].describe()"
   ]
  },
  {
   "cell_type": "code",
   "execution_count": 87,
   "metadata": {
    "scrolled": true
   },
   "outputs": [
    {
     "data": {
      "text/html": [
       "<div>\n",
       "<style scoped>\n",
       "    .dataframe tbody tr th:only-of-type {\n",
       "        vertical-align: middle;\n",
       "    }\n",
       "\n",
       "    .dataframe tbody tr th {\n",
       "        vertical-align: top;\n",
       "    }\n",
       "\n",
       "    .dataframe thead tr th {\n",
       "        text-align: left;\n",
       "    }\n",
       "\n",
       "    .dataframe thead tr:last-of-type th {\n",
       "        text-align: right;\n",
       "    }\n",
       "</style>\n",
       "<table border=\"1\" class=\"dataframe\">\n",
       "  <thead>\n",
       "    <tr>\n",
       "      <th></th>\n",
       "      <th>box_office</th>\n",
       "      <th>budget</th>\n",
       "      <th colspan=\"2\" halign=\"left\">ratings</th>\n",
       "    </tr>\n",
       "    <tr>\n",
       "      <th></th>\n",
       "      <th>sum</th>\n",
       "      <th>sum</th>\n",
       "      <th>len</th>\n",
       "      <th>mean</th>\n",
       "    </tr>\n",
       "    <tr>\n",
       "      <th>main_genre</th>\n",
       "      <th></th>\n",
       "      <th></th>\n",
       "      <th></th>\n",
       "      <th></th>\n",
       "    </tr>\n",
       "  </thead>\n",
       "  <tbody>\n",
       "    <tr>\n",
       "      <th>Неизвестно</th>\n",
       "      <td>1.480414e+09</td>\n",
       "      <td>9.429615e+08</td>\n",
       "      <td>15</td>\n",
       "      <td>NaN</td>\n",
       "    </tr>\n",
       "    <tr>\n",
       "      <th>биография</th>\n",
       "      <td>5.168830e+08</td>\n",
       "      <td>5.289336e+08</td>\n",
       "      <td>3</td>\n",
       "      <td>6.900000</td>\n",
       "    </tr>\n",
       "    <tr>\n",
       "      <th>боевик</th>\n",
       "      <td>3.993565e+08</td>\n",
       "      <td>6.034368e+08</td>\n",
       "      <td>5</td>\n",
       "      <td>6.340000</td>\n",
       "    </tr>\n",
       "    <tr>\n",
       "      <th>военный</th>\n",
       "      <td>1.017670e+09</td>\n",
       "      <td>1.285907e+09</td>\n",
       "      <td>9</td>\n",
       "      <td>6.466667</td>\n",
       "    </tr>\n",
       "    <tr>\n",
       "      <th>детектив</th>\n",
       "      <td>1.385475e+08</td>\n",
       "      <td>1.198222e+09</td>\n",
       "      <td>5</td>\n",
       "      <td>6.760000</td>\n",
       "    </tr>\n",
       "    <tr>\n",
       "      <th>детский</th>\n",
       "      <td>3.013652e+06</td>\n",
       "      <td>1.838980e+08</td>\n",
       "      <td>4</td>\n",
       "      <td>7.125000</td>\n",
       "    </tr>\n",
       "    <tr>\n",
       "      <th>драма</th>\n",
       "      <td>9.044681e+09</td>\n",
       "      <td>1.105189e+10</td>\n",
       "      <td>92</td>\n",
       "      <td>6.389011</td>\n",
       "    </tr>\n",
       "    <tr>\n",
       "      <th>история</th>\n",
       "      <td>1.455468e+09</td>\n",
       "      <td>2.145062e+09</td>\n",
       "      <td>4</td>\n",
       "      <td>5.350000</td>\n",
       "    </tr>\n",
       "    <tr>\n",
       "      <th>комедия</th>\n",
       "      <td>1.220155e+10</td>\n",
       "      <td>5.915587e+09</td>\n",
       "      <td>68</td>\n",
       "      <td>5.516176</td>\n",
       "    </tr>\n",
       "    <tr>\n",
       "      <th>криминал</th>\n",
       "      <td>2.397939e+08</td>\n",
       "      <td>4.265948e+08</td>\n",
       "      <td>3</td>\n",
       "      <td>7.500000</td>\n",
       "    </tr>\n",
       "    <tr>\n",
       "      <th>мелодрама</th>\n",
       "      <td>4.455495e+07</td>\n",
       "      <td>9.180053e+08</td>\n",
       "      <td>14</td>\n",
       "      <td>5.907143</td>\n",
       "    </tr>\n",
       "    <tr>\n",
       "      <th>мультфильм</th>\n",
       "      <td>5.044931e+09</td>\n",
       "      <td>5.285499e+09</td>\n",
       "      <td>26</td>\n",
       "      <td>5.907692</td>\n",
       "    </tr>\n",
       "    <tr>\n",
       "      <th>мюзикл</th>\n",
       "      <td>1.017050e+08</td>\n",
       "      <td>5.641975e+08</td>\n",
       "      <td>4</td>\n",
       "      <td>6.550000</td>\n",
       "    </tr>\n",
       "    <tr>\n",
       "      <th>приключения</th>\n",
       "      <td>1.205597e+09</td>\n",
       "      <td>3.374742e+09</td>\n",
       "      <td>7</td>\n",
       "      <td>5.871429</td>\n",
       "    </tr>\n",
       "    <tr>\n",
       "      <th>реальное ТВ</th>\n",
       "      <td>3.272110e+07</td>\n",
       "      <td>8.000000e+07</td>\n",
       "      <td>1</td>\n",
       "      <td>5.600000</td>\n",
       "    </tr>\n",
       "    <tr>\n",
       "      <th>семейный</th>\n",
       "      <td>5.844247e+08</td>\n",
       "      <td>6.367998e+08</td>\n",
       "      <td>7</td>\n",
       "      <td>5.414286</td>\n",
       "    </tr>\n",
       "    <tr>\n",
       "      <th>спорт</th>\n",
       "      <td>2.967768e+09</td>\n",
       "      <td>7.104690e+08</td>\n",
       "      <td>3</td>\n",
       "      <td>6.933333</td>\n",
       "    </tr>\n",
       "    <tr>\n",
       "      <th>триллер</th>\n",
       "      <td>4.752538e+08</td>\n",
       "      <td>1.290961e+09</td>\n",
       "      <td>14</td>\n",
       "      <td>5.700000</td>\n",
       "    </tr>\n",
       "    <tr>\n",
       "      <th>ужасы</th>\n",
       "      <td>7.101232e+08</td>\n",
       "      <td>5.638776e+08</td>\n",
       "      <td>10</td>\n",
       "      <td>5.200000</td>\n",
       "    </tr>\n",
       "    <tr>\n",
       "      <th>фантастика</th>\n",
       "      <td>6.798828e+08</td>\n",
       "      <td>2.193101e+09</td>\n",
       "      <td>10</td>\n",
       "      <td>5.844444</td>\n",
       "    </tr>\n",
       "    <tr>\n",
       "      <th>фэнтези</th>\n",
       "      <td>9.958366e+08</td>\n",
       "      <td>2.340124e+09</td>\n",
       "      <td>11</td>\n",
       "      <td>6.090909</td>\n",
       "    </tr>\n",
       "  </tbody>\n",
       "</table>\n",
       "</div>"
      ],
      "text/plain": [
       "               box_office        budget ratings          \n",
       "                      sum           sum     len      mean\n",
       "main_genre                                               \n",
       "Неизвестно   1.480414e+09  9.429615e+08      15       NaN\n",
       "биография    5.168830e+08  5.289336e+08       3  6.900000\n",
       "боевик       3.993565e+08  6.034368e+08       5  6.340000\n",
       "военный      1.017670e+09  1.285907e+09       9  6.466667\n",
       "детектив     1.385475e+08  1.198222e+09       5  6.760000\n",
       "детский      3.013652e+06  1.838980e+08       4  7.125000\n",
       "драма        9.044681e+09  1.105189e+10      92  6.389011\n",
       "история      1.455468e+09  2.145062e+09       4  5.350000\n",
       "комедия      1.220155e+10  5.915587e+09      68  5.516176\n",
       "криминал     2.397939e+08  4.265948e+08       3  7.500000\n",
       "мелодрама    4.455495e+07  9.180053e+08      14  5.907143\n",
       "мультфильм   5.044931e+09  5.285499e+09      26  5.907692\n",
       "мюзикл       1.017050e+08  5.641975e+08       4  6.550000\n",
       "приключения  1.205597e+09  3.374742e+09       7  5.871429\n",
       "реальное ТВ  3.272110e+07  8.000000e+07       1  5.600000\n",
       "семейный     5.844247e+08  6.367998e+08       7  5.414286\n",
       "спорт        2.967768e+09  7.104690e+08       3  6.933333\n",
       "триллер      4.752538e+08  1.290961e+09      14  5.700000\n",
       "ужасы        7.101232e+08  5.638776e+08      10  5.200000\n",
       "фантастика   6.798828e+08  2.193101e+09      10  5.844444\n",
       "фэнтези      9.958366e+08  2.340124e+09      11  6.090909"
      ]
     },
     "execution_count": 87,
     "metadata": {},
     "output_type": "execute_result"
    }
   ],
   "source": [
    "table_genre = pd.pivot_table(mv_with_sup, \n",
    "                             index = 'main_genre', \n",
    "                             values=['box_office', 'budget', 'ratings'],\n",
    "                            aggfunc={'box_office': np.sum,\n",
    "                                    'budget':np.sum,\n",
    "                                    'ratings':[np.mean, len]})\n",
    "table_genre"
   ]
  },
  {
   "cell_type": "code",
   "execution_count": 88,
   "metadata": {},
   "outputs": [
    {
     "data": {
      "image/png": "[encoded data removed]",
      "text/plain": [
       "<Figure size 640x480 with 1 Axes>"
      ]
     },
     "metadata": {},
     "output_type": "display_data"
    },
    {
     "data": {
      "image/png": "[encoded data removed]",
      "text/plain": [
       "<Figure size 640x480 with 1 Axes>"
      ]
     },
     "metadata": {},
     "output_type": "display_data"
    }
   ],
   "source": [
    "df_by_year.sort_values(by='year').plot(kind='bar', grid=True,  y='sum');\n",
    "plt.title('Сумма сборов x10млрд.р.');\n",
    "df_by_year.sort_values(by='year').plot(kind='bar', grid=True, y='count');\n",
    "plt.title('Сумма фильмов выпущенных в прокат');"
   ]
  },
  {
   "cell_type": "markdown",
   "metadata": {
    "id": "V2gYwMcPgFyd"
   },
   "source": [
    "## **Общий вывод**"
   ]
  },
  {
   "cell_type": "markdown",
   "metadata": {
    "id": "AYRg3dzXgFye"
   },
   "source": [
    "**Отчет о проделанной работе**\n",
    "\n",
    "*Обьединение датафреймов*\n",
    "- Чтениче датафреймов\n",
    "- Подготовка датафреймов к слиянию \n",
    "    - Преобразование типа столбца по которому собираемся проводить слияние\n",
    "- Слияние датафреймов\n",
    "\n",
    "#### *Предобработка данных*\n",
    "- Проверка типов данных и дальнейшая их корректировка\n",
    "- Обработка пропущенных значений (В категорильных столбцах мы заменили пропуски на \"Неизвестные\" значения, для того чтобы в дальнейшем их сгруппировать для анализа)\n",
    "- Выявления явных и неявных дубликатов(удалено 670 строк с дубликатами, 1390 значений восстаовлено в столбце 'type', 57 значений восстановлено в столбце'production_country')\n",
    "\n",
    "#### *Исследовательский анализ и выводы*\n",
    "- Наиболее полные данные начали идти начиная с 2015 года.\n",
    "- Тренды по жанам которые мы наблюдаем это Драмы и Комедии."
   ]
  },
  {
   "cell_type": "markdown",
   "metadata": {},
   "source": [
    "*Влияние возрастного ограничения на сборы*\n",
    "\n",
    "- Фильмы с возрастным ограничением 16+ имеют самые высокие кассовые сборы, 74.5 млрд.р. при 783 фильмах.\n",
    "- Категория 18+ имеет самое большое кол-во фильмов выпущенных в прокат, но по сборам она отсает на 84% или 3.4млрд.р. от категории 16+\n",
    "- Категории 6+ и 12+ имеют более стабильные а так же схожие данные по кол-ву и по суммам сборов\n",
    "- Фильмы категории 0+ начиная с 2017 года практически перестали выходить (11 фильмов за 3 года) из-за этого сумма сборов значительно ниже других категорий.\n",
    "\n",
    "*Вывод по возрастному ограничению:* Не смотря что из-года в год картина меняется, фильмы с возрастным ограничением до 18+ имеют лучшие кассовые сборы чем фильмы запрещенные для детей. Наиболее кассовые возрастные категории это 6+ и 12+"
   ]
  },
  {
   "cell_type": "markdown",
   "metadata": {},
   "source": [
    "**Исследовательский анализ фильмов получивших гос. поддержку**\n",
    "- Здесь мы взяли полный срез данных с гос. поддержкой за период с 2010 по 2019\n",
    "- Общая доля от гос. поддержки от общего бюджета составляет 45% или 18.8 млрд.р.(9%(3.65 млрд.р) из которых являются возвратными и 36%(15.15 млрд.р) безвозвратными)\n",
    "- Кассовые сборы суммарно на 2.9 млрд.р. меньше общего выделенного бюджета.\n",
    "- За этот период только в 2017 и 2018 году кассовые сборы превысили общий бюджет фильмов. Во все остальные года, кассовые сборы меньше общего бюджета.\n",
    "- 315 фильмов получили гос. поддержку. Но данные о кассовых сборах есть только у 301 фильма.\n",
    "- 66 фильмов собрали больше кассовых сборов чем общий бюджет, что составляет ~22% от суммы фильмов с  гос.поддержкой\n",
    "- в 2015 году кол-во фильмов которое получило гос поддержку, составило 75 что является максимальным значением за год.\n",
    "- Средний рейтинг фильмов с гос поддержкой ~ 6.2\n",
    "\n",
    "**Исследовательский анализ режисеров которые получили гос поддержку**\n"
   ]
  },
  {
   "cell_type": "markdown",
   "metadata": {},
   "source": [
    "- Не смотря на высокие рейтинги фильмов, большинство оказывается \"невыгодными\" так как сумма сборов меньше суммы общего бюджета"
   ]
  },
  {
   "cell_type": "markdown",
   "metadata": {},
   "source": [
    "- Давлетьяров, у которого 4 из 5 фильмов не окупились, но не смотря на это он имеет довольно неплохой рейтинг.\n",
    "- А если расмотреть Дьяченко, у которого 4 фильма окупились из 4 и средняя оценка 5.6, то нельзя сказать что если фильмы окупаются то имеют высокую оценку."
   ]
  },
  {
   "cell_type": "markdown",
   "metadata": {},
   "source": [
    "#### **Краткий вывод:**\n",
    "\n",
    "- Возрастное ограничение имеет непосредственное влияние на кассовые сборы\n",
    "- Не смотря на то что государство выделяет большую часть поддержки безвозвратно, нашему кинематографу довольно сложно живется, ведь суммарно общие кассовые сборы меньше общих бюджетов на 2.9 млрд.р.\n",
    "- Топ 5 режисеров которые провалили кассовые сборы, имеют оценку 6.5, такую же среднюю оценку имеют топ 5 режисеров с лучшими кассовыми сборами.\n",
    "- Как бы комично это не звучало, но 2 восходящих тренда в жанрах - это драма и комедия\n",
    "\n",
    "*Исследования кинемотографа очени интеренсые и имеют множетсво направлений. Здесь можно откопать очень много нового и интересного. Нужно только правильно сформировать гипотезу, визулизировать шаги и начать действовать. В процессе возникало желание углубиться в многие детали, например отследить взаимосвязь между общим бюджетом к рейтингу фильма и найти самые бюджетные фильмы с высоким рейтингом и т.п., но не уверен что мне хватило бы времени*"
   ]
  }
 ],
 "metadata": {
  "ExecuteTimeLog": [
   {
    "duration": 537,
    "start_time": "2021-07-07T10:12:08.634Z"
   },
   {
    "duration": 206,
    "start_time": "2021-07-07T10:12:30.191Z"
   },
   {
    "duration": 227,
    "start_time": "2021-07-07T10:12:33.078Z"
   },
   {
    "duration": 153,
    "start_time": "2021-07-07T10:13:42.146Z"
   },
   {
    "duration": 233,
    "start_time": "2021-07-07T10:30:09.252Z"
   },
   {
    "duration": 19,
    "start_time": "2021-07-07T10:30:15.577Z"
   },
   {
    "duration": 18,
    "start_time": "2021-07-07T10:30:57.348Z"
   },
   {
    "duration": 19,
    "start_time": "2021-07-07T10:31:17.452Z"
   },
   {
    "duration": 21,
    "start_time": "2021-07-07T10:31:32.227Z"
   },
   {
    "duration": 27,
    "start_time": "2021-07-07T10:32:06.588Z"
   },
   {
    "duration": 23,
    "start_time": "2021-07-07T10:32:43.645Z"
   },
   {
    "duration": 24,
    "start_time": "2021-07-07T10:33:06.948Z"
   },
   {
    "duration": 7,
    "start_time": "2021-07-07T10:33:28.558Z"
   },
   {
    "duration": 23,
    "start_time": "2021-07-07T10:33:43.761Z"
   },
   {
    "duration": 28,
    "start_time": "2021-07-07T10:34:13.466Z"
   },
   {
    "duration": 23,
    "start_time": "2021-07-07T10:35:56.187Z"
   },
   {
    "duration": 6,
    "start_time": "2021-07-07T10:36:48.182Z"
   },
   {
    "duration": 14,
    "start_time": "2021-07-07T10:37:49.641Z"
   },
   {
    "duration": 6,
    "start_time": "2021-07-07T10:38:06.694Z"
   },
   {
    "duration": 6,
    "start_time": "2021-07-07T10:38:13.493Z"
   },
   {
    "duration": 19,
    "start_time": "2021-07-07T10:38:44.056Z"
   },
   {
    "duration": 186,
    "start_time": "2021-07-07T10:48:35.618Z"
   },
   {
    "duration": 24,
    "start_time": "2021-07-07T10:48:51.498Z"
   },
   {
    "duration": 20,
    "start_time": "2021-07-07T10:48:59.415Z"
   },
   {
    "duration": 20,
    "start_time": "2021-07-07T10:53:02.195Z"
   },
   {
    "duration": 188,
    "start_time": "2021-07-07T10:54:40.486Z"
   },
   {
    "duration": 115,
    "start_time": "2021-07-07T10:54:52.552Z"
   },
   {
    "duration": 214,
    "start_time": "2021-07-07T10:54:56.354Z"
   },
   {
    "duration": 47,
    "start_time": "2021-07-07T10:54:58.282Z"
   },
   {
    "duration": 217,
    "start_time": "2021-07-07T10:59:16.075Z"
   },
   {
    "duration": 51,
    "start_time": "2021-07-07T10:59:16.243Z"
   },
   {
    "duration": 578,
    "start_time": "2021-07-07T10:59:18.774Z"
   },
   {
    "duration": 161,
    "start_time": "2021-07-07T10:59:21.238Z"
   },
   {
    "duration": 59,
    "start_time": "2021-07-07T10:59:21.453Z"
   },
   {
    "duration": 3,
    "start_time": "2021-07-07T11:02:10.786Z"
   },
   {
    "duration": 13,
    "start_time": "2021-07-07T11:07:07.722Z"
   },
   {
    "duration": 26,
    "start_time": "2021-07-07T11:07:17.958Z"
   },
   {
    "duration": 22,
    "start_time": "2021-07-07T11:08:17.939Z"
   },
   {
    "duration": 212,
    "start_time": "2021-07-07T11:08:19.665Z"
   },
   {
    "duration": 21,
    "start_time": "2021-07-07T11:08:29.945Z"
   },
   {
    "duration": 31,
    "start_time": "2021-07-07T11:08:38.899Z"
   },
   {
    "duration": 23,
    "start_time": "2021-07-07T11:08:54.527Z"
   },
   {
    "duration": 8,
    "start_time": "2021-07-07T11:18:55.974Z"
   },
   {
    "duration": 7,
    "start_time": "2021-07-07T11:19:03.639Z"
   },
   {
    "duration": 7,
    "start_time": "2021-07-07T11:19:06.444Z"
   },
   {
    "duration": 578,
    "start_time": "2021-07-07T12:09:59.576Z"
   },
   {
    "duration": 195,
    "start_time": "2021-07-07T12:10:00.156Z"
   },
   {
    "duration": 115,
    "start_time": "2021-07-07T12:10:00.353Z"
   },
   {
    "duration": 3,
    "start_time": "2021-07-07T12:10:00.470Z"
   },
   {
    "duration": 32,
    "start_time": "2021-07-07T12:10:00.474Z"
   },
   {
    "duration": 23,
    "start_time": "2021-07-07T12:10:00.508Z"
   },
   {
    "duration": 19,
    "start_time": "2021-07-07T12:10:00.533Z"
   },
   {
    "duration": 44,
    "start_time": "2021-07-07T12:10:00.553Z"
   },
   {
    "duration": 7,
    "start_time": "2021-07-07T12:10:00.600Z"
   },
   {
    "duration": 7,
    "start_time": "2021-07-07T12:19:45.761Z"
   },
   {
    "duration": 21,
    "start_time": "2021-07-07T12:21:35.482Z"
   },
   {
    "duration": 21,
    "start_time": "2021-07-07T12:29:23.569Z"
   },
   {
    "duration": 525,
    "start_time": "2021-07-07T12:29:44.542Z"
   },
   {
    "duration": 214,
    "start_time": "2021-07-07T12:29:45.069Z"
   },
   {
    "duration": 92,
    "start_time": "2021-07-07T12:29:45.285Z"
   },
   {
    "duration": 3,
    "start_time": "2021-07-07T12:29:45.379Z"
   },
   {
    "duration": 28,
    "start_time": "2021-07-07T12:29:45.384Z"
   },
   {
    "duration": 23,
    "start_time": "2021-07-07T12:29:45.413Z"
   },
   {
    "duration": 21,
    "start_time": "2021-07-07T12:29:45.437Z"
   },
   {
    "duration": 41,
    "start_time": "2021-07-07T12:29:45.460Z"
   },
   {
    "duration": 7,
    "start_time": "2021-07-07T12:29:45.502Z"
   },
   {
    "duration": 20,
    "start_time": "2021-07-07T12:29:45.511Z"
   },
   {
    "duration": 12,
    "start_time": "2021-07-07T12:34:02.800Z"
   },
   {
    "duration": 7,
    "start_time": "2021-07-07T12:35:10.479Z"
   },
   {
    "duration": 8,
    "start_time": "2021-07-07T12:35:22.440Z"
   },
   {
    "duration": 6,
    "start_time": "2021-07-07T12:35:35.649Z"
   },
   {
    "duration": 6,
    "start_time": "2021-07-07T12:35:43.107Z"
   },
   {
    "duration": 22,
    "start_time": "2021-07-07T12:38:03.029Z"
   },
   {
    "duration": 10,
    "start_time": "2021-07-07T12:38:06.592Z"
   },
   {
    "duration": 563,
    "start_time": "2021-07-07T12:38:46.493Z"
   },
   {
    "duration": 265,
    "start_time": "2021-07-07T12:38:47.058Z"
   },
   {
    "duration": 94,
    "start_time": "2021-07-07T12:38:47.325Z"
   },
   {
    "duration": 3,
    "start_time": "2021-07-07T12:38:47.422Z"
   },
   {
    "duration": 30,
    "start_time": "2021-07-07T12:38:47.427Z"
   },
   {
    "duration": 16,
    "start_time": "2021-07-07T12:38:53.305Z"
   },
   {
    "duration": 10,
    "start_time": "2021-07-07T12:38:53.499Z"
   },
   {
    "duration": 8,
    "start_time": "2021-07-07T12:39:48.161Z"
   },
   {
    "duration": 27,
    "start_time": "2021-07-07T12:41:17.629Z"
   },
   {
    "duration": 17,
    "start_time": "2021-07-07T12:41:17.867Z"
   },
   {
    "duration": 21,
    "start_time": "2021-07-07T12:41:19.310Z"
   },
   {
    "duration": 7,
    "start_time": "2021-07-07T12:41:19.544Z"
   },
   {
    "duration": 20,
    "start_time": "2021-07-07T12:41:20.504Z"
   },
   {
    "duration": 554,
    "start_time": "2021-07-07T12:56:23.696Z"
   },
   {
    "duration": 200,
    "start_time": "2021-07-07T12:56:25.234Z"
   },
   {
    "duration": 119,
    "start_time": "2021-07-07T12:56:25.480Z"
   },
   {
    "duration": 4,
    "start_time": "2021-07-07T12:56:25.762Z"
   },
   {
    "duration": 26,
    "start_time": "2021-07-07T12:56:27.172Z"
   },
   {
    "duration": 12,
    "start_time": "2021-07-07T12:56:29.051Z"
   },
   {
    "duration": 10,
    "start_time": "2021-07-07T12:56:29.291Z"
   },
   {
    "duration": 8,
    "start_time": "2021-07-07T12:56:29.623Z"
   },
   {
    "duration": 28,
    "start_time": "2021-07-07T12:56:32.137Z"
   },
   {
    "duration": 19,
    "start_time": "2021-07-07T12:56:39.785Z"
   },
   {
    "duration": 20,
    "start_time": "2021-07-07T12:56:44.297Z"
   },
   {
    "duration": 7,
    "start_time": "2021-07-07T12:56:45.392Z"
   },
   {
    "duration": 23,
    "start_time": "2021-07-07T12:56:46.615Z"
   },
   {
    "duration": 4,
    "start_time": "2021-07-07T12:57:06.625Z"
   },
   {
    "duration": 32,
    "start_time": "2021-07-07T12:57:36.690Z"
   },
   {
    "duration": 18,
    "start_time": "2021-07-07T12:58:00.149Z"
   },
   {
    "duration": 15,
    "start_time": "2021-07-07T12:59:16.793Z"
   },
   {
    "duration": 7,
    "start_time": "2021-07-07T13:19:22.624Z"
   },
   {
    "duration": 6,
    "start_time": "2021-07-07T14:17:33.527Z"
   },
   {
    "duration": 9,
    "start_time": "2021-07-07T14:17:48.409Z"
   },
   {
    "duration": 8,
    "start_time": "2021-07-07T14:20:13.060Z"
   },
   {
    "duration": 8,
    "start_time": "2021-07-07T14:20:37.957Z"
   },
   {
    "duration": 8,
    "start_time": "2021-07-07T14:20:47.470Z"
   },
   {
    "duration": 9,
    "start_time": "2021-07-07T14:20:54.503Z"
   },
   {
    "duration": 10,
    "start_time": "2021-07-07T14:28:57.763Z"
   },
   {
    "duration": 3,
    "start_time": "2021-07-07T14:30:23.377Z"
   },
   {
    "duration": 3,
    "start_time": "2021-07-07T14:30:36.489Z"
   },
   {
    "duration": 103,
    "start_time": "2021-07-07T14:30:52.351Z"
   },
   {
    "duration": 8,
    "start_time": "2021-07-07T14:30:54.763Z"
   },
   {
    "duration": 8,
    "start_time": "2021-07-07T14:31:29.301Z"
   },
   {
    "duration": 13,
    "start_time": "2021-07-07T14:31:44.516Z"
   },
   {
    "duration": 7,
    "start_time": "2021-07-07T14:33:10.972Z"
   },
   {
    "duration": 11,
    "start_time": "2021-07-07T14:33:27.780Z"
   },
   {
    "duration": 8,
    "start_time": "2021-07-07T14:34:44.588Z"
   },
   {
    "duration": 57,
    "start_time": "2021-07-07T14:35:59.042Z"
   },
   {
    "duration": 3,
    "start_time": "2021-07-07T14:36:28.168Z"
   },
   {
    "duration": 5,
    "start_time": "2021-07-07T14:36:46.254Z"
   },
   {
    "duration": 4,
    "start_time": "2021-07-07T14:36:52.714Z"
   },
   {
    "duration": 3,
    "start_time": "2021-07-07T14:36:56.612Z"
   },
   {
    "duration": 4,
    "start_time": "2021-07-07T14:36:57.049Z"
   },
   {
    "duration": 3,
    "start_time": "2021-07-07T14:39:21.214Z"
   },
   {
    "duration": 7,
    "start_time": "2021-07-07T14:39:52.406Z"
   },
   {
    "duration": 11,
    "start_time": "2021-07-07T14:39:58.576Z"
   },
   {
    "duration": 9,
    "start_time": "2021-07-07T14:40:26.301Z"
   },
   {
    "duration": 10,
    "start_time": "2021-07-07T14:40:31.704Z"
   },
   {
    "duration": 11,
    "start_time": "2021-07-07T14:40:36.249Z"
   },
   {
    "duration": 10,
    "start_time": "2021-07-07T14:40:39.783Z"
   },
   {
    "duration": 9,
    "start_time": "2021-07-07T14:40:48.558Z"
   },
   {
    "duration": 10,
    "start_time": "2021-07-07T14:40:57.143Z"
   },
   {
    "duration": 9,
    "start_time": "2021-07-07T14:41:06.074Z"
   },
   {
    "duration": 4324,
    "start_time": "2021-07-07T14:41:22.004Z"
   },
   {
    "duration": 11,
    "start_time": "2021-07-07T14:41:33.392Z"
   },
   {
    "duration": 9,
    "start_time": "2021-07-07T14:41:39.288Z"
   },
   {
    "duration": 569,
    "start_time": "2021-07-07T14:42:14.387Z"
   },
   {
    "duration": 197,
    "start_time": "2021-07-07T14:42:14.959Z"
   },
   {
    "duration": 84,
    "start_time": "2021-07-07T14:42:16.052Z"
   },
   {
    "duration": 4,
    "start_time": "2021-07-07T14:42:16.900Z"
   },
   {
    "duration": 27,
    "start_time": "2021-07-07T14:42:19.898Z"
   },
   {
    "duration": 12,
    "start_time": "2021-07-07T14:42:21.577Z"
   },
   {
    "duration": 9,
    "start_time": "2021-07-07T14:42:21.813Z"
   },
   {
    "duration": 9,
    "start_time": "2021-07-07T14:42:22.569Z"
   },
   {
    "duration": 29,
    "start_time": "2021-07-07T14:42:25.837Z"
   },
   {
    "duration": 20,
    "start_time": "2021-07-07T14:42:27.003Z"
   },
   {
    "duration": 21,
    "start_time": "2021-07-07T14:42:28.767Z"
   },
   {
    "duration": 7,
    "start_time": "2021-07-07T14:42:29.838Z"
   },
   {
    "duration": 4,
    "start_time": "2021-07-07T14:43:25.493Z"
   },
   {
    "duration": 7,
    "start_time": "2021-07-07T14:43:26.573Z"
   },
   {
    "duration": 10,
    "start_time": "2021-07-07T14:43:31.639Z"
   },
   {
    "duration": 9,
    "start_time": "2021-07-07T14:43:32.046Z"
   },
   {
    "duration": 10,
    "start_time": "2021-07-07T14:43:33.301Z"
   },
   {
    "duration": 12,
    "start_time": "2021-07-07T14:43:33.658Z"
   },
   {
    "duration": 8,
    "start_time": "2021-07-07T14:43:34.552Z"
   },
   {
    "duration": 9,
    "start_time": "2021-07-07T14:43:35.058Z"
   },
   {
    "duration": 12,
    "start_time": "2021-07-07T14:43:35.914Z"
   },
   {
    "duration": 17,
    "start_time": "2021-07-07T14:45:34.368Z"
   },
   {
    "duration": 512,
    "start_time": "2021-07-07T14:51:58.236Z"
   },
   {
    "duration": 223,
    "start_time": "2021-07-07T14:51:58.750Z"
   },
   {
    "duration": 93,
    "start_time": "2021-07-07T14:51:58.977Z"
   },
   {
    "duration": 4,
    "start_time": "2021-07-07T14:51:59.071Z"
   },
   {
    "duration": 37,
    "start_time": "2021-07-07T14:51:59.077Z"
   },
   {
    "duration": 18,
    "start_time": "2021-07-07T14:51:59.116Z"
   },
   {
    "duration": 10,
    "start_time": "2021-07-07T14:51:59.137Z"
   },
   {
    "duration": 8,
    "start_time": "2021-07-07T14:51:59.149Z"
   },
   {
    "duration": 54,
    "start_time": "2021-07-07T14:51:59.158Z"
   },
   {
    "duration": 18,
    "start_time": "2021-07-07T14:51:59.213Z"
   },
   {
    "duration": 22,
    "start_time": "2021-07-07T14:51:59.232Z"
   },
   {
    "duration": 36,
    "start_time": "2021-07-07T14:51:59.255Z"
   },
   {
    "duration": 7,
    "start_time": "2021-07-07T14:51:59.293Z"
   },
   {
    "duration": 10,
    "start_time": "2021-07-07T14:51:59.302Z"
   },
   {
    "duration": 9,
    "start_time": "2021-07-07T14:51:59.313Z"
   },
   {
    "duration": 11,
    "start_time": "2021-07-07T14:51:59.324Z"
   },
   {
    "duration": 8,
    "start_time": "2021-07-07T14:51:59.337Z"
   },
   {
    "duration": 46,
    "start_time": "2021-07-07T14:51:59.347Z"
   },
   {
    "duration": 22,
    "start_time": "2021-07-07T14:51:59.395Z"
   },
   {
    "duration": 24,
    "start_time": "2021-07-07T14:57:32.911Z"
   },
   {
    "duration": 7,
    "start_time": "2021-07-07T14:58:22.070Z"
   },
   {
    "duration": 4,
    "start_time": "2021-07-07T14:59:11.239Z"
   },
   {
    "duration": 25,
    "start_time": "2021-07-07T15:07:22.208Z"
   },
   {
    "duration": 16,
    "start_time": "2021-07-07T15:08:25.560Z"
   },
   {
    "duration": 15,
    "start_time": "2021-07-07T15:08:40.647Z"
   },
   {
    "duration": 14,
    "start_time": "2021-07-07T15:08:46.669Z"
   },
   {
    "duration": 533,
    "start_time": "2021-07-07T15:18:07.440Z"
   },
   {
    "duration": 173,
    "start_time": "2021-07-07T15:18:07.974Z"
   },
   {
    "duration": 84,
    "start_time": "2021-07-07T15:18:08.149Z"
   },
   {
    "duration": 3,
    "start_time": "2021-07-07T15:18:08.235Z"
   },
   {
    "duration": 30,
    "start_time": "2021-07-07T15:18:08.240Z"
   },
   {
    "duration": 22,
    "start_time": "2021-07-07T15:18:08.272Z"
   },
   {
    "duration": 11,
    "start_time": "2021-07-07T15:18:08.295Z"
   },
   {
    "duration": 11,
    "start_time": "2021-07-07T15:18:08.309Z"
   },
   {
    "duration": 40,
    "start_time": "2021-07-07T15:18:08.322Z"
   },
   {
    "duration": 42,
    "start_time": "2021-07-07T15:18:08.364Z"
   },
   {
    "duration": 22,
    "start_time": "2021-07-07T15:18:08.408Z"
   },
   {
    "duration": 5,
    "start_time": "2021-07-07T15:18:08.432Z"
   },
   {
    "duration": 13,
    "start_time": "2021-07-07T15:18:08.439Z"
   },
   {
    "duration": 9,
    "start_time": "2021-07-07T15:18:08.454Z"
   },
   {
    "duration": 32,
    "start_time": "2021-07-07T15:18:08.465Z"
   },
   {
    "duration": 10,
    "start_time": "2021-07-07T15:18:08.501Z"
   },
   {
    "duration": 7,
    "start_time": "2021-07-07T15:18:08.513Z"
   },
   {
    "duration": 11,
    "start_time": "2021-07-07T15:18:08.521Z"
   },
   {
    "duration": 17,
    "start_time": "2021-07-07T15:18:08.534Z"
   },
   {
    "duration": 44,
    "start_time": "2021-07-07T15:18:08.553Z"
   },
   {
    "duration": 22,
    "start_time": "2021-07-07T15:18:08.599Z"
   },
   {
    "duration": 61,
    "start_time": "2021-07-07T15:18:08.622Z"
   },
   {
    "duration": 7,
    "start_time": "2021-07-07T15:18:39.457Z"
   },
   {
    "duration": 5,
    "start_time": "2021-07-07T16:05:17.020Z"
   },
   {
    "duration": 5,
    "start_time": "2021-07-07T16:51:28.794Z"
   },
   {
    "duration": 546,
    "start_time": "2021-07-07T16:52:26.306Z"
   },
   {
    "duration": 203,
    "start_time": "2021-07-07T16:52:27.523Z"
   },
   {
    "duration": 85,
    "start_time": "2021-07-07T16:52:27.736Z"
   },
   {
    "duration": 4,
    "start_time": "2021-07-07T16:52:27.899Z"
   },
   {
    "duration": 25,
    "start_time": "2021-07-07T16:52:28.674Z"
   },
   {
    "duration": 8,
    "start_time": "2021-07-07T16:52:32.956Z"
   },
   {
    "duration": 18,
    "start_time": "2021-07-07T16:52:35.616Z"
   },
   {
    "duration": 6,
    "start_time": "2021-07-07T16:52:36.913Z"
   },
   {
    "duration": 11,
    "start_time": "2021-07-07T16:52:40.258Z"
   },
   {
    "duration": 10,
    "start_time": "2021-07-07T16:52:46.251Z"
   },
   {
    "duration": 8,
    "start_time": "2021-07-07T16:52:47.182Z"
   },
   {
    "duration": 27,
    "start_time": "2021-07-07T16:53:20.391Z"
   },
   {
    "duration": 20,
    "start_time": "2021-07-07T16:53:22.022Z"
   },
   {
    "duration": 23,
    "start_time": "2021-07-07T16:53:23.690Z"
   },
   {
    "duration": 8,
    "start_time": "2021-07-07T16:53:24.261Z"
   },
   {
    "duration": 4,
    "start_time": "2021-07-07T16:53:38.733Z"
   },
   {
    "duration": 7,
    "start_time": "2021-07-07T16:53:40.445Z"
   },
   {
    "duration": 11,
    "start_time": "2021-07-07T16:53:41.348Z"
   },
   {
    "duration": 13,
    "start_time": "2021-07-07T16:53:45.250Z"
   },
   {
    "duration": 12,
    "start_time": "2021-07-07T16:53:45.467Z"
   },
   {
    "duration": 4,
    "start_time": "2021-07-07T16:55:32.704Z"
   },
   {
    "duration": 12,
    "start_time": "2021-07-07T16:55:49.012Z"
   },
   {
    "duration": 18,
    "start_time": "2021-07-07T16:55:49.547Z"
   },
   {
    "duration": 611,
    "start_time": "2021-07-07T16:58:35.156Z"
   },
   {
    "duration": 200,
    "start_time": "2021-07-07T16:58:35.770Z"
   },
   {
    "duration": 86,
    "start_time": "2021-07-07T16:58:35.972Z"
   },
   {
    "duration": 3,
    "start_time": "2021-07-07T16:58:36.060Z"
   },
   {
    "duration": 27,
    "start_time": "2021-07-07T16:58:36.065Z"
   },
   {
    "duration": 8,
    "start_time": "2021-07-07T16:58:36.094Z"
   },
   {
    "duration": 17,
    "start_time": "2021-07-07T16:58:36.103Z"
   },
   {
    "duration": 5,
    "start_time": "2021-07-07T16:58:36.123Z"
   },
   {
    "duration": 11,
    "start_time": "2021-07-07T16:58:36.130Z"
   },
   {
    "duration": 7,
    "start_time": "2021-07-07T16:58:36.143Z"
   },
   {
    "duration": 37,
    "start_time": "2021-07-07T16:58:36.152Z"
   },
   {
    "duration": 27,
    "start_time": "2021-07-07T16:58:36.191Z"
   },
   {
    "duration": 19,
    "start_time": "2021-07-07T16:58:36.219Z"
   },
   {
    "duration": 49,
    "start_time": "2021-07-07T16:58:36.240Z"
   },
   {
    "duration": 6,
    "start_time": "2021-07-07T16:58:36.291Z"
   },
   {
    "duration": 3,
    "start_time": "2021-07-07T16:58:36.299Z"
   },
   {
    "duration": 13,
    "start_time": "2021-07-07T16:58:36.304Z"
   },
   {
    "duration": 10,
    "start_time": "2021-07-07T16:58:36.319Z"
   },
   {
    "duration": 10,
    "start_time": "2021-07-07T16:58:36.331Z"
   },
   {
    "duration": 44,
    "start_time": "2021-07-07T16:58:36.343Z"
   },
   {
    "duration": 4,
    "start_time": "2021-07-07T16:58:36.388Z"
   },
   {
    "duration": 13,
    "start_time": "2021-07-07T16:58:36.394Z"
   },
   {
    "duration": 16,
    "start_time": "2021-07-07T16:58:36.410Z"
   },
   {
    "duration": 8,
    "start_time": "2021-07-07T17:02:31.629Z"
   },
   {
    "duration": 8,
    "start_time": "2021-07-07T17:02:34.308Z"
   },
   {
    "duration": 6,
    "start_time": "2021-07-07T17:05:13.483Z"
   },
   {
    "duration": 17,
    "start_time": "2021-07-07T17:05:20.606Z"
   },
   {
    "duration": 7,
    "start_time": "2021-07-07T17:05:34.638Z"
   },
   {
    "duration": 3,
    "start_time": "2021-07-07T17:06:31.883Z"
   },
   {
    "duration": 570,
    "start_time": "2021-07-07T17:06:37.165Z"
   },
   {
    "duration": 174,
    "start_time": "2021-07-07T17:06:37.737Z"
   },
   {
    "duration": 47,
    "start_time": "2021-07-07T17:06:37.913Z"
   },
   {
    "duration": 3,
    "start_time": "2021-07-07T17:06:37.962Z"
   },
   {
    "duration": 27,
    "start_time": "2021-07-07T17:06:37.967Z"
   },
   {
    "duration": 7,
    "start_time": "2021-07-07T17:06:37.996Z"
   },
   {
    "duration": 16,
    "start_time": "2021-07-07T17:06:38.005Z"
   },
   {
    "duration": 6,
    "start_time": "2021-07-07T17:06:38.024Z"
   },
   {
    "duration": 12,
    "start_time": "2021-07-07T17:06:38.031Z"
   },
   {
    "duration": 41,
    "start_time": "2021-07-07T17:06:38.045Z"
   },
   {
    "duration": 8,
    "start_time": "2021-07-07T17:06:38.088Z"
   },
   {
    "duration": 26,
    "start_time": "2021-07-07T17:06:38.098Z"
   },
   {
    "duration": 17,
    "start_time": "2021-07-07T17:06:38.126Z"
   },
   {
    "duration": 43,
    "start_time": "2021-07-07T17:06:38.144Z"
   },
   {
    "duration": 6,
    "start_time": "2021-07-07T17:06:38.188Z"
   },
   {
    "duration": 5,
    "start_time": "2021-07-07T17:06:38.195Z"
   },
   {
    "duration": 9,
    "start_time": "2021-07-07T17:06:38.201Z"
   },
   {
    "duration": 12,
    "start_time": "2021-07-07T17:06:38.212Z"
   },
   {
    "duration": 11,
    "start_time": "2021-07-07T17:06:38.226Z"
   },
   {
    "duration": 47,
    "start_time": "2021-07-07T17:06:38.239Z"
   },
   {
    "duration": 4,
    "start_time": "2021-07-07T17:06:38.288Z"
   },
   {
    "duration": 13,
    "start_time": "2021-07-07T17:06:38.293Z"
   },
   {
    "duration": 5,
    "start_time": "2021-07-07T17:06:38.309Z"
   },
   {
    "duration": 18,
    "start_time": "2021-07-07T17:06:38.325Z"
   },
   {
    "duration": 20,
    "start_time": "2021-07-07T17:07:02.805Z"
   },
   {
    "duration": 19,
    "start_time": "2021-07-07T17:07:08.527Z"
   },
   {
    "duration": 19,
    "start_time": "2021-07-07T17:07:12.758Z"
   },
   {
    "duration": 22,
    "start_time": "2021-07-07T17:07:17.497Z"
   },
   {
    "duration": 19,
    "start_time": "2021-07-07T17:07:19.645Z"
   },
   {
    "duration": 10,
    "start_time": "2021-07-07T17:07:34.239Z"
   },
   {
    "duration": 17,
    "start_time": "2021-07-07T17:07:54.144Z"
   },
   {
    "duration": 14,
    "start_time": "2021-07-07T17:08:14.357Z"
   },
   {
    "duration": 616,
    "start_time": "2021-07-07T17:08:45.254Z"
   },
   {
    "duration": 178,
    "start_time": "2021-07-07T17:08:45.872Z"
   },
   {
    "duration": 60,
    "start_time": "2021-07-07T17:08:46.054Z"
   },
   {
    "duration": 3,
    "start_time": "2021-07-07T17:08:46.116Z"
   },
   {
    "duration": 26,
    "start_time": "2021-07-07T17:08:46.121Z"
   },
   {
    "duration": 7,
    "start_time": "2021-07-07T17:08:46.149Z"
   },
   {
    "duration": 17,
    "start_time": "2021-07-07T17:08:46.158Z"
   },
   {
    "duration": 14,
    "start_time": "2021-07-07T17:08:46.176Z"
   },
   {
    "duration": 17,
    "start_time": "2021-07-07T17:08:46.193Z"
   },
   {
    "duration": 9,
    "start_time": "2021-07-07T17:08:46.211Z"
   },
   {
    "duration": 21,
    "start_time": "2021-07-07T17:08:46.221Z"
   },
   {
    "duration": 49,
    "start_time": "2021-07-07T17:08:46.244Z"
   },
   {
    "duration": 24,
    "start_time": "2021-07-07T17:08:46.295Z"
   },
   {
    "duration": 22,
    "start_time": "2021-07-07T17:08:46.321Z"
   },
   {
    "duration": 6,
    "start_time": "2021-07-07T17:08:46.345Z"
   },
   {
    "duration": 5,
    "start_time": "2021-07-07T17:08:46.353Z"
   },
   {
    "duration": 13,
    "start_time": "2021-07-07T17:08:46.386Z"
   },
   {
    "duration": 12,
    "start_time": "2021-07-07T17:08:46.402Z"
   },
   {
    "duration": 10,
    "start_time": "2021-07-07T17:08:46.415Z"
   },
   {
    "duration": 7,
    "start_time": "2021-07-07T17:08:46.427Z"
   },
   {
    "duration": 8,
    "start_time": "2021-07-07T17:08:46.435Z"
   },
   {
    "duration": 68,
    "start_time": "2021-07-07T17:08:46.446Z"
   },
   {
    "duration": 13,
    "start_time": "2021-07-07T17:08:46.516Z"
   },
   {
    "duration": 78,
    "start_time": "2021-07-07T17:08:46.530Z"
   },
   {
    "duration": 40,
    "start_time": "2021-07-07T17:09:08.185Z"
   },
   {
    "duration": 16,
    "start_time": "2021-07-07T17:09:19.324Z"
   },
   {
    "duration": 21,
    "start_time": "2021-07-07T17:09:23.290Z"
   },
   {
    "duration": 13,
    "start_time": "2021-07-07T17:09:54.812Z"
   },
   {
    "duration": 13,
    "start_time": "2021-07-07T17:10:02.039Z"
   },
   {
    "duration": 10,
    "start_time": "2021-07-07T17:10:29.632Z"
   },
   {
    "duration": 13,
    "start_time": "2021-07-07T17:10:52.372Z"
   },
   {
    "duration": 13,
    "start_time": "2021-07-07T17:11:17.270Z"
   },
   {
    "duration": 13,
    "start_time": "2021-07-07T17:14:59.284Z"
   },
   {
    "duration": 547,
    "start_time": "2021-07-07T17:18:52.403Z"
   },
   {
    "duration": 163,
    "start_time": "2021-07-07T17:18:52.952Z"
   },
   {
    "duration": 44,
    "start_time": "2021-07-07T17:18:53.117Z"
   },
   {
    "duration": 3,
    "start_time": "2021-07-07T17:18:53.162Z"
   },
   {
    "duration": 26,
    "start_time": "2021-07-07T17:18:53.167Z"
   },
   {
    "duration": 6,
    "start_time": "2021-07-07T17:18:53.195Z"
   },
   {
    "duration": 15,
    "start_time": "2021-07-07T17:18:53.203Z"
   },
   {
    "duration": 5,
    "start_time": "2021-07-07T17:18:53.220Z"
   },
   {
    "duration": 11,
    "start_time": "2021-07-07T17:18:53.228Z"
   },
   {
    "duration": 9,
    "start_time": "2021-07-07T17:18:53.241Z"
   },
   {
    "duration": 41,
    "start_time": "2021-07-07T17:18:53.252Z"
   },
   {
    "duration": 33,
    "start_time": "2021-07-07T17:18:53.295Z"
   },
   {
    "duration": 19,
    "start_time": "2021-07-07T17:18:53.330Z"
   },
   {
    "duration": 49,
    "start_time": "2021-07-07T17:18:53.350Z"
   },
   {
    "duration": 5,
    "start_time": "2021-07-07T17:18:53.401Z"
   },
   {
    "duration": 5,
    "start_time": "2021-07-07T17:18:53.408Z"
   },
   {
    "duration": 11,
    "start_time": "2021-07-07T17:18:53.414Z"
   },
   {
    "duration": 9,
    "start_time": "2021-07-07T17:18:53.427Z"
   },
   {
    "duration": 10,
    "start_time": "2021-07-07T17:18:53.437Z"
   },
   {
    "duration": 39,
    "start_time": "2021-07-07T17:18:53.448Z"
   },
   {
    "duration": 26,
    "start_time": "2021-07-07T17:18:55.799Z"
   },
   {
    "duration": 598,
    "start_time": "2021-07-07T17:20:17.862Z"
   },
   {
    "duration": 161,
    "start_time": "2021-07-07T17:20:18.462Z"
   },
   {
    "duration": 45,
    "start_time": "2021-07-07T17:20:18.626Z"
   },
   {
    "duration": 4,
    "start_time": "2021-07-07T17:20:18.673Z"
   },
   {
    "duration": 38,
    "start_time": "2021-07-07T17:20:26.877Z"
   },
   {
    "duration": 7,
    "start_time": "2021-07-07T17:20:37.405Z"
   },
   {
    "duration": 19,
    "start_time": "2021-07-07T17:20:51.534Z"
   },
   {
    "duration": 5,
    "start_time": "2021-07-07T17:20:57.228Z"
   },
   {
    "duration": 7,
    "start_time": "2021-07-07T17:21:08.235Z"
   },
   {
    "duration": 19,
    "start_time": "2021-07-07T17:21:42.158Z"
   },
   {
    "duration": 14,
    "start_time": "2021-07-07T17:21:50.225Z"
   },
   {
    "duration": 22,
    "start_time": "2021-07-07T17:22:54.104Z"
   },
   {
    "duration": 5,
    "start_time": "2021-07-07T17:22:56.371Z"
   },
   {
    "duration": 14,
    "start_time": "2021-07-07T17:22:58.316Z"
   },
   {
    "duration": 5,
    "start_time": "2021-07-07T17:22:58.493Z"
   },
   {
    "duration": 35,
    "start_time": "2021-07-07T17:22:59.666Z"
   },
   {
    "duration": 6,
    "start_time": "2021-07-07T17:23:02.410Z"
   },
   {
    "duration": 611,
    "start_time": "2021-07-07T17:24:59.664Z"
   },
   {
    "duration": 178,
    "start_time": "2021-07-07T17:25:01.945Z"
   },
   {
    "duration": 47,
    "start_time": "2021-07-07T17:25:02.125Z"
   },
   {
    "duration": 2,
    "start_time": "2021-07-07T17:25:07.903Z"
   },
   {
    "duration": 254,
    "start_time": "2021-07-07T17:25:08.232Z"
   },
   {
    "duration": 182,
    "start_time": "2021-07-07T17:25:08.671Z"
   },
   {
    "duration": 6,
    "start_time": "2021-07-07T17:25:13.104Z"
   },
   {
    "duration": 36,
    "start_time": "2021-07-07T17:25:13.662Z"
   },
   {
    "duration": 7,
    "start_time": "2021-07-07T17:25:14.528Z"
   },
   {
    "duration": 24,
    "start_time": "2021-07-07T17:25:27.982Z"
   },
   {
    "duration": 3,
    "start_time": "2021-07-07T17:25:48.982Z"
   },
   {
    "duration": 165,
    "start_time": "2021-07-07T17:25:48.987Z"
   },
   {
    "duration": 50,
    "start_time": "2021-07-07T17:25:49.154Z"
   },
   {
    "duration": 4,
    "start_time": "2021-07-07T17:25:49.206Z"
   },
   {
    "duration": 26,
    "start_time": "2021-07-07T17:25:49.212Z"
   },
   {
    "duration": 7,
    "start_time": "2021-07-07T17:25:49.240Z"
   },
   {
    "duration": 16,
    "start_time": "2021-07-07T17:25:49.249Z"
   },
   {
    "duration": 22,
    "start_time": "2021-07-07T17:25:49.266Z"
   },
   {
    "duration": 16,
    "start_time": "2021-07-07T17:25:49.291Z"
   },
   {
    "duration": 9,
    "start_time": "2021-07-07T17:25:49.309Z"
   },
   {
    "duration": 7,
    "start_time": "2021-07-07T17:25:49.319Z"
   },
   {
    "duration": 28,
    "start_time": "2021-07-07T17:25:49.328Z"
   },
   {
    "duration": 44,
    "start_time": "2021-07-07T17:25:49.357Z"
   },
   {
    "duration": 22,
    "start_time": "2021-07-07T17:25:49.403Z"
   },
   {
    "duration": 7,
    "start_time": "2021-07-07T17:25:49.427Z"
   },
   {
    "duration": 3,
    "start_time": "2021-07-07T17:25:49.436Z"
   },
   {
    "duration": 44,
    "start_time": "2021-07-07T17:25:49.441Z"
   },
   {
    "duration": 12,
    "start_time": "2021-07-07T17:25:49.488Z"
   },
   {
    "duration": 13,
    "start_time": "2021-07-07T17:25:49.502Z"
   },
   {
    "duration": 10,
    "start_time": "2021-07-07T17:25:49.516Z"
   },
   {
    "duration": 62,
    "start_time": "2021-07-07T17:25:49.527Z"
   },
   {
    "duration": 26,
    "start_time": "2021-07-07T17:26:51.809Z"
   },
   {
    "duration": 26,
    "start_time": "2021-07-07T17:26:55.759Z"
   },
   {
    "duration": 26,
    "start_time": "2021-07-07T17:27:04.501Z"
   },
   {
    "duration": 25,
    "start_time": "2021-07-07T17:28:24.859Z"
   },
   {
    "duration": 21,
    "start_time": "2021-07-07T17:28:55.250Z"
   },
   {
    "duration": 21,
    "start_time": "2021-07-07T17:28:58.885Z"
   },
   {
    "duration": 7,
    "start_time": "2021-07-07T17:45:40.972Z"
   },
   {
    "duration": 13,
    "start_time": "2021-07-07T17:45:42.529Z"
   },
   {
    "duration": 27,
    "start_time": "2021-07-07T17:45:51.026Z"
   },
   {
    "duration": 518,
    "start_time": "2021-07-07T17:46:15.532Z"
   },
   {
    "duration": 235,
    "start_time": "2021-07-07T17:46:16.053Z"
   },
   {
    "duration": 80,
    "start_time": "2021-07-07T17:46:16.292Z"
   },
   {
    "duration": 5,
    "start_time": "2021-07-07T17:46:16.373Z"
   },
   {
    "duration": 26,
    "start_time": "2021-07-07T17:46:16.380Z"
   },
   {
    "duration": 7,
    "start_time": "2021-07-07T17:46:16.408Z"
   },
   {
    "duration": 16,
    "start_time": "2021-07-07T17:46:16.418Z"
   },
   {
    "duration": 5,
    "start_time": "2021-07-07T17:46:16.436Z"
   },
   {
    "duration": 13,
    "start_time": "2021-07-07T17:46:16.442Z"
   },
   {
    "duration": 35,
    "start_time": "2021-07-07T17:46:16.456Z"
   },
   {
    "duration": 8,
    "start_time": "2021-07-07T17:46:16.493Z"
   },
   {
    "duration": 28,
    "start_time": "2021-07-07T17:46:16.502Z"
   },
   {
    "duration": 17,
    "start_time": "2021-07-07T17:46:16.532Z"
   },
   {
    "duration": 44,
    "start_time": "2021-07-07T17:46:16.551Z"
   },
   {
    "duration": 6,
    "start_time": "2021-07-07T17:46:16.597Z"
   },
   {
    "duration": 4,
    "start_time": "2021-07-07T17:46:16.605Z"
   },
   {
    "duration": 9,
    "start_time": "2021-07-07T17:46:16.610Z"
   },
   {
    "duration": 9,
    "start_time": "2021-07-07T17:46:16.621Z"
   },
   {
    "duration": 10,
    "start_time": "2021-07-07T17:46:16.632Z"
   },
   {
    "duration": 43,
    "start_time": "2021-07-07T17:46:16.644Z"
   },
   {
    "duration": 26,
    "start_time": "2021-07-07T17:46:16.689Z"
   },
   {
    "duration": 19,
    "start_time": "2021-07-07T17:46:16.718Z"
   },
   {
    "duration": 8,
    "start_time": "2021-07-07T17:46:16.738Z"
   },
   {
    "duration": 43,
    "start_time": "2021-07-07T17:46:16.747Z"
   },
   {
    "duration": 19,
    "start_time": "2021-07-07T17:46:16.791Z"
   },
   {
    "duration": 9,
    "start_time": "2021-07-07T17:46:16.812Z"
   },
   {
    "duration": 60,
    "start_time": "2021-07-07T17:46:16.822Z"
   },
   {
    "duration": -8,
    "start_time": "2021-07-07T17:46:16.892Z"
   },
   {
    "duration": 12,
    "start_time": "2021-07-07T17:48:47.707Z"
   },
   {
    "duration": 553,
    "start_time": "2021-07-07T18:10:09.350Z"
   },
   {
    "duration": 230,
    "start_time": "2021-07-07T18:10:09.905Z"
   },
   {
    "duration": 97,
    "start_time": "2021-07-07T18:10:10.137Z"
   },
   {
    "duration": 5,
    "start_time": "2021-07-07T18:10:10.236Z"
   },
   {
    "duration": 29,
    "start_time": "2021-07-07T18:10:10.242Z"
   },
   {
    "duration": 7,
    "start_time": "2021-07-07T18:10:10.272Z"
   },
   {
    "duration": 15,
    "start_time": "2021-07-07T18:10:10.281Z"
   },
   {
    "duration": 4,
    "start_time": "2021-07-07T18:10:10.299Z"
   },
   {
    "duration": 14,
    "start_time": "2021-07-07T18:10:10.305Z"
   },
   {
    "duration": 8,
    "start_time": "2021-07-07T18:10:10.321Z"
   },
   {
    "duration": 8,
    "start_time": "2021-07-07T18:10:10.331Z"
   },
   {
    "duration": 56,
    "start_time": "2021-07-07T18:10:10.341Z"
   },
   {
    "duration": 19,
    "start_time": "2021-07-07T18:10:10.399Z"
   },
   {
    "duration": 23,
    "start_time": "2021-07-07T18:10:10.419Z"
   },
   {
    "duration": 6,
    "start_time": "2021-07-07T18:10:10.444Z"
   },
   {
    "duration": 9,
    "start_time": "2021-07-07T18:10:10.451Z"
   },
   {
    "duration": 30,
    "start_time": "2021-07-07T18:10:10.462Z"
   },
   {
    "duration": 9,
    "start_time": "2021-07-07T18:10:10.494Z"
   },
   {
    "duration": 14,
    "start_time": "2021-07-07T18:10:10.505Z"
   },
   {
    "duration": 7,
    "start_time": "2021-07-07T18:10:10.521Z"
   },
   {
    "duration": 26,
    "start_time": "2021-07-07T18:10:10.530Z"
   },
   {
    "duration": 44,
    "start_time": "2021-07-07T18:10:10.558Z"
   },
   {
    "duration": 7,
    "start_time": "2021-07-07T18:10:10.605Z"
   },
   {
    "duration": 11,
    "start_time": "2021-07-07T18:10:10.614Z"
   },
   {
    "duration": 19,
    "start_time": "2021-07-07T18:10:10.626Z"
   },
   {
    "duration": 44,
    "start_time": "2021-07-07T18:10:10.646Z"
   },
   {
    "duration": 516,
    "start_time": "2021-07-07T18:14:00.826Z"
   },
   {
    "duration": 230,
    "start_time": "2021-07-07T18:14:01.344Z"
   },
   {
    "duration": 105,
    "start_time": "2021-07-07T18:14:01.576Z"
   },
   {
    "duration": 5,
    "start_time": "2021-07-07T18:14:01.683Z"
   },
   {
    "duration": 46,
    "start_time": "2021-07-07T18:14:01.690Z"
   },
   {
    "duration": 7,
    "start_time": "2021-07-07T18:14:01.738Z"
   },
   {
    "duration": 20,
    "start_time": "2021-07-07T18:14:01.747Z"
   },
   {
    "duration": 16,
    "start_time": "2021-07-07T18:14:01.769Z"
   },
   {
    "duration": 14,
    "start_time": "2021-07-07T18:14:01.787Z"
   },
   {
    "duration": 15,
    "start_time": "2021-07-07T18:14:01.803Z"
   },
   {
    "duration": 12,
    "start_time": "2021-07-07T18:14:01.820Z"
   },
   {
    "duration": 35,
    "start_time": "2021-07-07T18:14:01.833Z"
   },
   {
    "duration": 31,
    "start_time": "2021-07-07T18:14:01.869Z"
   },
   {
    "duration": 37,
    "start_time": "2021-07-07T18:14:01.902Z"
   },
   {
    "duration": 8,
    "start_time": "2021-07-07T18:14:01.942Z"
   },
   {
    "duration": 16,
    "start_time": "2021-07-07T18:14:01.952Z"
   },
   {
    "duration": 13,
    "start_time": "2021-07-07T18:14:01.970Z"
   },
   {
    "duration": 32,
    "start_time": "2021-07-07T18:14:01.985Z"
   },
   {
    "duration": 11,
    "start_time": "2021-07-07T18:14:02.019Z"
   },
   {
    "duration": 22,
    "start_time": "2021-07-07T18:14:02.031Z"
   },
   {
    "duration": 27,
    "start_time": "2021-07-07T18:14:02.055Z"
   },
   {
    "duration": 18,
    "start_time": "2021-07-07T18:14:02.084Z"
   },
   {
    "duration": 18,
    "start_time": "2021-07-07T18:14:02.106Z"
   },
   {
    "duration": 11,
    "start_time": "2021-07-07T18:14:02.126Z"
   },
   {
    "duration": 21,
    "start_time": "2021-07-07T18:14:02.138Z"
   },
   {
    "duration": 32,
    "start_time": "2021-07-07T18:14:02.161Z"
   },
   {
    "duration": 28,
    "start_time": "2021-07-07T18:14:44.295Z"
   },
   {
    "duration": 6,
    "start_time": "2021-07-07T18:15:05.834Z"
   },
   {
    "duration": 511,
    "start_time": "2021-07-07T18:15:41.541Z"
   },
   {
    "duration": 183,
    "start_time": "2021-07-07T18:15:42.054Z"
   },
   {
    "duration": 50,
    "start_time": "2021-07-07T18:15:42.239Z"
   },
   {
    "duration": 5,
    "start_time": "2021-07-07T18:15:42.291Z"
   },
   {
    "duration": 48,
    "start_time": "2021-07-07T18:15:42.297Z"
   },
   {
    "duration": 8,
    "start_time": "2021-07-07T18:15:42.346Z"
   },
   {
    "duration": 17,
    "start_time": "2021-07-07T18:15:42.356Z"
   },
   {
    "duration": 15,
    "start_time": "2021-07-07T18:15:42.375Z"
   },
   {
    "duration": 12,
    "start_time": "2021-07-07T18:15:42.392Z"
   },
   {
    "duration": 7,
    "start_time": "2021-07-07T18:15:42.406Z"
   },
   {
    "duration": 7,
    "start_time": "2021-07-07T18:15:42.415Z"
   },
   {
    "duration": 29,
    "start_time": "2021-07-07T18:15:42.423Z"
   },
   {
    "duration": 43,
    "start_time": "2021-07-07T18:15:42.453Z"
   },
   {
    "duration": 18,
    "start_time": "2021-07-07T18:15:42.497Z"
   },
   {
    "duration": 6,
    "start_time": "2021-07-07T18:15:42.516Z"
   },
   {
    "duration": 3,
    "start_time": "2021-07-07T18:15:42.523Z"
   },
   {
    "duration": 18,
    "start_time": "2021-07-07T18:15:42.528Z"
   },
   {
    "duration": 10,
    "start_time": "2021-07-07T18:15:42.547Z"
   },
   {
    "duration": 36,
    "start_time": "2021-07-07T18:15:42.559Z"
   },
   {
    "duration": 8,
    "start_time": "2021-07-07T18:15:42.597Z"
   },
   {
    "duration": 28,
    "start_time": "2021-07-07T18:15:42.606Z"
   },
   {
    "duration": 52,
    "start_time": "2021-07-07T18:15:42.635Z"
   },
   {
    "duration": 7,
    "start_time": "2021-07-07T18:15:42.690Z"
   },
   {
    "duration": 10,
    "start_time": "2021-07-07T18:15:42.699Z"
   },
   {
    "duration": 19,
    "start_time": "2021-07-07T18:15:42.711Z"
   },
   {
    "duration": 9,
    "start_time": "2021-07-07T18:15:42.732Z"
   },
   {
    "duration": 5,
    "start_time": "2021-07-07T18:15:42.743Z"
   },
   {
    "duration": 1450,
    "start_time": "2021-07-07T18:15:51.984Z"
   },
   {
    "duration": 161,
    "start_time": "2021-07-07T18:15:53.435Z"
   },
   {
    "duration": 124,
    "start_time": "2021-07-07T18:15:53.598Z"
   },
   {
    "duration": 5,
    "start_time": "2021-07-07T18:15:53.724Z"
   },
   {
    "duration": 34,
    "start_time": "2021-07-07T18:15:53.730Z"
   },
   {
    "duration": 7,
    "start_time": "2021-07-07T18:15:53.765Z"
   },
   {
    "duration": 15,
    "start_time": "2021-07-07T18:15:53.773Z"
   },
   {
    "duration": 5,
    "start_time": "2021-07-07T18:15:53.791Z"
   },
   {
    "duration": 19,
    "start_time": "2021-07-07T18:15:53.798Z"
   },
   {
    "duration": 9,
    "start_time": "2021-07-07T18:15:53.818Z"
   },
   {
    "duration": 19,
    "start_time": "2021-07-07T18:15:53.828Z"
   },
   {
    "duration": 27,
    "start_time": "2021-07-07T18:15:53.848Z"
   },
   {
    "duration": 16,
    "start_time": "2021-07-07T18:15:53.884Z"
   },
   {
    "duration": 29,
    "start_time": "2021-07-07T18:15:53.901Z"
   },
   {
    "duration": 5,
    "start_time": "2021-07-07T18:15:53.932Z"
   },
   {
    "duration": 15,
    "start_time": "2021-07-07T18:15:53.939Z"
   },
   {
    "duration": 13,
    "start_time": "2021-07-07T18:15:53.956Z"
   },
   {
    "duration": 20,
    "start_time": "2021-07-07T18:15:53.971Z"
   },
   {
    "duration": 14,
    "start_time": "2021-07-07T18:15:53.992Z"
   },
   {
    "duration": 9,
    "start_time": "2021-07-07T18:15:54.009Z"
   },
   {
    "duration": 28,
    "start_time": "2021-07-07T18:15:54.020Z"
   },
   {
    "duration": 50,
    "start_time": "2021-07-07T18:15:54.051Z"
   },
   {
    "duration": 8,
    "start_time": "2021-07-07T18:15:54.105Z"
   },
   {
    "duration": 11,
    "start_time": "2021-07-07T18:15:54.115Z"
   },
   {
    "duration": 20,
    "start_time": "2021-07-07T18:15:54.128Z"
   },
   {
    "duration": 13,
    "start_time": "2021-07-07T18:15:54.184Z"
   },
   {
    "duration": 7,
    "start_time": "2021-07-07T18:15:54.199Z"
   },
   {
    "duration": 7,
    "start_time": "2021-07-07T18:17:08.042Z"
   },
   {
    "duration": 8,
    "start_time": "2021-07-07T18:17:21.008Z"
   },
   {
    "duration": 7,
    "start_time": "2021-07-07T18:17:29.003Z"
   },
   {
    "duration": 8,
    "start_time": "2021-07-07T18:17:32.492Z"
   },
   {
    "duration": 9,
    "start_time": "2021-07-07T18:17:41.758Z"
   },
   {
    "duration": 255,
    "start_time": "2021-07-07T18:20:20.897Z"
   },
   {
    "duration": 173,
    "start_time": "2021-07-07T18:20:26.636Z"
   },
   {
    "duration": 7,
    "start_time": "2021-07-07T18:21:47.164Z"
   },
   {
    "duration": 254,
    "start_time": "2021-07-07T18:23:08.703Z"
   },
   {
    "duration": 21,
    "start_time": "2021-07-07T18:23:22.506Z"
   },
   {
    "duration": 315,
    "start_time": "2021-07-07T18:25:54.801Z"
   },
   {
    "duration": 34,
    "start_time": "2021-07-07T18:26:51.817Z"
   },
   {
    "duration": 327,
    "start_time": "2021-07-07T18:26:56.147Z"
   },
   {
    "duration": 342,
    "start_time": "2021-07-07T18:27:15.887Z"
   },
   {
    "duration": 302,
    "start_time": "2021-07-07T18:28:18.569Z"
   },
   {
    "duration": 226,
    "start_time": "2021-07-07T18:29:20.879Z"
   },
   {
    "duration": 207,
    "start_time": "2021-07-07T18:29:58.114Z"
   },
   {
    "duration": 140,
    "start_time": "2021-07-07T18:32:04.372Z"
   },
   {
    "duration": 158,
    "start_time": "2021-07-07T18:32:32.508Z"
   },
   {
    "duration": 145,
    "start_time": "2021-07-07T18:32:41.365Z"
   },
   {
    "duration": 132,
    "start_time": "2021-07-07T18:32:45.199Z"
   },
   {
    "duration": 11,
    "start_time": "2021-07-07T18:35:24.679Z"
   },
   {
    "duration": 268,
    "start_time": "2021-07-07T18:36:16.145Z"
   },
   {
    "duration": 227,
    "start_time": "2021-07-07T18:37:04.918Z"
   },
   {
    "duration": 3,
    "start_time": "2021-07-07T18:37:33.012Z"
   },
   {
    "duration": 671,
    "start_time": "2021-07-07T18:37:38.295Z"
   },
   {
    "duration": 54,
    "start_time": "2021-07-07T18:37:53.406Z"
   },
   {
    "duration": 631,
    "start_time": "2021-07-07T18:37:56.463Z"
   },
   {
    "duration": 19,
    "start_time": "2021-07-07T18:39:40.535Z"
   },
   {
    "duration": 20,
    "start_time": "2021-07-07T18:40:12.236Z"
   },
   {
    "duration": 633,
    "start_time": "2021-07-07T18:42:00.398Z"
   },
   {
    "duration": 218,
    "start_time": "2021-07-07T18:42:01.033Z"
   },
   {
    "duration": 49,
    "start_time": "2021-07-07T18:42:01.253Z"
   },
   {
    "duration": 5,
    "start_time": "2021-07-07T18:42:01.303Z"
   },
   {
    "duration": 27,
    "start_time": "2021-07-07T18:42:01.310Z"
   },
   {
    "duration": 8,
    "start_time": "2021-07-07T18:42:01.339Z"
   },
   {
    "duration": 20,
    "start_time": "2021-07-07T18:42:01.348Z"
   },
   {
    "duration": 6,
    "start_time": "2021-07-07T18:42:01.386Z"
   },
   {
    "duration": 16,
    "start_time": "2021-07-07T18:42:01.394Z"
   },
   {
    "duration": 9,
    "start_time": "2021-07-07T18:42:01.411Z"
   },
   {
    "duration": 11,
    "start_time": "2021-07-07T18:42:01.421Z"
   },
   {
    "duration": 31,
    "start_time": "2021-07-07T18:42:01.434Z"
   },
   {
    "duration": 18,
    "start_time": "2021-07-07T18:42:01.485Z"
   },
   {
    "duration": 23,
    "start_time": "2021-07-07T18:42:01.505Z"
   },
   {
    "duration": 6,
    "start_time": "2021-07-07T18:42:01.530Z"
   },
   {
    "duration": 10,
    "start_time": "2021-07-07T18:42:01.538Z"
   },
   {
    "duration": 13,
    "start_time": "2021-07-07T18:42:01.550Z"
   },
   {
    "duration": 24,
    "start_time": "2021-07-07T18:42:01.564Z"
   },
   {
    "duration": 20,
    "start_time": "2021-07-07T18:42:01.590Z"
   },
   {
    "duration": 8,
    "start_time": "2021-07-07T18:42:01.611Z"
   },
   {
    "duration": 31,
    "start_time": "2021-07-07T18:42:01.620Z"
   },
   {
    "duration": 39,
    "start_time": "2021-07-07T18:42:01.653Z"
   },
   {
    "duration": 8,
    "start_time": "2021-07-07T18:42:01.696Z"
   },
   {
    "duration": 13,
    "start_time": "2021-07-07T18:42:01.705Z"
   },
   {
    "duration": 20,
    "start_time": "2021-07-07T18:42:01.720Z"
   },
   {
    "duration": 12,
    "start_time": "2021-07-07T18:42:01.741Z"
   },
   {
    "duration": 35,
    "start_time": "2021-07-07T18:42:01.755Z"
   },
   {
    "duration": 14,
    "start_time": "2021-07-07T18:42:01.792Z"
   },
   {
    "duration": 188,
    "start_time": "2021-07-07T18:42:01.808Z"
   },
   {
    "duration": 19,
    "start_time": "2021-07-07T18:42:01.998Z"
   },
   {
    "duration": 175,
    "start_time": "2021-07-07T18:42:02.019Z"
   },
   {
    "duration": 134,
    "start_time": "2021-07-07T18:42:02.196Z"
   },
   {
    "duration": 10,
    "start_time": "2021-07-07T18:42:02.331Z"
   },
   {
    "duration": 19,
    "start_time": "2021-07-07T18:42:02.343Z"
   },
   {
    "duration": 628,
    "start_time": "2021-07-07T18:46:30.701Z"
   },
   {
    "duration": 183,
    "start_time": "2021-07-07T18:46:31.331Z"
   },
   {
    "duration": 48,
    "start_time": "2021-07-07T18:46:31.516Z"
   },
   {
    "duration": 5,
    "start_time": "2021-07-07T18:46:31.566Z"
   },
   {
    "duration": 28,
    "start_time": "2021-07-07T18:46:31.572Z"
   },
   {
    "duration": 8,
    "start_time": "2021-07-07T18:46:31.602Z"
   },
   {
    "duration": 19,
    "start_time": "2021-07-07T18:46:31.611Z"
   },
   {
    "duration": 6,
    "start_time": "2021-07-07T18:46:31.633Z"
   },
   {
    "duration": 17,
    "start_time": "2021-07-07T18:46:31.642Z"
   },
   {
    "duration": 10,
    "start_time": "2021-07-07T18:46:31.684Z"
   },
   {
    "duration": 9,
    "start_time": "2021-07-07T18:46:31.695Z"
   },
   {
    "duration": 28,
    "start_time": "2021-07-07T18:46:31.705Z"
   },
   {
    "duration": 18,
    "start_time": "2021-07-07T18:46:31.735Z"
   },
   {
    "duration": 48,
    "start_time": "2021-07-07T18:46:31.755Z"
   },
   {
    "duration": 6,
    "start_time": "2021-07-07T18:46:31.804Z"
   },
   {
    "duration": 4,
    "start_time": "2021-07-07T18:46:31.812Z"
   },
   {
    "duration": 9,
    "start_time": "2021-07-07T18:46:31.817Z"
   },
   {
    "duration": 10,
    "start_time": "2021-07-07T18:46:31.827Z"
   },
   {
    "duration": 12,
    "start_time": "2021-07-07T18:46:31.838Z"
   },
   {
    "duration": 39,
    "start_time": "2021-07-07T18:46:31.851Z"
   },
   {
    "duration": 24,
    "start_time": "2021-07-07T18:46:31.892Z"
   },
   {
    "duration": 15,
    "start_time": "2021-07-07T18:46:31.918Z"
   },
   {
    "duration": 7,
    "start_time": "2021-07-07T18:46:31.936Z"
   },
   {
    "duration": 8,
    "start_time": "2021-07-07T18:46:31.944Z"
   },
   {
    "duration": 19,
    "start_time": "2021-07-07T18:46:31.984Z"
   },
   {
    "duration": 10,
    "start_time": "2021-07-07T18:46:32.004Z"
   },
   {
    "duration": 5,
    "start_time": "2021-07-07T18:46:32.016Z"
   },
   {
    "duration": 9,
    "start_time": "2021-07-07T18:46:32.023Z"
   },
   {
    "duration": 199,
    "start_time": "2021-07-07T18:46:32.033Z"
   },
   {
    "duration": 19,
    "start_time": "2021-07-07T18:46:32.234Z"
   },
   {
    "duration": 159,
    "start_time": "2021-07-07T18:46:32.255Z"
   },
   {
    "duration": 134,
    "start_time": "2021-07-07T18:46:32.416Z"
   },
   {
    "duration": 10,
    "start_time": "2021-07-07T18:46:32.552Z"
   },
   {
    "duration": 34,
    "start_time": "2021-07-07T18:46:32.563Z"
   },
   {
    "duration": 1039,
    "start_time": "2021-07-08T08:41:09.419Z"
   },
   {
    "duration": 333,
    "start_time": "2021-07-08T08:41:10.459Z"
   },
   {
    "duration": 173,
    "start_time": "2021-07-08T08:41:10.794Z"
   },
   {
    "duration": 5,
    "start_time": "2021-07-08T08:41:10.968Z"
   },
   {
    "duration": 25,
    "start_time": "2021-07-08T08:41:10.975Z"
   },
   {
    "duration": 9,
    "start_time": "2021-07-08T08:41:11.002Z"
   },
   {
    "duration": 18,
    "start_time": "2021-07-08T08:41:11.013Z"
   },
   {
    "duration": 6,
    "start_time": "2021-07-08T08:41:11.033Z"
   },
   {
    "duration": 44,
    "start_time": "2021-07-08T08:41:11.042Z"
   },
   {
    "duration": 10,
    "start_time": "2021-07-08T08:41:11.088Z"
   },
   {
    "duration": 9,
    "start_time": "2021-07-08T08:41:11.100Z"
   },
   {
    "duration": 27,
    "start_time": "2021-07-08T08:41:11.111Z"
   },
   {
    "duration": 46,
    "start_time": "2021-07-08T08:41:11.140Z"
   },
   {
    "duration": 17,
    "start_time": "2021-07-08T08:41:11.187Z"
   },
   {
    "duration": 6,
    "start_time": "2021-07-08T08:41:11.206Z"
   },
   {
    "duration": 5,
    "start_time": "2021-07-08T08:41:11.213Z"
   },
   {
    "duration": 10,
    "start_time": "2021-07-08T08:41:11.219Z"
   },
   {
    "duration": 9,
    "start_time": "2021-07-08T08:41:11.230Z"
   },
   {
    "duration": 45,
    "start_time": "2021-07-08T08:41:11.241Z"
   },
   {
    "duration": 7,
    "start_time": "2021-07-08T08:41:11.287Z"
   },
   {
    "duration": 24,
    "start_time": "2021-07-08T08:41:11.296Z"
   },
   {
    "duration": 16,
    "start_time": "2021-07-08T08:41:11.322Z"
   },
   {
    "duration": 7,
    "start_time": "2021-07-08T08:41:11.341Z"
   },
   {
    "duration": 41,
    "start_time": "2021-07-08T08:41:11.349Z"
   },
   {
    "duration": 17,
    "start_time": "2021-07-08T08:41:11.391Z"
   },
   {
    "duration": 9,
    "start_time": "2021-07-08T08:41:11.410Z"
   },
   {
    "duration": 5,
    "start_time": "2021-07-08T08:41:11.421Z"
   },
   {
    "duration": 6,
    "start_time": "2021-07-08T08:41:11.428Z"
   },
   {
    "duration": 198,
    "start_time": "2021-07-08T08:41:11.435Z"
   },
   {
    "duration": 18,
    "start_time": "2021-07-08T08:41:11.635Z"
   },
   {
    "duration": 155,
    "start_time": "2021-07-08T08:41:11.655Z"
   },
   {
    "duration": 138,
    "start_time": "2021-07-08T08:41:11.811Z"
   },
   {
    "duration": 10,
    "start_time": "2021-07-08T08:41:11.950Z"
   },
   {
    "duration": 29,
    "start_time": "2021-07-08T08:41:11.961Z"
   },
   {
    "duration": 171,
    "start_time": "2021-07-08T08:47:44.522Z"
   },
   {
    "duration": 124,
    "start_time": "2021-07-08T08:47:46.872Z"
   },
   {
    "duration": 191,
    "start_time": "2021-07-08T08:47:58.148Z"
   },
   {
    "duration": 191,
    "start_time": "2021-07-08T08:48:07.412Z"
   },
   {
    "duration": 261,
    "start_time": "2021-07-08T08:48:10.385Z"
   },
   {
    "duration": 255,
    "start_time": "2021-07-08T08:48:14.494Z"
   },
   {
    "duration": 219,
    "start_time": "2021-07-08T08:48:22.752Z"
   },
   {
    "duration": 173,
    "start_time": "2021-07-08T08:49:06.395Z"
   },
   {
    "duration": 180,
    "start_time": "2021-07-08T08:49:21.011Z"
   },
   {
    "duration": 6,
    "start_time": "2021-07-08T08:50:31.697Z"
   },
   {
    "duration": 10,
    "start_time": "2021-07-08T08:50:47.394Z"
   },
   {
    "duration": 11,
    "start_time": "2021-07-08T08:53:49.332Z"
   },
   {
    "duration": 171,
    "start_time": "2021-07-08T08:54:28.408Z"
   },
   {
    "duration": 636,
    "start_time": "2021-07-08T09:02:48.385Z"
   },
   {
    "duration": 227,
    "start_time": "2021-07-08T09:02:49.023Z"
   },
   {
    "duration": 104,
    "start_time": "2021-07-08T09:02:49.252Z"
   },
   {
    "duration": 5,
    "start_time": "2021-07-08T09:02:49.358Z"
   },
   {
    "duration": 27,
    "start_time": "2021-07-08T09:02:49.365Z"
   },
   {
    "duration": 8,
    "start_time": "2021-07-08T09:02:49.394Z"
   },
   {
    "duration": 18,
    "start_time": "2021-07-08T09:02:49.404Z"
   },
   {
    "duration": 6,
    "start_time": "2021-07-08T09:02:49.424Z"
   },
   {
    "duration": 11,
    "start_time": "2021-07-08T09:02:49.433Z"
   },
   {
    "duration": 13,
    "start_time": "2021-07-08T09:02:49.485Z"
   },
   {
    "duration": 9,
    "start_time": "2021-07-08T09:02:49.500Z"
   },
   {
    "duration": 38,
    "start_time": "2021-07-08T09:02:49.511Z"
   },
   {
    "duration": 42,
    "start_time": "2021-07-08T09:02:49.551Z"
   },
   {
    "duration": 21,
    "start_time": "2021-07-08T09:02:49.594Z"
   },
   {
    "duration": 6,
    "start_time": "2021-07-08T09:02:49.616Z"
   },
   {
    "duration": 3,
    "start_time": "2021-07-08T09:02:49.623Z"
   },
   {
    "duration": 9,
    "start_time": "2021-07-08T09:02:49.628Z"
   },
   {
    "duration": 52,
    "start_time": "2021-07-08T09:02:49.638Z"
   },
   {
    "duration": 11,
    "start_time": "2021-07-08T09:02:49.692Z"
   },
   {
    "duration": 8,
    "start_time": "2021-07-08T09:02:49.704Z"
   },
   {
    "duration": 27,
    "start_time": "2021-07-08T09:02:49.713Z"
   },
   {
    "duration": 59,
    "start_time": "2021-07-08T09:02:49.741Z"
   },
   {
    "duration": 8,
    "start_time": "2021-07-08T09:02:49.803Z"
   },
   {
    "duration": 14,
    "start_time": "2021-07-08T09:02:49.813Z"
   },
   {
    "duration": 20,
    "start_time": "2021-07-08T09:02:49.829Z"
   },
   {
    "duration": 44,
    "start_time": "2021-07-08T09:02:49.851Z"
   },
   {
    "duration": 14,
    "start_time": "2021-07-08T09:02:49.896Z"
   },
   {
    "duration": 221,
    "start_time": "2021-07-08T09:02:49.912Z"
   },
   {
    "duration": 6,
    "start_time": "2021-07-08T09:02:50.134Z"
   },
   {
    "duration": 206,
    "start_time": "2021-07-08T09:02:50.142Z"
   },
   {
    "duration": 19,
    "start_time": "2021-07-08T09:02:50.350Z"
   },
   {
    "duration": 21,
    "start_time": "2021-07-08T09:02:50.370Z"
   },
   {
    "duration": 20,
    "start_time": "2021-07-08T09:02:50.393Z"
   },
   {
    "duration": 5,
    "start_time": "2021-07-08T09:02:50.414Z"
   },
   {
    "duration": 5,
    "start_time": "2021-07-08T09:03:34.173Z"
   },
   {
    "duration": 6,
    "start_time": "2021-07-08T09:04:49.062Z"
   },
   {
    "duration": 9,
    "start_time": "2021-07-08T09:04:50.118Z"
   },
   {
    "duration": 14,
    "start_time": "2021-07-08T09:04:58.512Z"
   },
   {
    "duration": 9,
    "start_time": "2021-07-08T09:05:10.988Z"
   },
   {
    "duration": 11,
    "start_time": "2021-07-08T09:05:11.743Z"
   },
   {
    "duration": 7,
    "start_time": "2021-07-08T09:05:25.677Z"
   },
   {
    "duration": 13,
    "start_time": "2021-07-08T09:05:47.189Z"
   },
   {
    "duration": 13,
    "start_time": "2021-07-08T09:05:54.755Z"
   },
   {
    "duration": 4,
    "start_time": "2021-07-08T09:06:29.189Z"
   },
   {
    "duration": 244,
    "start_time": "2021-07-08T09:06:29.195Z"
   },
   {
    "duration": 91,
    "start_time": "2021-07-08T09:06:29.441Z"
   },
   {
    "duration": 4,
    "start_time": "2021-07-08T09:06:29.534Z"
   },
   {
    "duration": 28,
    "start_time": "2021-07-08T09:06:29.540Z"
   },
   {
    "duration": 6,
    "start_time": "2021-07-08T09:06:29.570Z"
   },
   {
    "duration": 18,
    "start_time": "2021-07-08T09:06:29.578Z"
   },
   {
    "duration": 5,
    "start_time": "2021-07-08T09:06:29.597Z"
   },
   {
    "duration": 13,
    "start_time": "2021-07-08T09:06:29.605Z"
   },
   {
    "duration": 8,
    "start_time": "2021-07-08T09:06:29.620Z"
   },
   {
    "duration": 7,
    "start_time": "2021-07-08T09:06:29.630Z"
   },
   {
    "duration": 63,
    "start_time": "2021-07-08T09:06:29.639Z"
   },
   {
    "duration": 17,
    "start_time": "2021-07-08T09:06:29.704Z"
   },
   {
    "duration": 20,
    "start_time": "2021-07-08T09:06:29.723Z"
   },
   {
    "duration": 6,
    "start_time": "2021-07-08T09:06:29.745Z"
   },
   {
    "duration": 3,
    "start_time": "2021-07-08T09:06:29.752Z"
   },
   {
    "duration": 7,
    "start_time": "2021-07-08T09:06:29.785Z"
   },
   {
    "duration": 11,
    "start_time": "2021-07-08T09:06:29.794Z"
   },
   {
    "duration": 15,
    "start_time": "2021-07-08T09:06:29.807Z"
   },
   {
    "duration": 8,
    "start_time": "2021-07-08T09:06:29.823Z"
   },
   {
    "duration": 70,
    "start_time": "2021-07-08T09:06:29.832Z"
   },
   {
    "duration": 17,
    "start_time": "2021-07-08T09:06:29.903Z"
   },
   {
    "duration": 9,
    "start_time": "2021-07-08T09:06:29.921Z"
   },
   {
    "duration": 9,
    "start_time": "2021-07-08T09:06:29.932Z"
   },
   {
    "duration": 57,
    "start_time": "2021-07-08T09:06:29.942Z"
   },
   {
    "duration": 11,
    "start_time": "2021-07-08T09:06:30.001Z"
   },
   {
    "duration": 19,
    "start_time": "2021-07-08T09:06:30.016Z"
   },
   {
    "duration": 217,
    "start_time": "2021-07-08T09:06:30.037Z"
   },
   {
    "duration": 6,
    "start_time": "2021-07-08T09:06:30.255Z"
   },
   {
    "duration": 205,
    "start_time": "2021-07-08T09:06:30.263Z"
   },
   {
    "duration": 27,
    "start_time": "2021-07-08T09:06:30.470Z"
   },
   {
    "duration": 11,
    "start_time": "2021-07-08T09:06:30.500Z"
   },
   {
    "duration": 31,
    "start_time": "2021-07-08T09:06:30.513Z"
   },
   {
    "duration": 18,
    "start_time": "2021-07-08T09:06:30.546Z"
   },
   {
    "duration": 11,
    "start_time": "2021-07-08T09:06:30.566Z"
   },
   {
    "duration": 19,
    "start_time": "2021-07-08T09:06:30.579Z"
   },
   {
    "duration": 20,
    "start_time": "2021-07-08T09:06:49.466Z"
   },
   {
    "duration": 9,
    "start_time": "2021-07-08T09:06:51.994Z"
   },
   {
    "duration": 20,
    "start_time": "2021-07-08T09:06:52.273Z"
   },
   {
    "duration": 246,
    "start_time": "2021-07-08T09:10:21.272Z"
   },
   {
    "duration": 84,
    "start_time": "2021-07-08T09:10:21.436Z"
   },
   {
    "duration": 7,
    "start_time": "2021-07-08T09:10:37.608Z"
   },
   {
    "duration": 189,
    "start_time": "2021-07-08T09:10:38.573Z"
   },
   {
    "duration": 185,
    "start_time": "2021-07-08T09:10:53.181Z"
   },
   {
    "duration": 11,
    "start_time": "2021-07-08T09:10:59.549Z"
   },
   {
    "duration": 42,
    "start_time": "2021-07-08T09:10:59.709Z"
   },
   {
    "duration": 12,
    "start_time": "2021-07-08T09:11:02.857Z"
   },
   {
    "duration": 28,
    "start_time": "2021-07-08T09:11:10.062Z"
   },
   {
    "duration": 249,
    "start_time": "2021-07-08T09:11:37.388Z"
   },
   {
    "duration": 232,
    "start_time": "2021-07-08T09:11:49.485Z"
   },
   {
    "duration": 453,
    "start_time": "2021-07-08T09:12:01.546Z"
   },
   {
    "duration": 440,
    "start_time": "2021-07-08T09:12:12.347Z"
   },
   {
    "duration": 213,
    "start_time": "2021-07-08T09:13:32.196Z"
   },
   {
    "duration": 172,
    "start_time": "2021-07-08T09:14:07.400Z"
   },
   {
    "duration": 185,
    "start_time": "2021-07-08T09:14:14.905Z"
   },
   {
    "duration": 209,
    "start_time": "2021-07-08T09:14:40.109Z"
   },
   {
    "duration": 201,
    "start_time": "2021-07-08T09:14:54.506Z"
   },
   {
    "duration": 622,
    "start_time": "2021-07-08T09:18:14.497Z"
   },
   {
    "duration": 220,
    "start_time": "2021-07-08T09:18:15.121Z"
   },
   {
    "duration": 79,
    "start_time": "2021-07-08T09:18:15.343Z"
   },
   {
    "duration": 4,
    "start_time": "2021-07-08T09:18:15.425Z"
   },
   {
    "duration": 24,
    "start_time": "2021-07-08T09:18:15.431Z"
   },
   {
    "duration": 8,
    "start_time": "2021-07-08T09:18:15.457Z"
   },
   {
    "duration": 16,
    "start_time": "2021-07-08T09:18:15.466Z"
   },
   {
    "duration": 5,
    "start_time": "2021-07-08T09:18:15.484Z"
   },
   {
    "duration": 10,
    "start_time": "2021-07-08T09:18:15.493Z"
   },
   {
    "duration": 8,
    "start_time": "2021-07-08T09:18:15.504Z"
   },
   {
    "duration": 7,
    "start_time": "2021-07-08T09:18:15.513Z"
   },
   {
    "duration": 26,
    "start_time": "2021-07-08T09:18:15.522Z"
   },
   {
    "duration": 49,
    "start_time": "2021-07-08T09:18:15.550Z"
   },
   {
    "duration": 21,
    "start_time": "2021-07-08T09:18:15.601Z"
   },
   {
    "duration": 8,
    "start_time": "2021-07-08T09:18:15.624Z"
   },
   {
    "duration": 3,
    "start_time": "2021-07-08T09:18:15.634Z"
   },
   {
    "duration": 8,
    "start_time": "2021-07-08T09:18:15.639Z"
   },
   {
    "duration": 45,
    "start_time": "2021-07-08T09:18:15.649Z"
   },
   {
    "duration": 13,
    "start_time": "2021-07-08T09:18:15.696Z"
   },
   {
    "duration": 10,
    "start_time": "2021-07-08T09:18:15.711Z"
   },
   {
    "duration": 64,
    "start_time": "2021-07-08T09:18:15.722Z"
   },
   {
    "duration": 19,
    "start_time": "2021-07-08T09:18:15.788Z"
   },
   {
    "duration": 9,
    "start_time": "2021-07-08T09:18:15.809Z"
   },
   {
    "duration": 9,
    "start_time": "2021-07-08T09:18:15.820Z"
   },
   {
    "duration": 18,
    "start_time": "2021-07-08T09:18:15.831Z"
   },
   {
    "duration": 43,
    "start_time": "2021-07-08T09:18:15.851Z"
   },
   {
    "duration": 12,
    "start_time": "2021-07-08T09:18:15.897Z"
   },
   {
    "duration": 219,
    "start_time": "2021-07-08T09:18:15.911Z"
   },
   {
    "duration": 8,
    "start_time": "2021-07-08T09:18:16.132Z"
   },
   {
    "duration": 199,
    "start_time": "2021-07-08T09:18:16.141Z"
   },
   {
    "duration": 18,
    "start_time": "2021-07-08T09:18:16.341Z"
   },
   {
    "duration": 24,
    "start_time": "2021-07-08T09:18:16.361Z"
   },
   {
    "duration": 24,
    "start_time": "2021-07-08T09:18:16.387Z"
   },
   {
    "duration": 211,
    "start_time": "2021-07-08T09:18:16.413Z"
   },
   {
    "duration": 18,
    "start_time": "2021-07-08T09:18:16.626Z"
   },
   {
    "duration": 596,
    "start_time": "2021-07-08T10:06:33.623Z"
   },
   {
    "duration": 181,
    "start_time": "2021-07-08T10:06:34.221Z"
   },
   {
    "duration": 176,
    "start_time": "2021-07-08T10:06:34.635Z"
   },
   {
    "duration": 239,
    "start_time": "2021-07-08T10:06:55.572Z"
   },
   {
    "duration": 6,
    "start_time": "2021-07-08T10:06:57.687Z"
   },
   {
    "duration": 4,
    "start_time": "2021-07-08T10:07:03.956Z"
   },
   {
    "duration": 4,
    "start_time": "2021-07-08T10:07:10.376Z"
   },
   {
    "duration": 4,
    "start_time": "2021-07-08T10:17:19.889Z"
   },
   {
    "duration": 3,
    "start_time": "2021-07-08T10:19:19.407Z"
   },
   {
    "duration": 197,
    "start_time": "2021-07-08T10:19:19.412Z"
   },
   {
    "duration": 127,
    "start_time": "2021-07-08T10:19:19.611Z"
   },
   {
    "duration": 4,
    "start_time": "2021-07-08T10:19:19.740Z"
   },
   {
    "duration": 27,
    "start_time": "2021-07-08T10:19:19.746Z"
   },
   {
    "duration": 7,
    "start_time": "2021-07-08T10:19:19.775Z"
   },
   {
    "duration": 30,
    "start_time": "2021-07-08T10:19:19.784Z"
   },
   {
    "duration": 7,
    "start_time": "2021-07-08T10:19:19.817Z"
   },
   {
    "duration": 26,
    "start_time": "2021-07-08T10:19:19.826Z"
   },
   {
    "duration": 18,
    "start_time": "2021-07-08T10:19:19.854Z"
   },
   {
    "duration": 14,
    "start_time": "2021-07-08T10:19:19.874Z"
   },
   {
    "duration": 48,
    "start_time": "2021-07-08T10:19:19.890Z"
   },
   {
    "duration": 17,
    "start_time": "2021-07-08T10:19:19.940Z"
   },
   {
    "duration": 38,
    "start_time": "2021-07-08T10:19:19.959Z"
   },
   {
    "duration": 8,
    "start_time": "2021-07-08T10:19:19.999Z"
   },
   {
    "duration": 15,
    "start_time": "2021-07-08T10:19:20.009Z"
   },
   {
    "duration": 22,
    "start_time": "2021-07-08T10:19:20.026Z"
   },
   {
    "duration": 10,
    "start_time": "2021-07-08T10:19:20.050Z"
   },
   {
    "duration": 10,
    "start_time": "2021-07-08T10:19:20.062Z"
   },
   {
    "duration": 20,
    "start_time": "2021-07-08T10:19:20.073Z"
   },
   {
    "duration": 29,
    "start_time": "2021-07-08T10:19:20.095Z"
   },
   {
    "duration": 17,
    "start_time": "2021-07-08T10:19:20.126Z"
   },
   {
    "duration": 40,
    "start_time": "2021-07-08T10:19:20.146Z"
   },
   {
    "duration": 15,
    "start_time": "2021-07-08T10:19:20.189Z"
   },
   {
    "duration": 19,
    "start_time": "2021-07-08T10:19:20.206Z"
   },
   {
    "duration": 10,
    "start_time": "2021-07-08T10:19:20.226Z"
   },
   {
    "duration": 11,
    "start_time": "2021-07-08T10:19:20.238Z"
   },
   {
    "duration": 297,
    "start_time": "2021-07-08T10:19:20.250Z"
   },
   {
    "duration": 6,
    "start_time": "2021-07-08T10:19:20.549Z"
   },
   {
    "duration": 191,
    "start_time": "2021-07-08T10:19:20.557Z"
   },
   {
    "duration": 19,
    "start_time": "2021-07-08T10:19:20.750Z"
   },
   {
    "duration": 20,
    "start_time": "2021-07-08T10:19:20.771Z"
   },
   {
    "duration": 15,
    "start_time": "2021-07-08T10:19:20.793Z"
   },
   {
    "duration": 222,
    "start_time": "2021-07-08T10:19:20.809Z"
   },
   {
    "duration": 20,
    "start_time": "2021-07-08T10:19:21.033Z"
   },
   {
    "duration": 27,
    "start_time": "2021-07-08T10:45:04.055Z"
   },
   {
    "duration": 8,
    "start_time": "2021-07-08T10:45:08.478Z"
   },
   {
    "duration": 8,
    "start_time": "2021-07-08T10:45:31.982Z"
   },
   {
    "duration": 10,
    "start_time": "2021-07-08T10:46:01.221Z"
   },
   {
    "duration": 17,
    "start_time": "2021-07-08T10:46:40.011Z"
   },
   {
    "duration": 193,
    "start_time": "2021-07-08T10:48:19.471Z"
   },
   {
    "duration": 225,
    "start_time": "2021-07-08T10:49:26.480Z"
   },
   {
    "duration": 204,
    "start_time": "2021-07-08T10:49:59.992Z"
   },
   {
    "duration": 435,
    "start_time": "2021-07-08T10:50:06.779Z"
   },
   {
    "duration": 199,
    "start_time": "2021-07-08T10:50:14.891Z"
   },
   {
    "duration": 204,
    "start_time": "2021-07-08T10:50:18.501Z"
   },
   {
    "duration": 244,
    "start_time": "2021-07-08T10:50:23.359Z"
   },
   {
    "duration": 192,
    "start_time": "2021-07-08T10:50:29.135Z"
   },
   {
    "duration": 218,
    "start_time": "2021-07-08T10:50:33.092Z"
   },
   {
    "duration": 207,
    "start_time": "2021-07-08T10:52:45.381Z"
   },
   {
    "duration": 5,
    "start_time": "2021-07-08T10:53:34.641Z"
   },
   {
    "duration": 196,
    "start_time": "2021-07-08T10:53:41.478Z"
   },
   {
    "duration": 43,
    "start_time": "2021-07-08T10:53:50.335Z"
   },
   {
    "duration": 32,
    "start_time": "2021-07-08T10:53:55.294Z"
   },
   {
    "duration": 55,
    "start_time": "2021-07-08T10:54:09.675Z"
   },
   {
    "duration": 16,
    "start_time": "2021-07-08T10:54:12.260Z"
   },
   {
    "duration": 15,
    "start_time": "2021-07-08T10:54:49.150Z"
   },
   {
    "duration": 20,
    "start_time": "2021-07-08T10:56:07.596Z"
   },
   {
    "duration": 16,
    "start_time": "2021-07-08T10:58:26.276Z"
   },
   {
    "duration": 22,
    "start_time": "2021-07-08T10:59:00.486Z"
   },
   {
    "duration": 18,
    "start_time": "2021-07-08T11:02:09.653Z"
   },
   {
    "duration": 10,
    "start_time": "2021-07-08T11:03:44.331Z"
   },
   {
    "duration": 10,
    "start_time": "2021-07-08T11:03:54.055Z"
   },
   {
    "duration": 12,
    "start_time": "2021-07-08T11:04:41.967Z"
   },
   {
    "duration": 24,
    "start_time": "2021-07-08T11:07:30.732Z"
   },
   {
    "duration": 6,
    "start_time": "2021-07-08T11:07:37.364Z"
   },
   {
    "duration": 16,
    "start_time": "2021-07-08T11:08:01.819Z"
   },
   {
    "duration": 17,
    "start_time": "2021-07-08T11:09:47.488Z"
   },
   {
    "duration": 246,
    "start_time": "2021-07-08T11:10:00.830Z"
   },
   {
    "duration": 18,
    "start_time": "2021-07-08T11:13:55.195Z"
   },
   {
    "duration": 204,
    "start_time": "2021-07-08T11:14:04.951Z"
   },
   {
    "duration": 19,
    "start_time": "2021-07-08T11:15:10.613Z"
   },
   {
    "duration": 680,
    "start_time": "2021-07-08T11:16:25.793Z"
   },
   {
    "duration": 451,
    "start_time": "2021-07-08T11:16:40.313Z"
   },
   {
    "duration": 469,
    "start_time": "2021-07-08T11:17:21.286Z"
   },
   {
    "duration": 20,
    "start_time": "2021-07-08T11:19:12.554Z"
   },
   {
    "duration": 35,
    "start_time": "2021-07-08T11:20:05.484Z"
   },
   {
    "duration": 53,
    "start_time": "2021-07-08T11:21:40.050Z"
   },
   {
    "duration": 13,
    "start_time": "2021-07-08T11:22:26.059Z"
   },
   {
    "duration": 19,
    "start_time": "2021-07-08T11:22:47.419Z"
   },
   {
    "duration": 25,
    "start_time": "2021-07-08T11:23:19.958Z"
   },
   {
    "duration": 29,
    "start_time": "2021-07-08T11:23:25.415Z"
   },
   {
    "duration": 10,
    "start_time": "2021-07-08T11:24:45.138Z"
   },
   {
    "duration": 19,
    "start_time": "2021-07-08T11:24:54.498Z"
   },
   {
    "duration": 12,
    "start_time": "2021-07-08T11:25:32.225Z"
   },
   {
    "duration": 19,
    "start_time": "2021-07-08T11:25:37.092Z"
   },
   {
    "duration": 17,
    "start_time": "2021-07-08T11:25:58.116Z"
   },
   {
    "duration": 15,
    "start_time": "2021-07-08T11:26:02.258Z"
   },
   {
    "duration": 8,
    "start_time": "2021-07-08T11:26:59.682Z"
   },
   {
    "duration": 184,
    "start_time": "2021-07-08T11:27:21.894Z"
   },
   {
    "duration": 8,
    "start_time": "2021-07-08T11:27:23.824Z"
   },
   {
    "duration": 202,
    "start_time": "2021-07-08T11:27:23.962Z"
   },
   {
    "duration": 360,
    "start_time": "2021-07-08T11:28:33.215Z"
   },
   {
    "duration": 231,
    "start_time": "2021-07-08T11:32:05.542Z"
   },
   {
    "duration": 607,
    "start_time": "2021-07-08T11:36:27.854Z"
   },
   {
    "duration": 241,
    "start_time": "2021-07-08T11:36:28.463Z"
   },
   {
    "duration": 67,
    "start_time": "2021-07-08T11:36:28.709Z"
   },
   {
    "duration": 5,
    "start_time": "2021-07-08T11:36:28.778Z"
   },
   {
    "duration": 32,
    "start_time": "2021-07-08T11:36:28.784Z"
   },
   {
    "duration": 11,
    "start_time": "2021-07-08T11:36:28.819Z"
   },
   {
    "duration": 20,
    "start_time": "2021-07-08T11:36:28.834Z"
   },
   {
    "duration": 36,
    "start_time": "2021-07-08T11:36:28.857Z"
   },
   {
    "duration": 16,
    "start_time": "2021-07-08T11:36:28.895Z"
   },
   {
    "duration": 14,
    "start_time": "2021-07-08T11:36:28.913Z"
   },
   {
    "duration": 9,
    "start_time": "2021-07-08T11:36:28.930Z"
   },
   {
    "duration": 55,
    "start_time": "2021-07-08T11:36:28.941Z"
   },
   {
    "duration": 27,
    "start_time": "2021-07-08T11:36:28.999Z"
   },
   {
    "duration": 30,
    "start_time": "2021-07-08T11:36:29.028Z"
   },
   {
    "duration": 31,
    "start_time": "2021-07-08T11:36:29.060Z"
   },
   {
    "duration": 3,
    "start_time": "2021-07-08T11:36:29.093Z"
   },
   {
    "duration": 12,
    "start_time": "2021-07-08T11:36:29.099Z"
   },
   {
    "duration": 11,
    "start_time": "2021-07-08T11:36:29.112Z"
   },
   {
    "duration": 12,
    "start_time": "2021-07-08T11:36:29.125Z"
   },
   {
    "duration": 9,
    "start_time": "2021-07-08T11:36:29.139Z"
   },
   {
    "duration": 31,
    "start_time": "2021-07-08T11:36:29.191Z"
   },
   {
    "duration": 17,
    "start_time": "2021-07-08T11:36:29.226Z"
   },
   {
    "duration": 7,
    "start_time": "2021-07-08T11:36:29.245Z"
   },
   {
    "duration": 10,
    "start_time": "2021-07-08T11:36:29.254Z"
   },
   {
    "duration": 30,
    "start_time": "2021-07-08T11:36:29.292Z"
   },
   {
    "duration": 11,
    "start_time": "2021-07-08T11:36:29.324Z"
   },
   {
    "duration": 11,
    "start_time": "2021-07-08T11:36:29.337Z"
   },
   {
    "duration": 230,
    "start_time": "2021-07-08T11:36:29.349Z"
   },
   {
    "duration": 13,
    "start_time": "2021-07-08T11:36:29.588Z"
   },
   {
    "duration": 205,
    "start_time": "2021-07-08T11:36:29.603Z"
   },
   {
    "duration": 20,
    "start_time": "2021-07-08T11:36:29.810Z"
   },
   {
    "duration": 9,
    "start_time": "2021-07-08T11:36:29.832Z"
   },
   {
    "duration": 16,
    "start_time": "2021-07-08T11:36:29.843Z"
   },
   {
    "duration": 283,
    "start_time": "2021-07-08T11:36:29.861Z"
   },
   {
    "duration": 50,
    "start_time": "2021-07-08T11:36:30.146Z"
   },
   {
    "duration": 14,
    "start_time": "2021-07-08T11:36:30.198Z"
   },
   {
    "duration": 11,
    "start_time": "2021-07-08T11:36:30.214Z"
   },
   {
    "duration": 245,
    "start_time": "2021-07-08T11:36:30.227Z"
   },
   {
    "duration": 439,
    "start_time": "2021-07-08T11:36:30.474Z"
   },
   {
    "duration": 210,
    "start_time": "2021-07-08T11:36:30.915Z"
   },
   {
    "duration": 15,
    "start_time": "2021-07-08T11:36:31.127Z"
   },
   {
    "duration": 17,
    "start_time": "2021-07-08T11:38:20.451Z"
   },
   {
    "duration": 642,
    "start_time": "2021-07-08T11:46:17.881Z"
   },
   {
    "duration": 210,
    "start_time": "2021-07-08T11:46:18.525Z"
   },
   {
    "duration": 104,
    "start_time": "2021-07-08T11:46:18.741Z"
   },
   {
    "duration": 8,
    "start_time": "2021-07-08T11:46:18.847Z"
   },
   {
    "duration": 25,
    "start_time": "2021-07-08T11:46:18.857Z"
   },
   {
    "duration": 14,
    "start_time": "2021-07-08T11:46:18.884Z"
   },
   {
    "duration": 22,
    "start_time": "2021-07-08T11:46:18.900Z"
   },
   {
    "duration": 5,
    "start_time": "2021-07-08T11:46:18.924Z"
   },
   {
    "duration": 13,
    "start_time": "2021-07-08T11:46:18.931Z"
   },
   {
    "duration": 45,
    "start_time": "2021-07-08T11:46:18.946Z"
   },
   {
    "duration": 12,
    "start_time": "2021-07-08T11:46:18.993Z"
   },
   {
    "duration": 38,
    "start_time": "2021-07-08T11:46:19.006Z"
   },
   {
    "duration": 50,
    "start_time": "2021-07-08T11:46:19.046Z"
   },
   {
    "duration": 29,
    "start_time": "2021-07-08T11:46:19.099Z"
   },
   {
    "duration": 7,
    "start_time": "2021-07-08T11:46:19.130Z"
   },
   {
    "duration": 3,
    "start_time": "2021-07-08T11:46:19.139Z"
   },
   {
    "duration": 11,
    "start_time": "2021-07-08T11:46:19.144Z"
   },
   {
    "duration": 40,
    "start_time": "2021-07-08T11:46:19.157Z"
   },
   {
    "duration": 15,
    "start_time": "2021-07-08T11:46:19.199Z"
   },
   {
    "duration": 10,
    "start_time": "2021-07-08T11:46:19.217Z"
   },
   {
    "duration": 68,
    "start_time": "2021-07-08T11:46:19.230Z"
   },
   {
    "duration": 17,
    "start_time": "2021-07-08T11:46:19.301Z"
   },
   {
    "duration": 7,
    "start_time": "2021-07-08T11:46:19.321Z"
   },
   {
    "duration": 11,
    "start_time": "2021-07-08T11:46:19.330Z"
   },
   {
    "duration": 59,
    "start_time": "2021-07-08T11:46:19.343Z"
   },
   {
    "duration": 17,
    "start_time": "2021-07-08T11:46:19.405Z"
   },
   {
    "duration": 16,
    "start_time": "2021-07-08T11:46:19.424Z"
   },
   {
    "duration": 252,
    "start_time": "2021-07-08T11:46:19.443Z"
   },
   {
    "duration": 9,
    "start_time": "2021-07-08T11:46:19.697Z"
   },
   {
    "duration": 224,
    "start_time": "2021-07-08T11:46:19.708Z"
   },
   {
    "duration": 21,
    "start_time": "2021-07-08T11:46:19.934Z"
   },
   {
    "duration": 9,
    "start_time": "2021-07-08T11:46:19.956Z"
   },
   {
    "duration": 32,
    "start_time": "2021-07-08T11:46:19.967Z"
   },
   {
    "duration": 288,
    "start_time": "2021-07-08T11:46:20.004Z"
   },
   {
    "duration": 23,
    "start_time": "2021-07-08T11:46:20.300Z"
   },
   {
    "duration": 11,
    "start_time": "2021-07-08T11:46:20.325Z"
   },
   {
    "duration": 11,
    "start_time": "2021-07-08T11:46:20.339Z"
   },
   {
    "duration": 259,
    "start_time": "2021-07-08T11:46:20.352Z"
   },
   {
    "duration": 438,
    "start_time": "2021-07-08T11:46:20.613Z"
   },
   {
    "duration": 207,
    "start_time": "2021-07-08T11:46:21.054Z"
   },
   {
    "duration": 27,
    "start_time": "2021-07-08T11:46:21.262Z"
   },
   {
    "duration": 19,
    "start_time": "2021-07-08T11:46:21.291Z"
   },
   {
    "duration": 820,
    "start_time": "2021-07-08T11:49:01.655Z"
   },
   {
    "duration": 372,
    "start_time": "2021-07-08T11:49:02.478Z"
   },
   {
    "duration": 98,
    "start_time": "2021-07-08T11:49:02.853Z"
   },
   {
    "duration": 6,
    "start_time": "2021-07-08T11:49:02.953Z"
   },
   {
    "duration": 39,
    "start_time": "2021-07-08T11:49:02.960Z"
   },
   {
    "duration": 9,
    "start_time": "2021-07-08T11:49:03.003Z"
   },
   {
    "duration": 23,
    "start_time": "2021-07-08T11:49:03.014Z"
   },
   {
    "duration": 6,
    "start_time": "2021-07-08T11:49:03.041Z"
   },
   {
    "duration": 20,
    "start_time": "2021-07-08T11:49:03.049Z"
   },
   {
    "duration": 18,
    "start_time": "2021-07-08T11:49:03.084Z"
   },
   {
    "duration": 14,
    "start_time": "2021-07-08T11:49:03.104Z"
   },
   {
    "duration": 39,
    "start_time": "2021-07-08T11:49:03.119Z"
   },
   {
    "duration": 38,
    "start_time": "2021-07-08T11:49:03.160Z"
   },
   {
    "duration": 26,
    "start_time": "2021-07-08T11:49:03.200Z"
   },
   {
    "duration": 7,
    "start_time": "2021-07-08T11:49:03.227Z"
   },
   {
    "duration": 4,
    "start_time": "2021-07-08T11:49:03.236Z"
   },
   {
    "duration": 15,
    "start_time": "2021-07-08T11:49:03.243Z"
   },
   {
    "duration": 21,
    "start_time": "2021-07-08T11:49:03.285Z"
   },
   {
    "duration": 17,
    "start_time": "2021-07-08T11:49:03.309Z"
   },
   {
    "duration": 10,
    "start_time": "2021-07-08T11:49:03.328Z"
   },
   {
    "duration": 65,
    "start_time": "2021-07-08T11:49:03.340Z"
   },
   {
    "duration": 18,
    "start_time": "2021-07-08T11:49:03.407Z"
   },
   {
    "duration": 8,
    "start_time": "2021-07-08T11:49:03.428Z"
   },
   {
    "duration": 15,
    "start_time": "2021-07-08T11:49:03.438Z"
   },
   {
    "duration": 40,
    "start_time": "2021-07-08T11:49:03.455Z"
   },
   {
    "duration": 12,
    "start_time": "2021-07-08T11:49:03.497Z"
   },
   {
    "duration": 29,
    "start_time": "2021-07-08T11:49:03.511Z"
   },
   {
    "duration": 285,
    "start_time": "2021-07-08T11:49:03.542Z"
   },
   {
    "duration": 8,
    "start_time": "2021-07-08T11:49:03.829Z"
   },
   {
    "duration": 227,
    "start_time": "2021-07-08T11:49:03.838Z"
   },
   {
    "duration": 40,
    "start_time": "2021-07-08T11:49:04.066Z"
   },
   {
    "duration": 10,
    "start_time": "2021-07-08T11:49:04.108Z"
   },
   {
    "duration": 26,
    "start_time": "2021-07-08T11:49:04.121Z"
   },
   {
    "duration": 290,
    "start_time": "2021-07-08T11:49:04.149Z"
   },
   {
    "duration": 26,
    "start_time": "2021-07-08T11:49:04.441Z"
   },
   {
    "duration": 31,
    "start_time": "2021-07-08T11:49:04.470Z"
   },
   {
    "duration": 14,
    "start_time": "2021-07-08T11:49:04.503Z"
   },
   {
    "duration": 259,
    "start_time": "2021-07-08T11:49:04.521Z"
   },
   {
    "duration": 480,
    "start_time": "2021-07-08T11:49:04.782Z"
   },
   {
    "duration": 225,
    "start_time": "2021-07-08T11:49:05.264Z"
   },
   {
    "duration": 22,
    "start_time": "2021-07-08T11:49:05.491Z"
   },
   {
    "duration": 24,
    "start_time": "2021-07-08T11:49:05.515Z"
   },
   {
    "duration": 634,
    "start_time": "2021-07-08T11:52:24.960Z"
   },
   {
    "duration": 199,
    "start_time": "2021-07-08T11:52:25.599Z"
   },
   {
    "duration": 106,
    "start_time": "2021-07-08T11:52:25.803Z"
   },
   {
    "duration": 7,
    "start_time": "2021-07-08T11:52:25.911Z"
   },
   {
    "duration": 29,
    "start_time": "2021-07-08T11:52:25.920Z"
   },
   {
    "duration": 7,
    "start_time": "2021-07-08T11:52:25.951Z"
   },
   {
    "duration": 26,
    "start_time": "2021-07-08T11:52:25.961Z"
   },
   {
    "duration": 11,
    "start_time": "2021-07-08T11:52:25.990Z"
   },
   {
    "duration": 29,
    "start_time": "2021-07-08T11:52:26.005Z"
   },
   {
    "duration": 9,
    "start_time": "2021-07-08T11:52:26.036Z"
   },
   {
    "duration": 8,
    "start_time": "2021-07-08T11:52:26.047Z"
   },
   {
    "duration": 63,
    "start_time": "2021-07-08T11:52:26.057Z"
   },
   {
    "duration": 17,
    "start_time": "2021-07-08T11:52:26.122Z"
   },
   {
    "duration": 43,
    "start_time": "2021-07-08T11:52:26.142Z"
   },
   {
    "duration": 17,
    "start_time": "2021-07-08T11:52:26.187Z"
   },
   {
    "duration": 5,
    "start_time": "2021-07-08T11:52:26.206Z"
   },
   {
    "duration": 12,
    "start_time": "2021-07-08T11:52:26.212Z"
   },
   {
    "duration": 11,
    "start_time": "2021-07-08T11:52:26.226Z"
   },
   {
    "duration": 12,
    "start_time": "2021-07-08T11:52:26.238Z"
   },
   {
    "duration": 38,
    "start_time": "2021-07-08T11:52:26.252Z"
   },
   {
    "duration": 40,
    "start_time": "2021-07-08T11:52:26.292Z"
   },
   {
    "duration": 17,
    "start_time": "2021-07-08T11:52:26.336Z"
   },
   {
    "duration": 39,
    "start_time": "2021-07-08T11:52:26.355Z"
   },
   {
    "duration": 11,
    "start_time": "2021-07-08T11:52:26.395Z"
   },
   {
    "duration": 23,
    "start_time": "2021-07-08T11:52:26.408Z"
   },
   {
    "duration": 12,
    "start_time": "2021-07-08T11:52:26.432Z"
   },
   {
    "duration": 41,
    "start_time": "2021-07-08T11:52:26.446Z"
   },
   {
    "duration": 215,
    "start_time": "2021-07-08T11:52:26.493Z"
   },
   {
    "duration": 8,
    "start_time": "2021-07-08T11:52:26.710Z"
   },
   {
    "duration": 228,
    "start_time": "2021-07-08T11:52:26.720Z"
   },
   {
    "duration": 18,
    "start_time": "2021-07-08T11:52:26.950Z"
   },
   {
    "duration": 35,
    "start_time": "2021-07-08T11:52:26.969Z"
   },
   {
    "duration": 23,
    "start_time": "2021-07-08T11:52:27.006Z"
   },
   {
    "duration": 258,
    "start_time": "2021-07-08T11:52:27.030Z"
   },
   {
    "duration": 24,
    "start_time": "2021-07-08T11:52:27.290Z"
   },
   {
    "duration": 12,
    "start_time": "2021-07-08T11:52:27.316Z"
   },
   {
    "duration": 10,
    "start_time": "2021-07-08T11:52:27.329Z"
   },
   {
    "duration": 298,
    "start_time": "2021-07-08T11:52:27.341Z"
   },
   {
    "duration": 436,
    "start_time": "2021-07-08T11:52:27.641Z"
   },
   {
    "duration": 216,
    "start_time": "2021-07-08T11:52:28.079Z"
   },
   {
    "duration": 20,
    "start_time": "2021-07-08T11:52:28.297Z"
   },
   {
    "duration": 17,
    "start_time": "2021-07-08T11:52:28.319Z"
   },
   {
    "duration": 1144,
    "start_time": "2023-12-01T17:04:54.622Z"
   },
   {
    "duration": 185,
    "start_time": "2023-12-01T17:04:55.773Z"
   },
   {
    "duration": 0,
    "start_time": "2023-12-01T17:04:55.965Z"
   },
   {
    "duration": 0,
    "start_time": "2023-12-01T17:04:55.966Z"
   },
   {
    "duration": 0,
    "start_time": "2023-12-01T17:04:55.968Z"
   },
   {
    "duration": 0,
    "start_time": "2023-12-01T17:04:55.974Z"
   },
   {
    "duration": 0,
    "start_time": "2023-12-01T17:04:55.976Z"
   },
   {
    "duration": 0,
    "start_time": "2023-12-01T17:04:55.978Z"
   },
   {
    "duration": 0,
    "start_time": "2023-12-01T17:04:55.981Z"
   },
   {
    "duration": 0,
    "start_time": "2023-12-01T17:04:55.982Z"
   },
   {
    "duration": 0,
    "start_time": "2023-12-01T17:04:55.983Z"
   },
   {
    "duration": 0,
    "start_time": "2023-12-01T17:04:55.983Z"
   },
   {
    "duration": 0,
    "start_time": "2023-12-01T17:04:55.985Z"
   },
   {
    "duration": 0,
    "start_time": "2023-12-01T17:04:55.986Z"
   },
   {
    "duration": 1,
    "start_time": "2023-12-01T17:04:55.987Z"
   },
   {
    "duration": 0,
    "start_time": "2023-12-01T17:04:55.989Z"
   },
   {
    "duration": 0,
    "start_time": "2023-12-01T17:04:55.993Z"
   },
   {
    "duration": 0,
    "start_time": "2023-12-01T17:04:55.994Z"
   },
   {
    "duration": 0,
    "start_time": "2023-12-01T17:04:55.995Z"
   },
   {
    "duration": 0,
    "start_time": "2023-12-01T17:04:55.997Z"
   },
   {
    "duration": 0,
    "start_time": "2023-12-01T17:04:55.999Z"
   },
   {
    "duration": 0,
    "start_time": "2023-12-01T17:04:56.000Z"
   },
   {
    "duration": 0,
    "start_time": "2023-12-01T17:04:56.003Z"
   },
   {
    "duration": 0,
    "start_time": "2023-12-01T17:04:56.004Z"
   },
   {
    "duration": 0,
    "start_time": "2023-12-01T17:04:56.005Z"
   },
   {
    "duration": 0,
    "start_time": "2023-12-01T17:04:56.007Z"
   },
   {
    "duration": 0,
    "start_time": "2023-12-01T17:04:56.008Z"
   },
   {
    "duration": 0,
    "start_time": "2023-12-01T17:04:56.009Z"
   },
   {
    "duration": 0,
    "start_time": "2023-12-01T17:04:56.010Z"
   },
   {
    "duration": 0,
    "start_time": "2023-12-01T17:04:56.011Z"
   },
   {
    "duration": 0,
    "start_time": "2023-12-01T17:04:56.013Z"
   },
   {
    "duration": 0,
    "start_time": "2023-12-01T17:04:56.014Z"
   },
   {
    "duration": 0,
    "start_time": "2023-12-01T17:04:56.015Z"
   },
   {
    "duration": 0,
    "start_time": "2023-12-01T17:04:56.017Z"
   },
   {
    "duration": 0,
    "start_time": "2023-12-01T17:04:56.018Z"
   },
   {
    "duration": 0,
    "start_time": "2023-12-01T17:04:56.066Z"
   },
   {
    "duration": 0,
    "start_time": "2023-12-01T17:04:56.067Z"
   },
   {
    "duration": 0,
    "start_time": "2023-12-01T17:04:56.070Z"
   },
   {
    "duration": 0,
    "start_time": "2023-12-01T17:04:56.071Z"
   },
   {
    "duration": 0,
    "start_time": "2023-12-01T17:04:56.074Z"
   },
   {
    "duration": 0,
    "start_time": "2023-12-01T17:04:56.074Z"
   },
   {
    "duration": 0,
    "start_time": "2023-12-01T17:04:56.075Z"
   },
   {
    "duration": 0,
    "start_time": "2023-12-01T17:04:56.076Z"
   },
   {
    "duration": 0,
    "start_time": "2023-12-01T17:04:56.077Z"
   },
   {
    "duration": 0,
    "start_time": "2023-12-01T17:04:56.077Z"
   },
   {
    "duration": 0,
    "start_time": "2023-12-01T17:04:56.079Z"
   },
   {
    "duration": 0,
    "start_time": "2023-12-01T17:04:56.080Z"
   },
   {
    "duration": 0,
    "start_time": "2023-12-01T17:04:56.082Z"
   },
   {
    "duration": 0,
    "start_time": "2023-12-01T17:04:56.083Z"
   },
   {
    "duration": 0,
    "start_time": "2023-12-01T17:04:56.084Z"
   },
   {
    "duration": 0,
    "start_time": "2023-12-01T17:04:56.085Z"
   },
   {
    "duration": 0,
    "start_time": "2023-12-01T17:04:56.086Z"
   },
   {
    "duration": 0,
    "start_time": "2023-12-01T17:04:56.087Z"
   },
   {
    "duration": 0,
    "start_time": "2023-12-01T17:04:56.088Z"
   },
   {
    "duration": 0,
    "start_time": "2023-12-01T17:04:56.089Z"
   },
   {
    "duration": 0,
    "start_time": "2023-12-01T17:04:56.090Z"
   },
   {
    "duration": 0,
    "start_time": "2023-12-01T17:04:56.091Z"
   },
   {
    "duration": 0,
    "start_time": "2023-12-01T17:04:56.091Z"
   },
   {
    "duration": 0,
    "start_time": "2023-12-01T17:04:56.092Z"
   },
   {
    "duration": 0,
    "start_time": "2023-12-01T17:04:56.094Z"
   },
   {
    "duration": 0,
    "start_time": "2023-12-01T17:04:56.095Z"
   },
   {
    "duration": 0,
    "start_time": "2023-12-01T17:04:56.096Z"
   },
   {
    "duration": 0,
    "start_time": "2023-12-01T17:04:56.097Z"
   },
   {
    "duration": 0,
    "start_time": "2023-12-01T17:04:56.098Z"
   },
   {
    "duration": 0,
    "start_time": "2023-12-01T17:04:56.099Z"
   },
   {
    "duration": 0,
    "start_time": "2023-12-01T17:04:56.100Z"
   },
   {
    "duration": 0,
    "start_time": "2023-12-01T17:04:56.101Z"
   },
   {
    "duration": 0,
    "start_time": "2023-12-01T17:04:56.102Z"
   },
   {
    "duration": 0,
    "start_time": "2023-12-01T17:04:56.103Z"
   },
   {
    "duration": 0,
    "start_time": "2023-12-01T17:04:56.104Z"
   },
   {
    "duration": 0,
    "start_time": "2023-12-01T17:04:56.105Z"
   },
   {
    "duration": 0,
    "start_time": "2023-12-01T17:04:56.169Z"
   },
   {
    "duration": 0,
    "start_time": "2023-12-01T17:04:56.172Z"
   },
   {
    "duration": 0,
    "start_time": "2023-12-01T17:04:56.173Z"
   },
   {
    "duration": 0,
    "start_time": "2023-12-01T17:04:56.173Z"
   },
   {
    "duration": 0,
    "start_time": "2023-12-01T17:04:56.174Z"
   },
   {
    "duration": 0,
    "start_time": "2023-12-01T17:04:56.175Z"
   },
   {
    "duration": 0,
    "start_time": "2023-12-01T17:04:56.176Z"
   },
   {
    "duration": 0,
    "start_time": "2023-12-01T17:04:56.177Z"
   },
   {
    "duration": 0,
    "start_time": "2023-12-01T17:04:56.178Z"
   },
   {
    "duration": 0,
    "start_time": "2023-12-01T17:04:56.179Z"
   },
   {
    "duration": 0,
    "start_time": "2023-12-01T17:04:56.181Z"
   },
   {
    "duration": 0,
    "start_time": "2023-12-01T17:04:56.183Z"
   },
   {
    "duration": 0,
    "start_time": "2023-12-01T17:04:56.184Z"
   },
   {
    "duration": 0,
    "start_time": "2023-12-01T17:04:56.185Z"
   },
   {
    "duration": 0,
    "start_time": "2023-12-01T17:04:56.186Z"
   },
   {
    "duration": 0,
    "start_time": "2023-12-01T17:04:56.187Z"
   },
   {
    "duration": 0,
    "start_time": "2023-12-01T17:04:56.187Z"
   },
   {
    "duration": 0,
    "start_time": "2023-12-01T17:04:56.189Z"
   },
   {
    "duration": 0,
    "start_time": "2023-12-01T17:04:56.189Z"
   },
   {
    "duration": 0,
    "start_time": "2023-12-01T17:04:56.190Z"
   },
   {
    "duration": 1370,
    "start_time": "2023-12-01T18:41:53.142Z"
   },
   {
    "duration": 204,
    "start_time": "2023-12-01T18:41:54.514Z"
   },
   {
    "duration": 71,
    "start_time": "2023-12-01T18:41:54.720Z"
   },
   {
    "duration": 16,
    "start_time": "2023-12-01T18:41:54.793Z"
   },
   {
    "duration": 2,
    "start_time": "2023-12-01T18:41:54.811Z"
   },
   {
    "duration": 12,
    "start_time": "2023-12-01T18:41:54.814Z"
   },
   {
    "duration": 2,
    "start_time": "2023-12-01T18:41:54.827Z"
   },
   {
    "duration": 16,
    "start_time": "2023-12-01T18:41:54.831Z"
   },
   {
    "duration": 18,
    "start_time": "2023-12-01T18:41:54.849Z"
   },
   {
    "duration": 11,
    "start_time": "2023-12-01T18:41:54.869Z"
   },
   {
    "duration": 3,
    "start_time": "2023-12-01T18:41:54.882Z"
   },
   {
    "duration": 25,
    "start_time": "2023-12-01T18:41:54.886Z"
   },
   {
    "duration": 26,
    "start_time": "2023-12-01T18:41:54.912Z"
   },
   {
    "duration": 13,
    "start_time": "2023-12-01T18:41:54.939Z"
   },
   {
    "duration": 4,
    "start_time": "2023-12-01T18:41:54.954Z"
   },
   {
    "duration": 7,
    "start_time": "2023-12-01T18:41:54.959Z"
   },
   {
    "duration": 12,
    "start_time": "2023-12-01T18:41:54.967Z"
   },
   {
    "duration": 26,
    "start_time": "2023-12-01T18:41:54.981Z"
   },
   {
    "duration": 24,
    "start_time": "2023-12-01T18:41:55.009Z"
   },
   {
    "duration": 23,
    "start_time": "2023-12-01T18:41:55.034Z"
   },
   {
    "duration": 2,
    "start_time": "2023-12-01T18:41:55.058Z"
   },
   {
    "duration": 5,
    "start_time": "2023-12-01T18:41:55.062Z"
   },
   {
    "duration": 7,
    "start_time": "2023-12-01T18:41:55.069Z"
   },
   {
    "duration": 14,
    "start_time": "2023-12-01T18:41:55.077Z"
   },
   {
    "duration": 13,
    "start_time": "2023-12-01T18:41:55.093Z"
   },
   {
    "duration": 18,
    "start_time": "2023-12-01T18:41:55.108Z"
   },
   {
    "duration": 2,
    "start_time": "2023-12-01T18:41:55.127Z"
   },
   {
    "duration": 3,
    "start_time": "2023-12-01T18:41:55.133Z"
   },
   {
    "duration": 4,
    "start_time": "2023-12-01T18:41:55.166Z"
   },
   {
    "duration": 4,
    "start_time": "2023-12-01T18:41:55.172Z"
   },
   {
    "duration": 20,
    "start_time": "2023-12-01T18:41:55.177Z"
   },
   {
    "duration": 5,
    "start_time": "2023-12-01T18:41:55.199Z"
   },
   {
    "duration": 14,
    "start_time": "2023-12-01T18:41:55.205Z"
   },
   {
    "duration": 5,
    "start_time": "2023-12-01T18:41:55.221Z"
   },
   {
    "duration": 12,
    "start_time": "2023-12-01T18:41:55.228Z"
   },
   {
    "duration": 26,
    "start_time": "2023-12-01T18:41:55.242Z"
   },
   {
    "duration": 5,
    "start_time": "2023-12-01T18:41:55.270Z"
   },
   {
    "duration": 4,
    "start_time": "2023-12-01T18:41:55.277Z"
   },
   {
    "duration": 6,
    "start_time": "2023-12-01T18:41:55.283Z"
   },
   {
    "duration": 49,
    "start_time": "2023-12-01T18:41:55.290Z"
   },
   {
    "duration": 2,
    "start_time": "2023-12-01T18:41:55.341Z"
   },
   {
    "duration": 36,
    "start_time": "2023-12-01T18:41:55.345Z"
   },
   {
    "duration": 11,
    "start_time": "2023-12-01T18:41:55.383Z"
   },
   {
    "duration": 13,
    "start_time": "2023-12-01T18:41:55.395Z"
   },
   {
    "duration": 10,
    "start_time": "2023-12-01T18:41:55.409Z"
   },
   {
    "duration": 4,
    "start_time": "2023-12-01T18:41:55.420Z"
   },
   {
    "duration": 13,
    "start_time": "2023-12-01T18:41:55.425Z"
   },
   {
    "duration": 41,
    "start_time": "2023-12-01T18:41:55.440Z"
   },
   {
    "duration": 92,
    "start_time": "2023-12-01T18:41:55.483Z"
   },
   {
    "duration": 12,
    "start_time": "2023-12-01T18:41:55.577Z"
   },
   {
    "duration": 35,
    "start_time": "2023-12-01T18:41:55.590Z"
   },
   {
    "duration": 13,
    "start_time": "2023-12-01T18:41:55.626Z"
   },
   {
    "duration": 14,
    "start_time": "2023-12-01T18:41:55.640Z"
   },
   {
    "duration": 10,
    "start_time": "2023-12-01T18:41:55.656Z"
   },
   {
    "duration": 16,
    "start_time": "2023-12-01T18:41:55.667Z"
   },
   {
    "duration": 444,
    "start_time": "2023-12-01T18:41:55.685Z"
   },
   {
    "duration": 3,
    "start_time": "2023-12-01T18:41:56.130Z"
   },
   {
    "duration": 15,
    "start_time": "2023-12-01T18:41:56.135Z"
   },
   {
    "duration": 5,
    "start_time": "2023-12-01T18:41:56.151Z"
   },
   {
    "duration": 28,
    "start_time": "2023-12-01T18:41:56.157Z"
   },
   {
    "duration": 7,
    "start_time": "2023-12-01T18:41:56.187Z"
   },
   {
    "duration": 20,
    "start_time": "2023-12-01T18:41:56.195Z"
   },
   {
    "duration": 11,
    "start_time": "2023-12-01T18:41:56.217Z"
   },
   {
    "duration": 5,
    "start_time": "2023-12-01T18:41:56.230Z"
   },
   {
    "duration": 6,
    "start_time": "2023-12-01T18:41:56.237Z"
   },
   {
    "duration": 26,
    "start_time": "2023-12-01T18:41:56.245Z"
   },
   {
    "duration": 16,
    "start_time": "2023-12-01T18:41:56.273Z"
   },
   {
    "duration": 7,
    "start_time": "2023-12-01T18:41:56.291Z"
   },
   {
    "duration": 5,
    "start_time": "2023-12-01T18:41:56.299Z"
   },
   {
    "duration": 3,
    "start_time": "2023-12-01T18:41:56.306Z"
   },
   {
    "duration": 19,
    "start_time": "2023-12-01T18:41:56.310Z"
   },
   {
    "duration": 5,
    "start_time": "2023-12-01T18:41:56.330Z"
   },
   {
    "duration": 57,
    "start_time": "2023-12-01T18:41:56.336Z"
   },
   {
    "duration": 7,
    "start_time": "2023-12-01T18:41:56.395Z"
   },
   {
    "duration": 9,
    "start_time": "2023-12-01T18:41:56.403Z"
   },
   {
    "duration": 11,
    "start_time": "2023-12-01T18:41:56.413Z"
   },
   {
    "duration": 16,
    "start_time": "2023-12-01T18:41:56.425Z"
   },
   {
    "duration": 24,
    "start_time": "2023-12-01T18:41:56.443Z"
   },
   {
    "duration": 7,
    "start_time": "2023-12-01T18:41:56.468Z"
   },
   {
    "duration": 39,
    "start_time": "2023-12-01T18:41:56.476Z"
   },
   {
    "duration": 4,
    "start_time": "2023-12-01T18:41:56.516Z"
   },
   {
    "duration": 7,
    "start_time": "2023-12-01T18:41:56.525Z"
   },
   {
    "duration": 56,
    "start_time": "2023-12-01T18:41:56.533Z"
   },
   {
    "duration": 357,
    "start_time": "2023-12-01T18:41:56.591Z"
   },
   {
    "duration": 18,
    "start_time": "2023-12-01T18:41:56.950Z"
   },
   {
    "duration": 13,
    "start_time": "2023-12-01T18:41:56.970Z"
   },
   {
    "duration": 12,
    "start_time": "2023-12-01T18:41:56.984Z"
   },
   {
    "duration": 32,
    "start_time": "2023-12-01T18:41:56.998Z"
   },
   {
    "duration": 11,
    "start_time": "2023-12-01T18:41:57.031Z"
   },
   {
    "duration": 7,
    "start_time": "2023-12-01T18:41:57.044Z"
   },
   {
    "duration": 14,
    "start_time": "2023-12-01T18:41:57.052Z"
   },
   {
    "duration": 12,
    "start_time": "2023-12-01T18:41:57.067Z"
   },
   {
    "duration": 93,
    "start_time": "2023-12-01T18:42:18.443Z"
   },
   {
    "duration": 18,
    "start_time": "2023-12-01T19:00:54.869Z"
   },
   {
    "duration": 8,
    "start_time": "2023-12-01T19:06:44.280Z"
   },
   {
    "duration": 13,
    "start_time": "2023-12-01T19:07:28.615Z"
   },
   {
    "duration": 117,
    "start_time": "2023-12-01T19:08:25.999Z"
   },
   {
    "duration": 20,
    "start_time": "2023-12-01T19:08:36.063Z"
   },
   {
    "duration": 20,
    "start_time": "2023-12-01T19:08:44.924Z"
   },
   {
    "duration": 21,
    "start_time": "2023-12-01T19:09:32.663Z"
   },
   {
    "duration": 17,
    "start_time": "2023-12-01T19:10:58.166Z"
   },
   {
    "duration": 15,
    "start_time": "2023-12-01T19:11:49.455Z"
   },
   {
    "duration": 15,
    "start_time": "2023-12-01T19:12:37.227Z"
   },
   {
    "duration": 16,
    "start_time": "2023-12-01T19:12:47.193Z"
   },
   {
    "duration": 20,
    "start_time": "2023-12-01T19:16:46.860Z"
   },
   {
    "duration": 22,
    "start_time": "2023-12-01T19:18:33.328Z"
   },
   {
    "duration": 25,
    "start_time": "2023-12-01T19:23:38.813Z"
   },
   {
    "duration": 279,
    "start_time": "2023-12-01T19:24:55.060Z"
   },
   {
    "duration": 265,
    "start_time": "2023-12-01T19:27:11.736Z"
   },
   {
    "duration": 20,
    "start_time": "2023-12-01T19:27:22.416Z"
   },
   {
    "duration": 76,
    "start_time": "2023-12-01T19:28:07.224Z"
   },
   {
    "duration": 90,
    "start_time": "2023-12-01T19:28:14.308Z"
   },
   {
    "duration": 15,
    "start_time": "2023-12-01T19:28:21.844Z"
   },
   {
    "duration": 17,
    "start_time": "2023-12-01T19:28:33.214Z"
   },
   {
    "duration": 21,
    "start_time": "2023-12-01T19:29:56.388Z"
   },
   {
    "duration": 21,
    "start_time": "2023-12-01T19:30:00.269Z"
   },
   {
    "duration": 16,
    "start_time": "2023-12-01T19:30:06.136Z"
   },
   {
    "duration": 22,
    "start_time": "2023-12-01T19:30:16.008Z"
   },
   {
    "duration": 17,
    "start_time": "2023-12-01T19:30:32.424Z"
   },
   {
    "duration": 29,
    "start_time": "2023-12-01T19:36:19.616Z"
   },
   {
    "duration": 42,
    "start_time": "2023-12-01T19:36:33.428Z"
   },
   {
    "duration": 23,
    "start_time": "2023-12-01T19:41:01.549Z"
   },
   {
    "duration": 87,
    "start_time": "2023-12-01T19:41:13.700Z"
   },
   {
    "duration": 1102,
    "start_time": "2023-12-01T19:41:18.756Z"
   },
   {
    "duration": 27,
    "start_time": "2023-12-01T19:41:48.476Z"
   },
   {
    "duration": 3114,
    "start_time": "2023-12-01T19:44:49.465Z"
   },
   {
    "duration": 16,
    "start_time": "2023-12-01T19:48:25.968Z"
   },
   {
    "duration": 19,
    "start_time": "2023-12-01T19:48:32.761Z"
   },
   {
    "duration": 23,
    "start_time": "2023-12-01T20:14:12.063Z"
   },
   {
    "duration": 20,
    "start_time": "2023-12-01T20:15:26.435Z"
   },
   {
    "duration": 22,
    "start_time": "2023-12-01T20:15:32.551Z"
   },
   {
    "duration": 21,
    "start_time": "2023-12-01T20:27:03.224Z"
   },
   {
    "duration": 10,
    "start_time": "2023-12-01T20:52:41.661Z"
   },
   {
    "duration": 12,
    "start_time": "2023-12-01T20:54:05.157Z"
   },
   {
    "duration": 5,
    "start_time": "2023-12-01T21:00:26.962Z"
   },
   {
    "duration": 5,
    "start_time": "2023-12-01T21:00:28.453Z"
   },
   {
    "duration": 11,
    "start_time": "2023-12-01T21:23:36.022Z"
   },
   {
    "duration": 8,
    "start_time": "2023-12-01T21:23:41.435Z"
   },
   {
    "duration": 9,
    "start_time": "2023-12-01T21:23:53.270Z"
   },
   {
    "duration": 5,
    "start_time": "2023-12-01T21:23:56.589Z"
   },
   {
    "duration": 5,
    "start_time": "2023-12-01T21:24:03.770Z"
   },
   {
    "duration": 6,
    "start_time": "2023-12-01T21:24:08.462Z"
   },
   {
    "duration": 108,
    "start_time": "2023-12-01T21:32:03.218Z"
   },
   {
    "duration": 21,
    "start_time": "2023-12-01T21:32:09.950Z"
   },
   {
    "duration": 18,
    "start_time": "2023-12-01T21:32:27.998Z"
   },
   {
    "duration": 17,
    "start_time": "2023-12-01T21:33:30.350Z"
   },
   {
    "duration": 26,
    "start_time": "2023-12-01T21:34:49.970Z"
   },
   {
    "duration": 34,
    "start_time": "2023-12-01T21:35:01.670Z"
   },
   {
    "duration": 28,
    "start_time": "2023-12-01T21:35:18.134Z"
   },
   {
    "duration": 35,
    "start_time": "2023-12-01T21:35:29.334Z"
   },
   {
    "duration": 32,
    "start_time": "2023-12-01T21:36:04.203Z"
   },
   {
    "duration": 28,
    "start_time": "2023-12-01T21:36:20.450Z"
   },
   {
    "duration": 29,
    "start_time": "2023-12-01T21:36:26.830Z"
   },
   {
    "duration": 77,
    "start_time": "2023-12-01T21:37:03.931Z"
   },
   {
    "duration": 29,
    "start_time": "2023-12-01T21:37:14.354Z"
   },
   {
    "duration": 30,
    "start_time": "2023-12-01T21:38:19.127Z"
   },
   {
    "duration": 9,
    "start_time": "2023-12-01T21:42:24.981Z"
   },
   {
    "duration": 8,
    "start_time": "2023-12-01T21:44:07.509Z"
   },
   {
    "duration": 13,
    "start_time": "2023-12-01T21:44:58.526Z"
   },
   {
    "duration": 11,
    "start_time": "2023-12-01T21:45:15.466Z"
   },
   {
    "duration": 28,
    "start_time": "2023-12-01T21:47:03.407Z"
   },
   {
    "duration": 16,
    "start_time": "2023-12-01T21:47:09.946Z"
   },
   {
    "duration": 78,
    "start_time": "2023-12-01T21:48:07.583Z"
   },
   {
    "duration": 1176,
    "start_time": "2023-12-01T21:48:10.522Z"
   },
   {
    "duration": 1135,
    "start_time": "2023-12-01T21:48:44.768Z"
   },
   {
    "duration": 1258,
    "start_time": "2023-12-01T21:49:29.399Z"
   },
   {
    "duration": 1126,
    "start_time": "2023-12-01T21:50:57.488Z"
   },
   {
    "duration": 90,
    "start_time": "2023-12-01T21:50:58.616Z"
   },
   {
    "duration": 38,
    "start_time": "2023-12-01T21:50:58.707Z"
   },
   {
    "duration": 14,
    "start_time": "2023-12-01T21:50:58.748Z"
   },
   {
    "duration": 8,
    "start_time": "2023-12-01T21:50:58.763Z"
   },
   {
    "duration": 12,
    "start_time": "2023-12-01T21:50:58.773Z"
   },
   {
    "duration": 12,
    "start_time": "2023-12-01T21:50:58.787Z"
   },
   {
    "duration": 19,
    "start_time": "2023-12-01T21:50:58.801Z"
   },
   {
    "duration": 10,
    "start_time": "2023-12-01T21:50:58.822Z"
   },
   {
    "duration": 9,
    "start_time": "2023-12-01T21:50:58.835Z"
   },
   {
    "duration": 14,
    "start_time": "2023-12-01T21:50:58.845Z"
   },
   {
    "duration": 8,
    "start_time": "2023-12-01T21:50:58.860Z"
   },
   {
    "duration": 11,
    "start_time": "2023-12-01T21:50:58.869Z"
   },
   {
    "duration": 4,
    "start_time": "2023-12-01T21:50:58.882Z"
   },
   {
    "duration": 18,
    "start_time": "2023-12-01T21:50:58.887Z"
   },
   {
    "duration": 4,
    "start_time": "2023-12-01T21:50:58.907Z"
   },
   {
    "duration": 8,
    "start_time": "2023-12-01T21:50:58.913Z"
   },
   {
    "duration": 16,
    "start_time": "2023-12-01T21:50:58.922Z"
   },
   {
    "duration": 33,
    "start_time": "2023-12-01T21:50:58.940Z"
   },
   {
    "duration": 9,
    "start_time": "2023-12-01T21:50:58.975Z"
   },
   {
    "duration": 4,
    "start_time": "2023-12-01T21:50:58.986Z"
   },
   {
    "duration": 8,
    "start_time": "2023-12-01T21:50:58.991Z"
   },
   {
    "duration": 7,
    "start_time": "2023-12-01T21:50:59.000Z"
   },
   {
    "duration": 19,
    "start_time": "2023-12-01T21:50:59.009Z"
   },
   {
    "duration": 12,
    "start_time": "2023-12-01T21:50:59.030Z"
   },
   {
    "duration": 37,
    "start_time": "2023-12-01T21:50:59.044Z"
   },
   {
    "duration": 2,
    "start_time": "2023-12-01T21:50:59.082Z"
   },
   {
    "duration": 2,
    "start_time": "2023-12-01T21:50:59.088Z"
   },
   {
    "duration": 5,
    "start_time": "2023-12-01T21:50:59.091Z"
   },
   {
    "duration": 3,
    "start_time": "2023-12-01T21:50:59.097Z"
   },
   {
    "duration": 17,
    "start_time": "2023-12-01T21:50:59.101Z"
   },
   {
    "duration": 23207,
    "start_time": "2023-12-01T21:50:59.119Z"
   },
   {
    "duration": 4,
    "start_time": "2023-12-01T21:51:22.328Z"
   },
   {
    "duration": 13,
    "start_time": "2023-12-01T21:51:22.334Z"
   },
   {
    "duration": 17,
    "start_time": "2023-12-01T21:51:22.348Z"
   },
   {
    "duration": 8,
    "start_time": "2023-12-01T21:51:22.367Z"
   },
   {
    "duration": 6,
    "start_time": "2023-12-01T21:51:22.377Z"
   },
   {
    "duration": 8,
    "start_time": "2023-12-01T21:51:22.384Z"
   },
   {
    "duration": 5,
    "start_time": "2023-12-01T21:51:22.393Z"
   },
   {
    "duration": 15,
    "start_time": "2023-12-01T21:51:22.399Z"
   },
   {
    "duration": 56,
    "start_time": "2023-12-01T21:51:22.416Z"
   },
   {
    "duration": 3,
    "start_time": "2023-12-01T21:51:22.473Z"
   },
   {
    "duration": 27,
    "start_time": "2023-12-01T21:51:22.477Z"
   },
   {
    "duration": 15,
    "start_time": "2023-12-01T21:51:22.505Z"
   },
   {
    "duration": 2,
    "start_time": "2023-12-01T21:51:22.522Z"
   },
   {
    "duration": 9,
    "start_time": "2023-12-01T21:51:22.525Z"
   },
   {
    "duration": 9,
    "start_time": "2023-12-01T21:51:22.536Z"
   },
   {
    "duration": 23,
    "start_time": "2023-12-01T21:51:22.546Z"
   },
   {
    "duration": 16,
    "start_time": "2023-12-01T21:51:22.570Z"
   },
   {
    "duration": 39,
    "start_time": "2023-12-01T21:51:22.588Z"
   },
   {
    "duration": 77,
    "start_time": "2023-12-01T21:51:22.629Z"
   },
   {
    "duration": 14,
    "start_time": "2023-12-01T21:51:22.708Z"
   },
   {
    "duration": 13,
    "start_time": "2023-12-01T21:51:22.724Z"
   },
   {
    "duration": 36,
    "start_time": "2023-12-01T21:51:22.739Z"
   },
   {
    "duration": 13,
    "start_time": "2023-12-01T21:51:22.777Z"
   },
   {
    "duration": 9,
    "start_time": "2023-12-01T21:51:22.792Z"
   },
   {
    "duration": 13,
    "start_time": "2023-12-01T21:51:22.803Z"
   },
   {
    "duration": 382,
    "start_time": "2023-12-01T21:51:22.817Z"
   },
   {
    "duration": 4,
    "start_time": "2023-12-01T21:51:23.201Z"
   },
   {
    "duration": 41,
    "start_time": "2023-12-01T21:51:23.206Z"
   },
   {
    "duration": 21,
    "start_time": "2023-12-01T21:51:23.249Z"
   },
   {
    "duration": 17,
    "start_time": "2023-12-01T21:51:23.272Z"
   },
   {
    "duration": 6,
    "start_time": "2023-12-01T21:51:23.290Z"
   },
   {
    "duration": 17,
    "start_time": "2023-12-01T21:51:23.298Z"
   },
   {
    "duration": 10,
    "start_time": "2023-12-01T21:51:23.317Z"
   },
   {
    "duration": 7,
    "start_time": "2023-12-01T21:51:23.329Z"
   },
   {
    "duration": 21,
    "start_time": "2023-12-01T21:51:23.337Z"
   },
   {
    "duration": 11,
    "start_time": "2023-12-01T21:51:23.360Z"
   },
   {
    "duration": 26,
    "start_time": "2023-12-01T21:51:23.372Z"
   },
   {
    "duration": 20,
    "start_time": "2023-12-01T21:51:23.400Z"
   },
   {
    "duration": 7,
    "start_time": "2023-12-01T21:51:23.421Z"
   },
   {
    "duration": 7,
    "start_time": "2023-12-01T21:51:23.429Z"
   },
   {
    "duration": 16,
    "start_time": "2023-12-01T21:51:23.437Z"
   },
   {
    "duration": 14,
    "start_time": "2023-12-01T21:51:23.454Z"
   },
   {
    "duration": 38,
    "start_time": "2023-12-01T21:51:23.470Z"
   },
   {
    "duration": 7,
    "start_time": "2023-12-01T21:51:23.510Z"
   },
   {
    "duration": 17,
    "start_time": "2023-12-01T21:51:23.518Z"
   },
   {
    "duration": 15,
    "start_time": "2023-12-01T21:51:23.536Z"
   },
   {
    "duration": 14,
    "start_time": "2023-12-01T21:51:23.553Z"
   },
   {
    "duration": 11,
    "start_time": "2023-12-01T21:51:23.569Z"
   },
   {
    "duration": 15,
    "start_time": "2023-12-01T21:51:23.582Z"
   },
   {
    "duration": 57,
    "start_time": "2023-12-01T21:51:23.602Z"
   },
   {
    "duration": 27,
    "start_time": "2023-12-01T21:51:23.660Z"
   },
   {
    "duration": 21,
    "start_time": "2023-12-01T21:51:23.689Z"
   },
   {
    "duration": 45,
    "start_time": "2023-12-01T21:51:23.711Z"
   },
   {
    "duration": 323,
    "start_time": "2023-12-01T21:51:23.758Z"
   },
   {
    "duration": 7,
    "start_time": "2023-12-01T21:51:24.083Z"
   },
   {
    "duration": 11,
    "start_time": "2023-12-01T21:51:24.091Z"
   },
   {
    "duration": 25,
    "start_time": "2023-12-01T21:51:24.103Z"
   },
   {
    "duration": 9,
    "start_time": "2023-12-01T21:51:24.130Z"
   },
   {
    "duration": 16,
    "start_time": "2023-12-01T21:51:24.140Z"
   },
   {
    "duration": 17,
    "start_time": "2023-12-01T21:51:24.157Z"
   },
   {
    "duration": 14,
    "start_time": "2023-12-01T21:51:24.175Z"
   },
   {
    "duration": 19,
    "start_time": "2023-12-01T21:51:24.190Z"
   },
   {
    "duration": 22523,
    "start_time": "2023-12-01T21:52:06.519Z"
   },
   {
    "duration": 35,
    "start_time": "2023-12-01T21:53:52.481Z"
   },
   {
    "duration": 39,
    "start_time": "2023-12-01T21:54:10.595Z"
   },
   {
    "duration": 94,
    "start_time": "2023-12-01T21:54:17.290Z"
   },
   {
    "duration": 95,
    "start_time": "2023-12-01T21:54:20.624Z"
   },
   {
    "duration": 36,
    "start_time": "2023-12-01T21:54:27.363Z"
   },
   {
    "duration": 37,
    "start_time": "2023-12-01T22:09:00.347Z"
   },
   {
    "duration": 9,
    "start_time": "2023-12-01T22:18:49.730Z"
   },
   {
    "duration": 10,
    "start_time": "2023-12-01T22:18:57.945Z"
   },
   {
    "duration": 10,
    "start_time": "2023-12-01T22:19:56.705Z"
   },
   {
    "duration": 9,
    "start_time": "2023-12-01T22:20:03.937Z"
   },
   {
    "duration": 8,
    "start_time": "2023-12-01T22:21:21.277Z"
   },
   {
    "duration": 8,
    "start_time": "2023-12-01T22:21:30.664Z"
   },
   {
    "duration": 25,
    "start_time": "2023-12-01T22:21:36.525Z"
   },
   {
    "duration": 10,
    "start_time": "2023-12-01T22:21:50.242Z"
   },
   {
    "duration": 11,
    "start_time": "2023-12-01T22:33:49.626Z"
   },
   {
    "duration": 35,
    "start_time": "2023-12-01T22:37:26.019Z"
   },
   {
    "duration": 23,
    "start_time": "2023-12-01T22:37:41.971Z"
   },
   {
    "duration": 45,
    "start_time": "2023-12-01T22:37:49.221Z"
   },
   {
    "duration": 11,
    "start_time": "2023-12-01T22:39:50.112Z"
   },
   {
    "duration": 7,
    "start_time": "2023-12-01T22:47:01.284Z"
   },
   {
    "duration": 6,
    "start_time": "2023-12-01T22:48:47.559Z"
   },
   {
    "duration": 8,
    "start_time": "2023-12-01T22:51:09.185Z"
   },
   {
    "duration": 20,
    "start_time": "2023-12-01T22:51:13.536Z"
   },
   {
    "duration": 14,
    "start_time": "2023-12-01T22:51:58.152Z"
   },
   {
    "duration": 11,
    "start_time": "2023-12-01T22:54:22.114Z"
   },
   {
    "duration": 22,
    "start_time": "2023-12-01T22:54:29.333Z"
   },
   {
    "duration": 78,
    "start_time": "2023-12-01T22:58:04.856Z"
   },
   {
    "duration": 71,
    "start_time": "2023-12-01T22:58:49.777Z"
   },
   {
    "duration": 5,
    "start_time": "2023-12-01T22:59:16.266Z"
   },
   {
    "duration": 47,
    "start_time": "2023-12-01T22:59:18.754Z"
   },
   {
    "duration": 40,
    "start_time": "2023-12-01T22:59:26.433Z"
   },
   {
    "duration": 40,
    "start_time": "2023-12-01T22:59:47.097Z"
   },
   {
    "duration": 63,
    "start_time": "2023-12-01T22:59:50.134Z"
   },
   {
    "duration": 41,
    "start_time": "2023-12-01T23:01:27.728Z"
   },
   {
    "duration": 64,
    "start_time": "2023-12-01T23:01:38.273Z"
   },
   {
    "duration": 484,
    "start_time": "2023-12-01T23:02:07.706Z"
   },
   {
    "duration": 493,
    "start_time": "2023-12-01T23:02:47.742Z"
   },
   {
    "duration": 417,
    "start_time": "2023-12-01T23:03:10.126Z"
   },
   {
    "duration": 409,
    "start_time": "2023-12-01T23:03:39.942Z"
   },
   {
    "duration": 421,
    "start_time": "2023-12-01T23:03:42.770Z"
   },
   {
    "duration": 384,
    "start_time": "2023-12-01T23:03:58.961Z"
   },
   {
    "duration": 151,
    "start_time": "2023-12-01T23:04:10.762Z"
   },
   {
    "duration": 142,
    "start_time": "2023-12-01T23:05:41.896Z"
   },
   {
    "duration": 64,
    "start_time": "2023-12-01T23:05:46.562Z"
   },
   {
    "duration": 540,
    "start_time": "2023-12-01T23:10:20.454Z"
   },
   {
    "duration": 158,
    "start_time": "2023-12-01T23:11:40.243Z"
   },
   {
    "duration": 170,
    "start_time": "2023-12-01T23:11:54.899Z"
   },
   {
    "duration": 620,
    "start_time": "2023-12-01T23:12:03.639Z"
   },
   {
    "duration": 519,
    "start_time": "2023-12-01T23:12:38.383Z"
   },
   {
    "duration": 101,
    "start_time": "2023-12-01T23:42:37.492Z"
   },
   {
    "duration": 1193,
    "start_time": "2023-12-01T23:48:36.122Z"
   },
   {
    "duration": 109,
    "start_time": "2023-12-01T23:48:37.316Z"
   },
   {
    "duration": 39,
    "start_time": "2023-12-01T23:48:37.427Z"
   },
   {
    "duration": 17,
    "start_time": "2023-12-01T23:48:37.468Z"
   },
   {
    "duration": 4,
    "start_time": "2023-12-01T23:48:37.487Z"
   },
   {
    "duration": 17,
    "start_time": "2023-12-01T23:48:37.492Z"
   },
   {
    "duration": 3,
    "start_time": "2023-12-01T23:48:37.510Z"
   },
   {
    "duration": 16,
    "start_time": "2023-12-01T23:48:37.515Z"
   },
   {
    "duration": 35,
    "start_time": "2023-12-01T23:48:37.533Z"
   },
   {
    "duration": 10,
    "start_time": "2023-12-01T23:48:37.571Z"
   },
   {
    "duration": 3,
    "start_time": "2023-12-01T23:48:37.582Z"
   },
   {
    "duration": 8,
    "start_time": "2023-12-01T23:48:37.587Z"
   },
   {
    "duration": 9,
    "start_time": "2023-12-01T23:48:37.597Z"
   },
   {
    "duration": 4,
    "start_time": "2023-12-01T23:48:37.607Z"
   },
   {
    "duration": 4,
    "start_time": "2023-12-01T23:48:37.612Z"
   },
   {
    "duration": 8,
    "start_time": "2023-12-01T23:48:37.617Z"
   },
   {
    "duration": 40,
    "start_time": "2023-12-01T23:48:37.626Z"
   },
   {
    "duration": 13,
    "start_time": "2023-12-01T23:48:37.667Z"
   },
   {
    "duration": 21,
    "start_time": "2023-12-01T23:48:37.682Z"
   },
   {
    "duration": 9,
    "start_time": "2023-12-01T23:48:37.705Z"
   },
   {
    "duration": 2,
    "start_time": "2023-12-01T23:48:37.716Z"
   },
   {
    "duration": 7,
    "start_time": "2023-12-01T23:48:37.719Z"
   },
   {
    "duration": 6,
    "start_time": "2023-12-01T23:48:37.727Z"
   },
   {
    "duration": 14,
    "start_time": "2023-12-01T23:48:37.766Z"
   },
   {
    "duration": 12,
    "start_time": "2023-12-01T23:48:37.782Z"
   },
   {
    "duration": 17,
    "start_time": "2023-12-01T23:48:37.796Z"
   },
   {
    "duration": 3,
    "start_time": "2023-12-01T23:48:37.814Z"
   },
   {
    "duration": 2,
    "start_time": "2023-12-01T23:48:37.821Z"
   },
   {
    "duration": 41,
    "start_time": "2023-12-01T23:48:37.824Z"
   },
   {
    "duration": 3,
    "start_time": "2023-12-01T23:48:37.867Z"
   },
   {
    "duration": 29,
    "start_time": "2023-12-01T23:48:37.871Z"
   },
   {
    "duration": 555,
    "start_time": "2023-12-01T23:48:37.901Z"
   },
   {
    "duration": 4,
    "start_time": "2023-12-01T23:48:38.458Z"
   },
   {
    "duration": 6,
    "start_time": "2023-12-01T23:48:38.465Z"
   },
   {
    "duration": 5,
    "start_time": "2023-12-01T23:48:38.473Z"
   },
   {
    "duration": 7,
    "start_time": "2023-12-01T23:48:38.480Z"
   },
   {
    "duration": 4,
    "start_time": "2023-12-01T23:48:38.489Z"
   },
   {
    "duration": 10,
    "start_time": "2023-12-01T23:48:38.494Z"
   },
   {
    "duration": 5,
    "start_time": "2023-12-01T23:48:38.505Z"
   },
   {
    "duration": 14,
    "start_time": "2023-12-01T23:48:38.511Z"
   },
   {
    "duration": 57,
    "start_time": "2023-12-01T23:48:38.526Z"
   },
   {
    "duration": 2,
    "start_time": "2023-12-01T23:48:38.585Z"
   },
   {
    "duration": 21,
    "start_time": "2023-12-01T23:48:38.589Z"
   },
   {
    "duration": 20,
    "start_time": "2023-12-01T23:48:38.611Z"
   },
   {
    "duration": 34,
    "start_time": "2023-12-01T23:48:38.632Z"
   },
   {
    "duration": 7,
    "start_time": "2023-12-01T23:48:38.667Z"
   },
   {
    "duration": 5,
    "start_time": "2023-12-01T23:48:38.675Z"
   },
   {
    "duration": 5,
    "start_time": "2023-12-01T23:48:38.681Z"
   },
   {
    "duration": 4,
    "start_time": "2023-12-01T23:48:38.688Z"
   },
   {
    "duration": 30,
    "start_time": "2023-12-01T23:48:38.694Z"
   },
   {
    "duration": 93,
    "start_time": "2023-12-01T23:48:38.726Z"
   },
   {
    "duration": 12,
    "start_time": "2023-12-01T23:48:38.821Z"
   },
   {
    "duration": 13,
    "start_time": "2023-12-01T23:48:38.834Z"
   },
   {
    "duration": 28,
    "start_time": "2023-12-01T23:48:38.848Z"
   },
   {
    "duration": 17,
    "start_time": "2023-12-01T23:48:38.877Z"
   },
   {
    "duration": 5,
    "start_time": "2023-12-01T23:48:38.896Z"
   },
   {
    "duration": 11,
    "start_time": "2023-12-01T23:48:38.903Z"
   },
   {
    "duration": 364,
    "start_time": "2023-12-01T23:48:38.915Z"
   },
   {
    "duration": 4,
    "start_time": "2023-12-01T23:48:39.280Z"
   },
   {
    "duration": 16,
    "start_time": "2023-12-01T23:48:39.285Z"
   },
   {
    "duration": 7,
    "start_time": "2023-12-01T23:48:39.302Z"
   },
   {
    "duration": 19,
    "start_time": "2023-12-01T23:48:39.310Z"
   },
   {
    "duration": 5,
    "start_time": "2023-12-01T23:48:39.330Z"
   },
   {
    "duration": 11,
    "start_time": "2023-12-01T23:48:39.337Z"
   },
   {
    "duration": 31,
    "start_time": "2023-12-01T23:48:39.349Z"
   },
   {
    "duration": 22,
    "start_time": "2023-12-01T23:48:39.381Z"
   },
   {
    "duration": 11,
    "start_time": "2023-12-01T23:48:39.405Z"
   },
   {
    "duration": 18,
    "start_time": "2023-12-01T23:48:39.417Z"
   },
   {
    "duration": 20,
    "start_time": "2023-12-01T23:48:39.437Z"
   },
   {
    "duration": 15,
    "start_time": "2023-12-01T23:48:39.459Z"
   },
   {
    "duration": 11,
    "start_time": "2023-12-01T23:48:39.476Z"
   },
   {
    "duration": 11,
    "start_time": "2023-12-01T23:48:39.488Z"
   },
   {
    "duration": 21,
    "start_time": "2023-12-01T23:48:39.500Z"
   },
   {
    "duration": 5,
    "start_time": "2023-12-01T23:48:39.522Z"
   },
   {
    "duration": 28,
    "start_time": "2023-12-01T23:48:39.529Z"
   },
   {
    "duration": 7,
    "start_time": "2023-12-01T23:48:39.558Z"
   },
   {
    "duration": 18,
    "start_time": "2023-12-01T23:48:39.567Z"
   },
   {
    "duration": 6,
    "start_time": "2023-12-01T23:48:39.586Z"
   },
   {
    "duration": 12,
    "start_time": "2023-12-01T23:48:39.593Z"
   },
   {
    "duration": 12,
    "start_time": "2023-12-01T23:48:39.606Z"
   },
   {
    "duration": 5,
    "start_time": "2023-12-01T23:48:39.619Z"
   },
   {
    "duration": 46,
    "start_time": "2023-12-01T23:48:39.630Z"
   },
   {
    "duration": 7,
    "start_time": "2023-12-01T23:48:39.678Z"
   },
   {
    "duration": 15,
    "start_time": "2023-12-01T23:48:39.686Z"
   },
   {
    "duration": 31,
    "start_time": "2023-12-01T23:48:39.703Z"
   },
   {
    "duration": 332,
    "start_time": "2023-12-01T23:48:39.736Z"
   },
   {
    "duration": 7,
    "start_time": "2023-12-01T23:48:40.070Z"
   },
   {
    "duration": 27,
    "start_time": "2023-12-01T23:48:40.079Z"
   },
   {
    "duration": 11,
    "start_time": "2023-12-01T23:48:40.107Z"
   },
   {
    "duration": 8,
    "start_time": "2023-12-01T23:48:40.119Z"
   },
   {
    "duration": 6,
    "start_time": "2023-12-01T23:48:40.128Z"
   },
   {
    "duration": 7,
    "start_time": "2023-12-01T23:48:40.136Z"
   },
   {
    "duration": 14,
    "start_time": "2023-12-01T23:48:40.145Z"
   },
   {
    "duration": 21,
    "start_time": "2023-12-01T23:48:40.160Z"
   },
   {
    "duration": 1135,
    "start_time": "2023-12-01T23:57:42.178Z"
   },
   {
    "duration": 90,
    "start_time": "2023-12-01T23:57:43.315Z"
   },
   {
    "duration": 38,
    "start_time": "2023-12-01T23:57:43.407Z"
   },
   {
    "duration": 16,
    "start_time": "2023-12-01T23:57:43.447Z"
   },
   {
    "duration": 14,
    "start_time": "2023-12-01T23:57:43.464Z"
   },
   {
    "duration": 16,
    "start_time": "2023-12-01T23:57:43.480Z"
   },
   {
    "duration": 4,
    "start_time": "2023-12-01T23:57:43.497Z"
   },
   {
    "duration": 41,
    "start_time": "2023-12-01T23:57:43.502Z"
   },
   {
    "duration": 12,
    "start_time": "2023-12-01T23:57:43.544Z"
   },
   {
    "duration": 10,
    "start_time": "2023-12-01T23:57:43.558Z"
   },
   {
    "duration": 3,
    "start_time": "2023-12-01T23:57:43.569Z"
   },
   {
    "duration": 7,
    "start_time": "2023-12-01T23:57:43.574Z"
   },
   {
    "duration": 9,
    "start_time": "2023-12-01T23:57:43.583Z"
   },
   {
    "duration": 8,
    "start_time": "2023-12-01T23:57:43.594Z"
   },
   {
    "duration": 9,
    "start_time": "2023-12-01T23:57:43.604Z"
   },
   {
    "duration": 14,
    "start_time": "2023-12-01T23:57:43.615Z"
   },
   {
    "duration": 15,
    "start_time": "2023-12-01T23:57:43.631Z"
   },
   {
    "duration": 28,
    "start_time": "2023-12-01T23:57:43.648Z"
   },
   {
    "duration": 25,
    "start_time": "2023-12-01T23:57:43.678Z"
   },
   {
    "duration": 11,
    "start_time": "2023-12-01T23:57:43.704Z"
   },
   {
    "duration": 4,
    "start_time": "2023-12-01T23:57:43.717Z"
   },
   {
    "duration": 14,
    "start_time": "2023-12-01T23:57:43.722Z"
   },
   {
    "duration": 19,
    "start_time": "2023-12-01T23:57:43.737Z"
   },
   {
    "duration": 15,
    "start_time": "2023-12-01T23:57:43.766Z"
   },
   {
    "duration": 14,
    "start_time": "2023-12-01T23:57:43.783Z"
   },
   {
    "duration": 23,
    "start_time": "2023-12-01T23:57:43.798Z"
   },
   {
    "duration": 3,
    "start_time": "2023-12-01T23:57:43.822Z"
   },
   {
    "duration": 3,
    "start_time": "2023-12-01T23:57:43.829Z"
   },
   {
    "duration": 34,
    "start_time": "2023-12-01T23:57:43.833Z"
   },
   {
    "duration": 9,
    "start_time": "2023-12-01T23:57:43.869Z"
   },
   {
    "duration": 20,
    "start_time": "2023-12-01T23:57:43.879Z"
   },
   {
    "duration": 587,
    "start_time": "2023-12-01T23:57:43.901Z"
   },
   {
    "duration": 4,
    "start_time": "2023-12-01T23:57:44.490Z"
   },
   {
    "duration": 28,
    "start_time": "2023-12-01T23:57:44.496Z"
   },
   {
    "duration": 6,
    "start_time": "2023-12-01T23:57:44.525Z"
   },
   {
    "duration": 13,
    "start_time": "2023-12-01T23:57:44.532Z"
   },
   {
    "duration": 15,
    "start_time": "2023-12-01T23:57:44.546Z"
   },
   {
    "duration": 8,
    "start_time": "2023-12-01T23:57:44.562Z"
   },
   {
    "duration": 27,
    "start_time": "2023-12-01T23:57:44.571Z"
   },
   {
    "duration": 16,
    "start_time": "2023-12-01T23:57:44.599Z"
   },
   {
    "duration": 37,
    "start_time": "2023-12-01T23:57:44.617Z"
   },
   {
    "duration": 2,
    "start_time": "2023-12-01T23:57:44.656Z"
   },
   {
    "duration": 70,
    "start_time": "2023-12-01T23:57:44.660Z"
   },
   {
    "duration": 15,
    "start_time": "2023-12-01T23:57:44.732Z"
   },
   {
    "duration": 73,
    "start_time": "2023-12-01T23:57:44.748Z"
   },
   {
    "duration": 5,
    "start_time": "2023-12-01T23:57:44.822Z"
   },
   {
    "duration": 5,
    "start_time": "2023-12-01T23:57:44.828Z"
   },
   {
    "duration": 7,
    "start_time": "2023-12-01T23:57:44.835Z"
   },
   {
    "duration": 5,
    "start_time": "2023-12-01T23:57:44.844Z"
   },
   {
    "duration": 35,
    "start_time": "2023-12-01T23:57:44.850Z"
   },
   {
    "duration": 72,
    "start_time": "2023-12-01T23:57:44.886Z"
   },
   {
    "duration": 11,
    "start_time": "2023-12-01T23:57:44.966Z"
   },
   {
    "duration": 13,
    "start_time": "2023-12-01T23:57:44.979Z"
   },
   {
    "duration": 16,
    "start_time": "2023-12-01T23:57:44.993Z"
   },
   {
    "duration": 101,
    "start_time": "2023-12-01T23:57:45.011Z"
   },
   {
    "duration": 50,
    "start_time": "2023-12-01T23:57:45.114Z"
   },
   {
    "duration": 22,
    "start_time": "2023-12-01T23:57:45.165Z"
   },
   {
    "duration": 342,
    "start_time": "2023-12-01T23:57:45.189Z"
   },
   {
    "duration": 5,
    "start_time": "2023-12-01T23:57:45.532Z"
   },
   {
    "duration": 5,
    "start_time": "2023-12-01T23:57:45.538Z"
   },
   {
    "duration": 22,
    "start_time": "2023-12-01T23:57:45.544Z"
   },
   {
    "duration": 18,
    "start_time": "2023-12-01T23:57:45.567Z"
   },
   {
    "duration": 6,
    "start_time": "2023-12-01T23:57:45.586Z"
   },
   {
    "duration": 6,
    "start_time": "2023-12-01T23:57:45.594Z"
   },
   {
    "duration": 20,
    "start_time": "2023-12-01T23:57:45.602Z"
   },
   {
    "duration": 7,
    "start_time": "2023-12-01T23:57:45.624Z"
   },
   {
    "duration": 7,
    "start_time": "2023-12-01T23:57:45.632Z"
   },
   {
    "duration": 31,
    "start_time": "2023-12-01T23:57:45.641Z"
   },
   {
    "duration": 13,
    "start_time": "2023-12-01T23:57:45.674Z"
   },
   {
    "duration": 7,
    "start_time": "2023-12-01T23:57:45.689Z"
   },
   {
    "duration": 8,
    "start_time": "2023-12-01T23:57:45.698Z"
   },
   {
    "duration": 4,
    "start_time": "2023-12-01T23:57:45.707Z"
   },
   {
    "duration": 17,
    "start_time": "2023-12-01T23:57:45.712Z"
   },
   {
    "duration": 4,
    "start_time": "2023-12-01T23:57:45.736Z"
   },
   {
    "duration": 34,
    "start_time": "2023-12-01T23:57:45.765Z"
   },
   {
    "duration": 7,
    "start_time": "2023-12-01T23:57:45.801Z"
   },
   {
    "duration": 16,
    "start_time": "2023-12-01T23:57:45.809Z"
   },
   {
    "duration": 23,
    "start_time": "2023-12-01T23:57:45.827Z"
   },
   {
    "duration": 18,
    "start_time": "2023-12-01T23:57:45.852Z"
   },
   {
    "duration": 24,
    "start_time": "2023-12-01T23:57:45.871Z"
   },
   {
    "duration": 12,
    "start_time": "2023-12-01T23:57:45.897Z"
   },
   {
    "duration": 43,
    "start_time": "2023-12-01T23:57:45.915Z"
   },
   {
    "duration": 5,
    "start_time": "2023-12-01T23:57:45.965Z"
   },
   {
    "duration": 10,
    "start_time": "2023-12-01T23:57:45.972Z"
   },
   {
    "duration": 27,
    "start_time": "2023-12-01T23:57:45.983Z"
   },
   {
    "duration": 329,
    "start_time": "2023-12-01T23:57:46.012Z"
   },
   {
    "duration": 8,
    "start_time": "2023-12-01T23:57:46.343Z"
   },
   {
    "duration": 27,
    "start_time": "2023-12-01T23:57:46.352Z"
   },
   {
    "duration": 13,
    "start_time": "2023-12-01T23:57:46.381Z"
   },
   {
    "duration": 23,
    "start_time": "2023-12-01T23:57:46.395Z"
   },
   {
    "duration": 9,
    "start_time": "2023-12-01T23:57:46.420Z"
   },
   {
    "duration": 7,
    "start_time": "2023-12-01T23:57:46.431Z"
   },
   {
    "duration": 13,
    "start_time": "2023-12-01T23:57:46.439Z"
   },
   {
    "duration": 14,
    "start_time": "2023-12-01T23:57:46.454Z"
   },
   {
    "duration": 1110,
    "start_time": "2023-12-02T00:11:53.697Z"
   },
   {
    "duration": 90,
    "start_time": "2023-12-02T00:11:54.809Z"
   },
   {
    "duration": 38,
    "start_time": "2023-12-02T00:11:54.901Z"
   },
   {
    "duration": 15,
    "start_time": "2023-12-02T00:11:54.940Z"
   },
   {
    "duration": 2,
    "start_time": "2023-12-02T00:11:54.956Z"
   },
   {
    "duration": 10,
    "start_time": "2023-12-02T00:11:54.960Z"
   },
   {
    "duration": 3,
    "start_time": "2023-12-02T00:11:54.971Z"
   },
   {
    "duration": 15,
    "start_time": "2023-12-02T00:11:54.975Z"
   },
   {
    "duration": 11,
    "start_time": "2023-12-02T00:11:54.991Z"
   },
   {
    "duration": 10,
    "start_time": "2023-12-02T00:11:55.004Z"
   },
   {
    "duration": 3,
    "start_time": "2023-12-02T00:11:55.016Z"
   },
   {
    "duration": 36,
    "start_time": "2023-12-02T00:11:55.020Z"
   },
   {
    "duration": 23,
    "start_time": "2023-12-02T00:11:55.058Z"
   },
   {
    "duration": 8,
    "start_time": "2023-12-02T00:11:55.082Z"
   },
   {
    "duration": 12,
    "start_time": "2023-12-02T00:11:55.092Z"
   },
   {
    "duration": 12,
    "start_time": "2023-12-02T00:11:55.105Z"
   },
   {
    "duration": 10,
    "start_time": "2023-12-02T00:11:55.118Z"
   },
   {
    "duration": 25,
    "start_time": "2023-12-02T00:11:55.129Z"
   },
   {
    "duration": 23,
    "start_time": "2023-12-02T00:11:55.155Z"
   },
   {
    "duration": 10,
    "start_time": "2023-12-02T00:11:55.179Z"
   },
   {
    "duration": 5,
    "start_time": "2023-12-02T00:11:55.190Z"
   },
   {
    "duration": 11,
    "start_time": "2023-12-02T00:11:55.197Z"
   },
   {
    "duration": 11,
    "start_time": "2023-12-02T00:11:55.209Z"
   },
   {
    "duration": 20,
    "start_time": "2023-12-02T00:11:55.221Z"
   },
   {
    "duration": 24,
    "start_time": "2023-12-02T00:11:55.243Z"
   },
   {
    "duration": 18,
    "start_time": "2023-12-02T00:11:55.268Z"
   },
   {
    "duration": 4,
    "start_time": "2023-12-02T00:11:55.288Z"
   },
   {
    "duration": 3,
    "start_time": "2023-12-02T00:11:55.297Z"
   },
   {
    "duration": 5,
    "start_time": "2023-12-02T00:11:55.301Z"
   },
   {
    "duration": 14,
    "start_time": "2023-12-02T00:11:55.307Z"
   },
   {
    "duration": 29,
    "start_time": "2023-12-02T00:11:55.323Z"
   },
   {
    "duration": 614,
    "start_time": "2023-12-02T00:11:55.353Z"
   },
   {
    "duration": 6,
    "start_time": "2023-12-02T00:11:55.969Z"
   },
   {
    "duration": 53,
    "start_time": "2023-12-02T00:11:55.977Z"
   },
   {
    "duration": 34,
    "start_time": "2023-12-02T00:11:56.032Z"
   },
   {
    "duration": 19,
    "start_time": "2023-12-02T00:11:56.067Z"
   },
   {
    "duration": 20,
    "start_time": "2023-12-02T00:11:56.088Z"
   },
   {
    "duration": 7,
    "start_time": "2023-12-02T00:11:56.110Z"
   },
   {
    "duration": 27,
    "start_time": "2023-12-02T00:11:56.118Z"
   },
   {
    "duration": 32,
    "start_time": "2023-12-02T00:11:56.147Z"
   },
   {
    "duration": 31,
    "start_time": "2023-12-02T00:11:56.181Z"
   },
   {
    "duration": 3,
    "start_time": "2023-12-02T00:11:56.213Z"
   },
   {
    "duration": 34,
    "start_time": "2023-12-02T00:11:56.217Z"
   },
   {
    "duration": 19,
    "start_time": "2023-12-02T00:11:56.252Z"
   },
   {
    "duration": 3,
    "start_time": "2023-12-02T00:11:56.272Z"
   },
   {
    "duration": 28,
    "start_time": "2023-12-02T00:11:56.276Z"
   },
   {
    "duration": 7,
    "start_time": "2023-12-02T00:11:56.306Z"
   },
   {
    "duration": 13,
    "start_time": "2023-12-02T00:11:56.314Z"
   },
   {
    "duration": 12,
    "start_time": "2023-12-02T00:11:56.328Z"
   },
   {
    "duration": 32,
    "start_time": "2023-12-02T00:11:56.341Z"
   },
   {
    "duration": 75,
    "start_time": "2023-12-02T00:11:56.375Z"
   },
   {
    "duration": 24,
    "start_time": "2023-12-02T00:11:56.451Z"
   },
   {
    "duration": 16,
    "start_time": "2023-12-02T00:11:56.477Z"
   },
   {
    "duration": 14,
    "start_time": "2023-12-02T00:11:56.495Z"
   },
   {
    "duration": 12,
    "start_time": "2023-12-02T00:11:56.511Z"
   },
   {
    "duration": 11,
    "start_time": "2023-12-02T00:11:56.524Z"
   },
   {
    "duration": 17,
    "start_time": "2023-12-02T00:11:56.536Z"
   },
   {
    "duration": 343,
    "start_time": "2023-12-02T00:11:56.555Z"
   },
   {
    "duration": 4,
    "start_time": "2023-12-02T00:11:56.899Z"
   },
   {
    "duration": 5,
    "start_time": "2023-12-02T00:11:56.905Z"
   },
   {
    "duration": 3,
    "start_time": "2023-12-02T00:11:56.912Z"
   },
   {
    "duration": 19,
    "start_time": "2023-12-02T00:11:56.916Z"
   },
   {
    "duration": 35,
    "start_time": "2023-12-02T00:11:56.936Z"
   },
   {
    "duration": 13,
    "start_time": "2023-12-02T00:11:56.972Z"
   },
   {
    "duration": 26,
    "start_time": "2023-12-02T00:11:56.987Z"
   },
   {
    "duration": 6,
    "start_time": "2023-12-02T00:11:57.015Z"
   },
   {
    "duration": 36,
    "start_time": "2023-12-02T00:11:57.022Z"
   },
   {
    "duration": 21,
    "start_time": "2023-12-02T00:11:57.059Z"
   },
   {
    "duration": 14,
    "start_time": "2023-12-02T00:11:57.081Z"
   },
   {
    "duration": 8,
    "start_time": "2023-12-02T00:11:57.096Z"
   },
   {
    "duration": 15,
    "start_time": "2023-12-02T00:11:57.105Z"
   },
   {
    "duration": 3,
    "start_time": "2023-12-02T00:11:57.121Z"
   },
   {
    "duration": 20,
    "start_time": "2023-12-02T00:11:57.126Z"
   },
   {
    "duration": 5,
    "start_time": "2023-12-02T00:11:57.148Z"
   },
   {
    "duration": 39,
    "start_time": "2023-12-02T00:11:57.155Z"
   },
   {
    "duration": 7,
    "start_time": "2023-12-02T00:11:57.195Z"
   },
   {
    "duration": 16,
    "start_time": "2023-12-02T00:11:57.204Z"
   },
   {
    "duration": 9,
    "start_time": "2023-12-02T00:11:57.222Z"
   },
   {
    "duration": 17,
    "start_time": "2023-12-02T00:11:57.232Z"
   },
   {
    "duration": 16,
    "start_time": "2023-12-02T00:11:57.250Z"
   },
   {
    "duration": 3,
    "start_time": "2023-12-02T00:11:57.268Z"
   },
   {
    "duration": 33,
    "start_time": "2023-12-02T00:11:57.277Z"
   },
   {
    "duration": 3,
    "start_time": "2023-12-02T00:11:57.312Z"
   },
   {
    "duration": 8,
    "start_time": "2023-12-02T00:11:57.317Z"
   },
   {
    "duration": 62,
    "start_time": "2023-12-02T00:11:57.326Z"
   },
   {
    "duration": 316,
    "start_time": "2023-12-02T00:11:57.390Z"
   },
   {
    "duration": 8,
    "start_time": "2023-12-02T00:11:57.708Z"
   },
   {
    "duration": 14,
    "start_time": "2023-12-02T00:11:57.717Z"
   },
   {
    "duration": 9,
    "start_time": "2023-12-02T00:11:57.732Z"
   },
   {
    "duration": 25,
    "start_time": "2023-12-02T00:11:57.743Z"
   },
   {
    "duration": 5,
    "start_time": "2023-12-02T00:11:57.769Z"
   },
   {
    "duration": 5,
    "start_time": "2023-12-02T00:11:57.775Z"
   },
   {
    "duration": 14,
    "start_time": "2023-12-02T00:11:57.781Z"
   },
   {
    "duration": 14,
    "start_time": "2023-12-02T00:11:57.796Z"
   },
   {
    "duration": 1126,
    "start_time": "2023-12-02T00:14:34.700Z"
   },
   {
    "duration": 116,
    "start_time": "2023-12-02T00:14:35.829Z"
   },
   {
    "duration": 38,
    "start_time": "2023-12-02T00:14:35.950Z"
   },
   {
    "duration": 16,
    "start_time": "2023-12-02T00:14:35.989Z"
   },
   {
    "duration": 8,
    "start_time": "2023-12-02T00:14:36.006Z"
   },
   {
    "duration": 15,
    "start_time": "2023-12-02T00:14:36.016Z"
   },
   {
    "duration": 3,
    "start_time": "2023-12-02T00:14:36.033Z"
   },
   {
    "duration": 23,
    "start_time": "2023-12-02T00:14:36.037Z"
   },
   {
    "duration": 13,
    "start_time": "2023-12-02T00:14:36.063Z"
   },
   {
    "duration": 26,
    "start_time": "2023-12-02T00:14:36.077Z"
   },
   {
    "duration": 9,
    "start_time": "2023-12-02T00:14:36.104Z"
   },
   {
    "duration": 23,
    "start_time": "2023-12-02T00:14:36.115Z"
   },
   {
    "duration": 11,
    "start_time": "2023-12-02T00:14:36.139Z"
   },
   {
    "duration": 5,
    "start_time": "2023-12-02T00:14:36.152Z"
   },
   {
    "duration": 6,
    "start_time": "2023-12-02T00:14:36.159Z"
   },
   {
    "duration": 2,
    "start_time": "2023-12-02T00:14:36.167Z"
   },
   {
    "duration": 8,
    "start_time": "2023-12-02T00:14:36.171Z"
   },
   {
    "duration": 17,
    "start_time": "2023-12-02T00:14:36.181Z"
   },
   {
    "duration": 37,
    "start_time": "2023-12-02T00:14:36.200Z"
   },
   {
    "duration": 17,
    "start_time": "2023-12-02T00:14:36.239Z"
   },
   {
    "duration": 7,
    "start_time": "2023-12-02T00:14:36.258Z"
   },
   {
    "duration": 6,
    "start_time": "2023-12-02T00:14:36.267Z"
   },
   {
    "duration": 6,
    "start_time": "2023-12-02T00:14:36.275Z"
   },
   {
    "duration": 17,
    "start_time": "2023-12-02T00:14:36.282Z"
   },
   {
    "duration": 25,
    "start_time": "2023-12-02T00:14:36.300Z"
   },
   {
    "duration": 29,
    "start_time": "2023-12-02T00:14:36.327Z"
   },
   {
    "duration": 3,
    "start_time": "2023-12-02T00:14:36.364Z"
   },
   {
    "duration": 6,
    "start_time": "2023-12-02T00:14:36.368Z"
   },
   {
    "duration": 5,
    "start_time": "2023-12-02T00:14:36.375Z"
   },
   {
    "duration": 7,
    "start_time": "2023-12-02T00:14:36.381Z"
   },
   {
    "duration": 44,
    "start_time": "2023-12-02T00:14:36.389Z"
   },
   {
    "duration": 561,
    "start_time": "2023-12-02T00:14:36.435Z"
   },
   {
    "duration": 5,
    "start_time": "2023-12-02T00:14:36.997Z"
   },
   {
    "duration": 10,
    "start_time": "2023-12-02T00:14:37.004Z"
   },
   {
    "duration": 6,
    "start_time": "2023-12-02T00:14:37.015Z"
   },
   {
    "duration": 10,
    "start_time": "2023-12-02T00:14:37.023Z"
   },
   {
    "duration": 5,
    "start_time": "2023-12-02T00:14:37.034Z"
   },
   {
    "duration": 29,
    "start_time": "2023-12-02T00:14:37.041Z"
   },
   {
    "duration": 9,
    "start_time": "2023-12-02T00:14:37.071Z"
   },
   {
    "duration": 8,
    "start_time": "2023-12-02T00:14:37.081Z"
   },
   {
    "duration": 44,
    "start_time": "2023-12-02T00:14:37.090Z"
   },
   {
    "duration": 3,
    "start_time": "2023-12-02T00:14:37.135Z"
   },
   {
    "duration": 36,
    "start_time": "2023-12-02T00:14:37.139Z"
   },
   {
    "duration": 21,
    "start_time": "2023-12-02T00:14:37.176Z"
   },
   {
    "duration": 3,
    "start_time": "2023-12-02T00:14:37.198Z"
   },
   {
    "duration": 23,
    "start_time": "2023-12-02T00:14:37.202Z"
   },
   {
    "duration": 17,
    "start_time": "2023-12-02T00:14:37.226Z"
   },
   {
    "duration": 4,
    "start_time": "2023-12-02T00:14:37.245Z"
   },
   {
    "duration": 8,
    "start_time": "2023-12-02T00:14:37.250Z"
   },
   {
    "duration": 39,
    "start_time": "2023-12-02T00:14:37.260Z"
   },
   {
    "duration": 76,
    "start_time": "2023-12-02T00:14:37.300Z"
   },
   {
    "duration": 13,
    "start_time": "2023-12-02T00:14:37.377Z"
   },
   {
    "duration": 34,
    "start_time": "2023-12-02T00:14:37.391Z"
   },
   {
    "duration": 13,
    "start_time": "2023-12-02T00:14:37.427Z"
   },
   {
    "duration": 44,
    "start_time": "2023-12-02T00:14:37.442Z"
   },
   {
    "duration": 27,
    "start_time": "2023-12-02T00:14:37.488Z"
   },
   {
    "duration": 24,
    "start_time": "2023-12-02T00:14:37.516Z"
   },
   {
    "duration": 349,
    "start_time": "2023-12-02T00:14:37.541Z"
   },
   {
    "duration": 3,
    "start_time": "2023-12-02T00:14:37.892Z"
   },
   {
    "duration": 6,
    "start_time": "2023-12-02T00:14:37.897Z"
   },
   {
    "duration": 5,
    "start_time": "2023-12-02T00:14:37.905Z"
   },
   {
    "duration": 23,
    "start_time": "2023-12-02T00:14:37.911Z"
   },
   {
    "duration": 6,
    "start_time": "2023-12-02T00:14:37.935Z"
   },
   {
    "duration": 7,
    "start_time": "2023-12-02T00:14:37.965Z"
   },
   {
    "duration": 13,
    "start_time": "2023-12-02T00:14:37.973Z"
   },
   {
    "duration": 6,
    "start_time": "2023-12-02T00:14:37.987Z"
   },
   {
    "duration": 7,
    "start_time": "2023-12-02T00:14:37.995Z"
   },
   {
    "duration": 16,
    "start_time": "2023-12-02T00:14:38.003Z"
   },
   {
    "duration": 21,
    "start_time": "2023-12-02T00:14:38.020Z"
   },
   {
    "duration": 24,
    "start_time": "2023-12-02T00:14:38.043Z"
   },
   {
    "duration": 7,
    "start_time": "2023-12-02T00:14:38.068Z"
   },
   {
    "duration": 7,
    "start_time": "2023-12-02T00:14:38.076Z"
   },
   {
    "duration": 19,
    "start_time": "2023-12-02T00:14:38.085Z"
   },
   {
    "duration": 19,
    "start_time": "2023-12-02T00:14:38.105Z"
   },
   {
    "duration": 35,
    "start_time": "2023-12-02T00:14:38.126Z"
   },
   {
    "duration": 7,
    "start_time": "2023-12-02T00:14:38.165Z"
   },
   {
    "duration": 25,
    "start_time": "2023-12-02T00:14:38.174Z"
   },
   {
    "duration": 26,
    "start_time": "2023-12-02T00:14:38.201Z"
   },
   {
    "duration": 27,
    "start_time": "2023-12-02T00:14:38.228Z"
   },
   {
    "duration": 29,
    "start_time": "2023-12-02T00:14:38.257Z"
   },
   {
    "duration": 12,
    "start_time": "2023-12-02T00:14:38.292Z"
   },
   {
    "duration": 54,
    "start_time": "2023-12-02T00:14:38.305Z"
   },
   {
    "duration": 29,
    "start_time": "2023-12-02T00:14:38.361Z"
   },
   {
    "duration": 30,
    "start_time": "2023-12-02T00:14:38.391Z"
   },
   {
    "duration": 50,
    "start_time": "2023-12-02T00:14:38.423Z"
   },
   {
    "duration": 341,
    "start_time": "2023-12-02T00:14:38.475Z"
   },
   {
    "duration": 8,
    "start_time": "2023-12-02T00:14:38.818Z"
   },
   {
    "duration": 16,
    "start_time": "2023-12-02T00:14:38.828Z"
   },
   {
    "duration": 26,
    "start_time": "2023-12-02T00:14:38.846Z"
   },
   {
    "duration": 6,
    "start_time": "2023-12-02T00:14:38.873Z"
   },
   {
    "duration": 8,
    "start_time": "2023-12-02T00:14:38.880Z"
   },
   {
    "duration": 7,
    "start_time": "2023-12-02T00:14:38.889Z"
   },
   {
    "duration": 13,
    "start_time": "2023-12-02T00:14:38.897Z"
   },
   {
    "duration": 14,
    "start_time": "2023-12-02T00:14:38.911Z"
   },
   {
    "duration": 1166,
    "start_time": "2023-12-02T00:18:47.243Z"
   },
   {
    "duration": 96,
    "start_time": "2023-12-02T00:18:48.411Z"
   },
   {
    "duration": 39,
    "start_time": "2023-12-02T00:18:48.508Z"
   },
   {
    "duration": 14,
    "start_time": "2023-12-02T00:18:48.549Z"
   },
   {
    "duration": 14,
    "start_time": "2023-12-02T00:18:48.565Z"
   },
   {
    "duration": 27,
    "start_time": "2023-12-02T00:18:48.580Z"
   },
   {
    "duration": 3,
    "start_time": "2023-12-02T00:18:48.609Z"
   },
   {
    "duration": 29,
    "start_time": "2023-12-02T00:18:48.613Z"
   },
   {
    "duration": 13,
    "start_time": "2023-12-02T00:18:48.643Z"
   },
   {
    "duration": 10,
    "start_time": "2023-12-02T00:18:48.658Z"
   },
   {
    "duration": 3,
    "start_time": "2023-12-02T00:18:48.670Z"
   },
   {
    "duration": 7,
    "start_time": "2023-12-02T00:18:48.674Z"
   },
   {
    "duration": 8,
    "start_time": "2023-12-02T00:18:48.683Z"
   },
   {
    "duration": 6,
    "start_time": "2023-12-02T00:18:48.692Z"
   },
   {
    "duration": 3,
    "start_time": "2023-12-02T00:18:48.700Z"
   },
   {
    "duration": 10,
    "start_time": "2023-12-02T00:18:48.705Z"
   },
   {
    "duration": 12,
    "start_time": "2023-12-02T00:18:48.717Z"
   },
   {
    "duration": 44,
    "start_time": "2023-12-02T00:18:48.731Z"
   },
   {
    "duration": 24,
    "start_time": "2023-12-02T00:18:48.776Z"
   },
   {
    "duration": 13,
    "start_time": "2023-12-02T00:18:48.802Z"
   },
   {
    "duration": 3,
    "start_time": "2023-12-02T00:18:48.816Z"
   },
   {
    "duration": 9,
    "start_time": "2023-12-02T00:18:48.820Z"
   },
   {
    "duration": 6,
    "start_time": "2023-12-02T00:18:48.831Z"
   },
   {
    "duration": 51,
    "start_time": "2023-12-02T00:18:48.838Z"
   },
   {
    "duration": 20,
    "start_time": "2023-12-02T00:18:48.891Z"
   },
   {
    "duration": 21,
    "start_time": "2023-12-02T00:18:48.913Z"
   },
   {
    "duration": 3,
    "start_time": "2023-12-02T00:18:48.936Z"
   },
   {
    "duration": 10,
    "start_time": "2023-12-02T00:18:48.944Z"
   },
   {
    "duration": 14,
    "start_time": "2023-12-02T00:18:48.956Z"
   },
   {
    "duration": 5,
    "start_time": "2023-12-02T00:18:48.972Z"
   },
   {
    "duration": 19,
    "start_time": "2023-12-02T00:18:48.978Z"
   },
   {
    "duration": 589,
    "start_time": "2023-12-02T00:18:48.998Z"
   },
   {
    "duration": 6,
    "start_time": "2023-12-02T00:18:49.588Z"
   },
   {
    "duration": 8,
    "start_time": "2023-12-02T00:18:49.596Z"
   },
   {
    "duration": 20,
    "start_time": "2023-12-02T00:18:49.605Z"
   },
   {
    "duration": 17,
    "start_time": "2023-12-02T00:18:49.626Z"
   },
   {
    "duration": 9,
    "start_time": "2023-12-02T00:18:49.644Z"
   },
   {
    "duration": 11,
    "start_time": "2023-12-02T00:18:49.655Z"
   },
   {
    "duration": 5,
    "start_time": "2023-12-02T00:18:49.668Z"
   },
   {
    "duration": 9,
    "start_time": "2023-12-02T00:18:49.675Z"
   },
   {
    "duration": 34,
    "start_time": "2023-12-02T00:18:49.685Z"
   },
   {
    "duration": 2,
    "start_time": "2023-12-02T00:18:49.721Z"
   },
   {
    "duration": 49,
    "start_time": "2023-12-02T00:18:49.725Z"
   },
   {
    "duration": 17,
    "start_time": "2023-12-02T00:18:49.775Z"
   },
   {
    "duration": 3,
    "start_time": "2023-12-02T00:18:49.794Z"
   },
   {
    "duration": 5,
    "start_time": "2023-12-02T00:18:49.799Z"
   },
   {
    "duration": 5,
    "start_time": "2023-12-02T00:18:49.805Z"
   },
   {
    "duration": 6,
    "start_time": "2023-12-02T00:18:49.811Z"
   },
   {
    "duration": 49,
    "start_time": "2023-12-02T00:18:49.818Z"
   },
   {
    "duration": 44,
    "start_time": "2023-12-02T00:18:49.868Z"
   },
   {
    "duration": 76,
    "start_time": "2023-12-02T00:18:49.913Z"
   },
   {
    "duration": 12,
    "start_time": "2023-12-02T00:18:49.991Z"
   },
   {
    "duration": 39,
    "start_time": "2023-12-02T00:18:50.004Z"
   },
   {
    "duration": 29,
    "start_time": "2023-12-02T00:18:50.044Z"
   },
   {
    "duration": 21,
    "start_time": "2023-12-02T00:18:50.075Z"
   },
   {
    "duration": 16,
    "start_time": "2023-12-02T00:18:50.098Z"
   },
   {
    "duration": 16,
    "start_time": "2023-12-02T00:18:50.116Z"
   },
   {
    "duration": 348,
    "start_time": "2023-12-02T00:18:50.134Z"
   },
   {
    "duration": 3,
    "start_time": "2023-12-02T00:18:50.484Z"
   },
   {
    "duration": 7,
    "start_time": "2023-12-02T00:18:50.489Z"
   },
   {
    "duration": 4,
    "start_time": "2023-12-02T00:18:50.497Z"
   },
   {
    "duration": 34,
    "start_time": "2023-12-02T00:18:50.503Z"
   },
   {
    "duration": 6,
    "start_time": "2023-12-02T00:18:50.539Z"
   },
   {
    "duration": 29,
    "start_time": "2023-12-02T00:18:50.546Z"
   },
   {
    "duration": 40,
    "start_time": "2023-12-02T00:18:50.576Z"
   },
   {
    "duration": 24,
    "start_time": "2023-12-02T00:18:50.618Z"
   },
   {
    "duration": 21,
    "start_time": "2023-12-02T00:18:50.643Z"
   },
   {
    "duration": 16,
    "start_time": "2023-12-02T00:18:50.665Z"
   },
   {
    "duration": 30,
    "start_time": "2023-12-02T00:18:50.683Z"
   },
   {
    "duration": 15,
    "start_time": "2023-12-02T00:18:50.715Z"
   },
   {
    "duration": 40,
    "start_time": "2023-12-02T00:18:50.732Z"
   },
   {
    "duration": 14,
    "start_time": "2023-12-02T00:18:50.774Z"
   },
   {
    "duration": 23,
    "start_time": "2023-12-02T00:18:50.790Z"
   },
   {
    "duration": 17,
    "start_time": "2023-12-02T00:18:50.815Z"
   },
   {
    "duration": 58,
    "start_time": "2023-12-02T00:18:50.834Z"
   },
   {
    "duration": 25,
    "start_time": "2023-12-02T00:18:50.893Z"
   },
   {
    "duration": 12,
    "start_time": "2023-12-02T00:18:50.920Z"
   },
   {
    "duration": 19,
    "start_time": "2023-12-02T00:18:50.934Z"
   },
   {
    "duration": 10,
    "start_time": "2023-12-02T00:18:50.955Z"
   },
   {
    "duration": 12,
    "start_time": "2023-12-02T00:18:50.966Z"
   },
   {
    "duration": 10,
    "start_time": "2023-12-02T00:18:50.979Z"
   },
   {
    "duration": 33,
    "start_time": "2023-12-02T00:18:50.994Z"
   },
   {
    "duration": 4,
    "start_time": "2023-12-02T00:18:51.029Z"
   },
   {
    "duration": 9,
    "start_time": "2023-12-02T00:18:51.034Z"
   },
   {
    "duration": 28,
    "start_time": "2023-12-02T00:18:51.065Z"
   },
   {
    "duration": 331,
    "start_time": "2023-12-02T00:18:51.095Z"
   },
   {
    "duration": 8,
    "start_time": "2023-12-02T00:18:51.428Z"
   },
   {
    "duration": 13,
    "start_time": "2023-12-02T00:18:51.438Z"
   },
   {
    "duration": 9,
    "start_time": "2023-12-02T00:18:51.466Z"
   },
   {
    "duration": 5,
    "start_time": "2023-12-02T00:18:51.477Z"
   },
   {
    "duration": 19,
    "start_time": "2023-12-02T00:18:51.483Z"
   },
   {
    "duration": 5,
    "start_time": "2023-12-02T00:18:51.504Z"
   },
   {
    "duration": 11,
    "start_time": "2023-12-02T00:18:51.510Z"
   },
   {
    "duration": 12,
    "start_time": "2023-12-02T00:18:51.523Z"
   },
   {
    "duration": 1239,
    "start_time": "2023-12-02T00:19:18.635Z"
   },
   {
    "duration": 121,
    "start_time": "2023-12-02T00:19:19.876Z"
   },
   {
    "duration": 0,
    "start_time": "2023-12-02T00:19:20.001Z"
   },
   {
    "duration": 0,
    "start_time": "2023-12-02T00:19:20.002Z"
   },
   {
    "duration": 0,
    "start_time": "2023-12-02T00:19:20.003Z"
   },
   {
    "duration": 0,
    "start_time": "2023-12-02T00:19:20.004Z"
   },
   {
    "duration": 0,
    "start_time": "2023-12-02T00:19:20.005Z"
   },
   {
    "duration": 0,
    "start_time": "2023-12-02T00:19:20.006Z"
   },
   {
    "duration": 0,
    "start_time": "2023-12-02T00:19:20.007Z"
   },
   {
    "duration": 0,
    "start_time": "2023-12-02T00:19:20.008Z"
   },
   {
    "duration": 0,
    "start_time": "2023-12-02T00:19:20.008Z"
   },
   {
    "duration": 0,
    "start_time": "2023-12-02T00:19:20.010Z"
   },
   {
    "duration": 0,
    "start_time": "2023-12-02T00:19:20.010Z"
   },
   {
    "duration": 0,
    "start_time": "2023-12-02T00:19:20.011Z"
   },
   {
    "duration": 0,
    "start_time": "2023-12-02T00:19:20.012Z"
   },
   {
    "duration": 0,
    "start_time": "2023-12-02T00:19:20.013Z"
   },
   {
    "duration": 0,
    "start_time": "2023-12-02T00:19:20.014Z"
   },
   {
    "duration": 0,
    "start_time": "2023-12-02T00:19:20.015Z"
   },
   {
    "duration": 0,
    "start_time": "2023-12-02T00:19:20.016Z"
   },
   {
    "duration": 0,
    "start_time": "2023-12-02T00:19:20.017Z"
   },
   {
    "duration": 0,
    "start_time": "2023-12-02T00:19:20.018Z"
   },
   {
    "duration": 0,
    "start_time": "2023-12-02T00:19:20.019Z"
   },
   {
    "duration": 0,
    "start_time": "2023-12-02T00:19:20.020Z"
   },
   {
    "duration": 0,
    "start_time": "2023-12-02T00:19:20.020Z"
   },
   {
    "duration": 0,
    "start_time": "2023-12-02T00:19:20.022Z"
   },
   {
    "duration": 0,
    "start_time": "2023-12-02T00:19:20.023Z"
   },
   {
    "duration": 0,
    "start_time": "2023-12-02T00:19:20.024Z"
   },
   {
    "duration": 0,
    "start_time": "2023-12-02T00:19:20.025Z"
   },
   {
    "duration": 0,
    "start_time": "2023-12-02T00:19:20.026Z"
   },
   {
    "duration": 0,
    "start_time": "2023-12-02T00:19:20.027Z"
   },
   {
    "duration": 0,
    "start_time": "2023-12-02T00:19:20.027Z"
   },
   {
    "duration": 0,
    "start_time": "2023-12-02T00:19:20.028Z"
   },
   {
    "duration": 0,
    "start_time": "2023-12-02T00:19:20.029Z"
   },
   {
    "duration": 0,
    "start_time": "2023-12-02T00:19:20.030Z"
   },
   {
    "duration": 0,
    "start_time": "2023-12-02T00:19:20.031Z"
   },
   {
    "duration": 0,
    "start_time": "2023-12-02T00:19:20.032Z"
   },
   {
    "duration": 0,
    "start_time": "2023-12-02T00:19:20.033Z"
   },
   {
    "duration": 0,
    "start_time": "2023-12-02T00:19:20.033Z"
   },
   {
    "duration": 1,
    "start_time": "2023-12-02T00:19:20.034Z"
   },
   {
    "duration": 0,
    "start_time": "2023-12-02T00:19:20.036Z"
   },
   {
    "duration": 0,
    "start_time": "2023-12-02T00:19:20.036Z"
   },
   {
    "duration": 0,
    "start_time": "2023-12-02T00:19:20.037Z"
   },
   {
    "duration": 0,
    "start_time": "2023-12-02T00:19:20.038Z"
   },
   {
    "duration": 0,
    "start_time": "2023-12-02T00:19:20.066Z"
   },
   {
    "duration": 0,
    "start_time": "2023-12-02T00:19:20.067Z"
   },
   {
    "duration": 0,
    "start_time": "2023-12-02T00:19:20.068Z"
   },
   {
    "duration": 0,
    "start_time": "2023-12-02T00:19:20.069Z"
   },
   {
    "duration": 0,
    "start_time": "2023-12-02T00:19:20.070Z"
   },
   {
    "duration": 0,
    "start_time": "2023-12-02T00:19:20.071Z"
   },
   {
    "duration": 0,
    "start_time": "2023-12-02T00:19:20.071Z"
   },
   {
    "duration": 0,
    "start_time": "2023-12-02T00:19:20.072Z"
   },
   {
    "duration": 0,
    "start_time": "2023-12-02T00:19:20.073Z"
   },
   {
    "duration": 0,
    "start_time": "2023-12-02T00:19:20.074Z"
   },
   {
    "duration": 0,
    "start_time": "2023-12-02T00:19:20.075Z"
   },
   {
    "duration": 0,
    "start_time": "2023-12-02T00:19:20.076Z"
   },
   {
    "duration": 0,
    "start_time": "2023-12-02T00:19:20.077Z"
   },
   {
    "duration": 0,
    "start_time": "2023-12-02T00:19:20.078Z"
   },
   {
    "duration": 0,
    "start_time": "2023-12-02T00:19:20.078Z"
   },
   {
    "duration": 1,
    "start_time": "2023-12-02T00:19:20.079Z"
   },
   {
    "duration": 0,
    "start_time": "2023-12-02T00:19:20.080Z"
   },
   {
    "duration": 0,
    "start_time": "2023-12-02T00:19:20.081Z"
   },
   {
    "duration": 0,
    "start_time": "2023-12-02T00:19:20.082Z"
   },
   {
    "duration": 0,
    "start_time": "2023-12-02T00:19:20.083Z"
   },
   {
    "duration": 0,
    "start_time": "2023-12-02T00:19:20.084Z"
   },
   {
    "duration": 0,
    "start_time": "2023-12-02T00:19:20.085Z"
   },
   {
    "duration": 0,
    "start_time": "2023-12-02T00:19:20.085Z"
   },
   {
    "duration": 0,
    "start_time": "2023-12-02T00:19:20.086Z"
   },
   {
    "duration": 0,
    "start_time": "2023-12-02T00:19:20.087Z"
   },
   {
    "duration": 0,
    "start_time": "2023-12-02T00:19:20.088Z"
   },
   {
    "duration": 0,
    "start_time": "2023-12-02T00:19:20.089Z"
   },
   {
    "duration": 0,
    "start_time": "2023-12-02T00:19:20.090Z"
   },
   {
    "duration": 0,
    "start_time": "2023-12-02T00:19:20.091Z"
   },
   {
    "duration": 0,
    "start_time": "2023-12-02T00:19:20.092Z"
   },
   {
    "duration": 0,
    "start_time": "2023-12-02T00:19:20.093Z"
   },
   {
    "duration": 0,
    "start_time": "2023-12-02T00:19:20.094Z"
   },
   {
    "duration": 0,
    "start_time": "2023-12-02T00:19:20.094Z"
   },
   {
    "duration": 0,
    "start_time": "2023-12-02T00:19:20.095Z"
   },
   {
    "duration": 0,
    "start_time": "2023-12-02T00:19:20.096Z"
   },
   {
    "duration": 0,
    "start_time": "2023-12-02T00:19:20.097Z"
   },
   {
    "duration": 0,
    "start_time": "2023-12-02T00:19:20.098Z"
   },
   {
    "duration": 0,
    "start_time": "2023-12-02T00:19:20.099Z"
   },
   {
    "duration": 0,
    "start_time": "2023-12-02T00:19:20.100Z"
   },
   {
    "duration": 0,
    "start_time": "2023-12-02T00:19:20.100Z"
   },
   {
    "duration": 0,
    "start_time": "2023-12-02T00:19:20.102Z"
   },
   {
    "duration": 0,
    "start_time": "2023-12-02T00:19:20.166Z"
   },
   {
    "duration": 0,
    "start_time": "2023-12-02T00:19:20.166Z"
   },
   {
    "duration": 0,
    "start_time": "2023-12-02T00:19:20.168Z"
   },
   {
    "duration": 0,
    "start_time": "2023-12-02T00:19:20.168Z"
   },
   {
    "duration": 0,
    "start_time": "2023-12-02T00:19:20.169Z"
   },
   {
    "duration": 0,
    "start_time": "2023-12-02T00:19:20.170Z"
   },
   {
    "duration": 0,
    "start_time": "2023-12-02T00:19:20.171Z"
   },
   {
    "duration": 0,
    "start_time": "2023-12-02T00:19:20.172Z"
   },
   {
    "duration": 0,
    "start_time": "2023-12-02T00:19:20.173Z"
   },
   {
    "duration": 0,
    "start_time": "2023-12-02T00:19:20.174Z"
   },
   {
    "duration": 1150,
    "start_time": "2023-12-02T00:20:19.280Z"
   },
   {
    "duration": 91,
    "start_time": "2023-12-02T00:20:20.432Z"
   },
   {
    "duration": 38,
    "start_time": "2023-12-02T00:20:20.525Z"
   },
   {
    "duration": 17,
    "start_time": "2023-12-02T00:20:20.565Z"
   },
   {
    "duration": 4,
    "start_time": "2023-12-02T00:20:20.583Z"
   },
   {
    "duration": 13,
    "start_time": "2023-12-02T00:20:20.588Z"
   },
   {
    "duration": 2,
    "start_time": "2023-12-02T00:20:20.603Z"
   },
   {
    "duration": 22,
    "start_time": "2023-12-02T00:20:20.606Z"
   },
   {
    "duration": 41,
    "start_time": "2023-12-02T00:20:20.630Z"
   },
   {
    "duration": 13,
    "start_time": "2023-12-02T00:20:20.675Z"
   },
   {
    "duration": 3,
    "start_time": "2023-12-02T00:20:20.690Z"
   },
   {
    "duration": 11,
    "start_time": "2023-12-02T00:20:20.695Z"
   },
   {
    "duration": 11,
    "start_time": "2023-12-02T00:20:20.708Z"
   },
   {
    "duration": 7,
    "start_time": "2023-12-02T00:20:20.721Z"
   },
   {
    "duration": 4,
    "start_time": "2023-12-02T00:20:20.730Z"
   },
   {
    "duration": 38,
    "start_time": "2023-12-02T00:20:20.735Z"
   },
   {
    "duration": 23,
    "start_time": "2023-12-02T00:20:20.774Z"
   },
   {
    "duration": 19,
    "start_time": "2023-12-02T00:20:20.799Z"
   },
   {
    "duration": 23,
    "start_time": "2023-12-02T00:20:20.820Z"
   },
   {
    "duration": 11,
    "start_time": "2023-12-02T00:20:20.845Z"
   },
   {
    "duration": 7,
    "start_time": "2023-12-02T00:20:20.858Z"
   },
   {
    "duration": 6,
    "start_time": "2023-12-02T00:20:20.867Z"
   },
   {
    "duration": 9,
    "start_time": "2023-12-02T00:20:20.875Z"
   },
   {
    "duration": 22,
    "start_time": "2023-12-02T00:20:20.885Z"
   },
   {
    "duration": 15,
    "start_time": "2023-12-02T00:20:20.909Z"
   },
   {
    "duration": 21,
    "start_time": "2023-12-02T00:20:20.925Z"
   },
   {
    "duration": 18,
    "start_time": "2023-12-02T00:20:20.948Z"
   },
   {
    "duration": 7,
    "start_time": "2023-12-02T00:20:20.971Z"
   },
   {
    "duration": 9,
    "start_time": "2023-12-02T00:20:20.979Z"
   },
   {
    "duration": 5,
    "start_time": "2023-12-02T00:20:20.989Z"
   },
   {
    "duration": 23,
    "start_time": "2023-12-02T00:20:20.995Z"
   },
   {
    "duration": 577,
    "start_time": "2023-12-02T00:20:21.020Z"
   },
   {
    "duration": 4,
    "start_time": "2023-12-02T00:20:21.599Z"
   },
   {
    "duration": 6,
    "start_time": "2023-12-02T00:20:21.605Z"
   },
   {
    "duration": 5,
    "start_time": "2023-12-02T00:20:21.612Z"
   },
   {
    "duration": 9,
    "start_time": "2023-12-02T00:20:21.618Z"
   },
   {
    "duration": 5,
    "start_time": "2023-12-02T00:20:21.628Z"
   },
   {
    "duration": 35,
    "start_time": "2023-12-02T00:20:21.634Z"
   },
   {
    "duration": 8,
    "start_time": "2023-12-02T00:20:21.670Z"
   },
   {
    "duration": 11,
    "start_time": "2023-12-02T00:20:21.679Z"
   },
   {
    "duration": 35,
    "start_time": "2023-12-02T00:20:21.692Z"
   },
   {
    "duration": 2,
    "start_time": "2023-12-02T00:20:21.728Z"
   },
   {
    "duration": 43,
    "start_time": "2023-12-02T00:20:21.732Z"
   },
   {
    "duration": 18,
    "start_time": "2023-12-02T00:20:21.777Z"
   },
   {
    "duration": 2,
    "start_time": "2023-12-02T00:20:21.797Z"
   },
   {
    "duration": 8,
    "start_time": "2023-12-02T00:20:21.801Z"
   },
   {
    "duration": 9,
    "start_time": "2023-12-02T00:20:21.811Z"
   },
   {
    "duration": 16,
    "start_time": "2023-12-02T00:20:21.821Z"
   },
   {
    "duration": 5,
    "start_time": "2023-12-02T00:20:21.838Z"
   },
   {
    "duration": 49,
    "start_time": "2023-12-02T00:20:21.845Z"
   },
   {
    "duration": 88,
    "start_time": "2023-12-02T00:20:21.895Z"
   },
   {
    "duration": 12,
    "start_time": "2023-12-02T00:20:21.985Z"
   },
   {
    "duration": 15,
    "start_time": "2023-12-02T00:20:21.998Z"
   },
   {
    "duration": 30,
    "start_time": "2023-12-02T00:20:22.014Z"
   },
   {
    "duration": 20,
    "start_time": "2023-12-02T00:20:22.046Z"
   },
   {
    "duration": 16,
    "start_time": "2023-12-02T00:20:22.068Z"
   },
   {
    "duration": 14,
    "start_time": "2023-12-02T00:20:22.085Z"
   },
   {
    "duration": 343,
    "start_time": "2023-12-02T00:20:22.100Z"
   },
   {
    "duration": 3,
    "start_time": "2023-12-02T00:20:22.445Z"
   },
   {
    "duration": 16,
    "start_time": "2023-12-02T00:20:22.450Z"
   },
   {
    "duration": 16,
    "start_time": "2023-12-02T00:20:22.468Z"
   },
   {
    "duration": 20,
    "start_time": "2023-12-02T00:20:22.486Z"
   },
   {
    "duration": 6,
    "start_time": "2023-12-02T00:20:22.508Z"
   },
   {
    "duration": 19,
    "start_time": "2023-12-02T00:20:22.516Z"
   },
   {
    "duration": 21,
    "start_time": "2023-12-02T00:20:22.536Z"
   },
   {
    "duration": 47,
    "start_time": "2023-12-02T00:20:22.559Z"
   },
   {
    "duration": 21,
    "start_time": "2023-12-02T00:20:22.608Z"
   },
   {
    "duration": 21,
    "start_time": "2023-12-02T00:20:22.630Z"
   },
   {
    "duration": 16,
    "start_time": "2023-12-02T00:20:22.653Z"
   },
   {
    "duration": 20,
    "start_time": "2023-12-02T00:20:22.671Z"
   },
   {
    "duration": 9,
    "start_time": "2023-12-02T00:20:22.693Z"
   },
   {
    "duration": 5,
    "start_time": "2023-12-02T00:20:22.703Z"
   },
   {
    "duration": 23,
    "start_time": "2023-12-02T00:20:22.709Z"
   },
   {
    "duration": 18,
    "start_time": "2023-12-02T00:20:22.733Z"
   },
   {
    "duration": 34,
    "start_time": "2023-12-02T00:20:22.752Z"
   },
   {
    "duration": 13,
    "start_time": "2023-12-02T00:20:22.787Z"
   },
   {
    "duration": 9,
    "start_time": "2023-12-02T00:20:22.802Z"
   },
   {
    "duration": 16,
    "start_time": "2023-12-02T00:20:22.813Z"
   },
   {
    "duration": 23,
    "start_time": "2023-12-02T00:20:22.831Z"
   },
   {
    "duration": 9,
    "start_time": "2023-12-02T00:20:22.866Z"
   },
   {
    "duration": 6,
    "start_time": "2023-12-02T00:20:22.877Z"
   },
   {
    "duration": 41,
    "start_time": "2023-12-02T00:20:22.892Z"
   },
   {
    "duration": 31,
    "start_time": "2023-12-02T00:20:22.935Z"
   },
   {
    "duration": 15,
    "start_time": "2023-12-02T00:20:22.968Z"
   },
   {
    "duration": 60,
    "start_time": "2023-12-02T00:20:22.985Z"
   },
   {
    "duration": 313,
    "start_time": "2023-12-02T00:20:23.047Z"
   },
   {
    "duration": 8,
    "start_time": "2023-12-02T00:20:23.365Z"
   },
   {
    "duration": 30,
    "start_time": "2023-12-02T00:20:23.374Z"
   },
   {
    "duration": 11,
    "start_time": "2023-12-02T00:20:23.405Z"
   },
   {
    "duration": 11,
    "start_time": "2023-12-02T00:20:23.418Z"
   },
   {
    "duration": 7,
    "start_time": "2023-12-02T00:20:23.431Z"
   },
   {
    "duration": 10,
    "start_time": "2023-12-02T00:20:23.440Z"
   },
   {
    "duration": 19,
    "start_time": "2023-12-02T00:20:23.451Z"
   },
   {
    "duration": 13,
    "start_time": "2023-12-02T00:20:23.472Z"
   },
   {
    "duration": 10,
    "start_time": "2023-12-02T00:20:42.119Z"
   },
   {
    "duration": 9,
    "start_time": "2023-12-02T00:20:45.752Z"
   },
   {
    "duration": 49,
    "start_time": "2023-12-02T00:21:28.096Z"
   },
   {
    "duration": 1191,
    "start_time": "2023-12-02T00:21:34.949Z"
   },
   {
    "duration": 92,
    "start_time": "2023-12-02T00:21:36.141Z"
   },
   {
    "duration": 38,
    "start_time": "2023-12-02T00:21:36.235Z"
   },
   {
    "duration": 16,
    "start_time": "2023-12-02T00:21:36.275Z"
   },
   {
    "duration": 25,
    "start_time": "2023-12-02T00:21:36.293Z"
   },
   {
    "duration": 27,
    "start_time": "2023-12-02T00:21:36.320Z"
   },
   {
    "duration": 3,
    "start_time": "2023-12-02T00:21:36.348Z"
   },
   {
    "duration": 22,
    "start_time": "2023-12-02T00:21:36.352Z"
   },
   {
    "duration": 14,
    "start_time": "2023-12-02T00:21:36.375Z"
   },
   {
    "duration": 24,
    "start_time": "2023-12-02T00:21:36.391Z"
   },
   {
    "duration": 9,
    "start_time": "2023-12-02T00:21:36.417Z"
   },
   {
    "duration": 28,
    "start_time": "2023-12-02T00:21:36.427Z"
   },
   {
    "duration": 18,
    "start_time": "2023-12-02T00:21:36.456Z"
   },
   {
    "duration": 14,
    "start_time": "2023-12-02T00:21:36.477Z"
   },
   {
    "duration": 15,
    "start_time": "2023-12-02T00:21:36.493Z"
   },
   {
    "duration": 12,
    "start_time": "2023-12-02T00:21:36.510Z"
   },
   {
    "duration": 33,
    "start_time": "2023-12-02T00:21:36.523Z"
   },
   {
    "duration": 23,
    "start_time": "2023-12-02T00:21:36.558Z"
   },
   {
    "duration": 42,
    "start_time": "2023-12-02T00:21:36.583Z"
   },
   {
    "duration": 28,
    "start_time": "2023-12-02T00:21:36.627Z"
   },
   {
    "duration": 3,
    "start_time": "2023-12-02T00:21:36.657Z"
   },
   {
    "duration": 39,
    "start_time": "2023-12-02T00:21:36.662Z"
   },
   {
    "duration": 35,
    "start_time": "2023-12-02T00:21:36.703Z"
   },
   {
    "duration": 35,
    "start_time": "2023-12-02T00:21:36.740Z"
   },
   {
    "duration": 25,
    "start_time": "2023-12-02T00:21:36.777Z"
   },
   {
    "duration": 34,
    "start_time": "2023-12-02T00:21:36.803Z"
   },
   {
    "duration": 11,
    "start_time": "2023-12-02T00:21:36.839Z"
   },
   {
    "duration": 12,
    "start_time": "2023-12-02T00:21:36.852Z"
   },
   {
    "duration": 27,
    "start_time": "2023-12-02T00:21:36.866Z"
   },
   {
    "duration": 17,
    "start_time": "2023-12-02T00:21:36.894Z"
   },
   {
    "duration": 34,
    "start_time": "2023-12-02T00:21:36.913Z"
   },
   {
    "duration": 569,
    "start_time": "2023-12-02T00:21:36.948Z"
   },
   {
    "duration": 5,
    "start_time": "2023-12-02T00:21:37.518Z"
   },
   {
    "duration": 29,
    "start_time": "2023-12-02T00:21:37.525Z"
   },
   {
    "duration": 13,
    "start_time": "2023-12-02T00:21:37.556Z"
   },
   {
    "duration": 29,
    "start_time": "2023-12-02T00:21:37.571Z"
   },
   {
    "duration": 28,
    "start_time": "2023-12-02T00:21:37.601Z"
   },
   {
    "duration": 11,
    "start_time": "2023-12-02T00:21:37.631Z"
   },
   {
    "duration": 47,
    "start_time": "2023-12-02T00:21:37.644Z"
   },
   {
    "duration": 37,
    "start_time": "2023-12-02T00:21:37.693Z"
   },
   {
    "duration": 35,
    "start_time": "2023-12-02T00:21:37.737Z"
   },
   {
    "duration": 6,
    "start_time": "2023-12-02T00:21:37.773Z"
   },
   {
    "duration": 38,
    "start_time": "2023-12-02T00:21:37.781Z"
   },
   {
    "duration": 16,
    "start_time": "2023-12-02T00:21:37.820Z"
   },
   {
    "duration": 3,
    "start_time": "2023-12-02T00:21:37.838Z"
   },
   {
    "duration": 19,
    "start_time": "2023-12-02T00:21:37.842Z"
   },
   {
    "duration": 22,
    "start_time": "2023-12-02T00:21:37.862Z"
   },
   {
    "duration": 8,
    "start_time": "2023-12-02T00:21:37.885Z"
   },
   {
    "duration": 27,
    "start_time": "2023-12-02T00:21:37.894Z"
   },
   {
    "duration": 41,
    "start_time": "2023-12-02T00:21:37.923Z"
   },
   {
    "duration": 76,
    "start_time": "2023-12-02T00:21:37.966Z"
   },
   {
    "duration": 24,
    "start_time": "2023-12-02T00:21:38.044Z"
   },
   {
    "duration": 39,
    "start_time": "2023-12-02T00:21:38.070Z"
   },
   {
    "duration": 33,
    "start_time": "2023-12-02T00:21:38.110Z"
   },
   {
    "duration": 45,
    "start_time": "2023-12-02T00:21:38.144Z"
   },
   {
    "duration": 21,
    "start_time": "2023-12-02T00:21:38.191Z"
   },
   {
    "duration": 27,
    "start_time": "2023-12-02T00:21:38.213Z"
   },
   {
    "duration": 355,
    "start_time": "2023-12-02T00:21:38.241Z"
   },
   {
    "duration": 3,
    "start_time": "2023-12-02T00:21:38.598Z"
   },
   {
    "duration": 13,
    "start_time": "2023-12-02T00:21:38.603Z"
   },
   {
    "duration": 14,
    "start_time": "2023-12-02T00:21:38.617Z"
   },
   {
    "duration": 36,
    "start_time": "2023-12-02T00:21:38.632Z"
   },
   {
    "duration": 5,
    "start_time": "2023-12-02T00:21:38.670Z"
   },
   {
    "duration": 25,
    "start_time": "2023-12-02T00:21:38.677Z"
   },
   {
    "duration": 25,
    "start_time": "2023-12-02T00:21:38.704Z"
   },
   {
    "duration": 7,
    "start_time": "2023-12-02T00:21:38.730Z"
   },
   {
    "duration": 18,
    "start_time": "2023-12-02T00:21:38.738Z"
   },
   {
    "duration": 8,
    "start_time": "2023-12-02T00:21:38.758Z"
   },
   {
    "duration": 22,
    "start_time": "2023-12-02T00:21:38.767Z"
   },
   {
    "duration": 26,
    "start_time": "2023-12-02T00:21:38.791Z"
   },
   {
    "duration": 29,
    "start_time": "2023-12-02T00:21:38.818Z"
   },
   {
    "duration": 20,
    "start_time": "2023-12-02T00:21:38.848Z"
   },
   {
    "duration": 49,
    "start_time": "2023-12-02T00:21:38.870Z"
   },
   {
    "duration": 15,
    "start_time": "2023-12-02T00:21:38.921Z"
   },
   {
    "duration": 46,
    "start_time": "2023-12-02T00:21:38.938Z"
   },
   {
    "duration": 8,
    "start_time": "2023-12-02T00:21:38.985Z"
   },
   {
    "duration": 15,
    "start_time": "2023-12-02T00:21:38.994Z"
   },
   {
    "duration": 19,
    "start_time": "2023-12-02T00:21:39.010Z"
   },
   {
    "duration": 15,
    "start_time": "2023-12-02T00:21:39.030Z"
   },
   {
    "duration": 28,
    "start_time": "2023-12-02T00:21:39.047Z"
   },
   {
    "duration": 10,
    "start_time": "2023-12-02T00:21:39.077Z"
   },
   {
    "duration": 36,
    "start_time": "2023-12-02T00:21:39.088Z"
   },
   {
    "duration": 4,
    "start_time": "2023-12-02T00:21:39.126Z"
   },
   {
    "duration": 15,
    "start_time": "2023-12-02T00:21:39.131Z"
   },
   {
    "duration": 37,
    "start_time": "2023-12-02T00:21:39.148Z"
   },
   {
    "duration": 590,
    "start_time": "2023-12-02T00:21:39.187Z"
   },
   {
    "duration": 8,
    "start_time": "2023-12-02T00:21:39.779Z"
   },
   {
    "duration": 32,
    "start_time": "2023-12-02T00:21:39.788Z"
   },
   {
    "duration": 52,
    "start_time": "2023-12-02T00:21:39.821Z"
   },
   {
    "duration": 22,
    "start_time": "2023-12-02T00:21:39.874Z"
   },
   {
    "duration": 68,
    "start_time": "2023-12-02T00:21:39.898Z"
   },
   {
    "duration": 7,
    "start_time": "2023-12-02T00:21:39.967Z"
   },
   {
    "duration": 15,
    "start_time": "2023-12-02T00:21:39.976Z"
   },
   {
    "duration": 13,
    "start_time": "2023-12-02T00:21:39.993Z"
   },
   {
    "duration": 1104,
    "start_time": "2023-12-02T10:01:28.588Z"
   },
   {
    "duration": 194,
    "start_time": "2023-12-02T10:01:29.694Z"
   },
   {
    "duration": 68,
    "start_time": "2023-12-02T10:01:29.890Z"
   },
   {
    "duration": 13,
    "start_time": "2023-12-02T10:01:29.960Z"
   },
   {
    "duration": 5,
    "start_time": "2023-12-02T10:01:29.975Z"
   },
   {
    "duration": 17,
    "start_time": "2023-12-02T10:01:29.982Z"
   },
   {
    "duration": 13,
    "start_time": "2023-12-02T10:01:30.000Z"
   },
   {
    "duration": 71,
    "start_time": "2023-12-02T10:01:30.014Z"
   },
   {
    "duration": 28,
    "start_time": "2023-12-02T10:01:30.087Z"
   },
   {
    "duration": 23,
    "start_time": "2023-12-02T10:01:30.118Z"
   },
   {
    "duration": 13,
    "start_time": "2023-12-02T10:01:30.142Z"
   },
   {
    "duration": 39,
    "start_time": "2023-12-02T10:01:30.156Z"
   },
   {
    "duration": 19,
    "start_time": "2023-12-02T10:01:30.196Z"
   },
   {
    "duration": 19,
    "start_time": "2023-12-02T10:01:30.217Z"
   },
   {
    "duration": 22,
    "start_time": "2023-12-02T10:01:30.237Z"
   },
   {
    "duration": 47,
    "start_time": "2023-12-02T10:01:30.261Z"
   },
   {
    "duration": 29,
    "start_time": "2023-12-02T10:01:30.309Z"
   },
   {
    "duration": 31,
    "start_time": "2023-12-02T10:01:30.340Z"
   },
   {
    "duration": 52,
    "start_time": "2023-12-02T10:01:30.373Z"
   },
   {
    "duration": 21,
    "start_time": "2023-12-02T10:01:30.426Z"
   },
   {
    "duration": 28,
    "start_time": "2023-12-02T10:01:30.448Z"
   },
   {
    "duration": 30,
    "start_time": "2023-12-02T10:01:30.477Z"
   },
   {
    "duration": 25,
    "start_time": "2023-12-02T10:01:30.509Z"
   },
   {
    "duration": 28,
    "start_time": "2023-12-02T10:01:30.536Z"
   },
   {
    "duration": 24,
    "start_time": "2023-12-02T10:01:30.565Z"
   },
   {
    "duration": 42,
    "start_time": "2023-12-02T10:01:30.591Z"
   },
   {
    "duration": 14,
    "start_time": "2023-12-02T10:01:30.634Z"
   },
   {
    "duration": 9,
    "start_time": "2023-12-02T10:01:30.654Z"
   },
   {
    "duration": 22,
    "start_time": "2023-12-02T10:01:30.665Z"
   },
   {
    "duration": 16,
    "start_time": "2023-12-02T10:01:30.689Z"
   },
   {
    "duration": 41,
    "start_time": "2023-12-02T10:01:30.707Z"
   },
   {
    "duration": 548,
    "start_time": "2023-12-02T10:01:30.750Z"
   },
   {
    "duration": 5,
    "start_time": "2023-12-02T10:01:31.300Z"
   },
   {
    "duration": 26,
    "start_time": "2023-12-02T10:01:31.306Z"
   },
   {
    "duration": 29,
    "start_time": "2023-12-02T10:01:31.333Z"
   },
   {
    "duration": 36,
    "start_time": "2023-12-02T10:01:31.363Z"
   },
   {
    "duration": 19,
    "start_time": "2023-12-02T10:01:31.401Z"
   },
   {
    "duration": 33,
    "start_time": "2023-12-02T10:01:31.422Z"
   },
   {
    "duration": 25,
    "start_time": "2023-12-02T10:01:31.456Z"
   },
   {
    "duration": 39,
    "start_time": "2023-12-02T10:01:31.482Z"
   },
   {
    "duration": 50,
    "start_time": "2023-12-02T10:01:31.523Z"
   },
   {
    "duration": 2,
    "start_time": "2023-12-02T10:01:31.575Z"
   },
   {
    "duration": 41,
    "start_time": "2023-12-02T10:01:31.578Z"
   },
   {
    "duration": 26,
    "start_time": "2023-12-02T10:01:31.621Z"
   },
   {
    "duration": 5,
    "start_time": "2023-12-02T10:01:31.648Z"
   },
   {
    "duration": 13,
    "start_time": "2023-12-02T10:01:31.654Z"
   },
   {
    "duration": 25,
    "start_time": "2023-12-02T10:01:31.668Z"
   },
   {
    "duration": 15,
    "start_time": "2023-12-02T10:01:31.694Z"
   },
   {
    "duration": 10,
    "start_time": "2023-12-02T10:01:31.710Z"
   },
   {
    "duration": 51,
    "start_time": "2023-12-02T10:01:31.721Z"
   },
   {
    "duration": 81,
    "start_time": "2023-12-02T10:01:31.773Z"
   },
   {
    "duration": 14,
    "start_time": "2023-12-02T10:01:31.855Z"
   },
   {
    "duration": 46,
    "start_time": "2023-12-02T10:01:31.871Z"
   },
   {
    "duration": 16,
    "start_time": "2023-12-02T10:01:31.919Z"
   },
   {
    "duration": 27,
    "start_time": "2023-12-02T10:01:31.937Z"
   },
   {
    "duration": 32,
    "start_time": "2023-12-02T10:01:31.965Z"
   },
   {
    "duration": 23,
    "start_time": "2023-12-02T10:01:31.998Z"
   },
   {
    "duration": 360,
    "start_time": "2023-12-02T10:01:32.023Z"
   },
   {
    "duration": 3,
    "start_time": "2023-12-02T10:01:32.385Z"
   },
   {
    "duration": 10,
    "start_time": "2023-12-02T10:01:32.389Z"
   },
   {
    "duration": 8,
    "start_time": "2023-12-02T10:01:32.400Z"
   },
   {
    "duration": 20,
    "start_time": "2023-12-02T10:01:32.410Z"
   },
   {
    "duration": 5,
    "start_time": "2023-12-02T10:01:32.432Z"
   },
   {
    "duration": 13,
    "start_time": "2023-12-02T10:01:32.438Z"
   },
   {
    "duration": 11,
    "start_time": "2023-12-02T10:01:32.454Z"
   },
   {
    "duration": 16,
    "start_time": "2023-12-02T10:01:32.466Z"
   },
   {
    "duration": 5,
    "start_time": "2023-12-02T10:01:32.484Z"
   },
   {
    "duration": 7,
    "start_time": "2023-12-02T10:01:32.490Z"
   },
   {
    "duration": 16,
    "start_time": "2023-12-02T10:01:32.498Z"
   },
   {
    "duration": 11,
    "start_time": "2023-12-02T10:01:32.515Z"
   },
   {
    "duration": 17,
    "start_time": "2023-12-02T10:01:32.528Z"
   },
   {
    "duration": 10,
    "start_time": "2023-12-02T10:01:32.546Z"
   },
   {
    "duration": 29,
    "start_time": "2023-12-02T10:01:32.558Z"
   },
   {
    "duration": 7,
    "start_time": "2023-12-02T10:01:32.588Z"
   },
   {
    "duration": 37,
    "start_time": "2023-12-02T10:01:32.596Z"
   },
   {
    "duration": 7,
    "start_time": "2023-12-02T10:01:32.634Z"
   },
   {
    "duration": 17,
    "start_time": "2023-12-02T10:01:32.642Z"
   },
   {
    "duration": 15,
    "start_time": "2023-12-02T10:01:32.661Z"
   },
   {
    "duration": 23,
    "start_time": "2023-12-02T10:01:32.677Z"
   },
   {
    "duration": 9,
    "start_time": "2023-12-02T10:01:32.702Z"
   },
   {
    "duration": 5,
    "start_time": "2023-12-02T10:01:32.712Z"
   },
   {
    "duration": 28,
    "start_time": "2023-12-02T10:01:32.721Z"
   },
   {
    "duration": 3,
    "start_time": "2023-12-02T10:01:32.750Z"
   },
   {
    "duration": 8,
    "start_time": "2023-12-02T10:01:32.754Z"
   },
   {
    "duration": 24,
    "start_time": "2023-12-02T10:01:32.782Z"
   },
   {
    "duration": 320,
    "start_time": "2023-12-02T10:01:32.808Z"
   },
   {
    "duration": 7,
    "start_time": "2023-12-02T10:01:33.129Z"
   },
   {
    "duration": 11,
    "start_time": "2023-12-02T10:01:33.137Z"
   },
   {
    "duration": 8,
    "start_time": "2023-12-02T10:01:33.150Z"
   },
   {
    "duration": 22,
    "start_time": "2023-12-02T10:01:33.160Z"
   },
   {
    "duration": 4,
    "start_time": "2023-12-02T10:01:33.184Z"
   },
   {
    "duration": 7,
    "start_time": "2023-12-02T10:01:33.190Z"
   },
   {
    "duration": 10,
    "start_time": "2023-12-02T10:01:33.198Z"
   },
   {
    "duration": 8,
    "start_time": "2023-12-02T10:01:33.209Z"
   },
   {
    "duration": 86,
    "start_time": "2023-12-02T10:07:30.815Z"
   },
   {
    "duration": 26,
    "start_time": "2023-12-02T10:23:11.386Z"
   },
   {
    "duration": 17,
    "start_time": "2023-12-02T10:23:38.059Z"
   },
   {
    "duration": 15,
    "start_time": "2023-12-02T10:29:52.056Z"
   },
   {
    "duration": 14,
    "start_time": "2023-12-02T10:42:02.034Z"
   },
   {
    "duration": 50,
    "start_time": "2023-12-02T11:24:32.984Z"
   },
   {
    "duration": 5,
    "start_time": "2023-12-02T11:24:45.763Z"
   },
   {
    "duration": 1257,
    "start_time": "2023-12-02T11:24:51.444Z"
   },
   {
    "duration": 267,
    "start_time": "2023-12-02T11:24:52.703Z"
   },
   {
    "duration": 83,
    "start_time": "2023-12-02T11:24:52.971Z"
   },
   {
    "duration": 16,
    "start_time": "2023-12-02T11:24:53.056Z"
   },
   {
    "duration": 35,
    "start_time": "2023-12-02T11:24:53.073Z"
   },
   {
    "duration": 20,
    "start_time": "2023-12-02T11:24:53.109Z"
   },
   {
    "duration": 34,
    "start_time": "2023-12-02T11:24:53.130Z"
   },
   {
    "duration": 18,
    "start_time": "2023-12-02T11:24:53.165Z"
   },
   {
    "duration": 25,
    "start_time": "2023-12-02T11:24:53.185Z"
   },
   {
    "duration": 17,
    "start_time": "2023-12-02T11:24:53.212Z"
   },
   {
    "duration": 20,
    "start_time": "2023-12-02T11:24:53.230Z"
   },
   {
    "duration": 19,
    "start_time": "2023-12-02T11:24:53.252Z"
   },
   {
    "duration": 41,
    "start_time": "2023-12-02T11:24:53.273Z"
   },
   {
    "duration": 36,
    "start_time": "2023-12-02T11:24:53.316Z"
   },
   {
    "duration": 19,
    "start_time": "2023-12-02T11:24:53.354Z"
   },
   {
    "duration": 11,
    "start_time": "2023-12-02T11:24:53.375Z"
   },
   {
    "duration": 11,
    "start_time": "2023-12-02T11:24:53.388Z"
   },
   {
    "duration": 22,
    "start_time": "2023-12-02T11:24:53.401Z"
   },
   {
    "duration": 52,
    "start_time": "2023-12-02T11:24:53.425Z"
   },
   {
    "duration": 27,
    "start_time": "2023-12-02T11:24:53.478Z"
   },
   {
    "duration": 10,
    "start_time": "2023-12-02T11:24:53.507Z"
   },
   {
    "duration": 35,
    "start_time": "2023-12-02T11:24:53.519Z"
   },
   {
    "duration": 11,
    "start_time": "2023-12-02T11:24:53.556Z"
   },
   {
    "duration": 10,
    "start_time": "2023-12-02T11:24:53.568Z"
   },
   {
    "duration": 26,
    "start_time": "2023-12-02T11:24:53.579Z"
   },
   {
    "duration": 16,
    "start_time": "2023-12-02T11:24:53.607Z"
   },
   {
    "duration": 18,
    "start_time": "2023-12-02T11:24:53.624Z"
   },
   {
    "duration": 22,
    "start_time": "2023-12-02T11:24:53.646Z"
   },
   {
    "duration": 35,
    "start_time": "2023-12-02T11:24:53.670Z"
   },
   {
    "duration": 15,
    "start_time": "2023-12-02T11:24:53.706Z"
   },
   {
    "duration": 24,
    "start_time": "2023-12-02T11:24:53.723Z"
   },
   {
    "duration": 56,
    "start_time": "2023-12-02T11:24:53.749Z"
   },
   {
    "duration": 627,
    "start_time": "2023-12-02T11:24:53.807Z"
   },
   {
    "duration": 5,
    "start_time": "2023-12-02T11:24:54.435Z"
   },
   {
    "duration": 8,
    "start_time": "2023-12-02T11:24:54.441Z"
   },
   {
    "duration": 12,
    "start_time": "2023-12-02T11:24:54.450Z"
   },
   {
    "duration": 8,
    "start_time": "2023-12-02T11:24:54.463Z"
   },
   {
    "duration": 11,
    "start_time": "2023-12-02T11:24:54.472Z"
   },
   {
    "duration": 11,
    "start_time": "2023-12-02T11:24:54.485Z"
   },
   {
    "duration": 11,
    "start_time": "2023-12-02T11:24:54.497Z"
   },
   {
    "duration": 15,
    "start_time": "2023-12-02T11:24:54.510Z"
   },
   {
    "duration": 29,
    "start_time": "2023-12-02T11:24:54.526Z"
   },
   {
    "duration": 2,
    "start_time": "2023-12-02T11:24:54.556Z"
   },
   {
    "duration": 27,
    "start_time": "2023-12-02T11:24:54.559Z"
   },
   {
    "duration": 18,
    "start_time": "2023-12-02T11:24:54.587Z"
   },
   {
    "duration": 7,
    "start_time": "2023-12-02T11:24:54.606Z"
   },
   {
    "duration": 5,
    "start_time": "2023-12-02T11:24:54.614Z"
   },
   {
    "duration": 23,
    "start_time": "2023-12-02T11:24:54.620Z"
   },
   {
    "duration": 13,
    "start_time": "2023-12-02T11:24:54.645Z"
   },
   {
    "duration": 8,
    "start_time": "2023-12-02T11:24:54.659Z"
   },
   {
    "duration": 30,
    "start_time": "2023-12-02T11:24:54.668Z"
   },
   {
    "duration": 69,
    "start_time": "2023-12-02T11:24:54.700Z"
   },
   {
    "duration": 12,
    "start_time": "2023-12-02T11:24:54.770Z"
   },
   {
    "duration": 15,
    "start_time": "2023-12-02T11:24:54.783Z"
   },
   {
    "duration": 23,
    "start_time": "2023-12-02T11:24:54.800Z"
   },
   {
    "duration": 21,
    "start_time": "2023-12-02T11:24:54.824Z"
   },
   {
    "duration": 19,
    "start_time": "2023-12-02T11:24:54.846Z"
   },
   {
    "duration": 19,
    "start_time": "2023-12-02T11:24:54.867Z"
   },
   {
    "duration": 339,
    "start_time": "2023-12-02T11:24:54.888Z"
   },
   {
    "duration": 6,
    "start_time": "2023-12-02T11:24:55.228Z"
   },
   {
    "duration": 29,
    "start_time": "2023-12-02T11:24:55.235Z"
   },
   {
    "duration": 30,
    "start_time": "2023-12-02T11:24:55.265Z"
   },
   {
    "duration": 33,
    "start_time": "2023-12-02T11:24:55.296Z"
   },
   {
    "duration": 15,
    "start_time": "2023-12-02T11:24:55.331Z"
   },
   {
    "duration": 23,
    "start_time": "2023-12-02T11:24:55.348Z"
   },
   {
    "duration": 19,
    "start_time": "2023-12-02T11:24:55.373Z"
   },
   {
    "duration": 35,
    "start_time": "2023-12-02T11:24:55.394Z"
   },
   {
    "duration": 32,
    "start_time": "2023-12-02T11:24:55.431Z"
   },
   {
    "duration": 38,
    "start_time": "2023-12-02T11:24:55.464Z"
   },
   {
    "duration": 12,
    "start_time": "2023-12-02T11:24:55.503Z"
   },
   {
    "duration": 23,
    "start_time": "2023-12-02T11:24:55.517Z"
   },
   {
    "duration": 29,
    "start_time": "2023-12-02T11:24:55.542Z"
   },
   {
    "duration": 31,
    "start_time": "2023-12-02T11:24:55.573Z"
   },
   {
    "duration": 16,
    "start_time": "2023-12-02T11:24:55.606Z"
   },
   {
    "duration": 25,
    "start_time": "2023-12-02T11:24:55.623Z"
   },
   {
    "duration": 7,
    "start_time": "2023-12-02T11:24:55.649Z"
   },
   {
    "duration": 45,
    "start_time": "2023-12-02T11:24:55.657Z"
   },
   {
    "duration": 7,
    "start_time": "2023-12-02T11:24:55.704Z"
   },
   {
    "duration": 17,
    "start_time": "2023-12-02T11:24:55.712Z"
   },
   {
    "duration": 9,
    "start_time": "2023-12-02T11:24:55.730Z"
   },
   {
    "duration": 35,
    "start_time": "2023-12-02T11:24:55.740Z"
   },
   {
    "duration": 22,
    "start_time": "2023-12-02T11:24:55.780Z"
   },
   {
    "duration": 22,
    "start_time": "2023-12-02T11:24:55.804Z"
   },
   {
    "duration": 38,
    "start_time": "2023-12-02T11:24:55.828Z"
   },
   {
    "duration": 8,
    "start_time": "2023-12-02T11:24:55.868Z"
   },
   {
    "duration": 10,
    "start_time": "2023-12-02T11:24:55.878Z"
   },
   {
    "duration": 34,
    "start_time": "2023-12-02T11:24:55.889Z"
   },
   {
    "duration": 292,
    "start_time": "2023-12-02T11:24:55.924Z"
   },
   {
    "duration": 7,
    "start_time": "2023-12-02T11:24:56.218Z"
   },
   {
    "duration": 11,
    "start_time": "2023-12-02T11:24:56.226Z"
   },
   {
    "duration": 25,
    "start_time": "2023-12-02T11:24:56.238Z"
   },
   {
    "duration": 3,
    "start_time": "2023-12-02T11:24:56.264Z"
   },
   {
    "duration": 4,
    "start_time": "2023-12-02T11:24:56.268Z"
   },
   {
    "duration": 18,
    "start_time": "2023-12-02T11:24:56.273Z"
   },
   {
    "duration": 9,
    "start_time": "2023-12-02T11:24:56.293Z"
   },
   {
    "duration": 11,
    "start_time": "2023-12-02T11:24:56.304Z"
   },
   {
    "duration": 13,
    "start_time": "2023-12-02T11:26:42.660Z"
   },
   {
    "duration": 100,
    "start_time": "2023-12-02T11:33:00.695Z"
   },
   {
    "duration": 77,
    "start_time": "2023-12-02T11:33:50.655Z"
   },
   {
    "duration": 71,
    "start_time": "2023-12-02T11:33:57.890Z"
   },
   {
    "duration": 18,
    "start_time": "2023-12-02T11:34:39.775Z"
   },
   {
    "duration": 1475,
    "start_time": "2023-12-02T11:34:44.006Z"
   },
   {
    "duration": 21,
    "start_time": "2023-12-02T11:35:30.062Z"
   },
   {
    "duration": 60,
    "start_time": "2023-12-02T11:35:58.811Z"
   },
   {
    "duration": 25,
    "start_time": "2023-12-02T11:36:03.306Z"
   },
   {
    "duration": 17,
    "start_time": "2023-12-02T11:36:20.511Z"
   },
   {
    "duration": 15,
    "start_time": "2023-12-02T11:37:36.014Z"
   },
   {
    "duration": 19,
    "start_time": "2023-12-02T11:41:20.723Z"
   },
   {
    "duration": 19,
    "start_time": "2023-12-02T11:41:31.899Z"
   },
   {
    "duration": 18,
    "start_time": "2023-12-02T11:41:46.879Z"
   },
   {
    "duration": 13,
    "start_time": "2023-12-02T11:42:04.639Z"
   },
   {
    "duration": 21,
    "start_time": "2023-12-02T11:43:56.583Z"
   },
   {
    "duration": 12,
    "start_time": "2023-12-02T11:44:05.051Z"
   },
   {
    "duration": 24,
    "start_time": "2023-12-02T11:44:08.107Z"
   },
   {
    "duration": 22,
    "start_time": "2023-12-02T11:44:12.719Z"
   },
   {
    "duration": 22,
    "start_time": "2023-12-02T11:44:19.211Z"
   },
   {
    "duration": 35,
    "start_time": "2023-12-02T11:44:40.471Z"
   },
   {
    "duration": 13,
    "start_time": "2023-12-02T11:45:54.943Z"
   },
   {
    "duration": 15,
    "start_time": "2023-12-02T11:46:29.125Z"
   },
   {
    "duration": 7,
    "start_time": "2023-12-02T11:46:53.866Z"
   },
   {
    "duration": 33,
    "start_time": "2023-12-02T11:49:38.597Z"
   },
   {
    "duration": 33,
    "start_time": "2023-12-02T11:49:46.810Z"
   },
   {
    "duration": 23,
    "start_time": "2023-12-02T11:49:59.097Z"
   },
   {
    "duration": 19,
    "start_time": "2023-12-02T11:51:56.702Z"
   },
   {
    "duration": 12,
    "start_time": "2023-12-02T11:52:03.038Z"
   },
   {
    "duration": 33,
    "start_time": "2023-12-02T11:54:18.722Z"
   },
   {
    "duration": 13,
    "start_time": "2023-12-02T11:59:15.445Z"
   },
   {
    "duration": 9,
    "start_time": "2023-12-02T12:09:12.282Z"
   },
   {
    "duration": 6,
    "start_time": "2023-12-02T12:19:48.822Z"
   },
   {
    "duration": 7,
    "start_time": "2023-12-02T12:20:14.433Z"
   },
   {
    "duration": 16,
    "start_time": "2023-12-02T15:14:03.142Z"
   },
   {
    "duration": 7,
    "start_time": "2023-12-02T15:14:53.648Z"
   },
   {
    "duration": 7,
    "start_time": "2023-12-02T15:15:01.626Z"
   },
   {
    "duration": 10,
    "start_time": "2023-12-02T15:15:14.216Z"
   },
   {
    "duration": 10,
    "start_time": "2023-12-02T15:15:23.636Z"
   },
   {
    "duration": 7,
    "start_time": "2023-12-02T15:15:31.747Z"
   },
   {
    "duration": 11,
    "start_time": "2023-12-02T15:16:16.555Z"
   },
   {
    "duration": 3,
    "start_time": "2023-12-02T15:19:36.496Z"
   },
   {
    "duration": 32,
    "start_time": "2023-12-02T15:29:44.600Z"
   },
   {
    "duration": 1229,
    "start_time": "2023-12-02T15:29:52.755Z"
   },
   {
    "duration": 100,
    "start_time": "2023-12-02T15:29:53.986Z"
   },
   {
    "duration": 39,
    "start_time": "2023-12-02T15:29:54.087Z"
   },
   {
    "duration": 36,
    "start_time": "2023-12-02T15:29:54.128Z"
   },
   {
    "duration": 26,
    "start_time": "2023-12-02T15:29:54.165Z"
   },
   {
    "duration": 79,
    "start_time": "2023-12-02T15:29:54.193Z"
   },
   {
    "duration": 32,
    "start_time": "2023-12-02T15:29:54.273Z"
   },
   {
    "duration": 26,
    "start_time": "2023-12-02T15:29:54.307Z"
   },
   {
    "duration": 27,
    "start_time": "2023-12-02T15:29:54.335Z"
   },
   {
    "duration": 18,
    "start_time": "2023-12-02T15:29:54.364Z"
   },
   {
    "duration": 22,
    "start_time": "2023-12-02T15:29:54.383Z"
   },
   {
    "duration": 18,
    "start_time": "2023-12-02T15:29:54.406Z"
   },
   {
    "duration": 22,
    "start_time": "2023-12-02T15:29:54.425Z"
   },
   {
    "duration": 3,
    "start_time": "2023-12-02T15:29:54.449Z"
   },
   {
    "duration": 53,
    "start_time": "2023-12-02T15:29:54.454Z"
   },
   {
    "duration": 22,
    "start_time": "2023-12-02T15:29:54.509Z"
   },
   {
    "duration": 33,
    "start_time": "2023-12-02T15:29:54.533Z"
   },
   {
    "duration": 40,
    "start_time": "2023-12-02T15:29:54.568Z"
   },
   {
    "duration": 32,
    "start_time": "2023-12-02T15:29:54.610Z"
   },
   {
    "duration": 23,
    "start_time": "2023-12-02T15:29:54.644Z"
   },
   {
    "duration": 17,
    "start_time": "2023-12-02T15:29:54.669Z"
   },
   {
    "duration": 9,
    "start_time": "2023-12-02T15:29:54.687Z"
   },
   {
    "duration": 15,
    "start_time": "2023-12-02T15:29:54.698Z"
   },
   {
    "duration": 22,
    "start_time": "2023-12-02T15:29:54.715Z"
   },
   {
    "duration": 17,
    "start_time": "2023-12-02T15:29:54.739Z"
   },
   {
    "duration": 2,
    "start_time": "2023-12-02T15:29:54.758Z"
   },
   {
    "duration": 10,
    "start_time": "2023-12-02T15:29:54.762Z"
   },
   {
    "duration": 6,
    "start_time": "2023-12-02T15:29:54.776Z"
   },
   {
    "duration": 36,
    "start_time": "2023-12-02T15:29:54.783Z"
   },
   {
    "duration": 14,
    "start_time": "2023-12-02T15:29:54.821Z"
   },
   {
    "duration": 26,
    "start_time": "2023-12-02T15:29:54.837Z"
   },
   {
    "duration": 34,
    "start_time": "2023-12-02T15:29:54.865Z"
   },
   {
    "duration": 6,
    "start_time": "2023-12-02T15:29:54.901Z"
   },
   {
    "duration": 22,
    "start_time": "2023-12-02T15:29:54.909Z"
   },
   {
    "duration": 16,
    "start_time": "2023-12-02T15:29:54.932Z"
   },
   {
    "duration": 35,
    "start_time": "2023-12-02T15:29:54.949Z"
   },
   {
    "duration": 568,
    "start_time": "2023-12-02T15:29:54.986Z"
   },
   {
    "duration": 5,
    "start_time": "2023-12-02T15:29:55.556Z"
   },
   {
    "duration": 26,
    "start_time": "2023-12-02T15:29:55.562Z"
   },
   {
    "duration": 6,
    "start_time": "2023-12-02T15:29:55.589Z"
   },
   {
    "duration": 10,
    "start_time": "2023-12-02T15:29:55.597Z"
   },
   {
    "duration": 7,
    "start_time": "2023-12-02T15:29:55.609Z"
   },
   {
    "duration": 7,
    "start_time": "2023-12-02T15:29:55.618Z"
   },
   {
    "duration": 11,
    "start_time": "2023-12-02T15:29:55.626Z"
   },
   {
    "duration": 13,
    "start_time": "2023-12-02T15:29:55.638Z"
   },
   {
    "duration": 32,
    "start_time": "2023-12-02T15:29:55.652Z"
   },
   {
    "duration": 2,
    "start_time": "2023-12-02T15:29:55.686Z"
   },
   {
    "duration": 42,
    "start_time": "2023-12-02T15:29:55.690Z"
   },
   {
    "duration": 17,
    "start_time": "2023-12-02T15:29:55.733Z"
   },
   {
    "duration": 5,
    "start_time": "2023-12-02T15:29:55.752Z"
   },
   {
    "duration": 9,
    "start_time": "2023-12-02T15:29:55.759Z"
   },
   {
    "duration": 8,
    "start_time": "2023-12-02T15:29:55.770Z"
   },
   {
    "duration": 7,
    "start_time": "2023-12-02T15:29:55.780Z"
   },
   {
    "duration": 26,
    "start_time": "2023-12-02T15:29:55.788Z"
   },
   {
    "duration": 32,
    "start_time": "2023-12-02T15:29:55.816Z"
   },
   {
    "duration": 93,
    "start_time": "2023-12-02T15:29:55.849Z"
   },
   {
    "duration": 12,
    "start_time": "2023-12-02T15:29:55.943Z"
   },
   {
    "duration": 18,
    "start_time": "2023-12-02T15:29:55.957Z"
   },
   {
    "duration": 34,
    "start_time": "2023-12-02T15:29:55.976Z"
   },
   {
    "duration": 14,
    "start_time": "2023-12-02T15:29:56.012Z"
   },
   {
    "duration": 18,
    "start_time": "2023-12-02T15:29:56.028Z"
   },
   {
    "duration": 19,
    "start_time": "2023-12-02T15:29:56.048Z"
   },
   {
    "duration": 400,
    "start_time": "2023-12-02T15:29:56.069Z"
   },
   {
    "duration": 4,
    "start_time": "2023-12-02T15:29:56.470Z"
   },
   {
    "duration": 25,
    "start_time": "2023-12-02T15:29:56.475Z"
   },
   {
    "duration": 4,
    "start_time": "2023-12-02T15:29:56.501Z"
   },
   {
    "duration": 27,
    "start_time": "2023-12-02T15:29:56.507Z"
   },
   {
    "duration": 17,
    "start_time": "2023-12-02T15:29:56.536Z"
   },
   {
    "duration": 11,
    "start_time": "2023-12-02T15:29:56.555Z"
   },
   {
    "duration": 7,
    "start_time": "2023-12-02T15:29:56.567Z"
   },
   {
    "duration": 13,
    "start_time": "2023-12-02T15:29:56.576Z"
   },
   {
    "duration": 25,
    "start_time": "2023-12-02T15:29:56.591Z"
   },
   {
    "duration": 28,
    "start_time": "2023-12-02T15:29:56.618Z"
   },
   {
    "duration": 30,
    "start_time": "2023-12-02T15:29:56.647Z"
   },
   {
    "duration": 24,
    "start_time": "2023-12-02T15:29:56.679Z"
   },
   {
    "duration": 42,
    "start_time": "2023-12-02T15:29:56.704Z"
   },
   {
    "duration": 8,
    "start_time": "2023-12-02T15:29:56.747Z"
   },
   {
    "duration": 3,
    "start_time": "2023-12-02T15:29:56.757Z"
   },
   {
    "duration": 15,
    "start_time": "2023-12-02T15:29:56.761Z"
   },
   {
    "duration": 7,
    "start_time": "2023-12-02T15:29:56.777Z"
   },
   {
    "duration": 36,
    "start_time": "2023-12-02T15:29:56.785Z"
   },
   {
    "duration": 8,
    "start_time": "2023-12-02T15:29:56.828Z"
   },
   {
    "duration": 31,
    "start_time": "2023-12-02T15:29:56.837Z"
   },
   {
    "duration": 8,
    "start_time": "2023-12-02T15:29:56.870Z"
   },
   {
    "duration": 28,
    "start_time": "2023-12-02T15:29:56.880Z"
   },
   {
    "duration": 18,
    "start_time": "2023-12-02T15:29:56.910Z"
   },
   {
    "duration": 21,
    "start_time": "2023-12-02T15:29:56.930Z"
   },
   {
    "duration": 51,
    "start_time": "2023-12-02T15:29:56.953Z"
   },
   {
    "duration": 4,
    "start_time": "2023-12-02T15:29:57.005Z"
   },
   {
    "duration": 13,
    "start_time": "2023-12-02T15:29:57.011Z"
   },
   {
    "duration": 43,
    "start_time": "2023-12-02T15:29:57.025Z"
   },
   {
    "duration": 317,
    "start_time": "2023-12-02T15:29:57.070Z"
   },
   {
    "duration": 8,
    "start_time": "2023-12-02T15:29:57.388Z"
   },
   {
    "duration": 36,
    "start_time": "2023-12-02T15:29:57.397Z"
   },
   {
    "duration": 28,
    "start_time": "2023-12-02T15:29:57.435Z"
   },
   {
    "duration": 13,
    "start_time": "2023-12-02T15:29:57.465Z"
   },
   {
    "duration": 4,
    "start_time": "2023-12-02T15:29:57.480Z"
   },
   {
    "duration": 6,
    "start_time": "2023-12-02T15:29:57.486Z"
   },
   {
    "duration": 15,
    "start_time": "2023-12-02T15:29:57.494Z"
   },
   {
    "duration": 10,
    "start_time": "2023-12-02T15:29:57.511Z"
   },
   {
    "duration": 10,
    "start_time": "2023-12-02T15:31:19.266Z"
   },
   {
    "duration": 45,
    "start_time": "2023-12-02T15:31:26.145Z"
   },
   {
    "duration": 15,
    "start_time": "2023-12-02T16:19:49.271Z"
   },
   {
    "duration": 14,
    "start_time": "2023-12-02T16:21:03.423Z"
   },
   {
    "duration": 11,
    "start_time": "2023-12-02T16:21:15.379Z"
   },
   {
    "duration": 8,
    "start_time": "2023-12-02T16:21:33.316Z"
   },
   {
    "duration": 5,
    "start_time": "2023-12-02T16:21:45.548Z"
   },
   {
    "duration": 7,
    "start_time": "2023-12-02T16:22:16.583Z"
   },
   {
    "duration": 8,
    "start_time": "2023-12-02T16:22:27.819Z"
   },
   {
    "duration": 7,
    "start_time": "2023-12-02T16:22:50.787Z"
   },
   {
    "duration": 6,
    "start_time": "2023-12-02T16:22:57.907Z"
   },
   {
    "duration": 7,
    "start_time": "2023-12-02T16:23:50.334Z"
   },
   {
    "duration": 6,
    "start_time": "2023-12-02T16:24:13.976Z"
   },
   {
    "duration": 6,
    "start_time": "2023-12-02T16:24:23.680Z"
   },
   {
    "duration": 20,
    "start_time": "2023-12-02T16:35:08.149Z"
   },
   {
    "duration": 13,
    "start_time": "2023-12-02T16:35:26.458Z"
   },
   {
    "duration": 114,
    "start_time": "2023-12-02T16:37:04.355Z"
   },
   {
    "duration": 1525,
    "start_time": "2023-12-02T16:37:57.352Z"
   },
   {
    "duration": 12,
    "start_time": "2023-12-02T16:39:12.351Z"
   },
   {
    "duration": 6,
    "start_time": "2023-12-02T16:42:47.634Z"
   },
   {
    "duration": 11,
    "start_time": "2023-12-02T16:46:27.592Z"
   },
   {
    "duration": 1200,
    "start_time": "2023-12-02T16:46:59.156Z"
   },
   {
    "duration": 100,
    "start_time": "2023-12-02T16:47:00.358Z"
   },
   {
    "duration": 39,
    "start_time": "2023-12-02T16:47:00.459Z"
   },
   {
    "duration": 73,
    "start_time": "2023-12-02T16:47:00.500Z"
   },
   {
    "duration": 47,
    "start_time": "2023-12-02T16:47:00.575Z"
   },
   {
    "duration": 80,
    "start_time": "2023-12-02T16:47:00.624Z"
   },
   {
    "duration": 20,
    "start_time": "2023-12-02T16:47:00.705Z"
   },
   {
    "duration": 48,
    "start_time": "2023-12-02T16:47:00.727Z"
   },
   {
    "duration": 92,
    "start_time": "2023-12-02T16:47:00.776Z"
   },
   {
    "duration": 71,
    "start_time": "2023-12-02T16:47:00.871Z"
   },
   {
    "duration": 45,
    "start_time": "2023-12-02T16:47:00.943Z"
   },
   {
    "duration": 115,
    "start_time": "2023-12-02T16:47:00.990Z"
   },
   {
    "duration": 60,
    "start_time": "2023-12-02T16:47:01.106Z"
   },
   {
    "duration": 55,
    "start_time": "2023-12-02T16:47:01.168Z"
   },
   {
    "duration": 37,
    "start_time": "2023-12-02T16:47:01.225Z"
   },
   {
    "duration": 49,
    "start_time": "2023-12-02T16:47:01.263Z"
   },
   {
    "duration": 23,
    "start_time": "2023-12-02T16:47:01.313Z"
   },
   {
    "duration": 46,
    "start_time": "2023-12-02T16:47:01.338Z"
   },
   {
    "duration": 45,
    "start_time": "2023-12-02T16:47:01.386Z"
   },
   {
    "duration": 42,
    "start_time": "2023-12-02T16:47:01.433Z"
   },
   {
    "duration": 57,
    "start_time": "2023-12-02T16:47:01.476Z"
   },
   {
    "duration": 68,
    "start_time": "2023-12-02T16:47:01.535Z"
   },
   {
    "duration": 108,
    "start_time": "2023-12-02T16:47:01.605Z"
   },
   {
    "duration": 99,
    "start_time": "2023-12-02T16:47:01.715Z"
   },
   {
    "duration": 47,
    "start_time": "2023-12-02T16:47:01.816Z"
   },
   {
    "duration": 43,
    "start_time": "2023-12-02T16:47:01.864Z"
   },
   {
    "duration": 37,
    "start_time": "2023-12-02T16:47:01.908Z"
   },
   {
    "duration": 37,
    "start_time": "2023-12-02T16:47:01.949Z"
   },
   {
    "duration": 51,
    "start_time": "2023-12-02T16:47:01.988Z"
   },
   {
    "duration": 85,
    "start_time": "2023-12-02T16:47:02.041Z"
   },
   {
    "duration": 29,
    "start_time": "2023-12-02T16:47:02.128Z"
   },
   {
    "duration": 45,
    "start_time": "2023-12-02T16:47:02.158Z"
   },
   {
    "duration": 36,
    "start_time": "2023-12-02T16:47:02.205Z"
   },
   {
    "duration": 9,
    "start_time": "2023-12-02T16:47:02.243Z"
   },
   {
    "duration": 27,
    "start_time": "2023-12-02T16:47:02.253Z"
   },
   {
    "duration": 28,
    "start_time": "2023-12-02T16:47:02.281Z"
   },
   {
    "duration": 42,
    "start_time": "2023-12-02T16:47:02.311Z"
   },
   {
    "duration": 105,
    "start_time": "2023-12-02T16:47:02.355Z"
   },
   {
    "duration": 197,
    "start_time": "2023-12-02T16:47:02.462Z"
   },
   {
    "duration": 85,
    "start_time": "2023-12-02T16:47:02.661Z"
   },
   {
    "duration": 595,
    "start_time": "2023-12-02T16:47:02.748Z"
   },
   {
    "duration": 7,
    "start_time": "2023-12-02T16:47:03.345Z"
   },
   {
    "duration": 29,
    "start_time": "2023-12-02T16:47:03.353Z"
   },
   {
    "duration": 30,
    "start_time": "2023-12-02T16:47:03.384Z"
   },
   {
    "duration": 13,
    "start_time": "2023-12-02T16:47:03.415Z"
   },
   {
    "duration": 34,
    "start_time": "2023-12-02T16:47:03.429Z"
   },
   {
    "duration": 26,
    "start_time": "2023-12-02T16:47:03.465Z"
   },
   {
    "duration": 33,
    "start_time": "2023-12-02T16:47:03.492Z"
   },
   {
    "duration": 39,
    "start_time": "2023-12-02T16:47:03.526Z"
   },
   {
    "duration": 52,
    "start_time": "2023-12-02T16:47:03.567Z"
   },
   {
    "duration": 2,
    "start_time": "2023-12-02T16:47:03.621Z"
   },
   {
    "duration": 19,
    "start_time": "2023-12-02T16:47:03.625Z"
   },
   {
    "duration": 16,
    "start_time": "2023-12-02T16:47:03.646Z"
   },
   {
    "duration": 3,
    "start_time": "2023-12-02T16:47:03.663Z"
   },
   {
    "duration": 7,
    "start_time": "2023-12-02T16:47:03.667Z"
   },
   {
    "duration": 21,
    "start_time": "2023-12-02T16:47:03.676Z"
   },
   {
    "duration": 16,
    "start_time": "2023-12-02T16:47:03.698Z"
   },
   {
    "duration": 8,
    "start_time": "2023-12-02T16:47:03.715Z"
   },
   {
    "duration": 35,
    "start_time": "2023-12-02T16:47:03.724Z"
   },
   {
    "duration": 85,
    "start_time": "2023-12-02T16:47:03.761Z"
   },
   {
    "duration": 11,
    "start_time": "2023-12-02T16:47:03.847Z"
   },
   {
    "duration": 41,
    "start_time": "2023-12-02T16:47:03.859Z"
   },
   {
    "duration": 66,
    "start_time": "2023-12-02T16:47:03.902Z"
   },
   {
    "duration": 21,
    "start_time": "2023-12-02T16:47:03.970Z"
   },
   {
    "duration": 20,
    "start_time": "2023-12-02T16:47:03.993Z"
   },
   {
    "duration": 18,
    "start_time": "2023-12-02T16:47:04.015Z"
   },
   {
    "duration": 348,
    "start_time": "2023-12-02T16:47:04.034Z"
   },
   {
    "duration": 4,
    "start_time": "2023-12-02T16:47:04.383Z"
   },
   {
    "duration": 9,
    "start_time": "2023-12-02T16:47:04.388Z"
   },
   {
    "duration": 9,
    "start_time": "2023-12-02T16:47:04.398Z"
   },
   {
    "duration": 27,
    "start_time": "2023-12-02T16:47:04.413Z"
   },
   {
    "duration": 22,
    "start_time": "2023-12-02T16:47:04.441Z"
   },
   {
    "duration": 6,
    "start_time": "2023-12-02T16:47:04.464Z"
   },
   {
    "duration": 7,
    "start_time": "2023-12-02T16:47:04.472Z"
   },
   {
    "duration": 11,
    "start_time": "2023-12-02T16:47:04.480Z"
   },
   {
    "duration": 7,
    "start_time": "2023-12-02T16:47:04.492Z"
   },
   {
    "duration": 17,
    "start_time": "2023-12-02T16:47:04.500Z"
   },
   {
    "duration": 23,
    "start_time": "2023-12-02T16:47:04.519Z"
   },
   {
    "duration": 20,
    "start_time": "2023-12-02T16:47:04.544Z"
   },
   {
    "duration": 8,
    "start_time": "2023-12-02T16:47:04.566Z"
   },
   {
    "duration": 12,
    "start_time": "2023-12-02T16:47:04.576Z"
   },
   {
    "duration": 3,
    "start_time": "2023-12-02T16:47:04.596Z"
   },
   {
    "duration": 23,
    "start_time": "2023-12-02T16:47:04.601Z"
   },
   {
    "duration": 19,
    "start_time": "2023-12-02T16:47:04.626Z"
   },
   {
    "duration": 38,
    "start_time": "2023-12-02T16:47:04.647Z"
   },
   {
    "duration": 8,
    "start_time": "2023-12-02T16:47:04.686Z"
   },
   {
    "duration": 21,
    "start_time": "2023-12-02T16:47:04.695Z"
   },
   {
    "duration": 26,
    "start_time": "2023-12-02T16:47:04.718Z"
   },
   {
    "duration": 27,
    "start_time": "2023-12-02T16:47:04.745Z"
   },
   {
    "duration": 23,
    "start_time": "2023-12-02T16:47:04.773Z"
   },
   {
    "duration": 5,
    "start_time": "2023-12-02T16:47:04.797Z"
   },
   {
    "duration": 37,
    "start_time": "2023-12-02T16:47:04.803Z"
   },
   {
    "duration": 11,
    "start_time": "2023-12-02T16:47:04.841Z"
   },
   {
    "duration": 8,
    "start_time": "2023-12-02T16:47:04.853Z"
   },
   {
    "duration": 45,
    "start_time": "2023-12-02T16:47:04.863Z"
   },
   {
    "duration": 306,
    "start_time": "2023-12-02T16:47:04.909Z"
   },
   {
    "duration": 9,
    "start_time": "2023-12-02T16:47:05.217Z"
   },
   {
    "duration": 50,
    "start_time": "2023-12-02T16:47:05.227Z"
   },
   {
    "duration": 11,
    "start_time": "2023-12-02T16:47:05.279Z"
   },
   {
    "duration": 9,
    "start_time": "2023-12-02T16:47:05.292Z"
   },
   {
    "duration": 4,
    "start_time": "2023-12-02T16:47:05.303Z"
   },
   {
    "duration": 15,
    "start_time": "2023-12-02T16:47:05.309Z"
   },
   {
    "duration": 31,
    "start_time": "2023-12-02T16:47:05.325Z"
   },
   {
    "duration": 16,
    "start_time": "2023-12-02T16:47:05.358Z"
   },
   {
    "duration": 6,
    "start_time": "2023-12-02T17:03:15.420Z"
   },
   {
    "duration": 7,
    "start_time": "2023-12-02T17:05:51.064Z"
   },
   {
    "duration": 1092,
    "start_time": "2023-12-02T17:06:25.865Z"
   },
   {
    "duration": 90,
    "start_time": "2023-12-02T17:06:27.692Z"
   },
   {
    "duration": 38,
    "start_time": "2023-12-02T17:06:28.149Z"
   },
   {
    "duration": 18,
    "start_time": "2023-12-02T17:06:30.585Z"
   },
   {
    "duration": 7,
    "start_time": "2023-12-02T17:06:31.013Z"
   },
   {
    "duration": 39,
    "start_time": "2023-12-02T17:06:31.565Z"
   },
   {
    "duration": 2,
    "start_time": "2023-12-02T17:06:33.233Z"
   },
   {
    "duration": 11,
    "start_time": "2023-12-02T17:06:33.457Z"
   },
   {
    "duration": 2,
    "start_time": "2023-12-02T17:06:33.677Z"
   },
   {
    "duration": 14,
    "start_time": "2023-12-02T17:06:34.033Z"
   },
   {
    "duration": 10,
    "start_time": "2023-12-02T17:06:35.301Z"
   },
   {
    "duration": 12,
    "start_time": "2023-12-02T17:06:35.470Z"
   },
   {
    "duration": 10,
    "start_time": "2023-12-02T17:06:35.849Z"
   },
   {
    "duration": 3,
    "start_time": "2023-12-02T17:06:36.027Z"
   },
   {
    "duration": 9,
    "start_time": "2023-12-02T17:06:37.301Z"
   },
   {
    "duration": 28,
    "start_time": "2023-12-02T17:06:37.793Z"
   },
   {
    "duration": 7,
    "start_time": "2023-12-02T17:06:38.841Z"
   },
   {
    "duration": 7,
    "start_time": "2023-12-02T17:06:43.543Z"
   },
   {
    "duration": 9,
    "start_time": "2023-12-02T17:06:44.589Z"
   },
   {
    "duration": 4,
    "start_time": "2023-12-02T17:06:45.107Z"
   },
   {
    "duration": 3,
    "start_time": "2023-12-02T17:06:45.736Z"
   },
   {
    "duration": 3,
    "start_time": "2023-12-02T17:06:46.516Z"
   },
   {
    "duration": 6,
    "start_time": "2023-12-02T17:06:48.065Z"
   },
   {
    "duration": 13,
    "start_time": "2023-12-02T17:06:48.557Z"
   },
   {
    "duration": 23,
    "start_time": "2023-12-02T17:06:50.481Z"
   },
   {
    "duration": 12,
    "start_time": "2023-12-02T17:06:51.102Z"
   },
   {
    "duration": 2,
    "start_time": "2023-12-02T17:06:52.333Z"
   },
   {
    "duration": 5,
    "start_time": "2023-12-02T17:06:52.729Z"
   },
   {
    "duration": 5,
    "start_time": "2023-12-02T17:06:54.162Z"
   },
   {
    "duration": 14,
    "start_time": "2023-12-02T17:06:56.005Z"
   },
   {
    "duration": 14,
    "start_time": "2023-12-02T17:06:56.807Z"
   },
   {
    "duration": 9,
    "start_time": "2023-12-02T17:07:01.621Z"
   },
   {
    "duration": 99,
    "start_time": "2023-12-02T17:07:06.247Z"
   },
   {
    "duration": 39,
    "start_time": "2023-12-02T17:07:24.088Z"
   },
   {
    "duration": 7,
    "start_time": "2023-12-02T17:07:37.245Z"
   },
   {
    "duration": 6,
    "start_time": "2023-12-02T17:07:53.305Z"
   },
   {
    "duration": 5,
    "start_time": "2023-12-02T17:08:02.249Z"
   },
   {
    "duration": 26,
    "start_time": "2023-12-02T17:10:18.680Z"
   },
   {
    "duration": 14,
    "start_time": "2023-12-02T17:12:29.645Z"
   },
   {
    "duration": 9,
    "start_time": "2023-12-02T17:15:34.855Z"
   },
   {
    "duration": 16,
    "start_time": "2023-12-02T17:15:45.590Z"
   },
   {
    "duration": 11,
    "start_time": "2023-12-02T17:30:22.470Z"
   },
   {
    "duration": 6,
    "start_time": "2023-12-02T17:32:14.738Z"
   },
   {
    "duration": 7,
    "start_time": "2023-12-02T17:40:48.879Z"
   },
   {
    "duration": 1318,
    "start_time": "2023-12-03T06:41:02.176Z"
   },
   {
    "duration": 260,
    "start_time": "2023-12-03T06:41:03.497Z"
   },
   {
    "duration": 79,
    "start_time": "2023-12-03T06:41:03.759Z"
   },
   {
    "duration": 19,
    "start_time": "2023-12-03T06:41:03.840Z"
   },
   {
    "duration": 12,
    "start_time": "2023-12-03T06:41:03.861Z"
   },
   {
    "duration": 42,
    "start_time": "2023-12-03T06:41:03.874Z"
   },
   {
    "duration": 14,
    "start_time": "2023-12-03T06:41:03.917Z"
   },
   {
    "duration": 13,
    "start_time": "2023-12-03T06:41:03.932Z"
   },
   {
    "duration": 7,
    "start_time": "2023-12-03T06:41:03.947Z"
   },
   {
    "duration": 28,
    "start_time": "2023-12-03T06:41:03.956Z"
   },
   {
    "duration": 11,
    "start_time": "2023-12-03T06:41:03.985Z"
   },
   {
    "duration": 13,
    "start_time": "2023-12-03T06:41:03.997Z"
   },
   {
    "duration": 27,
    "start_time": "2023-12-03T06:41:04.012Z"
   },
   {
    "duration": 3,
    "start_time": "2023-12-03T06:41:04.041Z"
   },
   {
    "duration": 16,
    "start_time": "2023-12-03T06:41:04.046Z"
   },
   {
    "duration": 29,
    "start_time": "2023-12-03T06:41:04.064Z"
   },
   {
    "duration": 8,
    "start_time": "2023-12-03T06:41:04.095Z"
   },
   {
    "duration": 41,
    "start_time": "2023-12-03T06:41:04.105Z"
   },
   {
    "duration": 11,
    "start_time": "2023-12-03T06:41:04.148Z"
   },
   {
    "duration": 13,
    "start_time": "2023-12-03T06:41:04.161Z"
   },
   {
    "duration": 5,
    "start_time": "2023-12-03T06:41:04.176Z"
   },
   {
    "duration": 4,
    "start_time": "2023-12-03T06:41:04.183Z"
   },
   {
    "duration": 22,
    "start_time": "2023-12-03T06:41:04.189Z"
   },
   {
    "duration": 19,
    "start_time": "2023-12-03T06:41:04.212Z"
   },
   {
    "duration": 24,
    "start_time": "2023-12-03T06:41:04.232Z"
   },
   {
    "duration": 12,
    "start_time": "2023-12-03T06:41:04.257Z"
   },
   {
    "duration": 3,
    "start_time": "2023-12-03T06:41:04.271Z"
   },
   {
    "duration": 4,
    "start_time": "2023-12-03T06:41:04.278Z"
   },
   {
    "duration": 23,
    "start_time": "2023-12-03T06:41:04.283Z"
   },
   {
    "duration": 30,
    "start_time": "2023-12-03T06:41:04.308Z"
   },
   {
    "duration": 14,
    "start_time": "2023-12-03T06:41:04.340Z"
   },
   {
    "duration": 5,
    "start_time": "2023-12-03T06:41:04.356Z"
   },
   {
    "duration": 24,
    "start_time": "2023-12-03T06:41:04.363Z"
   },
   {
    "duration": 10,
    "start_time": "2023-12-03T06:41:04.389Z"
   },
   {
    "duration": 10,
    "start_time": "2023-12-03T06:41:04.401Z"
   },
   {
    "duration": 7,
    "start_time": "2023-12-03T06:41:04.431Z"
   },
   {
    "duration": 11,
    "start_time": "2023-12-03T06:41:04.440Z"
   },
   {
    "duration": 5,
    "start_time": "2023-12-03T06:41:04.453Z"
   },
   {
    "duration": 3,
    "start_time": "2023-12-03T06:41:04.460Z"
   },
   {
    "duration": 18,
    "start_time": "2023-12-03T06:41:04.464Z"
   },
   {
    "duration": 586,
    "start_time": "2023-12-03T06:41:04.483Z"
   },
   {
    "duration": 5,
    "start_time": "2023-12-03T06:41:05.070Z"
   },
   {
    "duration": 13,
    "start_time": "2023-12-03T06:41:05.076Z"
   },
   {
    "duration": 20,
    "start_time": "2023-12-03T06:41:05.091Z"
   },
   {
    "duration": 9,
    "start_time": "2023-12-03T06:41:05.112Z"
   },
   {
    "duration": 29,
    "start_time": "2023-12-03T06:41:05.123Z"
   },
   {
    "duration": 3,
    "start_time": "2023-12-03T06:41:05.153Z"
   },
   {
    "duration": 32,
    "start_time": "2023-12-03T06:41:05.157Z"
   },
   {
    "duration": 15,
    "start_time": "2023-12-03T06:41:05.191Z"
   },
   {
    "duration": 2,
    "start_time": "2023-12-03T06:41:05.208Z"
   },
   {
    "duration": 23,
    "start_time": "2023-12-03T06:41:05.211Z"
   },
   {
    "duration": 13,
    "start_time": "2023-12-03T06:41:05.236Z"
   },
   {
    "duration": 14,
    "start_time": "2023-12-03T06:41:05.251Z"
   },
   {
    "duration": 16,
    "start_time": "2023-12-03T06:41:05.267Z"
   },
   {
    "duration": 51,
    "start_time": "2023-12-03T06:41:05.284Z"
   },
   {
    "duration": 70,
    "start_time": "2023-12-03T06:41:05.337Z"
   },
   {
    "duration": 23,
    "start_time": "2023-12-03T06:41:05.409Z"
   },
   {
    "duration": 20,
    "start_time": "2023-12-03T06:41:05.433Z"
   },
   {
    "duration": 20,
    "start_time": "2023-12-03T06:41:05.455Z"
   },
   {
    "duration": 27,
    "start_time": "2023-12-03T06:41:05.476Z"
   },
   {
    "duration": 24,
    "start_time": "2023-12-03T06:41:05.504Z"
   },
   {
    "duration": 28,
    "start_time": "2023-12-03T06:41:05.529Z"
   },
   {
    "duration": 325,
    "start_time": "2023-12-03T06:41:05.559Z"
   },
   {
    "duration": 3,
    "start_time": "2023-12-03T06:41:05.886Z"
   },
   {
    "duration": 7,
    "start_time": "2023-12-03T06:41:05.891Z"
   },
   {
    "duration": 10,
    "start_time": "2023-12-03T06:41:05.899Z"
   },
   {
    "duration": 26,
    "start_time": "2023-12-03T06:41:05.911Z"
   },
   {
    "duration": 16,
    "start_time": "2023-12-03T06:41:05.938Z"
   },
   {
    "duration": 6,
    "start_time": "2023-12-03T06:41:05.955Z"
   },
   {
    "duration": 6,
    "start_time": "2023-12-03T06:41:05.962Z"
   },
   {
    "duration": 13,
    "start_time": "2023-12-03T06:41:05.969Z"
   },
   {
    "duration": 5,
    "start_time": "2023-12-03T06:41:05.984Z"
   },
   {
    "duration": 6,
    "start_time": "2023-12-03T06:41:05.991Z"
   },
   {
    "duration": 45,
    "start_time": "2023-12-03T06:41:05.998Z"
   },
   {
    "duration": 16,
    "start_time": "2023-12-03T06:41:06.044Z"
   },
   {
    "duration": 6,
    "start_time": "2023-12-03T06:41:06.061Z"
   },
   {
    "duration": 14,
    "start_time": "2023-12-03T06:41:06.068Z"
   },
   {
    "duration": 4,
    "start_time": "2023-12-03T06:41:06.084Z"
   },
   {
    "duration": 15,
    "start_time": "2023-12-03T06:41:06.089Z"
   },
   {
    "duration": 9,
    "start_time": "2023-12-03T06:41:06.105Z"
   },
   {
    "duration": 42,
    "start_time": "2023-12-03T06:41:06.116Z"
   },
   {
    "duration": 8,
    "start_time": "2023-12-03T06:41:06.163Z"
   },
   {
    "duration": 9,
    "start_time": "2023-12-03T06:41:06.172Z"
   },
   {
    "duration": 14,
    "start_time": "2023-12-03T06:41:06.183Z"
   },
   {
    "duration": 33,
    "start_time": "2023-12-03T06:41:06.199Z"
   },
   {
    "duration": 8,
    "start_time": "2023-12-03T06:41:06.233Z"
   },
   {
    "duration": 28,
    "start_time": "2023-12-03T06:41:06.242Z"
   },
   {
    "duration": 35,
    "start_time": "2023-12-03T06:41:06.271Z"
   },
   {
    "duration": 4,
    "start_time": "2023-12-03T06:41:06.308Z"
   },
   {
    "duration": 16,
    "start_time": "2023-12-03T06:41:06.313Z"
   },
   {
    "duration": 46,
    "start_time": "2023-12-03T06:41:06.331Z"
   },
   {
    "duration": 306,
    "start_time": "2023-12-03T06:41:06.379Z"
   },
   {
    "duration": 7,
    "start_time": "2023-12-03T06:41:06.687Z"
   },
   {
    "duration": 19,
    "start_time": "2023-12-03T06:41:06.695Z"
   },
   {
    "duration": 18,
    "start_time": "2023-12-03T06:41:06.715Z"
   },
   {
    "duration": 3,
    "start_time": "2023-12-03T06:41:06.735Z"
   },
   {
    "duration": 5,
    "start_time": "2023-12-03T06:41:06.739Z"
   },
   {
    "duration": 5,
    "start_time": "2023-12-03T06:41:06.745Z"
   },
   {
    "duration": 11,
    "start_time": "2023-12-03T06:41:06.752Z"
   },
   {
    "duration": 11,
    "start_time": "2023-12-03T06:41:06.764Z"
   },
   {
    "duration": 1576,
    "start_time": "2023-12-03T07:09:24.464Z"
   },
   {
    "duration": 1560,
    "start_time": "2023-12-03T07:10:03.699Z"
   },
   {
    "duration": 2597,
    "start_time": "2023-12-03T07:10:51.765Z"
   },
   {
    "duration": 72,
    "start_time": "2023-12-03T07:13:30.896Z"
   },
   {
    "duration": 30,
    "start_time": "2023-12-03T07:15:05.575Z"
   },
   {
    "duration": 27,
    "start_time": "2023-12-03T07:15:23.659Z"
   },
   {
    "duration": 16,
    "start_time": "2023-12-03T07:15:29.039Z"
   },
   {
    "duration": 5,
    "start_time": "2023-12-03T07:15:56.594Z"
   },
   {
    "duration": 22,
    "start_time": "2023-12-03T07:16:09.091Z"
   },
   {
    "duration": 25,
    "start_time": "2023-12-03T07:16:35.055Z"
   },
   {
    "duration": 22,
    "start_time": "2023-12-03T07:23:42.094Z"
   },
   {
    "duration": 23,
    "start_time": "2023-12-03T07:24:08.407Z"
   },
   {
    "duration": 27,
    "start_time": "2023-12-03T07:24:39.918Z"
   },
   {
    "duration": 24,
    "start_time": "2023-12-03T07:26:12.359Z"
   },
   {
    "duration": 1472,
    "start_time": "2023-12-03T07:30:42.135Z"
   },
   {
    "duration": 124,
    "start_time": "2023-12-03T07:30:51.771Z"
   },
   {
    "duration": 127,
    "start_time": "2023-12-03T07:31:34.827Z"
   },
   {
    "duration": 63,
    "start_time": "2023-12-03T07:32:19.961Z"
   },
   {
    "duration": 346,
    "start_time": "2023-12-03T07:32:26.132Z"
   },
   {
    "duration": 136,
    "start_time": "2023-12-03T07:32:38.848Z"
   },
   {
    "duration": 23,
    "start_time": "2023-12-03T07:33:15.847Z"
   },
   {
    "duration": 74,
    "start_time": "2023-12-03T07:33:45.457Z"
   },
   {
    "duration": 119,
    "start_time": "2023-12-03T07:33:49.388Z"
   },
   {
    "duration": 160,
    "start_time": "2023-12-03T07:34:07.571Z"
   },
   {
    "duration": 147,
    "start_time": "2023-12-03T07:35:46.829Z"
   },
   {
    "duration": 121,
    "start_time": "2023-12-03T07:35:52.708Z"
   },
   {
    "duration": 1457,
    "start_time": "2023-12-03T07:36:18.196Z"
   },
   {
    "duration": 1439,
    "start_time": "2023-12-03T07:37:26.804Z"
   },
   {
    "duration": 20,
    "start_time": "2023-12-03T07:37:51.466Z"
   },
   {
    "duration": 139,
    "start_time": "2023-12-03T07:38:34.447Z"
   },
   {
    "duration": 144,
    "start_time": "2023-12-03T07:49:28.333Z"
   },
   {
    "duration": 132,
    "start_time": "2023-12-03T07:49:40.417Z"
   },
   {
    "duration": 135,
    "start_time": "2023-12-03T07:58:41.953Z"
   },
   {
    "duration": 236,
    "start_time": "2023-12-03T07:59:24.836Z"
   },
   {
    "duration": 143,
    "start_time": "2023-12-03T07:59:38.832Z"
   },
   {
    "duration": 137,
    "start_time": "2023-12-03T07:59:42.787Z"
   },
   {
    "duration": 156,
    "start_time": "2023-12-03T07:59:47.119Z"
   },
   {
    "duration": 181,
    "start_time": "2023-12-03T08:00:29.313Z"
   },
   {
    "duration": 137,
    "start_time": "2023-12-03T08:00:37.117Z"
   },
   {
    "duration": 155,
    "start_time": "2023-12-03T08:00:45.055Z"
   },
   {
    "duration": 161,
    "start_time": "2023-12-03T08:01:18.901Z"
   },
   {
    "duration": 155,
    "start_time": "2023-12-03T08:01:28.215Z"
   },
   {
    "duration": 159,
    "start_time": "2023-12-03T08:01:35.390Z"
   },
   {
    "duration": 155,
    "start_time": "2023-12-03T08:02:49.876Z"
   },
   {
    "duration": 167,
    "start_time": "2023-12-03T08:03:00.766Z"
   },
   {
    "duration": 273,
    "start_time": "2023-12-03T08:03:05.466Z"
   },
   {
    "duration": 169,
    "start_time": "2023-12-03T08:03:18.548Z"
   },
   {
    "duration": 156,
    "start_time": "2023-12-03T08:03:40.145Z"
   },
   {
    "duration": 157,
    "start_time": "2023-12-03T08:07:56.408Z"
   },
   {
    "duration": 20,
    "start_time": "2023-12-03T08:08:26.335Z"
   },
   {
    "duration": 155,
    "start_time": "2023-12-03T08:08:34.405Z"
   },
   {
    "duration": 159,
    "start_time": "2023-12-03T08:15:33.145Z"
   },
   {
    "duration": 8,
    "start_time": "2023-12-03T08:16:56.607Z"
   },
   {
    "duration": 58,
    "start_time": "2023-12-03T08:18:50.739Z"
   },
   {
    "duration": 68,
    "start_time": "2023-12-03T08:19:26.299Z"
   },
   {
    "duration": 59,
    "start_time": "2023-12-03T08:20:22.365Z"
   },
   {
    "duration": 69,
    "start_time": "2023-12-03T08:20:54.656Z"
   },
   {
    "duration": 81,
    "start_time": "2023-12-03T08:24:00.908Z"
   },
   {
    "duration": 60,
    "start_time": "2023-12-03T08:24:08.357Z"
   },
   {
    "duration": 9,
    "start_time": "2023-12-03T08:24:14.683Z"
   },
   {
    "duration": 60,
    "start_time": "2023-12-03T08:24:31.694Z"
   },
   {
    "duration": 9,
    "start_time": "2023-12-03T08:31:16.122Z"
   },
   {
    "duration": 130,
    "start_time": "2023-12-03T08:32:21.655Z"
   },
   {
    "duration": 129,
    "start_time": "2023-12-03T08:32:31.765Z"
   },
   {
    "duration": 139,
    "start_time": "2023-12-03T08:32:40.254Z"
   },
   {
    "duration": 147,
    "start_time": "2023-12-03T08:32:55.487Z"
   },
   {
    "duration": 129,
    "start_time": "2023-12-03T08:33:03.767Z"
   },
   {
    "duration": 235,
    "start_time": "2023-12-03T08:33:18.659Z"
   },
   {
    "duration": 90,
    "start_time": "2023-12-03T08:35:30.346Z"
   },
   {
    "duration": 64,
    "start_time": "2023-12-03T08:36:08.047Z"
   },
   {
    "duration": 167,
    "start_time": "2023-12-03T08:36:14.757Z"
   },
   {
    "duration": 211,
    "start_time": "2023-12-03T08:36:42.236Z"
   },
   {
    "duration": 167,
    "start_time": "2023-12-03T08:36:49.747Z"
   },
   {
    "duration": 106,
    "start_time": "2023-12-03T08:37:31.894Z"
   },
   {
    "duration": 11,
    "start_time": "2023-12-03T08:37:39.557Z"
   },
   {
    "duration": 63,
    "start_time": "2023-12-03T08:37:45.557Z"
   },
   {
    "duration": 121,
    "start_time": "2023-12-03T08:37:51.420Z"
   },
   {
    "duration": 134,
    "start_time": "2023-12-03T08:38:15.659Z"
   },
   {
    "duration": 128,
    "start_time": "2023-12-03T10:11:30.245Z"
   },
   {
    "duration": 112,
    "start_time": "2023-12-03T10:12:25.672Z"
   },
   {
    "duration": 123,
    "start_time": "2023-12-03T10:13:01.996Z"
   },
   {
    "duration": 170,
    "start_time": "2023-12-03T10:13:19.363Z"
   },
   {
    "duration": 157,
    "start_time": "2023-12-03T10:15:04.959Z"
   },
   {
    "duration": 309,
    "start_time": "2023-12-03T10:15:17.634Z"
   },
   {
    "duration": 142,
    "start_time": "2023-12-03T10:15:40.898Z"
   },
   {
    "duration": 156,
    "start_time": "2023-12-03T10:15:48.019Z"
   },
   {
    "duration": 69,
    "start_time": "2023-12-03T10:15:50.898Z"
   },
   {
    "duration": 63,
    "start_time": "2023-12-03T10:16:06.552Z"
   },
   {
    "duration": 150,
    "start_time": "2023-12-03T10:16:16.299Z"
   },
   {
    "duration": 177,
    "start_time": "2023-12-03T10:17:41.501Z"
   },
   {
    "duration": 195,
    "start_time": "2023-12-03T10:20:47.798Z"
   },
   {
    "duration": 171,
    "start_time": "2023-12-03T10:20:53.405Z"
   },
   {
    "duration": 189,
    "start_time": "2023-12-03T10:21:00.295Z"
   },
   {
    "duration": 168,
    "start_time": "2023-12-03T10:21:16.076Z"
   },
   {
    "duration": 177,
    "start_time": "2023-12-03T10:21:50.114Z"
   },
   {
    "duration": 173,
    "start_time": "2023-12-03T10:22:00.753Z"
   },
   {
    "duration": 316,
    "start_time": "2023-12-03T10:22:05.715Z"
   },
   {
    "duration": 2,
    "start_time": "2023-12-03T10:26:20.441Z"
   },
   {
    "duration": 131,
    "start_time": "2023-12-03T10:28:02.227Z"
   },
   {
    "duration": 168,
    "start_time": "2023-12-03T10:28:29.007Z"
   },
   {
    "duration": 149,
    "start_time": "2023-12-03T10:29:11.036Z"
   },
   {
    "duration": 124,
    "start_time": "2023-12-03T10:29:35.354Z"
   },
   {
    "duration": 131,
    "start_time": "2023-12-03T10:29:53.883Z"
   },
   {
    "duration": 158,
    "start_time": "2023-12-03T10:30:11.413Z"
   },
   {
    "duration": 147,
    "start_time": "2023-12-03T10:30:19.220Z"
   },
   {
    "duration": 131,
    "start_time": "2023-12-03T10:30:56.947Z"
   },
   {
    "duration": 139,
    "start_time": "2023-12-03T10:31:22.814Z"
   },
   {
    "duration": 145,
    "start_time": "2023-12-03T10:32:04.739Z"
   },
   {
    "duration": 144,
    "start_time": "2023-12-03T10:32:10.064Z"
   },
   {
    "duration": 274,
    "start_time": "2023-12-03T10:32:17.120Z"
   },
   {
    "duration": 237,
    "start_time": "2023-12-03T10:36:26.616Z"
   },
   {
    "duration": 278,
    "start_time": "2023-12-03T10:37:07.054Z"
   },
   {
    "duration": 66,
    "start_time": "2023-12-03T10:37:53.167Z"
   },
   {
    "duration": 290,
    "start_time": "2023-12-03T10:38:04.984Z"
   },
   {
    "duration": 368,
    "start_time": "2023-12-03T10:38:26.824Z"
   },
   {
    "duration": 115,
    "start_time": "2023-12-03T10:39:02.450Z"
   },
   {
    "duration": 260,
    "start_time": "2023-12-03T10:39:17.348Z"
   },
   {
    "duration": 161,
    "start_time": "2023-12-03T10:39:23.408Z"
   },
   {
    "duration": 169,
    "start_time": "2023-12-03T10:39:31.474Z"
   },
   {
    "duration": 159,
    "start_time": "2023-12-03T10:39:34.789Z"
   },
   {
    "duration": 300,
    "start_time": "2023-12-03T10:39:53.761Z"
   },
   {
    "duration": 122,
    "start_time": "2023-12-03T10:41:45.634Z"
   },
   {
    "duration": 111,
    "start_time": "2023-12-03T10:41:59.844Z"
   },
   {
    "duration": 157,
    "start_time": "2023-12-03T10:42:19.577Z"
   },
   {
    "duration": 167,
    "start_time": "2023-12-03T10:51:24.710Z"
   },
   {
    "duration": 123,
    "start_time": "2023-12-03T10:53:49.149Z"
   },
   {
    "duration": 190,
    "start_time": "2023-12-03T10:54:08.303Z"
   },
   {
    "duration": 71,
    "start_time": "2023-12-03T10:59:35.073Z"
   },
   {
    "duration": 172,
    "start_time": "2023-12-03T10:59:40.438Z"
   },
   {
    "duration": 176,
    "start_time": "2023-12-03T10:59:49.656Z"
   },
   {
    "duration": 168,
    "start_time": "2023-12-03T11:16:42.705Z"
   },
   {
    "duration": 207,
    "start_time": "2023-12-03T11:16:58.901Z"
   },
   {
    "duration": 186,
    "start_time": "2023-12-03T11:18:32.569Z"
   },
   {
    "duration": 191,
    "start_time": "2023-12-03T11:20:25.882Z"
   },
   {
    "duration": 190,
    "start_time": "2023-12-03T11:20:28.512Z"
   },
   {
    "duration": 180,
    "start_time": "2023-12-03T11:21:14.842Z"
   },
   {
    "duration": 197,
    "start_time": "2023-12-03T11:22:04.987Z"
   },
   {
    "duration": 156,
    "start_time": "2023-12-03T11:25:07.042Z"
   },
   {
    "duration": 172,
    "start_time": "2023-12-03T11:25:16.682Z"
   },
   {
    "duration": 368,
    "start_time": "2023-12-03T11:26:11.053Z"
   },
   {
    "duration": 152,
    "start_time": "2023-12-03T11:29:37.881Z"
   },
   {
    "duration": 165,
    "start_time": "2023-12-03T11:29:45.453Z"
   },
   {
    "duration": 157,
    "start_time": "2023-12-03T11:30:37.887Z"
   },
   {
    "duration": 216,
    "start_time": "2023-12-03T11:31:03.506Z"
   },
   {
    "duration": 199,
    "start_time": "2023-12-03T11:31:33.459Z"
   },
   {
    "duration": 177,
    "start_time": "2023-12-03T11:31:59.353Z"
   },
   {
    "duration": 187,
    "start_time": "2023-12-03T11:32:13.858Z"
   },
   {
    "duration": 204,
    "start_time": "2023-12-03T11:32:22.434Z"
   },
   {
    "duration": 188,
    "start_time": "2023-12-03T11:32:29.595Z"
   },
   {
    "duration": 244,
    "start_time": "2023-12-03T11:39:35.537Z"
   },
   {
    "duration": 178,
    "start_time": "2023-12-03T11:41:07.051Z"
   },
   {
    "duration": 18,
    "start_time": "2023-12-03T12:10:09.019Z"
   },
   {
    "duration": 59,
    "start_time": "2023-12-03T12:11:22.358Z"
   },
   {
    "duration": 15,
    "start_time": "2023-12-03T12:15:53.548Z"
   },
   {
    "duration": 11,
    "start_time": "2023-12-03T12:16:14.296Z"
   },
   {
    "duration": 5,
    "start_time": "2023-12-03T12:16:24.343Z"
   },
   {
    "duration": 11,
    "start_time": "2023-12-03T12:16:45.169Z"
   },
   {
    "duration": 1440,
    "start_time": "2023-12-03T12:20:20.524Z"
   },
   {
    "duration": 31,
    "start_time": "2023-12-03T12:21:34.980Z"
   },
   {
    "duration": 58,
    "start_time": "2023-12-03T12:21:58.668Z"
   },
   {
    "duration": 55,
    "start_time": "2023-12-03T12:22:09.436Z"
   },
   {
    "duration": 59,
    "start_time": "2023-12-03T12:22:58.511Z"
   },
   {
    "duration": 123,
    "start_time": "2023-12-03T12:23:18.421Z"
   },
   {
    "duration": 34,
    "start_time": "2023-12-03T12:23:52.668Z"
   },
   {
    "duration": 28,
    "start_time": "2023-12-03T12:24:04.620Z"
   },
   {
    "duration": 11,
    "start_time": "2023-12-03T13:10:13.325Z"
   },
   {
    "duration": 38,
    "start_time": "2023-12-03T13:33:59.948Z"
   },
   {
    "duration": 24,
    "start_time": "2023-12-03T13:34:31.549Z"
   },
   {
    "duration": 26,
    "start_time": "2023-12-03T13:35:24.674Z"
   },
   {
    "duration": 26,
    "start_time": "2023-12-03T13:35:29.690Z"
   },
   {
    "duration": 23,
    "start_time": "2023-12-03T13:35:46.445Z"
   },
   {
    "duration": 41,
    "start_time": "2023-12-03T13:36:11.071Z"
   },
   {
    "duration": 37,
    "start_time": "2023-12-03T13:36:30.645Z"
   },
   {
    "duration": 1674,
    "start_time": "2023-12-03T13:37:45.345Z"
   },
   {
    "duration": 1533,
    "start_time": "2023-12-03T13:39:08.186Z"
   },
   {
    "duration": 1513,
    "start_time": "2023-12-03T13:39:22.755Z"
   },
   {
    "duration": 1671,
    "start_time": "2023-12-03T13:40:03.223Z"
   },
   {
    "duration": 1778,
    "start_time": "2023-12-03T13:41:44.844Z"
   },
   {
    "duration": 24,
    "start_time": "2023-12-03T13:42:07.229Z"
   },
   {
    "duration": 45,
    "start_time": "2023-12-03T13:42:59.644Z"
   },
   {
    "duration": 13,
    "start_time": "2023-12-03T13:43:43.106Z"
   },
   {
    "duration": 34,
    "start_time": "2023-12-03T13:43:47.817Z"
   },
   {
    "duration": 6,
    "start_time": "2023-12-03T13:44:02.552Z"
   },
   {
    "duration": 21,
    "start_time": "2023-12-03T13:44:42.394Z"
   },
   {
    "duration": 22,
    "start_time": "2023-12-03T13:45:03.785Z"
   },
   {
    "duration": 9,
    "start_time": "2023-12-03T13:47:46.624Z"
   },
   {
    "duration": 15,
    "start_time": "2023-12-03T14:05:04.936Z"
   },
   {
    "duration": 26,
    "start_time": "2023-12-03T14:05:52.405Z"
   },
   {
    "duration": 86,
    "start_time": "2023-12-03T14:06:38.785Z"
   },
   {
    "duration": 26,
    "start_time": "2023-12-03T14:06:44.533Z"
   },
   {
    "duration": 57,
    "start_time": "2023-12-03T14:07:03.864Z"
   },
   {
    "duration": 27,
    "start_time": "2023-12-03T14:07:19.468Z"
   },
   {
    "duration": 17,
    "start_time": "2023-12-03T14:08:00.057Z"
   },
   {
    "duration": 24,
    "start_time": "2023-12-03T14:08:12.960Z"
   },
   {
    "duration": 14,
    "start_time": "2023-12-03T14:08:52.868Z"
   },
   {
    "duration": 17,
    "start_time": "2023-12-03T14:11:14.088Z"
   },
   {
    "duration": 149,
    "start_time": "2023-12-03T14:19:54.800Z"
   },
   {
    "duration": 349,
    "start_time": "2023-12-03T14:21:07.087Z"
   },
   {
    "duration": 184,
    "start_time": "2023-12-03T14:22:18.122Z"
   },
   {
    "duration": 28,
    "start_time": "2023-12-03T14:23:04.317Z"
   },
   {
    "duration": 180,
    "start_time": "2023-12-03T14:23:14.545Z"
   },
   {
    "duration": 184,
    "start_time": "2023-12-03T14:24:06.612Z"
   },
   {
    "duration": 186,
    "start_time": "2023-12-03T14:24:18.808Z"
   },
   {
    "duration": 5,
    "start_time": "2023-12-03T14:29:21.968Z"
   },
   {
    "duration": 63,
    "start_time": "2023-12-03T14:37:40.953Z"
   },
   {
    "duration": 6,
    "start_time": "2023-12-03T14:37:47.823Z"
   },
   {
    "duration": 8,
    "start_time": "2023-12-03T14:38:09.354Z"
   },
   {
    "duration": 14,
    "start_time": "2023-12-03T14:38:18.369Z"
   },
   {
    "duration": 8,
    "start_time": "2023-12-03T14:38:54.899Z"
   },
   {
    "duration": 6,
    "start_time": "2023-12-03T14:39:03.865Z"
   },
   {
    "duration": 8,
    "start_time": "2023-12-03T14:39:20.373Z"
   },
   {
    "duration": 13,
    "start_time": "2023-12-03T14:39:44.664Z"
   },
   {
    "duration": 1372,
    "start_time": "2023-12-03T14:39:55.415Z"
   },
   {
    "duration": 60,
    "start_time": "2023-12-03T14:40:15.724Z"
   },
   {
    "duration": 17,
    "start_time": "2023-12-03T14:40:27.833Z"
   },
   {
    "duration": 1381,
    "start_time": "2023-12-03T14:40:44.078Z"
   },
   {
    "duration": 10,
    "start_time": "2023-12-03T14:40:56.237Z"
   },
   {
    "duration": 15,
    "start_time": "2023-12-03T14:41:01.142Z"
   },
   {
    "duration": 7,
    "start_time": "2023-12-03T14:41:35.282Z"
   },
   {
    "duration": 8,
    "start_time": "2023-12-03T14:42:40.350Z"
   },
   {
    "duration": 9,
    "start_time": "2023-12-03T14:42:52.473Z"
   },
   {
    "duration": 8,
    "start_time": "2023-12-03T14:43:01.976Z"
   },
   {
    "duration": 10,
    "start_time": "2023-12-03T14:44:30.637Z"
   },
   {
    "duration": 8,
    "start_time": "2023-12-03T14:45:07.155Z"
   },
   {
    "duration": 16,
    "start_time": "2023-12-03T14:47:20.583Z"
   },
   {
    "duration": 17,
    "start_time": "2023-12-03T14:47:41.848Z"
   },
   {
    "duration": 18,
    "start_time": "2023-12-03T14:49:59.162Z"
   },
   {
    "duration": 17,
    "start_time": "2023-12-03T14:50:23.428Z"
   },
   {
    "duration": 50,
    "start_time": "2023-12-03T14:52:13.121Z"
   },
   {
    "duration": 21,
    "start_time": "2023-12-03T14:53:29.583Z"
   },
   {
    "duration": 129,
    "start_time": "2023-12-03T14:55:39.947Z"
   },
   {
    "duration": 11,
    "start_time": "2023-12-03T14:55:48.351Z"
   },
   {
    "duration": 90,
    "start_time": "2023-12-03T14:55:53.642Z"
   },
   {
    "duration": 6,
    "start_time": "2023-12-03T14:55:55.700Z"
   },
   {
    "duration": 130,
    "start_time": "2023-12-03T14:57:00.563Z"
   },
   {
    "duration": 134,
    "start_time": "2023-12-03T14:57:27.770Z"
   },
   {
    "duration": 4,
    "start_time": "2023-12-03T14:57:45.317Z"
   },
   {
    "duration": 6,
    "start_time": "2023-12-03T14:57:52.943Z"
   },
   {
    "duration": 34,
    "start_time": "2023-12-03T14:59:07.097Z"
   },
   {
    "duration": 5,
    "start_time": "2023-12-03T15:03:00.507Z"
   },
   {
    "duration": 17,
    "start_time": "2023-12-03T15:03:16.702Z"
   },
   {
    "duration": 4,
    "start_time": "2023-12-03T15:03:24.555Z"
   },
   {
    "duration": 22,
    "start_time": "2023-12-03T15:03:32.283Z"
   },
   {
    "duration": 7,
    "start_time": "2023-12-03T15:03:32.712Z"
   },
   {
    "duration": 6,
    "start_time": "2023-12-03T15:03:33.736Z"
   },
   {
    "duration": 12,
    "start_time": "2023-12-03T15:03:34.871Z"
   },
   {
    "duration": 8,
    "start_time": "2023-12-03T15:03:35.242Z"
   },
   {
    "duration": 6,
    "start_time": "2023-12-03T15:03:36.221Z"
   },
   {
    "duration": 8,
    "start_time": "2023-12-03T15:03:36.900Z"
   },
   {
    "duration": 17,
    "start_time": "2023-12-03T15:03:37.535Z"
   },
   {
    "duration": 5,
    "start_time": "2023-12-03T15:03:38.521Z"
   },
   {
    "duration": 5,
    "start_time": "2023-12-03T15:03:39.741Z"
   },
   {
    "duration": 2,
    "start_time": "2023-12-03T15:03:40.361Z"
   },
   {
    "duration": 19,
    "start_time": "2023-12-03T15:03:43.061Z"
   },
   {
    "duration": 5,
    "start_time": "2023-12-03T15:03:43.927Z"
   },
   {
    "duration": 49,
    "start_time": "2023-12-03T15:09:23.859Z"
   },
   {
    "duration": 50,
    "start_time": "2023-12-03T15:09:43.391Z"
   },
   {
    "duration": 16,
    "start_time": "2023-12-03T15:10:52.392Z"
   },
   {
    "duration": 34,
    "start_time": "2023-12-03T15:12:05.464Z"
   },
   {
    "duration": 1111,
    "start_time": "2023-12-03T15:12:21.369Z"
   },
   {
    "duration": 88,
    "start_time": "2023-12-03T15:12:22.482Z"
   },
   {
    "duration": 35,
    "start_time": "2023-12-03T15:12:22.572Z"
   },
   {
    "duration": 19,
    "start_time": "2023-12-03T15:12:22.609Z"
   },
   {
    "duration": 38,
    "start_time": "2023-12-03T15:12:22.629Z"
   },
   {
    "duration": 51,
    "start_time": "2023-12-03T15:12:22.669Z"
   },
   {
    "duration": 2,
    "start_time": "2023-12-03T15:12:22.722Z"
   },
   {
    "duration": 29,
    "start_time": "2023-12-03T15:12:22.725Z"
   },
   {
    "duration": 16,
    "start_time": "2023-12-03T15:12:22.756Z"
   },
   {
    "duration": 22,
    "start_time": "2023-12-03T15:12:22.775Z"
   },
   {
    "duration": 10,
    "start_time": "2023-12-03T15:12:22.799Z"
   },
   {
    "duration": 17,
    "start_time": "2023-12-03T15:12:22.810Z"
   },
   {
    "duration": 19,
    "start_time": "2023-12-03T15:12:22.829Z"
   },
   {
    "duration": 15,
    "start_time": "2023-12-03T15:12:22.850Z"
   },
   {
    "duration": 21,
    "start_time": "2023-12-03T15:12:22.867Z"
   },
   {
    "duration": 38,
    "start_time": "2023-12-03T15:12:22.890Z"
   },
   {
    "duration": 8,
    "start_time": "2023-12-03T15:12:22.930Z"
   },
   {
    "duration": 23,
    "start_time": "2023-12-03T15:12:22.939Z"
   },
   {
    "duration": 10,
    "start_time": "2023-12-03T15:12:22.963Z"
   },
   {
    "duration": 5,
    "start_time": "2023-12-03T15:12:22.974Z"
   },
   {
    "duration": 18,
    "start_time": "2023-12-03T15:12:22.981Z"
   },
   {
    "duration": 19,
    "start_time": "2023-12-03T15:12:23.001Z"
   },
   {
    "duration": 11,
    "start_time": "2023-12-03T15:12:23.021Z"
   },
   {
    "duration": 24,
    "start_time": "2023-12-03T15:12:23.034Z"
   },
   {
    "duration": 21,
    "start_time": "2023-12-03T15:12:23.060Z"
   },
   {
    "duration": 13,
    "start_time": "2023-12-03T15:12:23.083Z"
   },
   {
    "duration": 5,
    "start_time": "2023-12-03T15:12:23.098Z"
   },
   {
    "duration": 19,
    "start_time": "2023-12-03T15:12:23.107Z"
   },
   {
    "duration": 13,
    "start_time": "2023-12-03T15:12:23.127Z"
   },
   {
    "duration": 20,
    "start_time": "2023-12-03T15:12:23.141Z"
   },
   {
    "duration": 18,
    "start_time": "2023-12-03T15:12:23.162Z"
   },
   {
    "duration": 8,
    "start_time": "2023-12-03T15:12:23.182Z"
   },
   {
    "duration": 31,
    "start_time": "2023-12-03T15:12:23.192Z"
   },
   {
    "duration": 10,
    "start_time": "2023-12-03T15:12:23.225Z"
   },
   {
    "duration": 6,
    "start_time": "2023-12-03T15:12:23.237Z"
   },
   {
    "duration": 9,
    "start_time": "2023-12-03T15:12:23.244Z"
   },
   {
    "duration": 11,
    "start_time": "2023-12-03T15:12:23.255Z"
   },
   {
    "duration": 13,
    "start_time": "2023-12-03T15:12:23.268Z"
   },
   {
    "duration": 6,
    "start_time": "2023-12-03T15:12:23.282Z"
   },
   {
    "duration": 48,
    "start_time": "2023-12-03T15:12:23.290Z"
   },
   {
    "duration": 125,
    "start_time": "2023-12-03T15:12:23.340Z"
   },
   {
    "duration": 0,
    "start_time": "2023-12-03T15:12:23.468Z"
   },
   {
    "duration": 0,
    "start_time": "2023-12-03T15:12:23.470Z"
   },
   {
    "duration": 0,
    "start_time": "2023-12-03T15:12:23.471Z"
   },
   {
    "duration": 0,
    "start_time": "2023-12-03T15:12:23.473Z"
   },
   {
    "duration": 0,
    "start_time": "2023-12-03T15:12:23.474Z"
   },
   {
    "duration": 0,
    "start_time": "2023-12-03T15:12:23.476Z"
   },
   {
    "duration": 0,
    "start_time": "2023-12-03T15:12:23.477Z"
   },
   {
    "duration": 0,
    "start_time": "2023-12-03T15:12:23.478Z"
   },
   {
    "duration": 0,
    "start_time": "2023-12-03T15:12:23.480Z"
   },
   {
    "duration": 0,
    "start_time": "2023-12-03T15:12:23.481Z"
   },
   {
    "duration": 0,
    "start_time": "2023-12-03T15:12:23.483Z"
   },
   {
    "duration": 0,
    "start_time": "2023-12-03T15:12:23.484Z"
   },
   {
    "duration": 0,
    "start_time": "2023-12-03T15:12:23.485Z"
   },
   {
    "duration": 0,
    "start_time": "2023-12-03T15:12:23.486Z"
   },
   {
    "duration": 0,
    "start_time": "2023-12-03T15:12:23.488Z"
   },
   {
    "duration": 0,
    "start_time": "2023-12-03T15:12:23.489Z"
   },
   {
    "duration": 0,
    "start_time": "2023-12-03T15:12:23.490Z"
   },
   {
    "duration": 0,
    "start_time": "2023-12-03T15:12:23.492Z"
   },
   {
    "duration": 0,
    "start_time": "2023-12-03T15:12:23.494Z"
   },
   {
    "duration": 0,
    "start_time": "2023-12-03T15:12:23.531Z"
   },
   {
    "duration": 0,
    "start_time": "2023-12-03T15:12:23.532Z"
   },
   {
    "duration": 0,
    "start_time": "2023-12-03T15:12:23.534Z"
   },
   {
    "duration": 0,
    "start_time": "2023-12-03T15:12:23.535Z"
   },
   {
    "duration": 0,
    "start_time": "2023-12-03T15:12:23.536Z"
   },
   {
    "duration": 0,
    "start_time": "2023-12-03T15:12:23.537Z"
   },
   {
    "duration": 0,
    "start_time": "2023-12-03T15:12:23.539Z"
   },
   {
    "duration": 0,
    "start_time": "2023-12-03T15:12:23.540Z"
   },
   {
    "duration": 0,
    "start_time": "2023-12-03T15:12:23.541Z"
   },
   {
    "duration": 0,
    "start_time": "2023-12-03T15:12:23.542Z"
   },
   {
    "duration": 0,
    "start_time": "2023-12-03T15:12:23.543Z"
   },
   {
    "duration": 0,
    "start_time": "2023-12-03T15:12:23.544Z"
   },
   {
    "duration": 0,
    "start_time": "2023-12-03T15:12:23.545Z"
   },
   {
    "duration": 0,
    "start_time": "2023-12-03T15:12:23.546Z"
   },
   {
    "duration": 0,
    "start_time": "2023-12-03T15:12:23.547Z"
   },
   {
    "duration": 0,
    "start_time": "2023-12-03T15:12:23.548Z"
   },
   {
    "duration": 0,
    "start_time": "2023-12-03T15:12:23.549Z"
   },
   {
    "duration": 0,
    "start_time": "2023-12-03T15:12:23.550Z"
   },
   {
    "duration": 0,
    "start_time": "2023-12-03T15:12:23.551Z"
   },
   {
    "duration": 0,
    "start_time": "2023-12-03T15:12:23.552Z"
   },
   {
    "duration": 0,
    "start_time": "2023-12-03T15:12:23.553Z"
   },
   {
    "duration": 0,
    "start_time": "2023-12-03T15:12:23.555Z"
   },
   {
    "duration": 0,
    "start_time": "2023-12-03T15:12:23.555Z"
   },
   {
    "duration": 0,
    "start_time": "2023-12-03T15:12:23.556Z"
   },
   {
    "duration": 0,
    "start_time": "2023-12-03T15:12:23.557Z"
   },
   {
    "duration": 0,
    "start_time": "2023-12-03T15:12:23.558Z"
   },
   {
    "duration": 0,
    "start_time": "2023-12-03T15:12:23.559Z"
   },
   {
    "duration": 0,
    "start_time": "2023-12-03T15:12:23.561Z"
   },
   {
    "duration": 0,
    "start_time": "2023-12-03T15:12:23.562Z"
   },
   {
    "duration": 0,
    "start_time": "2023-12-03T15:12:23.563Z"
   },
   {
    "duration": 0,
    "start_time": "2023-12-03T15:12:23.564Z"
   },
   {
    "duration": 0,
    "start_time": "2023-12-03T15:12:23.566Z"
   },
   {
    "duration": 0,
    "start_time": "2023-12-03T15:12:23.567Z"
   },
   {
    "duration": 0,
    "start_time": "2023-12-03T15:12:23.631Z"
   },
   {
    "duration": 0,
    "start_time": "2023-12-03T15:12:23.633Z"
   },
   {
    "duration": 0,
    "start_time": "2023-12-03T15:12:23.634Z"
   },
   {
    "duration": 0,
    "start_time": "2023-12-03T15:12:23.635Z"
   },
   {
    "duration": 0,
    "start_time": "2023-12-03T15:12:23.637Z"
   },
   {
    "duration": 0,
    "start_time": "2023-12-03T15:12:23.638Z"
   },
   {
    "duration": 0,
    "start_time": "2023-12-03T15:12:23.640Z"
   },
   {
    "duration": 0,
    "start_time": "2023-12-03T15:12:23.641Z"
   },
   {
    "duration": 28,
    "start_time": "2023-12-03T15:14:04.636Z"
   },
   {
    "duration": 1331,
    "start_time": "2023-12-03T15:14:23.711Z"
   },
   {
    "duration": 93,
    "start_time": "2023-12-03T15:14:25.044Z"
   },
   {
    "duration": 36,
    "start_time": "2023-12-03T15:14:25.138Z"
   },
   {
    "duration": 32,
    "start_time": "2023-12-03T15:14:25.177Z"
   },
   {
    "duration": 12,
    "start_time": "2023-12-03T15:14:25.211Z"
   },
   {
    "duration": 69,
    "start_time": "2023-12-03T15:14:25.225Z"
   },
   {
    "duration": 2,
    "start_time": "2023-12-03T15:14:25.296Z"
   },
   {
    "duration": 23,
    "start_time": "2023-12-03T15:14:25.300Z"
   },
   {
    "duration": 17,
    "start_time": "2023-12-03T15:14:25.325Z"
   },
   {
    "duration": 19,
    "start_time": "2023-12-03T15:14:25.345Z"
   },
   {
    "duration": 28,
    "start_time": "2023-12-03T15:14:25.366Z"
   },
   {
    "duration": 18,
    "start_time": "2023-12-03T15:14:25.396Z"
   },
   {
    "duration": 11,
    "start_time": "2023-12-03T15:14:25.416Z"
   },
   {
    "duration": 4,
    "start_time": "2023-12-03T15:14:25.429Z"
   },
   {
    "duration": 13,
    "start_time": "2023-12-03T15:14:25.434Z"
   },
   {
    "duration": 31,
    "start_time": "2023-12-03T15:14:25.449Z"
   },
   {
    "duration": 13,
    "start_time": "2023-12-03T15:14:25.482Z"
   },
   {
    "duration": 35,
    "start_time": "2023-12-03T15:14:25.497Z"
   },
   {
    "duration": 11,
    "start_time": "2023-12-03T15:14:25.533Z"
   },
   {
    "duration": 17,
    "start_time": "2023-12-03T15:14:25.545Z"
   },
   {
    "duration": 21,
    "start_time": "2023-12-03T15:14:25.564Z"
   },
   {
    "duration": 7,
    "start_time": "2023-12-03T15:14:25.588Z"
   },
   {
    "duration": 19,
    "start_time": "2023-12-03T15:14:25.598Z"
   },
   {
    "duration": 22,
    "start_time": "2023-12-03T15:14:25.618Z"
   },
   {
    "duration": 24,
    "start_time": "2023-12-03T15:14:25.642Z"
   },
   {
    "duration": 11,
    "start_time": "2023-12-03T15:14:25.668Z"
   },
   {
    "duration": 3,
    "start_time": "2023-12-03T15:14:25.681Z"
   },
   {
    "duration": 7,
    "start_time": "2023-12-03T15:14:25.688Z"
   },
   {
    "duration": 35,
    "start_time": "2023-12-03T15:14:25.697Z"
   },
   {
    "duration": 15,
    "start_time": "2023-12-03T15:14:25.734Z"
   },
   {
    "duration": 13,
    "start_time": "2023-12-03T15:14:25.751Z"
   },
   {
    "duration": 23,
    "start_time": "2023-12-03T15:14:25.766Z"
   },
   {
    "duration": 45,
    "start_time": "2023-12-03T15:14:25.791Z"
   },
   {
    "duration": 8,
    "start_time": "2023-12-03T15:14:25.838Z"
   },
   {
    "duration": 10,
    "start_time": "2023-12-03T15:14:25.848Z"
   },
   {
    "duration": 36,
    "start_time": "2023-12-03T15:14:25.860Z"
   },
   {
    "duration": 24,
    "start_time": "2023-12-03T15:14:25.898Z"
   },
   {
    "duration": 4,
    "start_time": "2023-12-03T15:14:25.924Z"
   },
   {
    "duration": 7,
    "start_time": "2023-12-03T15:14:25.930Z"
   },
   {
    "duration": 18,
    "start_time": "2023-12-03T15:14:25.939Z"
   },
   {
    "duration": 34,
    "start_time": "2023-12-03T15:14:25.959Z"
   },
   {
    "duration": 576,
    "start_time": "2023-12-03T15:14:25.995Z"
   },
   {
    "duration": 6,
    "start_time": "2023-12-03T15:14:26.572Z"
   },
   {
    "duration": 7,
    "start_time": "2023-12-03T15:14:26.580Z"
   },
   {
    "duration": 7,
    "start_time": "2023-12-03T15:14:26.588Z"
   },
   {
    "duration": 7,
    "start_time": "2023-12-03T15:14:26.597Z"
   },
   {
    "duration": 56,
    "start_time": "2023-12-03T15:14:26.605Z"
   },
   {
    "duration": 2,
    "start_time": "2023-12-03T15:14:26.663Z"
   },
   {
    "duration": 48,
    "start_time": "2023-12-03T15:14:26.667Z"
   },
   {
    "duration": 218,
    "start_time": "2023-12-03T15:14:26.717Z"
   },
   {
    "duration": 194,
    "start_time": "2023-12-03T15:14:26.937Z"
   },
   {
    "duration": 228,
    "start_time": "2023-12-03T15:14:27.133Z"
   },
   {
    "duration": 19,
    "start_time": "2023-12-03T15:14:27.363Z"
   },
   {
    "duration": 222,
    "start_time": "2023-12-03T15:14:27.384Z"
   },
   {
    "duration": 22,
    "start_time": "2023-12-03T15:14:27.609Z"
   },
   {
    "duration": 33,
    "start_time": "2023-12-03T15:14:27.635Z"
   },
   {
    "duration": 121,
    "start_time": "2023-12-03T15:14:27.669Z"
   },
   {
    "duration": 19,
    "start_time": "2023-12-03T15:14:27.792Z"
   },
   {
    "duration": 28,
    "start_time": "2023-12-03T15:14:27.813Z"
   },
   {
    "duration": 15,
    "start_time": "2023-12-03T15:14:27.843Z"
   },
   {
    "duration": 15,
    "start_time": "2023-12-03T15:14:27.860Z"
   },
   {
    "duration": 11,
    "start_time": "2023-12-03T15:14:27.876Z"
   },
   {
    "duration": 14,
    "start_time": "2023-12-03T15:14:27.889Z"
   },
   {
    "duration": 347,
    "start_time": "2023-12-03T15:14:27.905Z"
   },
   {
    "duration": 4,
    "start_time": "2023-12-03T15:14:28.254Z"
   },
   {
    "duration": 5,
    "start_time": "2023-12-03T15:14:28.260Z"
   },
   {
    "duration": 15,
    "start_time": "2023-12-03T15:14:28.267Z"
   },
   {
    "duration": 22,
    "start_time": "2023-12-03T15:14:28.284Z"
   },
   {
    "duration": 30,
    "start_time": "2023-12-03T15:14:28.307Z"
   },
   {
    "duration": 7,
    "start_time": "2023-12-03T15:14:28.338Z"
   },
   {
    "duration": 8,
    "start_time": "2023-12-03T15:14:28.346Z"
   },
   {
    "duration": 16,
    "start_time": "2023-12-03T15:14:28.356Z"
   },
   {
    "duration": 29,
    "start_time": "2023-12-03T15:14:28.373Z"
   },
   {
    "duration": 25,
    "start_time": "2023-12-03T15:14:28.403Z"
   },
   {
    "duration": 14,
    "start_time": "2023-12-03T15:14:28.430Z"
   },
   {
    "duration": 25,
    "start_time": "2023-12-03T15:14:28.446Z"
   },
   {
    "duration": 17,
    "start_time": "2023-12-03T15:14:28.473Z"
   },
   {
    "duration": 13,
    "start_time": "2023-12-03T15:14:28.492Z"
   },
   {
    "duration": 8,
    "start_time": "2023-12-03T15:14:28.507Z"
   },
   {
    "duration": 17,
    "start_time": "2023-12-03T15:14:28.517Z"
   },
   {
    "duration": 5,
    "start_time": "2023-12-03T15:14:28.536Z"
   },
   {
    "duration": 41,
    "start_time": "2023-12-03T15:14:28.549Z"
   },
   {
    "duration": 10,
    "start_time": "2023-12-03T15:14:28.592Z"
   },
   {
    "duration": 34,
    "start_time": "2023-12-03T15:14:28.604Z"
   },
   {
    "duration": 19,
    "start_time": "2023-12-03T15:14:28.639Z"
   },
   {
    "duration": 30,
    "start_time": "2023-12-03T15:14:28.659Z"
   },
   {
    "duration": 15,
    "start_time": "2023-12-03T15:14:28.692Z"
   },
   {
    "duration": 10,
    "start_time": "2023-12-03T15:14:28.710Z"
   },
   {
    "duration": 42,
    "start_time": "2023-12-03T15:14:28.723Z"
   },
   {
    "duration": 4,
    "start_time": "2023-12-03T15:14:28.767Z"
   },
   {
    "duration": 10,
    "start_time": "2023-12-03T15:14:28.773Z"
   },
   {
    "duration": 56,
    "start_time": "2023-12-03T15:14:28.785Z"
   },
   {
    "duration": 316,
    "start_time": "2023-12-03T15:14:28.843Z"
   },
   {
    "duration": 7,
    "start_time": "2023-12-03T15:14:29.161Z"
   },
   {
    "duration": 14,
    "start_time": "2023-12-03T15:14:29.169Z"
   },
   {
    "duration": 10,
    "start_time": "2023-12-03T15:14:29.185Z"
   },
   {
    "duration": 14,
    "start_time": "2023-12-03T15:14:29.197Z"
   },
   {
    "duration": 10,
    "start_time": "2023-12-03T15:14:29.212Z"
   },
   {
    "duration": 10,
    "start_time": "2023-12-03T15:14:29.231Z"
   },
   {
    "duration": 14,
    "start_time": "2023-12-03T15:14:29.242Z"
   },
   {
    "duration": 22,
    "start_time": "2023-12-03T15:14:29.258Z"
   },
   {
    "duration": 1274,
    "start_time": "2023-12-03T15:16:59.231Z"
   },
   {
    "duration": 93,
    "start_time": "2023-12-03T15:17:00.507Z"
   },
   {
    "duration": 43,
    "start_time": "2023-12-03T15:17:00.602Z"
   },
   {
    "duration": 24,
    "start_time": "2023-12-03T15:17:00.648Z"
   },
   {
    "duration": 52,
    "start_time": "2023-12-03T15:17:00.675Z"
   },
   {
    "duration": 65,
    "start_time": "2023-12-03T15:17:00.729Z"
   },
   {
    "duration": 11,
    "start_time": "2023-12-03T15:17:00.796Z"
   },
   {
    "duration": 39,
    "start_time": "2023-12-03T15:17:00.808Z"
   },
   {
    "duration": 26,
    "start_time": "2023-12-03T15:17:00.849Z"
   },
   {
    "duration": 71,
    "start_time": "2023-12-03T15:17:00.881Z"
   },
   {
    "duration": 47,
    "start_time": "2023-12-03T15:17:00.953Z"
   },
   {
    "duration": 80,
    "start_time": "2023-12-03T15:17:01.002Z"
   },
   {
    "duration": 58,
    "start_time": "2023-12-03T15:17:01.084Z"
   },
   {
    "duration": 42,
    "start_time": "2023-12-03T15:17:01.144Z"
   },
   {
    "duration": 122,
    "start_time": "2023-12-03T15:17:01.188Z"
   },
   {
    "duration": 48,
    "start_time": "2023-12-03T15:17:01.312Z"
   },
   {
    "duration": 41,
    "start_time": "2023-12-03T15:17:01.361Z"
   },
   {
    "duration": 55,
    "start_time": "2023-12-03T15:17:01.404Z"
   },
   {
    "duration": 47,
    "start_time": "2023-12-03T15:17:01.461Z"
   },
   {
    "duration": 99,
    "start_time": "2023-12-03T15:17:01.510Z"
   },
   {
    "duration": 103,
    "start_time": "2023-12-03T15:17:01.611Z"
   },
   {
    "duration": 34,
    "start_time": "2023-12-03T15:17:01.716Z"
   },
   {
    "duration": 56,
    "start_time": "2023-12-03T15:17:01.753Z"
   },
   {
    "duration": 57,
    "start_time": "2023-12-03T15:17:01.811Z"
   },
   {
    "duration": 53,
    "start_time": "2023-12-03T15:17:01.870Z"
   },
   {
    "duration": 27,
    "start_time": "2023-12-03T15:17:01.925Z"
   },
   {
    "duration": 11,
    "start_time": "2023-12-03T15:17:01.954Z"
   },
   {
    "duration": 43,
    "start_time": "2023-12-03T15:17:01.971Z"
   },
   {
    "duration": 99,
    "start_time": "2023-12-03T15:17:02.016Z"
   },
   {
    "duration": 57,
    "start_time": "2023-12-03T15:17:02.117Z"
   },
   {
    "duration": 77,
    "start_time": "2023-12-03T15:17:02.176Z"
   },
   {
    "duration": 19,
    "start_time": "2023-12-03T15:17:02.254Z"
   },
   {
    "duration": 41,
    "start_time": "2023-12-03T15:17:02.274Z"
   },
   {
    "duration": 43,
    "start_time": "2023-12-03T15:17:02.316Z"
   },
   {
    "duration": 28,
    "start_time": "2023-12-03T15:17:02.360Z"
   },
   {
    "duration": 22,
    "start_time": "2023-12-03T15:17:02.390Z"
   },
   {
    "duration": 25,
    "start_time": "2023-12-03T15:17:02.415Z"
   },
   {
    "duration": 52,
    "start_time": "2023-12-03T15:17:02.442Z"
   },
   {
    "duration": 24,
    "start_time": "2023-12-03T15:17:02.496Z"
   },
   {
    "duration": 23,
    "start_time": "2023-12-03T15:17:02.521Z"
   },
   {
    "duration": 29,
    "start_time": "2023-12-03T15:17:02.546Z"
   },
   {
    "duration": 588,
    "start_time": "2023-12-03T15:17:02.576Z"
   },
   {
    "duration": 6,
    "start_time": "2023-12-03T15:17:03.166Z"
   },
   {
    "duration": 22,
    "start_time": "2023-12-03T15:17:03.174Z"
   },
   {
    "duration": 9,
    "start_time": "2023-12-03T15:17:03.198Z"
   },
   {
    "duration": 20,
    "start_time": "2023-12-03T15:17:03.208Z"
   },
   {
    "duration": 60,
    "start_time": "2023-12-03T15:17:03.230Z"
   },
   {
    "duration": 2,
    "start_time": "2023-12-03T15:17:03.291Z"
   },
   {
    "duration": 29,
    "start_time": "2023-12-03T15:17:03.295Z"
   },
   {
    "duration": 238,
    "start_time": "2023-12-03T15:17:03.325Z"
   },
   {
    "duration": 205,
    "start_time": "2023-12-03T15:17:03.565Z"
   },
   {
    "duration": 222,
    "start_time": "2023-12-03T15:17:03.772Z"
   },
   {
    "duration": 17,
    "start_time": "2023-12-03T15:17:03.996Z"
   },
   {
    "duration": 196,
    "start_time": "2023-12-03T15:17:04.015Z"
   },
   {
    "duration": 8,
    "start_time": "2023-12-03T15:17:04.213Z"
   },
   {
    "duration": 48,
    "start_time": "2023-12-03T15:17:04.231Z"
   },
   {
    "duration": 73,
    "start_time": "2023-12-03T15:17:04.280Z"
   },
   {
    "duration": 12,
    "start_time": "2023-12-03T15:17:04.355Z"
   },
   {
    "duration": 39,
    "start_time": "2023-12-03T15:17:04.369Z"
   },
   {
    "duration": 18,
    "start_time": "2023-12-03T15:17:04.410Z"
   },
   {
    "duration": 17,
    "start_time": "2023-12-03T15:17:04.430Z"
   },
   {
    "duration": 15,
    "start_time": "2023-12-03T15:17:04.449Z"
   },
   {
    "duration": 19,
    "start_time": "2023-12-03T15:17:04.466Z"
   },
   {
    "duration": 407,
    "start_time": "2023-12-03T15:17:04.487Z"
   },
   {
    "duration": 4,
    "start_time": "2023-12-03T15:17:04.896Z"
   },
   {
    "duration": 19,
    "start_time": "2023-12-03T15:17:04.902Z"
   },
   {
    "duration": 3,
    "start_time": "2023-12-03T15:17:04.930Z"
   },
   {
    "duration": 35,
    "start_time": "2023-12-03T15:17:04.935Z"
   },
   {
    "duration": 22,
    "start_time": "2023-12-03T15:17:04.972Z"
   },
   {
    "duration": 9,
    "start_time": "2023-12-03T15:17:04.996Z"
   },
   {
    "duration": 25,
    "start_time": "2023-12-03T15:17:05.007Z"
   },
   {
    "duration": 18,
    "start_time": "2023-12-03T15:17:05.034Z"
   },
   {
    "duration": 17,
    "start_time": "2023-12-03T15:17:05.054Z"
   },
   {
    "duration": 15,
    "start_time": "2023-12-03T15:17:05.073Z"
   },
   {
    "duration": 15,
    "start_time": "2023-12-03T15:17:05.090Z"
   },
   {
    "duration": 45,
    "start_time": "2023-12-03T15:17:05.107Z"
   },
   {
    "duration": 56,
    "start_time": "2023-12-03T15:17:05.153Z"
   },
   {
    "duration": 7,
    "start_time": "2023-12-03T15:17:05.211Z"
   },
   {
    "duration": 24,
    "start_time": "2023-12-03T15:17:05.219Z"
   },
   {
    "duration": 17,
    "start_time": "2023-12-03T15:17:05.245Z"
   },
   {
    "duration": 33,
    "start_time": "2023-12-03T15:17:05.263Z"
   },
   {
    "duration": 45,
    "start_time": "2023-12-03T15:17:05.302Z"
   },
   {
    "duration": 8,
    "start_time": "2023-12-03T15:17:05.349Z"
   },
   {
    "duration": 11,
    "start_time": "2023-12-03T15:17:05.359Z"
   },
   {
    "duration": 17,
    "start_time": "2023-12-03T15:17:05.372Z"
   },
   {
    "duration": 20,
    "start_time": "2023-12-03T15:17:05.392Z"
   },
   {
    "duration": 39,
    "start_time": "2023-12-03T15:17:05.414Z"
   },
   {
    "duration": 7,
    "start_time": "2023-12-03T15:17:05.455Z"
   },
   {
    "duration": 45,
    "start_time": "2023-12-03T15:17:05.463Z"
   },
   {
    "duration": 38,
    "start_time": "2023-12-03T15:17:05.510Z"
   },
   {
    "duration": 26,
    "start_time": "2023-12-03T15:17:05.550Z"
   },
   {
    "duration": 47,
    "start_time": "2023-12-03T15:17:05.579Z"
   },
   {
    "duration": 405,
    "start_time": "2023-12-03T15:17:05.628Z"
   },
   {
    "duration": 14,
    "start_time": "2023-12-03T15:17:06.035Z"
   },
   {
    "duration": 55,
    "start_time": "2023-12-03T15:17:06.051Z"
   },
   {
    "duration": 20,
    "start_time": "2023-12-03T15:17:06.108Z"
   },
   {
    "duration": 4,
    "start_time": "2023-12-03T15:17:06.131Z"
   },
   {
    "duration": 9,
    "start_time": "2023-12-03T15:17:06.138Z"
   },
   {
    "duration": 14,
    "start_time": "2023-12-03T15:17:06.150Z"
   },
   {
    "duration": 13,
    "start_time": "2023-12-03T15:17:06.166Z"
   },
   {
    "duration": 15,
    "start_time": "2023-12-03T15:17:06.181Z"
   },
   {
    "duration": 1228,
    "start_time": "2023-12-03T15:19:42.697Z"
   },
   {
    "duration": 93,
    "start_time": "2023-12-03T15:19:43.927Z"
   },
   {
    "duration": 36,
    "start_time": "2023-12-03T15:19:44.022Z"
   },
   {
    "duration": 18,
    "start_time": "2023-12-03T15:19:44.060Z"
   },
   {
    "duration": 7,
    "start_time": "2023-12-03T15:19:44.080Z"
   },
   {
    "duration": 44,
    "start_time": "2023-12-03T15:19:44.089Z"
   },
   {
    "duration": 3,
    "start_time": "2023-12-03T15:19:44.134Z"
   },
   {
    "duration": 17,
    "start_time": "2023-12-03T15:19:44.138Z"
   },
   {
    "duration": 3,
    "start_time": "2023-12-03T15:19:44.156Z"
   },
   {
    "duration": 17,
    "start_time": "2023-12-03T15:19:44.161Z"
   },
   {
    "duration": 10,
    "start_time": "2023-12-03T15:19:44.179Z"
   },
   {
    "duration": 44,
    "start_time": "2023-12-03T15:19:44.191Z"
   },
   {
    "duration": 11,
    "start_time": "2023-12-03T15:19:44.236Z"
   },
   {
    "duration": 3,
    "start_time": "2023-12-03T15:19:44.249Z"
   },
   {
    "duration": 12,
    "start_time": "2023-12-03T15:19:44.253Z"
   },
   {
    "duration": 36,
    "start_time": "2023-12-03T15:19:44.267Z"
   },
   {
    "duration": 32,
    "start_time": "2023-12-03T15:19:44.304Z"
   },
   {
    "duration": 8,
    "start_time": "2023-12-03T15:19:44.337Z"
   },
   {
    "duration": 13,
    "start_time": "2023-12-03T15:19:44.348Z"
   },
   {
    "duration": 6,
    "start_time": "2023-12-03T15:19:44.363Z"
   },
   {
    "duration": 6,
    "start_time": "2023-12-03T15:19:44.370Z"
   },
   {
    "duration": 5,
    "start_time": "2023-12-03T15:19:44.377Z"
   },
   {
    "duration": 18,
    "start_time": "2023-12-03T15:19:44.383Z"
   },
   {
    "duration": 44,
    "start_time": "2023-12-03T15:19:44.403Z"
   },
   {
    "duration": 23,
    "start_time": "2023-12-03T15:19:44.449Z"
   },
   {
    "duration": 11,
    "start_time": "2023-12-03T15:19:44.474Z"
   },
   {
    "duration": 3,
    "start_time": "2023-12-03T15:19:44.487Z"
   },
   {
    "duration": 4,
    "start_time": "2023-12-03T15:19:44.495Z"
   },
   {
    "duration": 8,
    "start_time": "2023-12-03T15:19:44.531Z"
   },
   {
    "duration": 22,
    "start_time": "2023-12-03T15:19:44.541Z"
   },
   {
    "duration": 14,
    "start_time": "2023-12-03T15:19:44.564Z"
   },
   {
    "duration": 6,
    "start_time": "2023-12-03T15:19:44.580Z"
   },
   {
    "duration": 44,
    "start_time": "2023-12-03T15:19:44.588Z"
   },
   {
    "duration": 8,
    "start_time": "2023-12-03T15:19:44.634Z"
   },
   {
    "duration": 9,
    "start_time": "2023-12-03T15:19:44.644Z"
   },
   {
    "duration": 8,
    "start_time": "2023-12-03T15:19:44.655Z"
   },
   {
    "duration": 14,
    "start_time": "2023-12-03T15:19:44.664Z"
   },
   {
    "duration": 6,
    "start_time": "2023-12-03T15:19:44.680Z"
   },
   {
    "duration": 3,
    "start_time": "2023-12-03T15:19:44.688Z"
   },
   {
    "duration": 18,
    "start_time": "2023-12-03T15:19:44.731Z"
   },
   {
    "duration": 36,
    "start_time": "2023-12-03T15:19:44.751Z"
   },
   {
    "duration": 562,
    "start_time": "2023-12-03T15:19:44.789Z"
   },
   {
    "duration": 5,
    "start_time": "2023-12-03T15:19:45.352Z"
   },
   {
    "duration": 11,
    "start_time": "2023-12-03T15:19:45.359Z"
   },
   {
    "duration": 7,
    "start_time": "2023-12-03T15:19:45.371Z"
   },
   {
    "duration": 8,
    "start_time": "2023-12-03T15:19:45.379Z"
   },
   {
    "duration": 53,
    "start_time": "2023-12-03T15:19:45.389Z"
   },
   {
    "duration": 3,
    "start_time": "2023-12-03T15:19:45.443Z"
   },
   {
    "duration": 24,
    "start_time": "2023-12-03T15:19:45.447Z"
   },
   {
    "duration": 196,
    "start_time": "2023-12-03T15:19:45.472Z"
   },
   {
    "duration": 186,
    "start_time": "2023-12-03T15:19:45.670Z"
   },
   {
    "duration": 207,
    "start_time": "2023-12-03T15:19:45.858Z"
   },
   {
    "duration": 17,
    "start_time": "2023-12-03T15:19:46.067Z"
   },
   {
    "duration": 200,
    "start_time": "2023-12-03T15:19:46.087Z"
   },
   {
    "duration": 9,
    "start_time": "2023-12-03T15:19:46.290Z"
   },
   {
    "duration": 52,
    "start_time": "2023-12-03T15:19:46.300Z"
   },
   {
    "duration": 82,
    "start_time": "2023-12-03T15:19:46.354Z"
   },
   {
    "duration": 12,
    "start_time": "2023-12-03T15:19:46.438Z"
   },
   {
    "duration": 14,
    "start_time": "2023-12-03T15:19:46.452Z"
   },
   {
    "duration": 13,
    "start_time": "2023-12-03T15:19:46.468Z"
   },
   {
    "duration": 19,
    "start_time": "2023-12-03T15:19:46.483Z"
   },
   {
    "duration": 44,
    "start_time": "2023-12-03T15:19:46.531Z"
   },
   {
    "duration": 40,
    "start_time": "2023-12-03T15:19:46.577Z"
   },
   {
    "duration": 348,
    "start_time": "2023-12-03T15:19:46.619Z"
   },
   {
    "duration": 4,
    "start_time": "2023-12-03T15:19:46.969Z"
   },
   {
    "duration": 11,
    "start_time": "2023-12-03T15:19:46.975Z"
   },
   {
    "duration": 9,
    "start_time": "2023-12-03T15:19:46.987Z"
   },
   {
    "duration": 19,
    "start_time": "2023-12-03T15:19:46.998Z"
   },
   {
    "duration": 28,
    "start_time": "2023-12-03T15:19:47.019Z"
   },
   {
    "duration": 6,
    "start_time": "2023-12-03T15:19:47.049Z"
   },
   {
    "duration": 8,
    "start_time": "2023-12-03T15:19:47.057Z"
   },
   {
    "duration": 13,
    "start_time": "2023-12-03T15:19:47.067Z"
   },
   {
    "duration": 10,
    "start_time": "2023-12-03T15:19:47.082Z"
   },
   {
    "duration": 40,
    "start_time": "2023-12-03T15:19:47.093Z"
   },
   {
    "duration": 13,
    "start_time": "2023-12-03T15:19:47.135Z"
   },
   {
    "duration": 15,
    "start_time": "2023-12-03T15:19:47.150Z"
   },
   {
    "duration": 7,
    "start_time": "2023-12-03T15:19:47.167Z"
   },
   {
    "duration": 6,
    "start_time": "2023-12-03T15:19:47.175Z"
   },
   {
    "duration": 4,
    "start_time": "2023-12-03T15:19:47.182Z"
   },
   {
    "duration": 45,
    "start_time": "2023-12-03T15:19:47.188Z"
   },
   {
    "duration": 5,
    "start_time": "2023-12-03T15:19:47.235Z"
   },
   {
    "duration": 40,
    "start_time": "2023-12-03T15:19:47.248Z"
   },
   {
    "duration": 9,
    "start_time": "2023-12-03T15:19:47.290Z"
   },
   {
    "duration": 9,
    "start_time": "2023-12-03T15:19:47.331Z"
   },
   {
    "duration": 9,
    "start_time": "2023-12-03T15:19:47.342Z"
   },
   {
    "duration": 18,
    "start_time": "2023-12-03T15:19:47.353Z"
   },
   {
    "duration": 15,
    "start_time": "2023-12-03T15:19:47.373Z"
   },
   {
    "duration": 14,
    "start_time": "2023-12-03T15:19:47.390Z"
   },
   {
    "duration": 55,
    "start_time": "2023-12-03T15:19:47.406Z"
   },
   {
    "duration": 10,
    "start_time": "2023-12-03T15:19:47.462Z"
   },
   {
    "duration": 9,
    "start_time": "2023-12-03T15:19:47.474Z"
   },
   {
    "duration": 47,
    "start_time": "2023-12-03T15:19:47.485Z"
   },
   {
    "duration": 338,
    "start_time": "2023-12-03T15:19:47.533Z"
   },
   {
    "duration": 8,
    "start_time": "2023-12-03T15:19:47.873Z"
   },
   {
    "duration": 15,
    "start_time": "2023-12-03T15:19:47.883Z"
   },
   {
    "duration": 31,
    "start_time": "2023-12-03T15:19:47.900Z"
   },
   {
    "duration": 2,
    "start_time": "2023-12-03T15:19:47.933Z"
   },
   {
    "duration": 13,
    "start_time": "2023-12-03T15:19:47.937Z"
   },
   {
    "duration": 6,
    "start_time": "2023-12-03T15:19:47.952Z"
   },
   {
    "duration": 17,
    "start_time": "2023-12-03T15:19:47.960Z"
   },
   {
    "duration": 12,
    "start_time": "2023-12-03T15:19:47.979Z"
   },
   {
    "duration": 8,
    "start_time": "2023-12-03T15:31:09.461Z"
   },
   {
    "duration": 10,
    "start_time": "2023-12-03T15:31:12.482Z"
   },
   {
    "duration": 10,
    "start_time": "2023-12-03T15:31:14.474Z"
   },
   {
    "duration": 66,
    "start_time": "2023-12-03T15:31:39.241Z"
   },
   {
    "duration": 1236,
    "start_time": "2023-12-03T15:33:45.452Z"
   },
   {
    "duration": 93,
    "start_time": "2023-12-03T15:33:46.690Z"
   },
   {
    "duration": 36,
    "start_time": "2023-12-03T15:33:46.785Z"
   },
   {
    "duration": 19,
    "start_time": "2023-12-03T15:33:46.823Z"
   },
   {
    "duration": 7,
    "start_time": "2023-12-03T15:33:46.844Z"
   },
   {
    "duration": 40,
    "start_time": "2023-12-03T15:33:46.852Z"
   },
   {
    "duration": 2,
    "start_time": "2023-12-03T15:33:46.894Z"
   },
   {
    "duration": 36,
    "start_time": "2023-12-03T15:33:46.898Z"
   },
   {
    "duration": 2,
    "start_time": "2023-12-03T15:33:46.936Z"
   },
   {
    "duration": 31,
    "start_time": "2023-12-03T15:33:46.940Z"
   },
   {
    "duration": 11,
    "start_time": "2023-12-03T15:33:46.973Z"
   },
   {
    "duration": 15,
    "start_time": "2023-12-03T15:33:46.985Z"
   },
   {
    "duration": 11,
    "start_time": "2023-12-03T15:33:47.001Z"
   },
   {
    "duration": 17,
    "start_time": "2023-12-03T15:33:47.014Z"
   },
   {
    "duration": 11,
    "start_time": "2023-12-03T15:33:47.033Z"
   },
   {
    "duration": 31,
    "start_time": "2023-12-03T15:33:47.046Z"
   },
   {
    "duration": 7,
    "start_time": "2023-12-03T15:33:47.078Z"
   },
   {
    "duration": 8,
    "start_time": "2023-12-03T15:33:47.087Z"
   },
   {
    "duration": 38,
    "start_time": "2023-12-03T15:33:47.097Z"
   },
   {
    "duration": 5,
    "start_time": "2023-12-03T15:33:47.137Z"
   },
   {
    "duration": 6,
    "start_time": "2023-12-03T15:33:47.144Z"
   },
   {
    "duration": 8,
    "start_time": "2023-12-03T15:33:47.151Z"
   },
   {
    "duration": 14,
    "start_time": "2023-12-03T15:33:47.161Z"
   },
   {
    "duration": 38,
    "start_time": "2023-12-03T15:33:47.176Z"
   },
   {
    "duration": 39,
    "start_time": "2023-12-03T15:33:47.215Z"
   },
   {
    "duration": 26,
    "start_time": "2023-12-03T15:33:47.256Z"
   },
   {
    "duration": 3,
    "start_time": "2023-12-03T15:33:47.285Z"
   },
   {
    "duration": 6,
    "start_time": "2023-12-03T15:33:47.296Z"
   },
   {
    "duration": 30,
    "start_time": "2023-12-03T15:33:47.305Z"
   },
   {
    "duration": 21,
    "start_time": "2023-12-03T15:33:47.337Z"
   },
   {
    "duration": 16,
    "start_time": "2023-12-03T15:33:47.360Z"
   },
   {
    "duration": 7,
    "start_time": "2023-12-03T15:33:47.378Z"
   },
   {
    "duration": 46,
    "start_time": "2023-12-03T15:33:47.387Z"
   },
   {
    "duration": 7,
    "start_time": "2023-12-03T15:33:47.435Z"
   },
   {
    "duration": 13,
    "start_time": "2023-12-03T15:33:47.443Z"
   },
   {
    "duration": 7,
    "start_time": "2023-12-03T15:33:47.458Z"
   },
   {
    "duration": 12,
    "start_time": "2023-12-03T15:33:47.467Z"
   },
   {
    "duration": 5,
    "start_time": "2023-12-03T15:33:47.481Z"
   },
   {
    "duration": 7,
    "start_time": "2023-12-03T15:33:47.488Z"
   },
   {
    "duration": 48,
    "start_time": "2023-12-03T15:33:47.496Z"
   },
   {
    "duration": 36,
    "start_time": "2023-12-03T15:33:47.546Z"
   },
   {
    "duration": 582,
    "start_time": "2023-12-03T15:33:47.584Z"
   },
   {
    "duration": 5,
    "start_time": "2023-12-03T15:33:48.168Z"
   },
   {
    "duration": 9,
    "start_time": "2023-12-03T15:33:48.175Z"
   },
   {
    "duration": 5,
    "start_time": "2023-12-03T15:33:48.186Z"
   },
   {
    "duration": 6,
    "start_time": "2023-12-03T15:33:48.193Z"
   },
   {
    "duration": 59,
    "start_time": "2023-12-03T15:33:48.201Z"
   },
   {
    "duration": 2,
    "start_time": "2023-12-03T15:33:48.262Z"
   },
   {
    "duration": 22,
    "start_time": "2023-12-03T15:33:48.266Z"
   },
   {
    "duration": 233,
    "start_time": "2023-12-03T15:33:48.290Z"
   },
   {
    "duration": 198,
    "start_time": "2023-12-03T15:33:48.525Z"
   },
   {
    "duration": 228,
    "start_time": "2023-12-03T15:33:48.725Z"
   },
   {
    "duration": 19,
    "start_time": "2023-12-03T15:33:48.954Z"
   },
   {
    "duration": 210,
    "start_time": "2023-12-03T15:33:48.975Z"
   },
   {
    "duration": 9,
    "start_time": "2023-12-03T15:33:49.187Z"
   },
   {
    "duration": 47,
    "start_time": "2023-12-03T15:33:49.198Z"
   },
   {
    "duration": 103,
    "start_time": "2023-12-03T15:33:49.246Z"
   },
   {
    "duration": 16,
    "start_time": "2023-12-03T15:33:49.351Z"
   },
   {
    "duration": 15,
    "start_time": "2023-12-03T15:33:49.369Z"
   },
   {
    "duration": 27,
    "start_time": "2023-12-03T15:33:49.386Z"
   },
   {
    "duration": 34,
    "start_time": "2023-12-03T15:33:49.414Z"
   },
   {
    "duration": 7,
    "start_time": "2023-12-03T15:33:49.450Z"
   },
   {
    "duration": 22,
    "start_time": "2023-12-03T15:33:49.459Z"
   },
   {
    "duration": 401,
    "start_time": "2023-12-03T15:33:49.483Z"
   },
   {
    "duration": 4,
    "start_time": "2023-12-03T15:33:49.885Z"
   },
   {
    "duration": 6,
    "start_time": "2023-12-03T15:33:49.891Z"
   },
   {
    "duration": 14,
    "start_time": "2023-12-03T15:33:49.898Z"
   },
   {
    "duration": 33,
    "start_time": "2023-12-03T15:33:49.914Z"
   },
   {
    "duration": 19,
    "start_time": "2023-12-03T15:33:49.949Z"
   },
   {
    "duration": 6,
    "start_time": "2023-12-03T15:33:49.970Z"
   },
   {
    "duration": 21,
    "start_time": "2023-12-03T15:33:49.978Z"
   },
   {
    "duration": 36,
    "start_time": "2023-12-03T15:33:50.001Z"
   },
   {
    "duration": 22,
    "start_time": "2023-12-03T15:33:50.039Z"
   },
   {
    "duration": 11,
    "start_time": "2023-12-03T15:33:50.062Z"
   },
   {
    "duration": 9,
    "start_time": "2023-12-03T15:33:50.075Z"
   },
   {
    "duration": 23,
    "start_time": "2023-12-03T15:33:50.086Z"
   },
   {
    "duration": 20,
    "start_time": "2023-12-03T15:33:50.111Z"
   },
   {
    "duration": 5,
    "start_time": "2023-12-03T15:33:50.133Z"
   },
   {
    "duration": 3,
    "start_time": "2023-12-03T15:33:50.140Z"
   },
   {
    "duration": 22,
    "start_time": "2023-12-03T15:33:50.145Z"
   },
   {
    "duration": 19,
    "start_time": "2023-12-03T15:33:50.168Z"
   },
   {
    "duration": 51,
    "start_time": "2023-12-03T15:33:50.193Z"
   },
   {
    "duration": 8,
    "start_time": "2023-12-03T15:33:50.246Z"
   },
   {
    "duration": 9,
    "start_time": "2023-12-03T15:33:50.256Z"
   },
   {
    "duration": 12,
    "start_time": "2023-12-03T15:33:50.266Z"
   },
   {
    "duration": 12,
    "start_time": "2023-12-03T15:33:50.280Z"
   },
   {
    "duration": 19,
    "start_time": "2023-12-03T15:33:50.293Z"
   },
   {
    "duration": 19,
    "start_time": "2023-12-03T15:33:50.314Z"
   },
   {
    "duration": 48,
    "start_time": "2023-12-03T15:33:50.335Z"
   },
   {
    "duration": 15,
    "start_time": "2023-12-03T15:33:50.385Z"
   },
   {
    "duration": 15,
    "start_time": "2023-12-03T15:33:50.402Z"
   },
   {
    "duration": 38,
    "start_time": "2023-12-03T15:33:50.419Z"
   },
   {
    "duration": 333,
    "start_time": "2023-12-03T15:33:50.459Z"
   },
   {
    "duration": 11,
    "start_time": "2023-12-03T15:33:50.794Z"
   },
   {
    "duration": 29,
    "start_time": "2023-12-03T15:33:50.807Z"
   },
   {
    "duration": 13,
    "start_time": "2023-12-03T15:33:50.838Z"
   },
   {
    "duration": 9,
    "start_time": "2023-12-03T15:33:50.852Z"
   },
   {
    "duration": 5,
    "start_time": "2023-12-03T15:33:50.863Z"
   },
   {
    "duration": 13,
    "start_time": "2023-12-03T15:33:50.870Z"
   },
   {
    "duration": 14,
    "start_time": "2023-12-03T15:33:50.884Z"
   },
   {
    "duration": 31,
    "start_time": "2023-12-03T15:33:50.900Z"
   },
   {
    "duration": 7,
    "start_time": "2023-12-03T15:37:07.897Z"
   },
   {
    "duration": 634,
    "start_time": "2023-12-03T15:43:13.175Z"
   },
   {
    "duration": 545,
    "start_time": "2023-12-03T15:43:53.973Z"
   },
   {
    "duration": 546,
    "start_time": "2023-12-03T15:44:01.393Z"
   },
   {
    "duration": 67,
    "start_time": "2023-12-03T15:50:19.364Z"
   },
   {
    "duration": 1255,
    "start_time": "2023-12-03T15:52:08.949Z"
   },
   {
    "duration": 95,
    "start_time": "2023-12-03T15:52:10.205Z"
   },
   {
    "duration": 36,
    "start_time": "2023-12-03T15:52:10.302Z"
   },
   {
    "duration": 19,
    "start_time": "2023-12-03T15:52:10.341Z"
   },
   {
    "duration": 20,
    "start_time": "2023-12-03T15:52:10.362Z"
   },
   {
    "duration": 62,
    "start_time": "2023-12-03T15:52:10.384Z"
   },
   {
    "duration": 3,
    "start_time": "2023-12-03T15:52:10.447Z"
   },
   {
    "duration": 12,
    "start_time": "2023-12-03T15:52:10.452Z"
   },
   {
    "duration": 3,
    "start_time": "2023-12-03T15:52:10.466Z"
   },
   {
    "duration": 20,
    "start_time": "2023-12-03T15:52:10.472Z"
   },
   {
    "duration": 12,
    "start_time": "2023-12-03T15:52:10.493Z"
   },
   {
    "duration": 15,
    "start_time": "2023-12-03T15:52:10.532Z"
   },
   {
    "duration": 14,
    "start_time": "2023-12-03T15:52:10.550Z"
   },
   {
    "duration": 4,
    "start_time": "2023-12-03T15:52:10.566Z"
   },
   {
    "duration": 12,
    "start_time": "2023-12-03T15:52:10.572Z"
   },
   {
    "duration": 63,
    "start_time": "2023-12-03T15:52:10.586Z"
   },
   {
    "duration": 9,
    "start_time": "2023-12-03T15:52:10.651Z"
   },
   {
    "duration": 9,
    "start_time": "2023-12-03T15:52:10.661Z"
   },
   {
    "duration": 11,
    "start_time": "2023-12-03T15:52:10.672Z"
   },
   {
    "duration": 10,
    "start_time": "2023-12-03T15:52:10.685Z"
   },
   {
    "duration": 34,
    "start_time": "2023-12-03T15:52:10.697Z"
   },
   {
    "duration": 4,
    "start_time": "2023-12-03T15:52:10.732Z"
   },
   {
    "duration": 67,
    "start_time": "2023-12-03T15:52:10.738Z"
   },
   {
    "duration": 0,
    "start_time": "2023-12-03T15:52:10.811Z"
   },
   {
    "duration": 0,
    "start_time": "2023-12-03T15:52:10.812Z"
   },
   {
    "duration": 0,
    "start_time": "2023-12-03T15:52:10.813Z"
   },
   {
    "duration": 0,
    "start_time": "2023-12-03T15:52:10.814Z"
   },
   {
    "duration": 0,
    "start_time": "2023-12-03T15:52:10.815Z"
   },
   {
    "duration": 0,
    "start_time": "2023-12-03T15:52:10.817Z"
   },
   {
    "duration": 0,
    "start_time": "2023-12-03T15:52:10.818Z"
   },
   {
    "duration": 0,
    "start_time": "2023-12-03T15:52:10.819Z"
   },
   {
    "duration": 0,
    "start_time": "2023-12-03T15:52:10.820Z"
   },
   {
    "duration": 0,
    "start_time": "2023-12-03T15:52:10.822Z"
   },
   {
    "duration": 0,
    "start_time": "2023-12-03T15:52:10.823Z"
   },
   {
    "duration": 0,
    "start_time": "2023-12-03T15:52:10.824Z"
   },
   {
    "duration": 0,
    "start_time": "2023-12-03T15:52:10.825Z"
   },
   {
    "duration": 0,
    "start_time": "2023-12-03T15:52:10.828Z"
   },
   {
    "duration": 0,
    "start_time": "2023-12-03T15:52:10.829Z"
   },
   {
    "duration": 0,
    "start_time": "2023-12-03T15:52:10.831Z"
   },
   {
    "duration": 0,
    "start_time": "2023-12-03T15:52:10.832Z"
   },
   {
    "duration": 0,
    "start_time": "2023-12-03T15:52:10.833Z"
   },
   {
    "duration": 0,
    "start_time": "2023-12-03T15:52:10.834Z"
   },
   {
    "duration": 0,
    "start_time": "2023-12-03T15:52:10.835Z"
   },
   {
    "duration": 0,
    "start_time": "2023-12-03T15:52:10.836Z"
   },
   {
    "duration": 0,
    "start_time": "2023-12-03T15:52:10.837Z"
   },
   {
    "duration": 0,
    "start_time": "2023-12-03T15:52:10.838Z"
   },
   {
    "duration": 0,
    "start_time": "2023-12-03T15:52:10.839Z"
   },
   {
    "duration": 0,
    "start_time": "2023-12-03T15:52:10.839Z"
   },
   {
    "duration": 0,
    "start_time": "2023-12-03T15:52:10.840Z"
   },
   {
    "duration": 0,
    "start_time": "2023-12-03T15:52:10.841Z"
   },
   {
    "duration": 0,
    "start_time": "2023-12-03T15:52:10.842Z"
   },
   {
    "duration": 0,
    "start_time": "2023-12-03T15:52:10.843Z"
   },
   {
    "duration": 0,
    "start_time": "2023-12-03T15:52:10.844Z"
   },
   {
    "duration": 0,
    "start_time": "2023-12-03T15:52:10.845Z"
   },
   {
    "duration": 0,
    "start_time": "2023-12-03T15:52:10.846Z"
   },
   {
    "duration": 0,
    "start_time": "2023-12-03T15:52:10.847Z"
   },
   {
    "duration": 0,
    "start_time": "2023-12-03T15:52:10.848Z"
   },
   {
    "duration": 0,
    "start_time": "2023-12-03T15:52:10.849Z"
   },
   {
    "duration": 0,
    "start_time": "2023-12-03T15:52:10.850Z"
   },
   {
    "duration": 0,
    "start_time": "2023-12-03T15:52:10.851Z"
   },
   {
    "duration": 0,
    "start_time": "2023-12-03T15:52:10.852Z"
   },
   {
    "duration": 0,
    "start_time": "2023-12-03T15:52:10.853Z"
   },
   {
    "duration": 0,
    "start_time": "2023-12-03T15:52:10.855Z"
   },
   {
    "duration": 0,
    "start_time": "2023-12-03T15:52:10.856Z"
   },
   {
    "duration": 0,
    "start_time": "2023-12-03T15:52:10.857Z"
   },
   {
    "duration": 0,
    "start_time": "2023-12-03T15:52:10.858Z"
   },
   {
    "duration": 0,
    "start_time": "2023-12-03T15:52:10.859Z"
   },
   {
    "duration": 0,
    "start_time": "2023-12-03T15:52:10.860Z"
   },
   {
    "duration": 0,
    "start_time": "2023-12-03T15:52:10.861Z"
   },
   {
    "duration": 0,
    "start_time": "2023-12-03T15:52:10.862Z"
   },
   {
    "duration": 0,
    "start_time": "2023-12-03T15:52:10.863Z"
   },
   {
    "duration": 0,
    "start_time": "2023-12-03T15:52:10.864Z"
   },
   {
    "duration": 0,
    "start_time": "2023-12-03T15:52:10.865Z"
   },
   {
    "duration": 0,
    "start_time": "2023-12-03T15:52:10.866Z"
   },
   {
    "duration": 0,
    "start_time": "2023-12-03T15:52:10.867Z"
   },
   {
    "duration": 0,
    "start_time": "2023-12-03T15:52:10.868Z"
   },
   {
    "duration": 0,
    "start_time": "2023-12-03T15:52:10.869Z"
   },
   {
    "duration": 0,
    "start_time": "2023-12-03T15:52:10.870Z"
   },
   {
    "duration": 0,
    "start_time": "2023-12-03T15:52:10.932Z"
   },
   {
    "duration": 0,
    "start_time": "2023-12-03T15:52:10.932Z"
   },
   {
    "duration": 0,
    "start_time": "2023-12-03T15:52:10.934Z"
   },
   {
    "duration": 0,
    "start_time": "2023-12-03T15:52:10.935Z"
   },
   {
    "duration": 0,
    "start_time": "2023-12-03T15:52:10.936Z"
   },
   {
    "duration": 0,
    "start_time": "2023-12-03T15:52:10.937Z"
   },
   {
    "duration": 0,
    "start_time": "2023-12-03T15:52:10.937Z"
   },
   {
    "duration": 0,
    "start_time": "2023-12-03T15:52:10.938Z"
   },
   {
    "duration": 0,
    "start_time": "2023-12-03T15:52:10.939Z"
   },
   {
    "duration": 0,
    "start_time": "2023-12-03T15:52:10.941Z"
   },
   {
    "duration": 0,
    "start_time": "2023-12-03T15:52:10.942Z"
   },
   {
    "duration": 0,
    "start_time": "2023-12-03T15:52:10.943Z"
   },
   {
    "duration": 0,
    "start_time": "2023-12-03T15:52:10.944Z"
   },
   {
    "duration": 0,
    "start_time": "2023-12-03T15:52:10.945Z"
   },
   {
    "duration": 0,
    "start_time": "2023-12-03T15:52:10.945Z"
   },
   {
    "duration": 0,
    "start_time": "2023-12-03T15:52:10.946Z"
   },
   {
    "duration": 0,
    "start_time": "2023-12-03T15:52:10.948Z"
   },
   {
    "duration": 0,
    "start_time": "2023-12-03T15:52:10.948Z"
   },
   {
    "duration": 0,
    "start_time": "2023-12-03T15:52:10.949Z"
   },
   {
    "duration": 0,
    "start_time": "2023-12-03T15:52:10.951Z"
   },
   {
    "duration": 0,
    "start_time": "2023-12-03T15:52:10.951Z"
   },
   {
    "duration": 0,
    "start_time": "2023-12-03T15:52:10.953Z"
   },
   {
    "duration": 0,
    "start_time": "2023-12-03T15:52:10.954Z"
   },
   {
    "duration": 0,
    "start_time": "2023-12-03T15:52:10.955Z"
   },
   {
    "duration": 1219,
    "start_time": "2023-12-03T15:52:48.864Z"
   },
   {
    "duration": 90,
    "start_time": "2023-12-03T15:52:50.085Z"
   },
   {
    "duration": 36,
    "start_time": "2023-12-03T15:52:50.177Z"
   },
   {
    "duration": 39,
    "start_time": "2023-12-03T15:52:50.215Z"
   },
   {
    "duration": 7,
    "start_time": "2023-12-03T15:52:50.257Z"
   },
   {
    "duration": 47,
    "start_time": "2023-12-03T15:52:50.265Z"
   },
   {
    "duration": 2,
    "start_time": "2023-12-03T15:52:50.315Z"
   },
   {
    "duration": 14,
    "start_time": "2023-12-03T15:52:50.319Z"
   },
   {
    "duration": 15,
    "start_time": "2023-12-03T15:52:50.335Z"
   },
   {
    "duration": 18,
    "start_time": "2023-12-03T15:52:50.353Z"
   },
   {
    "duration": 11,
    "start_time": "2023-12-03T15:52:50.373Z"
   },
   {
    "duration": 13,
    "start_time": "2023-12-03T15:52:50.386Z"
   },
   {
    "duration": 32,
    "start_time": "2023-12-03T15:52:50.401Z"
   },
   {
    "duration": 4,
    "start_time": "2023-12-03T15:52:50.435Z"
   },
   {
    "duration": 18,
    "start_time": "2023-12-03T15:52:50.440Z"
   },
   {
    "duration": 28,
    "start_time": "2023-12-03T15:52:50.460Z"
   },
   {
    "duration": 9,
    "start_time": "2023-12-03T15:52:50.490Z"
   },
   {
    "duration": 32,
    "start_time": "2023-12-03T15:52:50.501Z"
   },
   {
    "duration": 16,
    "start_time": "2023-12-03T15:52:50.535Z"
   },
   {
    "duration": 17,
    "start_time": "2023-12-03T15:52:50.553Z"
   },
   {
    "duration": 12,
    "start_time": "2023-12-03T15:52:50.571Z"
   },
   {
    "duration": 21,
    "start_time": "2023-12-03T15:52:50.584Z"
   },
   {
    "duration": 10,
    "start_time": "2023-12-03T15:52:50.607Z"
   },
   {
    "duration": 16,
    "start_time": "2023-12-03T15:52:50.619Z"
   },
   {
    "duration": 22,
    "start_time": "2023-12-03T15:52:50.637Z"
   },
   {
    "duration": 11,
    "start_time": "2023-12-03T15:52:50.661Z"
   },
   {
    "duration": 3,
    "start_time": "2023-12-03T15:52:50.673Z"
   },
   {
    "duration": 9,
    "start_time": "2023-12-03T15:52:50.679Z"
   },
   {
    "duration": 11,
    "start_time": "2023-12-03T15:52:50.690Z"
   },
   {
    "duration": 37,
    "start_time": "2023-12-03T15:52:50.702Z"
   },
   {
    "duration": 13,
    "start_time": "2023-12-03T15:52:50.741Z"
   },
   {
    "duration": 5,
    "start_time": "2023-12-03T15:52:50.756Z"
   },
   {
    "duration": 23,
    "start_time": "2023-12-03T15:52:50.763Z"
   },
   {
    "duration": 6,
    "start_time": "2023-12-03T15:52:50.788Z"
   },
   {
    "duration": 5,
    "start_time": "2023-12-03T15:52:50.796Z"
   },
   {
    "duration": 9,
    "start_time": "2023-12-03T15:52:50.832Z"
   },
   {
    "duration": 16,
    "start_time": "2023-12-03T15:52:50.843Z"
   },
   {
    "duration": 11,
    "start_time": "2023-12-03T15:52:50.861Z"
   },
   {
    "duration": 10,
    "start_time": "2023-12-03T15:52:50.875Z"
   },
   {
    "duration": 44,
    "start_time": "2023-12-03T15:52:50.887Z"
   },
   {
    "duration": 26,
    "start_time": "2023-12-03T15:52:50.933Z"
   },
   {
    "duration": 593,
    "start_time": "2023-12-03T15:52:50.961Z"
   },
   {
    "duration": 6,
    "start_time": "2023-12-03T15:52:51.556Z"
   },
   {
    "duration": 10,
    "start_time": "2023-12-03T15:52:51.563Z"
   },
   {
    "duration": 7,
    "start_time": "2023-12-03T15:52:51.575Z"
   },
   {
    "duration": 7,
    "start_time": "2023-12-03T15:52:51.583Z"
   },
   {
    "duration": 57,
    "start_time": "2023-12-03T15:52:51.591Z"
   },
   {
    "duration": 22,
    "start_time": "2023-12-03T15:52:51.650Z"
   },
   {
    "duration": 196,
    "start_time": "2023-12-03T15:52:51.674Z"
   },
   {
    "duration": 196,
    "start_time": "2023-12-03T15:52:51.872Z"
   },
   {
    "duration": 202,
    "start_time": "2023-12-03T15:52:52.069Z"
   },
   {
    "duration": 18,
    "start_time": "2023-12-03T15:52:52.272Z"
   },
   {
    "duration": 206,
    "start_time": "2023-12-03T15:52:52.292Z"
   },
   {
    "duration": 9,
    "start_time": "2023-12-03T15:52:52.500Z"
   },
   {
    "duration": 44,
    "start_time": "2023-12-03T15:52:52.511Z"
   },
   {
    "duration": 4,
    "start_time": "2023-12-03T15:52:52.557Z"
   },
   {
    "duration": 86,
    "start_time": "2023-12-03T15:52:52.562Z"
   },
   {
    "duration": 12,
    "start_time": "2023-12-03T15:52:52.650Z"
   },
   {
    "duration": 19,
    "start_time": "2023-12-03T15:52:52.664Z"
   },
   {
    "duration": 16,
    "start_time": "2023-12-03T15:52:52.685Z"
   },
   {
    "duration": 37,
    "start_time": "2023-12-03T15:52:52.702Z"
   },
   {
    "duration": 16,
    "start_time": "2023-12-03T15:52:52.741Z"
   },
   {
    "duration": 17,
    "start_time": "2023-12-03T15:52:52.759Z"
   },
   {
    "duration": 368,
    "start_time": "2023-12-03T15:52:52.778Z"
   },
   {
    "duration": 4,
    "start_time": "2023-12-03T15:52:53.148Z"
   },
   {
    "duration": 7,
    "start_time": "2023-12-03T15:52:53.153Z"
   },
   {
    "duration": 6,
    "start_time": "2023-12-03T15:52:53.161Z"
   },
   {
    "duration": 18,
    "start_time": "2023-12-03T15:52:53.168Z"
   },
   {
    "duration": 43,
    "start_time": "2023-12-03T15:52:53.188Z"
   },
   {
    "duration": 7,
    "start_time": "2023-12-03T15:52:53.233Z"
   },
   {
    "duration": 9,
    "start_time": "2023-12-03T15:52:53.242Z"
   },
   {
    "duration": 12,
    "start_time": "2023-12-03T15:52:53.253Z"
   },
   {
    "duration": 11,
    "start_time": "2023-12-03T15:52:53.266Z"
   },
   {
    "duration": 9,
    "start_time": "2023-12-03T15:52:53.278Z"
   },
   {
    "duration": 44,
    "start_time": "2023-12-03T15:52:53.288Z"
   },
   {
    "duration": 16,
    "start_time": "2023-12-03T15:52:53.333Z"
   },
   {
    "duration": 4,
    "start_time": "2023-12-03T15:52:53.351Z"
   },
   {
    "duration": 5,
    "start_time": "2023-12-03T15:52:53.357Z"
   },
   {
    "duration": 3,
    "start_time": "2023-12-03T15:52:53.363Z"
   },
   {
    "duration": 15,
    "start_time": "2023-12-03T15:52:53.368Z"
   },
   {
    "duration": 5,
    "start_time": "2023-12-03T15:52:53.384Z"
   },
   {
    "duration": 33,
    "start_time": "2023-12-03T15:52:53.430Z"
   },
   {
    "duration": 8,
    "start_time": "2023-12-03T15:52:53.464Z"
   },
   {
    "duration": 11,
    "start_time": "2023-12-03T15:52:53.473Z"
   },
   {
    "duration": 7,
    "start_time": "2023-12-03T15:52:53.485Z"
   },
   {
    "duration": 41,
    "start_time": "2023-12-03T15:52:53.493Z"
   },
   {
    "duration": 28,
    "start_time": "2023-12-03T15:52:53.536Z"
   },
   {
    "duration": 5,
    "start_time": "2023-12-03T15:52:53.566Z"
   },
   {
    "duration": 37,
    "start_time": "2023-12-03T15:52:53.573Z"
   },
   {
    "duration": 4,
    "start_time": "2023-12-03T15:52:53.612Z"
   },
   {
    "duration": 16,
    "start_time": "2023-12-03T15:52:53.617Z"
   },
   {
    "duration": 26,
    "start_time": "2023-12-03T15:52:53.635Z"
   },
   {
    "duration": 317,
    "start_time": "2023-12-03T15:52:53.662Z"
   },
   {
    "duration": 8,
    "start_time": "2023-12-03T15:52:53.980Z"
   },
   {
    "duration": 13,
    "start_time": "2023-12-03T15:52:53.989Z"
   },
   {
    "duration": 14,
    "start_time": "2023-12-03T15:52:54.004Z"
   },
   {
    "duration": 2,
    "start_time": "2023-12-03T15:52:54.030Z"
   },
   {
    "duration": 4,
    "start_time": "2023-12-03T15:52:54.034Z"
   },
   {
    "duration": 6,
    "start_time": "2023-12-03T15:52:54.040Z"
   },
   {
    "duration": 16,
    "start_time": "2023-12-03T15:52:54.047Z"
   },
   {
    "duration": 10,
    "start_time": "2023-12-03T15:52:54.064Z"
   },
   {
    "duration": 12,
    "start_time": "2023-12-03T15:55:41.317Z"
   },
   {
    "duration": 10,
    "start_time": "2023-12-03T15:55:48.524Z"
   },
   {
    "duration": 63,
    "start_time": "2023-12-03T16:00:20.069Z"
   },
   {
    "duration": 14,
    "start_time": "2023-12-03T16:01:11.705Z"
   },
   {
    "duration": 53,
    "start_time": "2023-12-03T16:02:52.453Z"
   },
   {
    "duration": 252,
    "start_time": "2023-12-03T16:13:43.778Z"
   },
   {
    "duration": 6,
    "start_time": "2023-12-03T16:13:57.131Z"
   },
   {
    "duration": 125,
    "start_time": "2023-12-03T16:18:04.526Z"
   },
   {
    "duration": 125,
    "start_time": "2023-12-03T16:18:15.498Z"
   },
   {
    "duration": 63,
    "start_time": "2023-12-03T16:19:50.173Z"
   },
   {
    "duration": 236,
    "start_time": "2023-12-03T16:20:00.191Z"
   },
   {
    "duration": 152,
    "start_time": "2023-12-03T16:30:35.989Z"
   },
   {
    "duration": 146,
    "start_time": "2023-12-03T16:36:04.777Z"
   },
   {
    "duration": 139,
    "start_time": "2023-12-03T16:36:29.615Z"
   },
   {
    "duration": 164,
    "start_time": "2023-12-03T16:37:20.985Z"
   },
   {
    "duration": 159,
    "start_time": "2023-12-03T16:37:36.935Z"
   },
   {
    "duration": 146,
    "start_time": "2023-12-03T16:38:54.609Z"
   },
   {
    "duration": 199,
    "start_time": "2023-12-03T16:39:39.825Z"
   },
   {
    "duration": 268,
    "start_time": "2023-12-03T16:40:04.694Z"
   },
   {
    "duration": 157,
    "start_time": "2023-12-03T16:40:20.494Z"
   },
   {
    "duration": 1171,
    "start_time": "2023-12-03T16:41:21.392Z"
   },
   {
    "duration": 88,
    "start_time": "2023-12-03T16:41:22.565Z"
   },
   {
    "duration": 36,
    "start_time": "2023-12-03T16:41:22.655Z"
   },
   {
    "duration": 19,
    "start_time": "2023-12-03T16:41:22.693Z"
   },
   {
    "duration": 17,
    "start_time": "2023-12-03T16:41:22.714Z"
   },
   {
    "duration": 42,
    "start_time": "2023-12-03T16:41:22.733Z"
   },
   {
    "duration": 10,
    "start_time": "2023-12-03T16:41:22.777Z"
   },
   {
    "duration": 10,
    "start_time": "2023-12-03T16:41:22.789Z"
   },
   {
    "duration": 2,
    "start_time": "2023-12-03T16:41:22.801Z"
   },
   {
    "duration": 30,
    "start_time": "2023-12-03T16:41:22.805Z"
   },
   {
    "duration": 11,
    "start_time": "2023-12-03T16:41:22.837Z"
   },
   {
    "duration": 16,
    "start_time": "2023-12-03T16:41:22.850Z"
   },
   {
    "duration": 10,
    "start_time": "2023-12-03T16:41:22.867Z"
   },
   {
    "duration": 3,
    "start_time": "2023-12-03T16:41:22.879Z"
   },
   {
    "duration": 11,
    "start_time": "2023-12-03T16:41:22.883Z"
   },
   {
    "duration": 55,
    "start_time": "2023-12-03T16:41:22.895Z"
   },
   {
    "duration": 6,
    "start_time": "2023-12-03T16:41:22.952Z"
   },
   {
    "duration": 7,
    "start_time": "2023-12-03T16:41:22.960Z"
   },
   {
    "duration": 7,
    "start_time": "2023-12-03T16:41:22.969Z"
   },
   {
    "duration": 4,
    "start_time": "2023-12-03T16:41:22.978Z"
   },
   {
    "duration": 4,
    "start_time": "2023-12-03T16:41:22.983Z"
   },
   {
    "duration": 5,
    "start_time": "2023-12-03T16:41:22.988Z"
   },
   {
    "duration": 39,
    "start_time": "2023-12-03T16:41:22.995Z"
   },
   {
    "duration": 13,
    "start_time": "2023-12-03T16:41:23.036Z"
   },
   {
    "duration": 22,
    "start_time": "2023-12-03T16:41:23.051Z"
   },
   {
    "duration": 11,
    "start_time": "2023-12-03T16:41:23.075Z"
   },
   {
    "duration": 3,
    "start_time": "2023-12-03T16:41:23.087Z"
   },
   {
    "duration": 38,
    "start_time": "2023-12-03T16:41:23.093Z"
   },
   {
    "duration": 6,
    "start_time": "2023-12-03T16:41:23.132Z"
   },
   {
    "duration": 15,
    "start_time": "2023-12-03T16:41:23.140Z"
   },
   {
    "duration": 12,
    "start_time": "2023-12-03T16:41:23.157Z"
   },
   {
    "duration": 5,
    "start_time": "2023-12-03T16:41:23.171Z"
   },
   {
    "duration": 18,
    "start_time": "2023-12-03T16:41:23.177Z"
   },
   {
    "duration": 38,
    "start_time": "2023-12-03T16:41:23.197Z"
   },
   {
    "duration": 6,
    "start_time": "2023-12-03T16:41:23.236Z"
   },
   {
    "duration": 7,
    "start_time": "2023-12-03T16:41:23.243Z"
   },
   {
    "duration": 12,
    "start_time": "2023-12-03T16:41:23.251Z"
   },
   {
    "duration": 3,
    "start_time": "2023-12-03T16:41:23.265Z"
   },
   {
    "duration": 3,
    "start_time": "2023-12-03T16:41:23.270Z"
   },
   {
    "duration": 18,
    "start_time": "2023-12-03T16:41:23.274Z"
   },
   {
    "duration": 53,
    "start_time": "2023-12-03T16:41:23.293Z"
   },
   {
    "duration": 591,
    "start_time": "2023-12-03T16:41:23.348Z"
   },
   {
    "duration": 5,
    "start_time": "2023-12-03T16:41:23.941Z"
   },
   {
    "duration": 42,
    "start_time": "2023-12-03T16:41:23.947Z"
   },
   {
    "duration": 19,
    "start_time": "2023-12-03T16:41:23.990Z"
   },
   {
    "duration": 43,
    "start_time": "2023-12-03T16:41:24.010Z"
   },
   {
    "duration": 42,
    "start_time": "2023-12-03T16:41:24.055Z"
   },
   {
    "duration": 21,
    "start_time": "2023-12-03T16:41:24.099Z"
   },
   {
    "duration": 179,
    "start_time": "2023-12-03T16:41:24.122Z"
   },
   {
    "duration": 188,
    "start_time": "2023-12-03T16:41:24.302Z"
   },
   {
    "duration": 205,
    "start_time": "2023-12-03T16:41:24.491Z"
   },
   {
    "duration": 18,
    "start_time": "2023-12-03T16:41:24.697Z"
   },
   {
    "duration": 175,
    "start_time": "2023-12-03T16:41:24.717Z"
   },
   {
    "duration": 7,
    "start_time": "2023-12-03T16:41:24.894Z"
   },
   {
    "duration": 47,
    "start_time": "2023-12-03T16:41:24.903Z"
   },
   {
    "duration": 3,
    "start_time": "2023-12-03T16:41:24.951Z"
   },
   {
    "duration": 96,
    "start_time": "2023-12-03T16:41:24.956Z"
   },
   {
    "duration": 13,
    "start_time": "2023-12-03T16:41:25.054Z"
   },
   {
    "duration": 18,
    "start_time": "2023-12-03T16:41:25.069Z"
   },
   {
    "duration": 20,
    "start_time": "2023-12-03T16:41:25.088Z"
   },
   {
    "duration": 26,
    "start_time": "2023-12-03T16:41:25.110Z"
   },
   {
    "duration": 7,
    "start_time": "2023-12-03T16:41:25.138Z"
   },
   {
    "duration": 13,
    "start_time": "2023-12-03T16:41:25.146Z"
   },
   {
    "duration": 387,
    "start_time": "2023-12-03T16:41:25.161Z"
   },
   {
    "duration": 4,
    "start_time": "2023-12-03T16:41:25.550Z"
   },
   {
    "duration": 8,
    "start_time": "2023-12-03T16:41:25.556Z"
   },
   {
    "duration": 12,
    "start_time": "2023-12-03T16:41:25.566Z"
   },
   {
    "duration": 22,
    "start_time": "2023-12-03T16:41:25.580Z"
   },
   {
    "duration": 19,
    "start_time": "2023-12-03T16:41:25.604Z"
   },
   {
    "duration": 140,
    "start_time": "2023-12-03T16:41:25.630Z"
   },
   {
    "duration": 161,
    "start_time": "2023-12-03T16:41:25.771Z"
   },
   {
    "duration": 10,
    "start_time": "2023-12-03T16:41:25.934Z"
   },
   {
    "duration": 254,
    "start_time": "2023-12-03T16:41:25.946Z"
   },
   {
    "duration": 155,
    "start_time": "2023-12-03T16:41:26.202Z"
   },
   {
    "duration": 7,
    "start_time": "2023-12-03T16:41:26.358Z"
   },
   {
    "duration": 31,
    "start_time": "2023-12-03T16:41:26.367Z"
   },
   {
    "duration": 37,
    "start_time": "2023-12-03T16:41:26.400Z"
   },
   {
    "duration": 7,
    "start_time": "2023-12-03T16:41:26.439Z"
   },
   {
    "duration": 66,
    "start_time": "2023-12-03T16:41:26.447Z"
   },
   {
    "duration": 0,
    "start_time": "2023-12-03T16:41:26.515Z"
   },
   {
    "duration": 0,
    "start_time": "2023-12-03T16:41:26.516Z"
   },
   {
    "duration": 0,
    "start_time": "2023-12-03T16:41:26.517Z"
   },
   {
    "duration": 0,
    "start_time": "2023-12-03T16:41:26.519Z"
   },
   {
    "duration": 0,
    "start_time": "2023-12-03T16:41:26.520Z"
   },
   {
    "duration": 0,
    "start_time": "2023-12-03T16:41:26.521Z"
   },
   {
    "duration": 0,
    "start_time": "2023-12-03T16:41:26.523Z"
   },
   {
    "duration": 0,
    "start_time": "2023-12-03T16:41:26.526Z"
   },
   {
    "duration": 0,
    "start_time": "2023-12-03T16:41:26.527Z"
   },
   {
    "duration": 0,
    "start_time": "2023-12-03T16:41:26.528Z"
   },
   {
    "duration": 0,
    "start_time": "2023-12-03T16:41:26.529Z"
   },
   {
    "duration": 0,
    "start_time": "2023-12-03T16:41:26.531Z"
   },
   {
    "duration": 0,
    "start_time": "2023-12-03T16:41:26.533Z"
   },
   {
    "duration": 0,
    "start_time": "2023-12-03T16:41:26.534Z"
   },
   {
    "duration": 0,
    "start_time": "2023-12-03T16:41:26.536Z"
   },
   {
    "duration": 0,
    "start_time": "2023-12-03T16:41:26.537Z"
   },
   {
    "duration": 0,
    "start_time": "2023-12-03T16:41:26.538Z"
   },
   {
    "duration": 0,
    "start_time": "2023-12-03T16:41:26.540Z"
   },
   {
    "duration": 0,
    "start_time": "2023-12-03T16:41:26.541Z"
   },
   {
    "duration": 0,
    "start_time": "2023-12-03T16:41:26.542Z"
   },
   {
    "duration": 0,
    "start_time": "2023-12-03T16:41:26.543Z"
   },
   {
    "duration": 0,
    "start_time": "2023-12-03T16:41:26.544Z"
   },
   {
    "duration": 0,
    "start_time": "2023-12-03T16:41:26.546Z"
   },
   {
    "duration": 0,
    "start_time": "2023-12-03T16:41:26.547Z"
   },
   {
    "duration": 1153,
    "start_time": "2023-12-03T16:41:45.342Z"
   },
   {
    "duration": 104,
    "start_time": "2023-12-03T16:41:46.497Z"
   },
   {
    "duration": 37,
    "start_time": "2023-12-03T16:41:46.602Z"
   },
   {
    "duration": 20,
    "start_time": "2023-12-03T16:41:46.641Z"
   },
   {
    "duration": 8,
    "start_time": "2023-12-03T16:41:46.662Z"
   },
   {
    "duration": 58,
    "start_time": "2023-12-03T16:41:46.672Z"
   },
   {
    "duration": 2,
    "start_time": "2023-12-03T16:41:46.732Z"
   },
   {
    "duration": 13,
    "start_time": "2023-12-03T16:41:46.736Z"
   },
   {
    "duration": 3,
    "start_time": "2023-12-03T16:41:46.750Z"
   },
   {
    "duration": 16,
    "start_time": "2023-12-03T16:41:46.756Z"
   },
   {
    "duration": 13,
    "start_time": "2023-12-03T16:41:46.774Z"
   },
   {
    "duration": 45,
    "start_time": "2023-12-03T16:41:46.789Z"
   },
   {
    "duration": 12,
    "start_time": "2023-12-03T16:41:46.836Z"
   },
   {
    "duration": 3,
    "start_time": "2023-12-03T16:41:46.850Z"
   },
   {
    "duration": 16,
    "start_time": "2023-12-03T16:41:46.855Z"
   },
   {
    "duration": 30,
    "start_time": "2023-12-03T16:41:46.873Z"
   },
   {
    "duration": 32,
    "start_time": "2023-12-03T16:41:46.904Z"
   },
   {
    "duration": 7,
    "start_time": "2023-12-03T16:41:46.938Z"
   },
   {
    "duration": 22,
    "start_time": "2023-12-03T16:41:46.947Z"
   },
   {
    "duration": 5,
    "start_time": "2023-12-03T16:41:46.971Z"
   },
   {
    "duration": 3,
    "start_time": "2023-12-03T16:41:46.978Z"
   },
   {
    "duration": 4,
    "start_time": "2023-12-03T16:41:46.982Z"
   },
   {
    "duration": 16,
    "start_time": "2023-12-03T16:41:46.988Z"
   },
   {
    "duration": 35,
    "start_time": "2023-12-03T16:41:47.006Z"
   },
   {
    "duration": 23,
    "start_time": "2023-12-03T16:41:47.043Z"
   },
   {
    "duration": 11,
    "start_time": "2023-12-03T16:41:47.067Z"
   },
   {
    "duration": 18,
    "start_time": "2023-12-03T16:41:47.080Z"
   },
   {
    "duration": 39,
    "start_time": "2023-12-03T16:41:47.102Z"
   },
   {
    "duration": 15,
    "start_time": "2023-12-03T16:41:47.142Z"
   },
   {
    "duration": 16,
    "start_time": "2023-12-03T16:41:47.158Z"
   },
   {
    "duration": 14,
    "start_time": "2023-12-03T16:41:47.175Z"
   },
   {
    "duration": 6,
    "start_time": "2023-12-03T16:41:47.191Z"
   },
   {
    "duration": 33,
    "start_time": "2023-12-03T16:41:47.198Z"
   },
   {
    "duration": 6,
    "start_time": "2023-12-03T16:41:47.233Z"
   },
   {
    "duration": 4,
    "start_time": "2023-12-03T16:41:47.241Z"
   },
   {
    "duration": 10,
    "start_time": "2023-12-03T16:41:47.247Z"
   },
   {
    "duration": 10,
    "start_time": "2023-12-03T16:41:47.258Z"
   },
   {
    "duration": 15,
    "start_time": "2023-12-03T16:41:47.270Z"
   },
   {
    "duration": 7,
    "start_time": "2023-12-03T16:41:47.286Z"
   },
   {
    "duration": 39,
    "start_time": "2023-12-03T16:41:47.294Z"
   },
   {
    "duration": 36,
    "start_time": "2023-12-03T16:41:47.335Z"
   },
   {
    "duration": 616,
    "start_time": "2023-12-03T16:41:47.372Z"
   },
   {
    "duration": 5,
    "start_time": "2023-12-03T16:41:47.990Z"
   },
   {
    "duration": 30,
    "start_time": "2023-12-03T16:41:47.997Z"
   },
   {
    "duration": 13,
    "start_time": "2023-12-03T16:41:48.029Z"
   },
   {
    "duration": 9,
    "start_time": "2023-12-03T16:41:48.043Z"
   },
   {
    "duration": 32,
    "start_time": "2023-12-03T16:41:48.054Z"
   },
   {
    "duration": 22,
    "start_time": "2023-12-03T16:41:48.087Z"
   },
   {
    "duration": 201,
    "start_time": "2023-12-03T16:41:48.111Z"
   },
   {
    "duration": 184,
    "start_time": "2023-12-03T16:41:48.314Z"
   },
   {
    "duration": 198,
    "start_time": "2023-12-03T16:41:48.500Z"
   },
   {
    "duration": 17,
    "start_time": "2023-12-03T16:41:48.700Z"
   },
   {
    "duration": 216,
    "start_time": "2023-12-03T16:41:48.718Z"
   },
   {
    "duration": 8,
    "start_time": "2023-12-03T16:41:48.936Z"
   },
   {
    "duration": 41,
    "start_time": "2023-12-03T16:41:48.946Z"
   },
   {
    "duration": 3,
    "start_time": "2023-12-03T16:41:48.989Z"
   },
   {
    "duration": 100,
    "start_time": "2023-12-03T16:41:48.993Z"
   },
   {
    "duration": 14,
    "start_time": "2023-12-03T16:41:49.095Z"
   },
   {
    "duration": 32,
    "start_time": "2023-12-03T16:41:49.111Z"
   },
   {
    "duration": 14,
    "start_time": "2023-12-03T16:41:49.145Z"
   },
   {
    "duration": 13,
    "start_time": "2023-12-03T16:41:49.161Z"
   },
   {
    "duration": 4,
    "start_time": "2023-12-03T16:41:49.176Z"
   },
   {
    "duration": 14,
    "start_time": "2023-12-03T16:41:49.182Z"
   },
   {
    "duration": 349,
    "start_time": "2023-12-03T16:41:49.197Z"
   },
   {
    "duration": 4,
    "start_time": "2023-12-03T16:41:49.547Z"
   },
   {
    "duration": 23,
    "start_time": "2023-12-03T16:41:49.553Z"
   },
   {
    "duration": 5,
    "start_time": "2023-12-03T16:41:49.578Z"
   },
   {
    "duration": 17,
    "start_time": "2023-12-03T16:41:49.584Z"
   },
   {
    "duration": 39,
    "start_time": "2023-12-03T16:41:49.603Z"
   },
   {
    "duration": 154,
    "start_time": "2023-12-03T16:41:49.644Z"
   },
   {
    "duration": 158,
    "start_time": "2023-12-03T16:41:49.800Z"
   },
   {
    "duration": 12,
    "start_time": "2023-12-03T16:41:49.960Z"
   },
   {
    "duration": 272,
    "start_time": "2023-12-03T16:41:49.974Z"
   },
   {
    "duration": 153,
    "start_time": "2023-12-03T16:41:50.249Z"
   },
   {
    "duration": 9,
    "start_time": "2023-12-03T16:41:50.404Z"
   },
   {
    "duration": 15,
    "start_time": "2023-12-03T16:41:50.430Z"
   },
   {
    "duration": 16,
    "start_time": "2023-12-03T16:41:50.447Z"
   },
   {
    "duration": 7,
    "start_time": "2023-12-03T16:41:50.465Z"
   },
   {
    "duration": 18,
    "start_time": "2023-12-03T16:41:50.474Z"
   },
   {
    "duration": 22,
    "start_time": "2023-12-03T16:41:50.494Z"
   },
   {
    "duration": 6,
    "start_time": "2023-12-03T16:41:50.530Z"
   },
   {
    "duration": 47,
    "start_time": "2023-12-03T16:41:50.542Z"
   },
   {
    "duration": 8,
    "start_time": "2023-12-03T16:41:50.591Z"
   },
   {
    "duration": 99,
    "start_time": "2023-12-03T16:41:50.601Z"
   },
   {
    "duration": 0,
    "start_time": "2023-12-03T16:41:50.701Z"
   },
   {
    "duration": 0,
    "start_time": "2023-12-03T16:41:50.703Z"
   },
   {
    "duration": 0,
    "start_time": "2023-12-03T16:41:50.704Z"
   },
   {
    "duration": 0,
    "start_time": "2023-12-03T16:41:50.704Z"
   },
   {
    "duration": 0,
    "start_time": "2023-12-03T16:41:50.706Z"
   },
   {
    "duration": 0,
    "start_time": "2023-12-03T16:41:50.707Z"
   },
   {
    "duration": 0,
    "start_time": "2023-12-03T16:41:50.708Z"
   },
   {
    "duration": 0,
    "start_time": "2023-12-03T16:41:50.709Z"
   },
   {
    "duration": 0,
    "start_time": "2023-12-03T16:41:50.710Z"
   },
   {
    "duration": 0,
    "start_time": "2023-12-03T16:41:50.711Z"
   },
   {
    "duration": 0,
    "start_time": "2023-12-03T16:41:50.712Z"
   },
   {
    "duration": 0,
    "start_time": "2023-12-03T16:41:50.713Z"
   },
   {
    "duration": 0,
    "start_time": "2023-12-03T16:41:50.714Z"
   },
   {
    "duration": 0,
    "start_time": "2023-12-03T16:41:50.715Z"
   },
   {
    "duration": 0,
    "start_time": "2023-12-03T16:41:50.716Z"
   },
   {
    "duration": 0,
    "start_time": "2023-12-03T16:41:50.717Z"
   },
   {
    "duration": 0,
    "start_time": "2023-12-03T16:41:50.718Z"
   },
   {
    "duration": 0,
    "start_time": "2023-12-03T16:41:50.719Z"
   },
   {
    "duration": 9,
    "start_time": "2023-12-03T16:42:02.932Z"
   },
   {
    "duration": 6,
    "start_time": "2023-12-03T16:42:03.693Z"
   },
   {
    "duration": 11,
    "start_time": "2023-12-03T16:42:04.553Z"
   },
   {
    "duration": 8,
    "start_time": "2023-12-03T16:42:05.132Z"
   },
   {
    "duration": 8,
    "start_time": "2023-12-03T16:42:05.479Z"
   },
   {
    "duration": 38,
    "start_time": "2023-12-03T16:42:05.720Z"
   },
   {
    "duration": 4,
    "start_time": "2023-12-03T16:42:05.838Z"
   },
   {
    "duration": 8,
    "start_time": "2023-12-03T16:42:05.977Z"
   },
   {
    "duration": 26,
    "start_time": "2023-12-03T16:42:06.096Z"
   },
   {
    "duration": 1313,
    "start_time": "2023-12-03T16:42:12.100Z"
   },
   {
    "duration": 96,
    "start_time": "2023-12-03T16:42:13.416Z"
   },
   {
    "duration": 46,
    "start_time": "2023-12-03T16:42:13.513Z"
   },
   {
    "duration": 21,
    "start_time": "2023-12-03T16:42:13.562Z"
   },
   {
    "duration": 8,
    "start_time": "2023-12-03T16:42:13.584Z"
   },
   {
    "duration": 43,
    "start_time": "2023-12-03T16:42:13.594Z"
   },
   {
    "duration": 2,
    "start_time": "2023-12-03T16:42:13.639Z"
   },
   {
    "duration": 25,
    "start_time": "2023-12-03T16:42:13.643Z"
   },
   {
    "duration": 2,
    "start_time": "2023-12-03T16:42:13.671Z"
   },
   {
    "duration": 16,
    "start_time": "2023-12-03T16:42:13.678Z"
   },
   {
    "duration": 11,
    "start_time": "2023-12-03T16:42:13.696Z"
   },
   {
    "duration": 38,
    "start_time": "2023-12-03T16:42:13.709Z"
   },
   {
    "duration": 13,
    "start_time": "2023-12-03T16:42:13.748Z"
   },
   {
    "duration": 4,
    "start_time": "2023-12-03T16:42:13.762Z"
   },
   {
    "duration": 20,
    "start_time": "2023-12-03T16:42:13.768Z"
   },
   {
    "duration": 56,
    "start_time": "2023-12-03T16:42:13.790Z"
   },
   {
    "duration": 8,
    "start_time": "2023-12-03T16:42:13.848Z"
   },
   {
    "duration": 13,
    "start_time": "2023-12-03T16:42:13.858Z"
   },
   {
    "duration": 17,
    "start_time": "2023-12-03T16:42:13.873Z"
   },
   {
    "duration": 9,
    "start_time": "2023-12-03T16:42:13.892Z"
   },
   {
    "duration": 6,
    "start_time": "2023-12-03T16:42:13.902Z"
   },
   {
    "duration": 20,
    "start_time": "2023-12-03T16:42:13.910Z"
   },
   {
    "duration": 13,
    "start_time": "2023-12-03T16:42:13.932Z"
   },
   {
    "duration": 21,
    "start_time": "2023-12-03T16:42:13.946Z"
   },
   {
    "duration": 25,
    "start_time": "2023-12-03T16:42:13.969Z"
   },
   {
    "duration": 35,
    "start_time": "2023-12-03T16:42:13.996Z"
   },
   {
    "duration": 3,
    "start_time": "2023-12-03T16:42:14.033Z"
   },
   {
    "duration": 5,
    "start_time": "2023-12-03T16:42:14.040Z"
   },
   {
    "duration": 7,
    "start_time": "2023-12-03T16:42:14.047Z"
   },
   {
    "duration": 19,
    "start_time": "2023-12-03T16:42:14.056Z"
   },
   {
    "duration": 15,
    "start_time": "2023-12-03T16:42:14.078Z"
   },
   {
    "duration": 38,
    "start_time": "2023-12-03T16:42:14.095Z"
   },
   {
    "duration": 32,
    "start_time": "2023-12-03T16:42:14.134Z"
   },
   {
    "duration": 7,
    "start_time": "2023-12-03T16:42:14.168Z"
   },
   {
    "duration": 7,
    "start_time": "2023-12-03T16:42:14.177Z"
   },
   {
    "duration": 10,
    "start_time": "2023-12-03T16:42:14.185Z"
   },
   {
    "duration": 34,
    "start_time": "2023-12-03T16:42:14.197Z"
   },
   {
    "duration": 11,
    "start_time": "2023-12-03T16:42:14.233Z"
   },
   {
    "duration": 3,
    "start_time": "2023-12-03T16:42:14.246Z"
   },
   {
    "duration": 21,
    "start_time": "2023-12-03T16:42:14.251Z"
   },
   {
    "duration": 34,
    "start_time": "2023-12-03T16:42:14.274Z"
   },
   {
    "duration": 560,
    "start_time": "2023-12-03T16:42:14.310Z"
   },
   {
    "duration": 5,
    "start_time": "2023-12-03T16:42:14.872Z"
   },
   {
    "duration": 7,
    "start_time": "2023-12-03T16:42:14.878Z"
   },
   {
    "duration": 6,
    "start_time": "2023-12-03T16:42:14.887Z"
   },
   {
    "duration": 13,
    "start_time": "2023-12-03T16:42:14.894Z"
   },
   {
    "duration": 52,
    "start_time": "2023-12-03T16:42:14.909Z"
   },
   {
    "duration": 22,
    "start_time": "2023-12-03T16:42:14.963Z"
   },
   {
    "duration": 211,
    "start_time": "2023-12-03T16:42:14.987Z"
   },
   {
    "duration": 186,
    "start_time": "2023-12-03T16:42:15.200Z"
   },
   {
    "duration": 209,
    "start_time": "2023-12-03T16:42:15.387Z"
   },
   {
    "duration": 17,
    "start_time": "2023-12-03T16:42:15.597Z"
   },
   {
    "duration": 200,
    "start_time": "2023-12-03T16:42:15.616Z"
   },
   {
    "duration": 14,
    "start_time": "2023-12-03T16:42:15.817Z"
   },
   {
    "duration": 31,
    "start_time": "2023-12-03T16:42:15.833Z"
   },
   {
    "duration": 4,
    "start_time": "2023-12-03T16:42:15.866Z"
   },
   {
    "duration": 98,
    "start_time": "2023-12-03T16:42:15.871Z"
   },
   {
    "duration": 12,
    "start_time": "2023-12-03T16:42:15.971Z"
   },
   {
    "duration": 41,
    "start_time": "2023-12-03T16:42:15.985Z"
   },
   {
    "duration": 17,
    "start_time": "2023-12-03T16:42:16.027Z"
   },
   {
    "duration": 18,
    "start_time": "2023-12-03T16:42:16.045Z"
   },
   {
    "duration": 5,
    "start_time": "2023-12-03T16:42:16.064Z"
   },
   {
    "duration": 13,
    "start_time": "2023-12-03T16:42:16.070Z"
   },
   {
    "duration": 356,
    "start_time": "2023-12-03T16:42:16.084Z"
   },
   {
    "duration": 4,
    "start_time": "2023-12-03T16:42:16.442Z"
   },
   {
    "duration": 7,
    "start_time": "2023-12-03T16:42:16.447Z"
   },
   {
    "duration": 13,
    "start_time": "2023-12-03T16:42:16.456Z"
   },
   {
    "duration": 18,
    "start_time": "2023-12-03T16:42:16.470Z"
   },
   {
    "duration": 16,
    "start_time": "2023-12-03T16:42:16.489Z"
   },
   {
    "duration": 173,
    "start_time": "2023-12-03T16:42:16.506Z"
   },
   {
    "duration": 154,
    "start_time": "2023-12-03T16:42:16.681Z"
   },
   {
    "duration": 12,
    "start_time": "2023-12-03T16:42:16.837Z"
   },
   {
    "duration": 256,
    "start_time": "2023-12-03T16:42:16.851Z"
   },
   {
    "duration": 159,
    "start_time": "2023-12-03T16:42:17.109Z"
   },
   {
    "duration": 10,
    "start_time": "2023-12-03T16:42:17.270Z"
   },
   {
    "duration": 18,
    "start_time": "2023-12-03T16:42:17.282Z"
   },
   {
    "duration": 7,
    "start_time": "2023-12-03T16:42:17.302Z"
   },
   {
    "duration": 5,
    "start_time": "2023-12-03T16:42:17.331Z"
   },
   {
    "duration": 13,
    "start_time": "2023-12-03T16:42:17.337Z"
   },
   {
    "duration": 15,
    "start_time": "2023-12-03T16:42:17.352Z"
   },
   {
    "duration": 7,
    "start_time": "2023-12-03T16:42:17.368Z"
   },
   {
    "duration": 58,
    "start_time": "2023-12-03T16:42:17.380Z"
   },
   {
    "duration": 9,
    "start_time": "2023-12-03T16:42:17.440Z"
   },
   {
    "duration": 17,
    "start_time": "2023-12-03T16:42:17.450Z"
   },
   {
    "duration": 22,
    "start_time": "2023-12-03T16:42:17.469Z"
   },
   {
    "duration": 18,
    "start_time": "2023-12-03T16:42:17.493Z"
   },
   {
    "duration": 12,
    "start_time": "2023-12-03T16:42:17.513Z"
   },
   {
    "duration": 10,
    "start_time": "2023-12-03T16:42:17.530Z"
   },
   {
    "duration": 36,
    "start_time": "2023-12-03T16:42:17.542Z"
   },
   {
    "duration": 4,
    "start_time": "2023-12-03T16:42:17.580Z"
   },
   {
    "duration": 19,
    "start_time": "2023-12-03T16:42:17.585Z"
   },
   {
    "duration": 54,
    "start_time": "2023-12-03T16:42:17.606Z"
   },
   {
    "duration": 334,
    "start_time": "2023-12-03T16:42:17.662Z"
   },
   {
    "duration": 10,
    "start_time": "2023-12-03T16:42:17.998Z"
   },
   {
    "duration": 27,
    "start_time": "2023-12-03T16:42:18.009Z"
   },
   {
    "duration": 21,
    "start_time": "2023-12-03T16:42:18.038Z"
   },
   {
    "duration": 15,
    "start_time": "2023-12-03T16:42:18.061Z"
   },
   {
    "duration": 8,
    "start_time": "2023-12-03T16:42:18.078Z"
   },
   {
    "duration": 21,
    "start_time": "2023-12-03T16:42:18.087Z"
   },
   {
    "duration": 13,
    "start_time": "2023-12-03T16:42:18.109Z"
   },
   {
    "duration": 25,
    "start_time": "2023-12-03T16:42:18.124Z"
   },
   {
    "duration": 2,
    "start_time": "2023-12-03T16:45:08.328Z"
   },
   {
    "duration": 1289,
    "start_time": "2023-12-03T19:22:40.320Z"
   },
   {
    "duration": 275,
    "start_time": "2023-12-03T19:22:41.611Z"
   },
   {
    "duration": 83,
    "start_time": "2023-12-03T19:22:41.887Z"
   },
   {
    "duration": 18,
    "start_time": "2023-12-03T19:22:41.972Z"
   },
   {
    "duration": 7,
    "start_time": "2023-12-03T19:22:41.992Z"
   },
   {
    "duration": 57,
    "start_time": "2023-12-03T19:22:42.001Z"
   },
   {
    "duration": 1,
    "start_time": "2023-12-03T19:22:42.060Z"
   },
   {
    "duration": 15,
    "start_time": "2023-12-03T19:22:42.063Z"
   },
   {
    "duration": 2,
    "start_time": "2023-12-03T19:22:42.080Z"
   },
   {
    "duration": 14,
    "start_time": "2023-12-03T19:22:42.084Z"
   },
   {
    "duration": 27,
    "start_time": "2023-12-03T19:22:42.099Z"
   },
   {
    "duration": 16,
    "start_time": "2023-12-03T19:22:42.129Z"
   },
   {
    "duration": 22,
    "start_time": "2023-12-03T19:22:42.147Z"
   },
   {
    "duration": 25,
    "start_time": "2023-12-03T19:22:42.171Z"
   },
   {
    "duration": 12,
    "start_time": "2023-12-03T19:22:42.198Z"
   },
   {
    "duration": 47,
    "start_time": "2023-12-03T19:22:42.212Z"
   },
   {
    "duration": 6,
    "start_time": "2023-12-03T19:22:42.261Z"
   },
   {
    "duration": 8,
    "start_time": "2023-12-03T19:22:42.268Z"
   },
   {
    "duration": 12,
    "start_time": "2023-12-03T19:22:42.277Z"
   },
   {
    "duration": 12,
    "start_time": "2023-12-03T19:22:42.291Z"
   },
   {
    "duration": 21,
    "start_time": "2023-12-03T19:22:42.305Z"
   },
   {
    "duration": 14,
    "start_time": "2023-12-03T19:22:42.328Z"
   },
   {
    "duration": 22,
    "start_time": "2023-12-03T19:22:42.343Z"
   },
   {
    "duration": 19,
    "start_time": "2023-12-03T19:22:42.366Z"
   },
   {
    "duration": 21,
    "start_time": "2023-12-03T19:22:42.386Z"
   },
   {
    "duration": 29,
    "start_time": "2023-12-03T19:22:42.409Z"
   },
   {
    "duration": 8,
    "start_time": "2023-12-03T19:22:42.440Z"
   },
   {
    "duration": 4,
    "start_time": "2023-12-03T19:22:42.453Z"
   },
   {
    "duration": 11,
    "start_time": "2023-12-03T19:22:42.459Z"
   },
   {
    "duration": 24,
    "start_time": "2023-12-03T19:22:42.472Z"
   },
   {
    "duration": 12,
    "start_time": "2023-12-03T19:22:42.498Z"
   },
   {
    "duration": 18,
    "start_time": "2023-12-03T19:22:42.511Z"
   },
   {
    "duration": 17,
    "start_time": "2023-12-03T19:22:42.533Z"
   },
   {
    "duration": 6,
    "start_time": "2023-12-03T19:22:42.552Z"
   },
   {
    "duration": 4,
    "start_time": "2023-12-03T19:22:42.560Z"
   },
   {
    "duration": 6,
    "start_time": "2023-12-03T19:22:42.566Z"
   },
   {
    "duration": 10,
    "start_time": "2023-12-03T19:22:42.573Z"
   },
   {
    "duration": 5,
    "start_time": "2023-12-03T19:22:42.584Z"
   },
   {
    "duration": 29,
    "start_time": "2023-12-03T19:22:42.591Z"
   },
   {
    "duration": 21,
    "start_time": "2023-12-03T19:22:42.630Z"
   },
   {
    "duration": 41,
    "start_time": "2023-12-03T19:22:42.653Z"
   },
   {
    "duration": 544,
    "start_time": "2023-12-03T19:22:42.696Z"
   },
   {
    "duration": 6,
    "start_time": "2023-12-03T19:22:43.242Z"
   },
   {
    "duration": 27,
    "start_time": "2023-12-03T19:22:43.249Z"
   },
   {
    "duration": 20,
    "start_time": "2023-12-03T19:22:43.278Z"
   },
   {
    "duration": 10,
    "start_time": "2023-12-03T19:22:43.300Z"
   },
   {
    "duration": 55,
    "start_time": "2023-12-03T19:22:43.311Z"
   },
   {
    "duration": 27,
    "start_time": "2023-12-03T19:22:43.368Z"
   },
   {
    "duration": 190,
    "start_time": "2023-12-03T19:22:43.397Z"
   },
   {
    "duration": 188,
    "start_time": "2023-12-03T19:22:43.588Z"
   },
   {
    "duration": 221,
    "start_time": "2023-12-03T19:22:43.778Z"
   },
   {
    "duration": 31,
    "start_time": "2023-12-03T19:22:44.001Z"
   },
   {
    "duration": 201,
    "start_time": "2023-12-03T19:22:44.033Z"
   },
   {
    "duration": 9,
    "start_time": "2023-12-03T19:22:44.235Z"
   },
   {
    "duration": 41,
    "start_time": "2023-12-03T19:22:44.245Z"
   },
   {
    "duration": 3,
    "start_time": "2023-12-03T19:22:44.288Z"
   },
   {
    "duration": 97,
    "start_time": "2023-12-03T19:22:44.293Z"
   },
   {
    "duration": 11,
    "start_time": "2023-12-03T19:22:44.392Z"
   },
   {
    "duration": 19,
    "start_time": "2023-12-03T19:22:44.404Z"
   },
   {
    "duration": 13,
    "start_time": "2023-12-03T19:22:44.426Z"
   },
   {
    "duration": 13,
    "start_time": "2023-12-03T19:22:44.440Z"
   },
   {
    "duration": 4,
    "start_time": "2023-12-03T19:22:44.454Z"
   },
   {
    "duration": 11,
    "start_time": "2023-12-03T19:22:44.459Z"
   },
   {
    "duration": 385,
    "start_time": "2023-12-03T19:22:44.472Z"
   },
   {
    "duration": 5,
    "start_time": "2023-12-03T19:22:44.858Z"
   },
   {
    "duration": 4,
    "start_time": "2023-12-03T19:22:44.865Z"
   },
   {
    "duration": 2,
    "start_time": "2023-12-03T19:22:44.870Z"
   },
   {
    "duration": 42,
    "start_time": "2023-12-03T19:22:44.873Z"
   },
   {
    "duration": 22,
    "start_time": "2023-12-03T19:22:44.917Z"
   },
   {
    "duration": 164,
    "start_time": "2023-12-03T19:22:44.940Z"
   },
   {
    "duration": 169,
    "start_time": "2023-12-03T19:22:45.106Z"
   },
   {
    "duration": 10,
    "start_time": "2023-12-03T19:22:45.277Z"
   },
   {
    "duration": 276,
    "start_time": "2023-12-03T19:22:45.289Z"
   },
   {
    "duration": 184,
    "start_time": "2023-12-03T19:22:45.567Z"
   },
   {
    "duration": 7,
    "start_time": "2023-12-03T19:22:45.752Z"
   },
   {
    "duration": 13,
    "start_time": "2023-12-03T19:22:45.760Z"
   },
   {
    "duration": 4,
    "start_time": "2023-12-03T19:22:45.775Z"
   },
   {
    "duration": 6,
    "start_time": "2023-12-03T19:22:45.781Z"
   },
   {
    "duration": 45,
    "start_time": "2023-12-03T19:22:45.788Z"
   },
   {
    "duration": 20,
    "start_time": "2023-12-03T19:22:45.835Z"
   },
   {
    "duration": 7,
    "start_time": "2023-12-03T19:22:45.856Z"
   },
   {
    "duration": 57,
    "start_time": "2023-12-03T19:22:45.868Z"
   },
   {
    "duration": 10,
    "start_time": "2023-12-03T19:22:45.927Z"
   },
   {
    "duration": 8,
    "start_time": "2023-12-03T19:22:45.940Z"
   },
   {
    "duration": 10,
    "start_time": "2023-12-03T19:22:45.950Z"
   },
   {
    "duration": 15,
    "start_time": "2023-12-03T19:22:45.961Z"
   },
   {
    "duration": 8,
    "start_time": "2023-12-03T19:22:45.977Z"
   },
   {
    "duration": 46,
    "start_time": "2023-12-03T19:22:45.986Z"
   },
   {
    "duration": 36,
    "start_time": "2023-12-03T19:22:46.034Z"
   },
   {
    "duration": 4,
    "start_time": "2023-12-03T19:22:46.072Z"
   },
   {
    "duration": 8,
    "start_time": "2023-12-03T19:22:46.077Z"
   },
   {
    "duration": 66,
    "start_time": "2023-12-03T19:22:46.087Z"
   },
   {
    "duration": 333,
    "start_time": "2023-12-03T19:22:46.154Z"
   },
   {
    "duration": 9,
    "start_time": "2023-12-03T19:32:34.036Z"
   },
   {
    "duration": 6,
    "start_time": "2023-12-03T19:32:42.022Z"
   },
   {
    "duration": 10,
    "start_time": "2023-12-03T19:36:14.435Z"
   },
   {
    "duration": 8,
    "start_time": "2023-12-03T19:36:30.051Z"
   },
   {
    "duration": 5,
    "start_time": "2023-12-03T19:37:43.195Z"
   },
   {
    "duration": 6,
    "start_time": "2023-12-03T19:37:48.292Z"
   },
   {
    "duration": 14,
    "start_time": "2023-12-03T19:37:54.735Z"
   },
   {
    "duration": 7,
    "start_time": "2023-12-03T19:38:31.945Z"
   },
   {
    "duration": 8,
    "start_time": "2023-12-03T19:38:34.864Z"
   },
   {
    "duration": 4,
    "start_time": "2023-12-03T19:38:49.550Z"
   },
   {
    "duration": 7,
    "start_time": "2023-12-03T19:39:05.880Z"
   },
   {
    "duration": 8,
    "start_time": "2023-12-03T19:39:08.998Z"
   },
   {
    "duration": 3,
    "start_time": "2023-12-03T19:44:06.769Z"
   },
   {
    "duration": 1038,
    "start_time": "2023-12-03T19:44:21.851Z"
   },
   {
    "duration": 12,
    "start_time": "2023-12-03T19:44:23.257Z"
   },
   {
    "duration": 18,
    "start_time": "2023-12-03T19:44:55.098Z"
   },
   {
    "duration": 4,
    "start_time": "2023-12-03T19:45:04.983Z"
   },
   {
    "duration": 12,
    "start_time": "2023-12-03T19:45:06.813Z"
   },
   {
    "duration": 4,
    "start_time": "2023-12-03T19:45:39.255Z"
   },
   {
    "duration": 9,
    "start_time": "2023-12-03T19:45:39.790Z"
   },
   {
    "duration": 4,
    "start_time": "2023-12-03T19:46:07.952Z"
   }
  ],
  "celltoolbar": "Необработанный формат ячейки",
  "colab": {
   "name": "DA+. Сборный проект 1. Шаблон (1).ipynb",
   "provenance": []
  },
  "kernelspec": {
   "display_name": "Python 3 (ipykernel)",
   "language": "python",
   "name": "python3"
  },
  "language_info": {
   "codemirror_mode": {
    "name": "ipython",
    "version": 3
   },
   "file_extension": ".py",
   "mimetype": "text/x-python",
   "name": "python",
   "nbconvert_exporter": "python",
   "pygments_lexer": "ipython3",
   "version": "3.9.13"
  },
  "toc": {
   "base_numbering": 1,
   "nav_menu": {},
   "number_sections": true,
   "sideBar": true,
   "skip_h1_title": true,
   "title_cell": "Table of Contents",
   "title_sidebar": "Contents",
   "toc_cell": false,
   "toc_position": {
    "height": "calc(100% - 180px)",
    "left": "10px",
    "top": "150px",
    "width": "165px"
   },
   "toc_section_display": true,
   "toc_window_display": true
  }
 },
 "nbformat": 4,
 "nbformat_minor": 4
}
